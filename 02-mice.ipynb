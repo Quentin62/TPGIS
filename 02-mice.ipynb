{
 "metadata": {
  "language_info": {
   "codemirror_mode": {
    "name": "ipython",
    "version": 3
   },
   "file_extension": ".py",
   "mimetype": "text/x-python",
   "name": "python",
   "nbconvert_exporter": "python",
   "pygments_lexer": "ipython3",
   "version": "3.8.10"
  },
  "orig_nbformat": 2,
  "kernelspec": {
   "name": "python3",
   "display_name": "Python 3.8.10 64-bit"
  },
  "interpreter": {
   "hash": "916dbcbb3f70747c44a77c7bcd40155683ae19c65e1c03b4aa3499c5328201f1"
  }
 },
 "nbformat": 4,
 "nbformat_minor": 2,
 "cells": [
  {
   "cell_type": "markdown",
   "source": [
    "# Imputation multiple avec MICE\n",
    "\n",
    "- *Auteurs:* Quentin Grimonprez, Cristian Preda, Vincent Vandewalle\n",
    "- *Date:* 16 février 2020"
   ],
   "metadata": {}
  },
  {
   "cell_type": "markdown",
   "source": [
    "On utilise le package [pandas](https://pandas.pydata.org/pandas-docs/stable/) pour manipuler des dataFrames (tableau pouvant contenir des types différents entre les colonnes) et le package [statsmodels](https://www.statsmodels.org/stable/api.html) pour l'imputation multiple (statsmodels contient principalement des méthodes de régressions (avec plus d'analyses statistiques que scikit-learn) et séries temporelles). Dans [scikit-learn](https://scikit-learn.org/stable/modules/impute.html), il est pour l'instant uniquement possible de faire de l'imputation basée sur des méthodes simples (moyenne, valeur la plus fréquente...), une implémentation de MICE est en développement."
   ],
   "metadata": {}
  },
  {
   "cell_type": "code",
   "execution_count": 1,
   "source": [
    "import numpy as np\n",
    "import pandas as pd\n",
    "import seaborn as sns\n",
    "import matplotlib.pyplot as plt\n",
    "import statsmodels.api as sm\n",
    "from statsmodels.imputation import mice\n",
    "\n",
    "plt.rcParams[\"figure.figsize\"] = 8, 8"
   ],
   "outputs": [],
   "metadata": {}
  },
  {
   "cell_type": "markdown",
   "source": [
    "## Aperçu des données\n",
    "\n",
    "Chargement des données airquality à partir du fichier fourni. En ouvrant ce fichier, on notera que les manquants de la variable *Ozone* sont codés par la valeur `-9` tandis que ceux de la variable Solar.R le sont par `NA`."
   ],
   "metadata": {}
  },
  {
   "cell_type": "code",
   "execution_count": 2,
   "source": [
    "airquality = pd.read_table(\"data/airquality2.txt\", sep=\" \", header=[0],\n",
    "                           na_values={\"Ozone\": -9, \"Solar.R\": \"NA\"},\n",
    "                           dtype={\"Month\": str, \"Day\": str})\n",
    "airquality.rename(columns={\"Solar.R\": \"SolarR\"}, inplace=True)  # les fonctions de modélisation de statsmodels ne supportent pas les \".\" dans les noms. Le paramètre inplace=True indique qu'il faut modifier directement le DataFrame et non retourner une copie.\n",
    "airquality.head()"
   ],
   "outputs": [
    {
     "output_type": "execute_result",
     "data": {
      "text/html": [
       "<div>\n",
       "<style scoped>\n",
       "    .dataframe tbody tr th:only-of-type {\n",
       "        vertical-align: middle;\n",
       "    }\n",
       "\n",
       "    .dataframe tbody tr th {\n",
       "        vertical-align: top;\n",
       "    }\n",
       "\n",
       "    .dataframe thead th {\n",
       "        text-align: right;\n",
       "    }\n",
       "</style>\n",
       "<table border=\"1\" class=\"dataframe\">\n",
       "  <thead>\n",
       "    <tr style=\"text-align: right;\">\n",
       "      <th></th>\n",
       "      <th>Ozone</th>\n",
       "      <th>SolarR</th>\n",
       "      <th>Wind</th>\n",
       "      <th>Temp</th>\n",
       "      <th>Month</th>\n",
       "      <th>Day</th>\n",
       "    </tr>\n",
       "  </thead>\n",
       "  <tbody>\n",
       "    <tr>\n",
       "      <th>0</th>\n",
       "      <td>41.0</td>\n",
       "      <td>190.0</td>\n",
       "      <td>7.4</td>\n",
       "      <td>67</td>\n",
       "      <td>5</td>\n",
       "      <td>1</td>\n",
       "    </tr>\n",
       "    <tr>\n",
       "      <th>1</th>\n",
       "      <td>36.0</td>\n",
       "      <td>118.0</td>\n",
       "      <td>8.0</td>\n",
       "      <td>72</td>\n",
       "      <td>5</td>\n",
       "      <td>2</td>\n",
       "    </tr>\n",
       "    <tr>\n",
       "      <th>2</th>\n",
       "      <td>12.0</td>\n",
       "      <td>149.0</td>\n",
       "      <td>12.6</td>\n",
       "      <td>74</td>\n",
       "      <td>5</td>\n",
       "      <td>3</td>\n",
       "    </tr>\n",
       "    <tr>\n",
       "      <th>3</th>\n",
       "      <td>18.0</td>\n",
       "      <td>313.0</td>\n",
       "      <td>11.5</td>\n",
       "      <td>62</td>\n",
       "      <td>5</td>\n",
       "      <td>4</td>\n",
       "    </tr>\n",
       "    <tr>\n",
       "      <th>4</th>\n",
       "      <td>NaN</td>\n",
       "      <td>NaN</td>\n",
       "      <td>14.3</td>\n",
       "      <td>56</td>\n",
       "      <td>5</td>\n",
       "      <td>5</td>\n",
       "    </tr>\n",
       "  </tbody>\n",
       "</table>\n",
       "</div>"
      ],
      "text/plain": [
       "   Ozone  SolarR  Wind  Temp Month Day\n",
       "0   41.0   190.0   7.4    67     5   1\n",
       "1   36.0   118.0   8.0    72     5   2\n",
       "2   12.0   149.0  12.6    74     5   3\n",
       "3   18.0   313.0  11.5    62     5   4\n",
       "4    NaN     NaN  14.3    56     5   5"
      ]
     },
     "metadata": {},
     "execution_count": 2
    }
   ],
   "metadata": {}
  },
  {
   "cell_type": "markdown",
   "source": [
    "On vérifie le type des colonnes. Les chaînes de caractères sont de type *object*."
   ],
   "metadata": {}
  },
  {
   "cell_type": "code",
   "execution_count": 3,
   "source": [
    "airquality.dtypes"
   ],
   "outputs": [
    {
     "output_type": "execute_result",
     "data": {
      "text/plain": [
       "Ozone     float64\n",
       "SolarR    float64\n",
       "Wind      float64\n",
       "Temp        int64\n",
       "Month      object\n",
       "Day        object\n",
       "dtype: object"
      ]
     },
     "metadata": {},
     "execution_count": 3
    }
   ],
   "metadata": {}
  },
  {
   "cell_type": "markdown",
   "source": [
    "#### Statistiques univariées"
   ],
   "metadata": {}
  },
  {
   "cell_type": "code",
   "execution_count": 4,
   "source": [
    "print(airquality.shape)\n",
    "airquality.describe()  # par défaut, calcule les statistiques pour les variables numériques. Si vous voulez des statistiques sur toutes les variables, ajoutez le paramètre include=\"all\""
   ],
   "outputs": [
    {
     "output_type": "stream",
     "name": "stdout",
     "text": [
      "(153, 6)\n"
     ]
    },
    {
     "output_type": "execute_result",
     "data": {
      "text/html": [
       "<div>\n",
       "<style scoped>\n",
       "    .dataframe tbody tr th:only-of-type {\n",
       "        vertical-align: middle;\n",
       "    }\n",
       "\n",
       "    .dataframe tbody tr th {\n",
       "        vertical-align: top;\n",
       "    }\n",
       "\n",
       "    .dataframe thead th {\n",
       "        text-align: right;\n",
       "    }\n",
       "</style>\n",
       "<table border=\"1\" class=\"dataframe\">\n",
       "  <thead>\n",
       "    <tr style=\"text-align: right;\">\n",
       "      <th></th>\n",
       "      <th>Ozone</th>\n",
       "      <th>SolarR</th>\n",
       "      <th>Wind</th>\n",
       "      <th>Temp</th>\n",
       "    </tr>\n",
       "  </thead>\n",
       "  <tbody>\n",
       "    <tr>\n",
       "      <th>count</th>\n",
       "      <td>116.000000</td>\n",
       "      <td>146.000000</td>\n",
       "      <td>153.000000</td>\n",
       "      <td>153.000000</td>\n",
       "    </tr>\n",
       "    <tr>\n",
       "      <th>mean</th>\n",
       "      <td>42.129310</td>\n",
       "      <td>185.931507</td>\n",
       "      <td>9.957516</td>\n",
       "      <td>77.882353</td>\n",
       "    </tr>\n",
       "    <tr>\n",
       "      <th>std</th>\n",
       "      <td>32.987885</td>\n",
       "      <td>90.058422</td>\n",
       "      <td>3.523001</td>\n",
       "      <td>9.465270</td>\n",
       "    </tr>\n",
       "    <tr>\n",
       "      <th>min</th>\n",
       "      <td>1.000000</td>\n",
       "      <td>7.000000</td>\n",
       "      <td>1.700000</td>\n",
       "      <td>56.000000</td>\n",
       "    </tr>\n",
       "    <tr>\n",
       "      <th>25%</th>\n",
       "      <td>18.000000</td>\n",
       "      <td>115.750000</td>\n",
       "      <td>7.400000</td>\n",
       "      <td>72.000000</td>\n",
       "    </tr>\n",
       "    <tr>\n",
       "      <th>50%</th>\n",
       "      <td>31.500000</td>\n",
       "      <td>205.000000</td>\n",
       "      <td>9.700000</td>\n",
       "      <td>79.000000</td>\n",
       "    </tr>\n",
       "    <tr>\n",
       "      <th>75%</th>\n",
       "      <td>63.250000</td>\n",
       "      <td>258.750000</td>\n",
       "      <td>11.500000</td>\n",
       "      <td>85.000000</td>\n",
       "    </tr>\n",
       "    <tr>\n",
       "      <th>max</th>\n",
       "      <td>168.000000</td>\n",
       "      <td>334.000000</td>\n",
       "      <td>20.700000</td>\n",
       "      <td>97.000000</td>\n",
       "    </tr>\n",
       "  </tbody>\n",
       "</table>\n",
       "</div>"
      ],
      "text/plain": [
       "            Ozone      SolarR        Wind        Temp\n",
       "count  116.000000  146.000000  153.000000  153.000000\n",
       "mean    42.129310  185.931507    9.957516   77.882353\n",
       "std     32.987885   90.058422    3.523001    9.465270\n",
       "min      1.000000    7.000000    1.700000   56.000000\n",
       "25%     18.000000  115.750000    7.400000   72.000000\n",
       "50%     31.500000  205.000000    9.700000   79.000000\n",
       "75%     63.250000  258.750000   11.500000   85.000000\n",
       "max    168.000000  334.000000   20.700000   97.000000"
      ]
     },
     "metadata": {},
     "execution_count": 4
    }
   ],
   "metadata": {}
  },
  {
   "cell_type": "markdown",
   "source": [
    "La valeur **count** représentent le nombre de données présentes. On constate que les variables *Ozone* et *SolarR* présentent des valeurs manquantes."
   ],
   "metadata": {}
  },
  {
   "cell_type": "code",
   "execution_count": 5,
   "source": [
    "X = airquality.copy()\n",
    "X = X[X.columns[0:4]]\n",
    "X.head()"
   ],
   "outputs": [
    {
     "output_type": "execute_result",
     "data": {
      "text/html": [
       "<div>\n",
       "<style scoped>\n",
       "    .dataframe tbody tr th:only-of-type {\n",
       "        vertical-align: middle;\n",
       "    }\n",
       "\n",
       "    .dataframe tbody tr th {\n",
       "        vertical-align: top;\n",
       "    }\n",
       "\n",
       "    .dataframe thead th {\n",
       "        text-align: right;\n",
       "    }\n",
       "</style>\n",
       "<table border=\"1\" class=\"dataframe\">\n",
       "  <thead>\n",
       "    <tr style=\"text-align: right;\">\n",
       "      <th></th>\n",
       "      <th>Ozone</th>\n",
       "      <th>SolarR</th>\n",
       "      <th>Wind</th>\n",
       "      <th>Temp</th>\n",
       "    </tr>\n",
       "  </thead>\n",
       "  <tbody>\n",
       "    <tr>\n",
       "      <th>0</th>\n",
       "      <td>41.0</td>\n",
       "      <td>190.0</td>\n",
       "      <td>7.4</td>\n",
       "      <td>67</td>\n",
       "    </tr>\n",
       "    <tr>\n",
       "      <th>1</th>\n",
       "      <td>36.0</td>\n",
       "      <td>118.0</td>\n",
       "      <td>8.0</td>\n",
       "      <td>72</td>\n",
       "    </tr>\n",
       "    <tr>\n",
       "      <th>2</th>\n",
       "      <td>12.0</td>\n",
       "      <td>149.0</td>\n",
       "      <td>12.6</td>\n",
       "      <td>74</td>\n",
       "    </tr>\n",
       "    <tr>\n",
       "      <th>3</th>\n",
       "      <td>18.0</td>\n",
       "      <td>313.0</td>\n",
       "      <td>11.5</td>\n",
       "      <td>62</td>\n",
       "    </tr>\n",
       "    <tr>\n",
       "      <th>4</th>\n",
       "      <td>NaN</td>\n",
       "      <td>NaN</td>\n",
       "      <td>14.3</td>\n",
       "      <td>56</td>\n",
       "    </tr>\n",
       "  </tbody>\n",
       "</table>\n",
       "</div>"
      ],
      "text/plain": [
       "   Ozone  SolarR  Wind  Temp\n",
       "0   41.0   190.0   7.4    67\n",
       "1   36.0   118.0   8.0    72\n",
       "2   12.0   149.0  12.6    74\n",
       "3   18.0   313.0  11.5    62\n",
       "4    NaN     NaN  14.3    56"
      ]
     },
     "metadata": {},
     "execution_count": 5
    }
   ],
   "metadata": {}
  },
  {
   "cell_type": "markdown",
   "source": [
    "## Visualisation des manquants"
   ],
   "metadata": {}
  },
  {
   "cell_type": "markdown",
   "source": [
    "On crée un objet permettant d'imputer les données manquantes. La méthode utilisée est le *predictive mean matching*, on peut préciser le paramètre *k_pmm* qui correspond au nombre d'observations, proches de la réponse prédite, utilisées pour tirer la valeur imputée (cf. [doc](https://www.statsmodels.org/stable/generated/statsmodels.imputation.mice.MICEData.html#statsmodels.imputation.mice.MICEData))."
   ],
   "metadata": {}
  },
  {
   "cell_type": "code",
   "execution_count": 6,
   "source": [
    "imp = mice.MICEData(X, k_pmm=5)"
   ],
   "outputs": [],
   "metadata": {}
  },
  {
   "cell_type": "markdown",
   "source": [
    "### Visualisation de la répartition des manquants."
   ],
   "metadata": {}
  },
  {
   "cell_type": "code",
   "execution_count": 7,
   "source": [
    "ax = imp.plot_missing_pattern()"
   ],
   "outputs": [
    {
     "output_type": "display_data",
     "data": {
      "image/png": "[encoded data removed]",
      "text/plain": [
       "<Figure size 576x576 with 1 Axes>"
      ]
     },
     "metadata": {
      "needs_background": "light"
     }
    }
   ],
   "metadata": {}
  },
  {
   "cell_type": "markdown",
   "source": [
    "On note que certains individus ont simultanément *SolarR* et *Ozone* manquants. La classe MICEData ne dispose pas d'une fonction pour récupérer le l'ensemble des patterns et leur fréquence. On la crée donc."
   ],
   "metadata": {}
  },
  {
   "cell_type": "code",
   "execution_count": 8,
   "source": [
    "def get_missing_pattern(miceData):\n",
    "    cols = miceData.data.columns\n",
    "\n",
    "    miss = np.zeros(miceData.data.shape)\n",
    "    for j, col in enumerate(cols):\n",
    "        ix = miceData.ix_miss[col]\n",
    "        miss[ix, j] = 1\n",
    "    miss = pd.DataFrame(miss, columns=cols)\n",
    "\n",
    "    count = miss.groupby(list(cols)).size()\n",
    "    count = count.reset_index()\n",
    "    count.rename({0: \"count\"}, axis=1, inplace=True)\n",
    "\n",
    "    return count"
   ],
   "outputs": [],
   "metadata": {}
  },
  {
   "cell_type": "code",
   "execution_count": 9,
   "source": [
    "get_missing_pattern(imp)"
   ],
   "outputs": [
    {
     "output_type": "execute_result",
     "data": {
      "text/html": [
       "<div>\n",
       "<style scoped>\n",
       "    .dataframe tbody tr th:only-of-type {\n",
       "        vertical-align: middle;\n",
       "    }\n",
       "\n",
       "    .dataframe tbody tr th {\n",
       "        vertical-align: top;\n",
       "    }\n",
       "\n",
       "    .dataframe thead th {\n",
       "        text-align: right;\n",
       "    }\n",
       "</style>\n",
       "<table border=\"1\" class=\"dataframe\">\n",
       "  <thead>\n",
       "    <tr style=\"text-align: right;\">\n",
       "      <th></th>\n",
       "      <th>Ozone</th>\n",
       "      <th>SolarR</th>\n",
       "      <th>Wind</th>\n",
       "      <th>Temp</th>\n",
       "      <th>count</th>\n",
       "    </tr>\n",
       "  </thead>\n",
       "  <tbody>\n",
       "    <tr>\n",
       "      <th>0</th>\n",
       "      <td>0.0</td>\n",
       "      <td>0.0</td>\n",
       "      <td>0.0</td>\n",
       "      <td>0.0</td>\n",
       "      <td>111</td>\n",
       "    </tr>\n",
       "    <tr>\n",
       "      <th>1</th>\n",
       "      <td>0.0</td>\n",
       "      <td>1.0</td>\n",
       "      <td>0.0</td>\n",
       "      <td>0.0</td>\n",
       "      <td>5</td>\n",
       "    </tr>\n",
       "    <tr>\n",
       "      <th>2</th>\n",
       "      <td>1.0</td>\n",
       "      <td>0.0</td>\n",
       "      <td>0.0</td>\n",
       "      <td>0.0</td>\n",
       "      <td>35</td>\n",
       "    </tr>\n",
       "    <tr>\n",
       "      <th>3</th>\n",
       "      <td>1.0</td>\n",
       "      <td>1.0</td>\n",
       "      <td>0.0</td>\n",
       "      <td>0.0</td>\n",
       "      <td>2</td>\n",
       "    </tr>\n",
       "  </tbody>\n",
       "</table>\n",
       "</div>"
      ],
      "text/plain": [
       "   Ozone  SolarR  Wind  Temp  count\n",
       "0    0.0     0.0   0.0   0.0    111\n",
       "1    0.0     1.0   0.0   0.0      5\n",
       "2    1.0     0.0   0.0   0.0     35\n",
       "3    1.0     1.0   0.0   0.0      2"
      ]
     },
     "metadata": {},
     "execution_count": 9
    }
   ],
   "metadata": {}
  },
  {
   "cell_type": "markdown",
   "source": [
    "Un profil (pattern) de données manquantes est donc un vecteur avec les éléments 0 ou 1 avec 0 = donnée présente, 1 = donnée manquante. Les 4 premières colonnes décrivent le pattern de manquants et la dernière (**count**), le nombre d'individus suivant ce pattern. Dans notre exemple, il y a 35 individus avec uniquement *Ozone* comme manquant."
   ],
   "metadata": {}
  },
  {
   "cell_type": "markdown",
   "source": [
    "#### MCAR, MAR ou MNAR\n",
    "\n",
    "Afin de mettre un modèle sur les données manquantes, visualiser les croisements deux à deux des variables est utile."
   ],
   "metadata": {}
  },
  {
   "cell_type": "code",
   "execution_count": 10,
   "source": [
    "def compare_distribution(X, variable1, variable2):\n",
    "    fig, ax = plt.subplots(3, 3, sharex=\"col\", sharey=\"row\",\n",
    "                           gridspec_kw={\"width_ratios\": [4, 0.5, 1.25],\n",
    "                                        \"height_ratios\": [4, 0.5, 1.25]})\n",
    "\n",
    "    # create a categorical variable indicating if the value is missing or not\n",
    "    X_temp = X.copy()\n",
    "    X_temp[\"var1_status\"] = np.array([\"present\", \"miss\"])[np.isnan(X[variable1]) * 1]\n",
    "    X_temp[\"var2_status\"] = np.array([\"present\", \"miss\"])[np.isnan(X[variable2]) * 1]\n",
    "\n",
    "    # plot the present values\n",
    "    sns.scatterplot(data=X, x=variable1, y=variable2, ax=ax[0, 0])\n",
    "\n",
    "    # plot the variable2 values when the variable1 is missing\n",
    "    sns.scatterplot(x=0, y=X_temp[variable2][X_temp[\"var1_status\"] == \"miss\"], color=\"tab:orange\", ax=ax[0, 1])\n",
    "    ax[0, 1].axes.xaxis.set_visible(False)\n",
    "\n",
    "    # boxplot of variable2 with regards to the fact that variable1 is missing or not\n",
    "    sns.boxplot(data=X_temp, x=\"var1_status\", y=variable2, ax=ax[0, 2])\n",
    "    ax[0, 2].yaxis.label.set_visible(False)\n",
    "    ax[0, 2].xaxis.label.set_visible(False)\n",
    "\n",
    "    # plot the variable1 values when the variable2 is missing\n",
    "    sns.scatterplot(x=X_temp[variable1][X_temp[\"var2_status\"] == \"miss\"], y=0, color=\"tab:orange\", ax=ax[1, 0])\n",
    "    ax[1, 0].axes.yaxis.set_visible(False)\n",
    "\n",
    "    # boxplot of variable1 with regards to the fact that variable2 is missing or not\n",
    "    sns.boxplot(data=X_temp, x=variable1, y=\"var2_status\", orient=\"h\", ax=ax[2, 0])\n",
    "    ax[2, 0].yaxis.label.set_visible(False)\n",
    "\n",
    "    ax[1, 1].axis(\"off\")\n",
    "    ax[1, 2].axis(\"off\")\n",
    "    ax[2, 1].axis(\"off\")\n",
    "    ax[2, 2].axis(\"off\")\n",
    "    fig.suptitle(\"\")\n"
   ],
   "outputs": [],
   "metadata": {}
  },
  {
   "cell_type": "markdown",
   "source": [
    "Par exemple :"
   ],
   "metadata": {}
  },
  {
   "cell_type": "code",
   "execution_count": 11,
   "source": [
    "compare_distribution(X, \"Ozone\", \"SolarR\")"
   ],
   "outputs": [
    {
     "output_type": "display_data",
     "data": {
      "image/png": "[encoded data removed]",
      "text/plain": [
       "<Figure size 576x576 with 9 Axes>"
      ]
     },
     "metadata": {
      "needs_background": "light"
     }
    }
   ],
   "metadata": {}
  },
  {
   "cell_type": "markdown",
   "source": [
    "## Imputation"
   ],
   "metadata": {}
  },
  {
   "cell_type": "markdown",
   "source": [
    "### Imputation des données manquantes"
   ],
   "metadata": {}
  },
  {
   "cell_type": "markdown",
   "source": [
    "Pour chaque variable, la méthode par défaut utilisée est une régression linéaire. Cela peut être changé variable par variable avec la fonction [`set_imputer`](https://www.statsmodels.org/stable/generated/statsmodels.imputation.mice.MICEData.set_imputer.html#statsmodels.imputation.mice.MICEData.set_imputer). Cette fonction permet de définir le modèle utilisé, la formule et d'autres paramètres."
   ],
   "metadata": {}
  },
  {
   "cell_type": "markdown",
   "source": [
    "La méthode `update_all(n_iter)` effectue `n_iter` itérations (une itération = une mise à jour de chaque variable) de l'algorithme MICE."
   ],
   "metadata": {}
  },
  {
   "cell_type": "code",
   "execution_count": 12,
   "source": [
    "imp.update_all(n_iter=1)  # Code équivalent : imp.next_sample()\n",
    "imp.data.head()"
   ],
   "outputs": [
    {
     "output_type": "execute_result",
     "data": {
      "text/html": [
       "<div>\n",
       "<style scoped>\n",
       "    .dataframe tbody tr th:only-of-type {\n",
       "        vertical-align: middle;\n",
       "    }\n",
       "\n",
       "    .dataframe tbody tr th {\n",
       "        vertical-align: top;\n",
       "    }\n",
       "\n",
       "    .dataframe thead th {\n",
       "        text-align: right;\n",
       "    }\n",
       "</style>\n",
       "<table border=\"1\" class=\"dataframe\">\n",
       "  <thead>\n",
       "    <tr style=\"text-align: right;\">\n",
       "      <th></th>\n",
       "      <th>Ozone</th>\n",
       "      <th>SolarR</th>\n",
       "      <th>Wind</th>\n",
       "      <th>Temp</th>\n",
       "    </tr>\n",
       "  </thead>\n",
       "  <tbody>\n",
       "    <tr>\n",
       "      <th>0</th>\n",
       "      <td>41.0</td>\n",
       "      <td>190.0</td>\n",
       "      <td>7.4</td>\n",
       "      <td>67</td>\n",
       "    </tr>\n",
       "    <tr>\n",
       "      <th>1</th>\n",
       "      <td>36.0</td>\n",
       "      <td>118.0</td>\n",
       "      <td>8.0</td>\n",
       "      <td>72</td>\n",
       "    </tr>\n",
       "    <tr>\n",
       "      <th>2</th>\n",
       "      <td>12.0</td>\n",
       "      <td>149.0</td>\n",
       "      <td>12.6</td>\n",
       "      <td>74</td>\n",
       "    </tr>\n",
       "    <tr>\n",
       "      <th>3</th>\n",
       "      <td>18.0</td>\n",
       "      <td>313.0</td>\n",
       "      <td>11.5</td>\n",
       "      <td>62</td>\n",
       "    </tr>\n",
       "    <tr>\n",
       "      <th>4</th>\n",
       "      <td>19.0</td>\n",
       "      <td>191.0</td>\n",
       "      <td>14.3</td>\n",
       "      <td>56</td>\n",
       "    </tr>\n",
       "  </tbody>\n",
       "</table>\n",
       "</div>"
      ],
      "text/plain": [
       "   Ozone  SolarR  Wind  Temp\n",
       "0   41.0   190.0   7.4    67\n",
       "1   36.0   118.0   8.0    72\n",
       "2   12.0   149.0  12.6    74\n",
       "3   18.0   313.0  11.5    62\n",
       "4   19.0   191.0  14.3    56"
      ]
     },
     "metadata": {},
     "execution_count": 12
    }
   ],
   "metadata": {}
  },
  {
   "cell_type": "markdown",
   "source": [
    "### Visualisation de la distribution d'une variable en fonction d'une variable avec manquant"
   ],
   "metadata": {}
  },
  {
   "cell_type": "code",
   "execution_count": 13,
   "source": [
    "ax = imp.plot_bivariate(\"Ozone\", \"Wind\")"
   ],
   "outputs": [
    {
     "output_type": "display_data",
     "data": {
      "image/png": "[encoded data removed]",
      "text/plain": [
       "<Figure size 576x576 with 1 Axes>"
      ]
     },
     "metadata": {
      "needs_background": "light"
     }
    }
   ],
   "metadata": {}
  },
  {
   "cell_type": "code",
   "execution_count": 14,
   "source": [
    "ax = imp.plot_bivariate(\"SolarR\", \"Ozone\")"
   ],
   "outputs": [
    {
     "output_type": "display_data",
     "data": {
      "image/png": "[encoded data removed]",
      "text/plain": [
       "<Figure size 576x576 with 1 Axes>"
      ]
     },
     "metadata": {
      "needs_background": "light"
     }
    }
   ],
   "metadata": {}
  },
  {
   "cell_type": "code",
   "execution_count": 15,
   "source": [
    "for var_name in [\"Ozone\", \"SolarR\"]:\n",
    "    ax = imp.plot_imputed_hist(var_name, imp_hist_args={\"density\": True},\n",
    "                               obs_hist_args={\"density\": True}, all_hist_args={\"density\": True})"
   ],
   "outputs": [
    {
     "output_type": "display_data",
     "data": {
      "image/png": "[encoded data removed]",
      "text/plain": [
       "<Figure size 576x576 with 1 Axes>"
      ]
     },
     "metadata": {
      "needs_background": "light"
     }
    },
    {
     "output_type": "display_data",
     "data": {
      "image/png": "[encoded data removed]",
      "text/plain": [
       "<Figure size 576x576 with 1 Axes>"
      ]
     },
     "metadata": {
      "needs_background": "light"
     }
    }
   ],
   "metadata": {}
  },
  {
   "cell_type": "markdown",
   "source": [
    "## Imputation multiple"
   ],
   "metadata": {}
  },
  {
   "cell_type": "code",
   "execution_count": 16,
   "source": [
    "n_imputation = 10\n",
    "n_burn_iter = 5\n",
    "\n",
    "imp.update_all(n_burn_iter)\n",
    "\n",
    "imputed_data = []\n",
    "for m in range(n_imputation):\n",
    "    data = imp.next_sample()\n",
    "    imputed_data.append(data.copy())"
   ],
   "outputs": [],
   "metadata": {}
  },
  {
   "cell_type": "markdown",
   "source": [
    "Un jeu de données imputées."
   ],
   "metadata": {}
  },
  {
   "cell_type": "code",
   "execution_count": 17,
   "source": [
    "print(imputed_data[0].head())\n",
    "imputed_data[0].describe()"
   ],
   "outputs": [
    {
     "output_type": "stream",
     "name": "stdout",
     "text": [
      "   Ozone  SolarR  Wind  Temp\n",
      "0   41.0   190.0   7.4    67\n",
      "1   36.0   118.0   8.0    72\n",
      "2   12.0   149.0  12.6    74\n",
      "3   18.0   313.0  11.5    62\n",
      "4   18.0    25.0  14.3    56\n"
     ]
    },
    {
     "output_type": "execute_result",
     "data": {
      "text/html": [
       "<div>\n",
       "<style scoped>\n",
       "    .dataframe tbody tr th:only-of-type {\n",
       "        vertical-align: middle;\n",
       "    }\n",
       "\n",
       "    .dataframe tbody tr th {\n",
       "        vertical-align: top;\n",
       "    }\n",
       "\n",
       "    .dataframe thead th {\n",
       "        text-align: right;\n",
       "    }\n",
       "</style>\n",
       "<table border=\"1\" class=\"dataframe\">\n",
       "  <thead>\n",
       "    <tr style=\"text-align: right;\">\n",
       "      <th></th>\n",
       "      <th>Ozone</th>\n",
       "      <th>SolarR</th>\n",
       "      <th>Wind</th>\n",
       "      <th>Temp</th>\n",
       "    </tr>\n",
       "  </thead>\n",
       "  <tbody>\n",
       "    <tr>\n",
       "      <th>count</th>\n",
       "      <td>153.000000</td>\n",
       "      <td>153.000000</td>\n",
       "      <td>153.000000</td>\n",
       "      <td>153.000000</td>\n",
       "    </tr>\n",
       "    <tr>\n",
       "      <th>mean</th>\n",
       "      <td>41.000000</td>\n",
       "      <td>185.843137</td>\n",
       "      <td>9.957516</td>\n",
       "      <td>77.882353</td>\n",
       "    </tr>\n",
       "    <tr>\n",
       "      <th>std</th>\n",
       "      <td>31.348844</td>\n",
       "      <td>90.193733</td>\n",
       "      <td>3.523001</td>\n",
       "      <td>9.465270</td>\n",
       "    </tr>\n",
       "    <tr>\n",
       "      <th>min</th>\n",
       "      <td>1.000000</td>\n",
       "      <td>7.000000</td>\n",
       "      <td>1.700000</td>\n",
       "      <td>56.000000</td>\n",
       "    </tr>\n",
       "    <tr>\n",
       "      <th>25%</th>\n",
       "      <td>18.000000</td>\n",
       "      <td>115.000000</td>\n",
       "      <td>7.400000</td>\n",
       "      <td>72.000000</td>\n",
       "    </tr>\n",
       "    <tr>\n",
       "      <th>50%</th>\n",
       "      <td>32.000000</td>\n",
       "      <td>207.000000</td>\n",
       "      <td>9.700000</td>\n",
       "      <td>79.000000</td>\n",
       "    </tr>\n",
       "    <tr>\n",
       "      <th>75%</th>\n",
       "      <td>59.000000</td>\n",
       "      <td>259.000000</td>\n",
       "      <td>11.500000</td>\n",
       "      <td>85.000000</td>\n",
       "    </tr>\n",
       "    <tr>\n",
       "      <th>max</th>\n",
       "      <td>168.000000</td>\n",
       "      <td>334.000000</td>\n",
       "      <td>20.700000</td>\n",
       "      <td>97.000000</td>\n",
       "    </tr>\n",
       "  </tbody>\n",
       "</table>\n",
       "</div>"
      ],
      "text/plain": [
       "            Ozone      SolarR        Wind        Temp\n",
       "count  153.000000  153.000000  153.000000  153.000000\n",
       "mean    41.000000  185.843137    9.957516   77.882353\n",
       "std     31.348844   90.193733    3.523001    9.465270\n",
       "min      1.000000    7.000000    1.700000   56.000000\n",
       "25%     18.000000  115.000000    7.400000   72.000000\n",
       "50%     32.000000  207.000000    9.700000   79.000000\n",
       "75%     59.000000  259.000000   11.500000   85.000000\n",
       "max    168.000000  334.000000   20.700000   97.000000"
      ]
     },
     "metadata": {},
     "execution_count": 17
    }
   ],
   "metadata": {}
  },
  {
   "cell_type": "code",
   "execution_count": 18,
   "source": [
    "def plot_imputed_data(mice_data, imputed_data, variable):\n",
    "    df = pd.DataFrame()\n",
    "    for i in range(len(imputed_data)):\n",
    "        df_temp = pd.DataFrame()\n",
    "        df_temp[variable] = imputed_data[i][variable]\n",
    "        df_temp[\"Imputation\"] = i\n",
    "        df_temp[\"miss\"] = False\n",
    "        df_temp[\"miss\"].iloc[imp.ix_miss[\"Ozone\"]] = True\n",
    "        df = df.append(df_temp)\n",
    "\n",
    "    ax = sns.stripplot(data=df, x=\"Imputation\", y=\"Ozone\", hue=\"miss\")\n",
    "    ax.get_legend().remove()\n"
   ],
   "outputs": [],
   "metadata": {}
  },
  {
   "cell_type": "code",
   "execution_count": 19,
   "source": [
    "plot_imputed_data(imp, imputed_data, \"Ozone\")"
   ],
   "outputs": [
    {
     "output_type": "stream",
     "name": "stderr",
     "text": [
      "/home/quentin/.local/lib/python3.8/site-packages/pandas/core/indexing.py:1637: SettingWithCopyWarning: \n",
      "A value is trying to be set on a copy of a slice from a DataFrame\n",
      "\n",
      "See the caveats in the documentation: https://pandas.pydata.org/pandas-docs/stable/user_guide/indexing.html#returning-a-view-versus-a-copy\n",
      "  self._setitem_single_block(indexer, value, name)\n"
     ]
    },
    {
     "output_type": "display_data",
     "data": {
      "image/png": "[encoded data removed]",
      "text/plain": [
       "<Figure size 576x576 with 1 Axes>"
      ]
     },
     "metadata": {
      "needs_background": "light"
     }
    }
   ],
   "metadata": {}
  },
  {
   "cell_type": "markdown",
   "source": [
    "## Regression linéaire dans le contexte de l’imputation multiple"
   ],
   "metadata": {}
  },
  {
   "cell_type": "markdown",
   "source": [
    "Pour appliquer un modèle de régression sur plusieurs jeux de données imputées, nous utilisons [`mice.Mice`](https://www.statsmodels.org/stable/generated/statsmodels.imputation.mice.MICE.html). Il prend notamment en arguments la formule, le modèle, un objet `MICEData`. La méthode `fit` de l'objet va imputer et appliquer le modèle fourni (ici une régression linéaire avec `sm.OLS`). On lui précise le nombre de burn-in itérations (itérations à faire avant de garder la 1ère imputation) et le nombre d'imputations à faire."
   ],
   "metadata": {}
  },
  {
   "cell_type": "code",
   "execution_count": 20,
   "source": [
    "formula = \"Ozone ~ SolarR + Wind + Temp\"\n",
    "mice_fit = mice.MICE(formula, sm.OLS, imp, n_skip=3)  # n_skip : nombre d'itérations à faire entre 2 imputations\n",
    "results = mice_fit.fit(n_burnin=5, n_imputations=10)"
   ],
   "outputs": [],
   "metadata": {}
  },
  {
   "cell_type": "code",
   "execution_count": 21,
   "source": [
    "results.summary()"
   ],
   "outputs": [
    {
     "output_type": "execute_result",
     "data": {
      "text/html": [
       "<table class=\"simpletable\">\n",
       "<tr>\n",
       "        <td>Method:</td>       <td>MICE</td>    <td>Sample size:</td>     <td>153</td> \n",
       "</tr>\n",
       "<tr>\n",
       "        <td>Model:</td>         <td>OLS</td>        <td>Scale</td>      <td>444.33</td>\n",
       "</tr>\n",
       "<tr>\n",
       "  <td>Dependent variable:</td> <td>Ozone</td> <td>Num. imputations</td>   <td>10</td>  \n",
       "</tr>\n",
       "</table>\n",
       "<table class=\"simpletable\">\n",
       "<tr>\n",
       "      <td></td>        <th>Coef.</th>  <th>Std.Err.</th>    <th>t</th>     <th>P>|t|</th>  <th>[0.025</th>    <th>0.975]</th>    <th>FMI</th> \n",
       "</tr>\n",
       "<tr>\n",
       "  <th>Intercept</th> <td>-63.4859</td>  <td>21.3129</td> <td>-2.9788</td> <td>0.0029</td> <td>-105.2584</td> <td>-21.7134</td> <td>0.1965</td>\n",
       "</tr>\n",
       "<tr>\n",
       "  <th>SolarR</th>     <td>0.0606</td>   <td>0.0217</td>  <td>2.7921</td>  <td>0.0052</td>  <td>0.0180</td>    <td>0.1031</td>  <td>0.1701</td>\n",
       "</tr>\n",
       "<tr>\n",
       "  <th>Wind</th>       <td>-2.9931</td>  <td>0.6062</td>  <td>-4.9378</td> <td>0.0000</td>  <td>-4.1812</td>   <td>-1.8051</td> <td>0.1805</td>\n",
       "</tr>\n",
       "<tr>\n",
       "  <th>Temp</th>       <td>1.5831</td>   <td>0.2357</td>  <td>6.7172</td>  <td>0.0000</td>  <td>1.1212</td>    <td>2.0450</td>  <td>0.1857</td>\n",
       "</tr>\n",
       "</table>"
      ],
      "text/plain": [
       "<class 'statsmodels.iolib.summary2.Summary'>\n",
       "\"\"\"\n",
       "                           Results: MICE\n",
       "====================================================================\n",
       "Method:                    MICE        Sample size:           153   \n",
       "Model:                     OLS         Scale                  444.33\n",
       "Dependent variable:        Ozone       Num. imputations       10    \n",
       "--------------------------------------------------------------------\n",
       "           Coef.   Std.Err.    t    P>|t|    [0.025   0.975]   FMI  \n",
       "--------------------------------------------------------------------\n",
       "Intercept -63.4859  21.3129 -2.9788 0.0029 -105.2584 -21.7134 0.1965\n",
       "SolarR      0.0606   0.0217  2.7921 0.0052    0.0180   0.1031 0.1701\n",
       "Wind       -2.9931   0.6062 -4.9378 0.0000   -4.1812  -1.8051 0.1805\n",
       "Temp        1.5831   0.2357  6.7172 0.0000    1.1212   2.0450 0.1857\n",
       "====================================================================\n",
       "\n",
       "\"\"\""
      ]
     },
     "metadata": {},
     "execution_count": 21
    }
   ],
   "metadata": {}
  },
  {
   "cell_type": "markdown",
   "source": [
    "La statistique *FMI* représente la part de variance de l’estimateur due à l’imputation. Une valeur trop grande montre que l’imputation est probablement inappropriée dans ce cas. Une valeur < 0.3 est généralement tolérée."
   ],
   "metadata": {}
  },
  {
   "cell_type": "code",
   "execution_count": 22,
   "source": [
    "results.frac_miss_info"
   ],
   "outputs": [
    {
     "output_type": "execute_result",
     "data": {
      "text/plain": [
       "array([0.19652478, 0.17014307, 0.18047386, 0.18574152])"
      ]
     },
     "metadata": {},
     "execution_count": 22
    }
   ],
   "metadata": {}
  },
  {
   "cell_type": "markdown",
   "source": [
    "Les coefficients moyens :"
   ],
   "metadata": {}
  },
  {
   "cell_type": "code",
   "execution_count": 23,
   "source": [
    "results.params"
   ],
   "outputs": [
    {
     "output_type": "execute_result",
     "data": {
      "text/plain": [
       "array([-6.34858770e+01,  6.05654313e-02, -2.99310905e+00,  1.58306424e+00])"
      ]
     },
     "metadata": {},
     "execution_count": 23
    }
   ],
   "metadata": {}
  },
  {
   "cell_type": "markdown",
   "source": [
    "D'autres éléments que l'on peut récupérer :"
   ],
   "metadata": {}
  },
  {
   "cell_type": "code",
   "execution_count": 24,
   "source": [
    "results.normalized_cov_params\n",
    "results.scale\n",
    "results.tvalues\n",
    "results.pvalues"
   ],
   "outputs": [
    {
     "output_type": "execute_result",
     "data": {
      "text/plain": [
       "array([2.89422329e-03, 5.23741726e-03, 7.89910166e-07, 1.85308512e-11])"
      ]
     },
     "metadata": {},
     "execution_count": 24
    }
   ],
   "metadata": {}
  },
  {
   "cell_type": "markdown",
   "source": [
    "Récupérer tous les coefficients :"
   ],
   "metadata": {}
  },
  {
   "cell_type": "code",
   "execution_count": 25,
   "source": [
    "params = pd.DataFrame()\n",
    "for i in range(n_imputation):\n",
    "    params = params.append(mice_fit.results_list[i].params, ignore_index=True)\n",
    "params"
   ],
   "outputs": [
    {
     "output_type": "execute_result",
     "data": {
      "text/html": [
       "<div>\n",
       "<style scoped>\n",
       "    .dataframe tbody tr th:only-of-type {\n",
       "        vertical-align: middle;\n",
       "    }\n",
       "\n",
       "    .dataframe tbody tr th {\n",
       "        vertical-align: top;\n",
       "    }\n",
       "\n",
       "    .dataframe thead th {\n",
       "        text-align: right;\n",
       "    }\n",
       "</style>\n",
       "<table border=\"1\" class=\"dataframe\">\n",
       "  <thead>\n",
       "    <tr style=\"text-align: right;\">\n",
       "      <th></th>\n",
       "      <th>Intercept</th>\n",
       "      <th>SolarR</th>\n",
       "      <th>Temp</th>\n",
       "      <th>Wind</th>\n",
       "    </tr>\n",
       "  </thead>\n",
       "  <tbody>\n",
       "    <tr>\n",
       "      <th>0</th>\n",
       "      <td>-63.880461</td>\n",
       "      <td>0.068920</td>\n",
       "      <td>1.540127</td>\n",
       "      <td>-2.812769</td>\n",
       "    </tr>\n",
       "    <tr>\n",
       "      <th>1</th>\n",
       "      <td>-65.935636</td>\n",
       "      <td>0.052762</td>\n",
       "      <td>1.632101</td>\n",
       "      <td>-3.000415</td>\n",
       "    </tr>\n",
       "    <tr>\n",
       "      <th>2</th>\n",
       "      <td>-73.818415</td>\n",
       "      <td>0.062501</td>\n",
       "      <td>1.665861</td>\n",
       "      <td>-2.611897</td>\n",
       "    </tr>\n",
       "    <tr>\n",
       "      <th>3</th>\n",
       "      <td>-63.079442</td>\n",
       "      <td>0.043986</td>\n",
       "      <td>1.608307</td>\n",
       "      <td>-2.945131</td>\n",
       "    </tr>\n",
       "    <tr>\n",
       "      <th>4</th>\n",
       "      <td>-50.081722</td>\n",
       "      <td>0.072526</td>\n",
       "      <td>1.415475</td>\n",
       "      <td>-3.281690</td>\n",
       "    </tr>\n",
       "    <tr>\n",
       "      <th>5</th>\n",
       "      <td>-78.784970</td>\n",
       "      <td>0.068422</td>\n",
       "      <td>1.747320</td>\n",
       "      <td>-2.864393</td>\n",
       "    </tr>\n",
       "    <tr>\n",
       "      <th>6</th>\n",
       "      <td>-69.970061</td>\n",
       "      <td>0.054966</td>\n",
       "      <td>1.647749</td>\n",
       "      <td>-2.744154</td>\n",
       "    </tr>\n",
       "    <tr>\n",
       "      <th>7</th>\n",
       "      <td>-59.307422</td>\n",
       "      <td>0.059472</td>\n",
       "      <td>1.554984</td>\n",
       "      <td>-3.135316</td>\n",
       "    </tr>\n",
       "    <tr>\n",
       "      <th>8</th>\n",
       "      <td>-54.835285</td>\n",
       "      <td>0.063039</td>\n",
       "      <td>1.479661</td>\n",
       "      <td>-3.146140</td>\n",
       "    </tr>\n",
       "    <tr>\n",
       "      <th>9</th>\n",
       "      <td>-55.165356</td>\n",
       "      <td>0.059059</td>\n",
       "      <td>1.539057</td>\n",
       "      <td>-3.389185</td>\n",
       "    </tr>\n",
       "  </tbody>\n",
       "</table>\n",
       "</div>"
      ],
      "text/plain": [
       "   Intercept    SolarR      Temp      Wind\n",
       "0 -63.880461  0.068920  1.540127 -2.812769\n",
       "1 -65.935636  0.052762  1.632101 -3.000415\n",
       "2 -73.818415  0.062501  1.665861 -2.611897\n",
       "3 -63.079442  0.043986  1.608307 -2.945131\n",
       "4 -50.081722  0.072526  1.415475 -3.281690\n",
       "5 -78.784970  0.068422  1.747320 -2.864393\n",
       "6 -69.970061  0.054966  1.647749 -2.744154\n",
       "7 -59.307422  0.059472  1.554984 -3.135316\n",
       "8 -54.835285  0.063039  1.479661 -3.146140\n",
       "9 -55.165356  0.059059  1.539057 -3.389185"
      ]
     },
     "metadata": {},
     "execution_count": 25
    }
   ],
   "metadata": {}
  },
  {
   "cell_type": "markdown",
   "source": [
    "Effectuer une prédiction avec les différents modèles :"
   ],
   "metadata": {}
  },
  {
   "cell_type": "code",
   "execution_count": 26,
   "source": [
    "data_to_pred = X.iloc[:2]\n",
    "data_to_pred"
   ],
   "outputs": [
    {
     "output_type": "execute_result",
     "data": {
      "text/html": [
       "<div>\n",
       "<style scoped>\n",
       "    .dataframe tbody tr th:only-of-type {\n",
       "        vertical-align: middle;\n",
       "    }\n",
       "\n",
       "    .dataframe tbody tr th {\n",
       "        vertical-align: top;\n",
       "    }\n",
       "\n",
       "    .dataframe thead th {\n",
       "        text-align: right;\n",
       "    }\n",
       "</style>\n",
       "<table border=\"1\" class=\"dataframe\">\n",
       "  <thead>\n",
       "    <tr style=\"text-align: right;\">\n",
       "      <th></th>\n",
       "      <th>Ozone</th>\n",
       "      <th>SolarR</th>\n",
       "      <th>Wind</th>\n",
       "      <th>Temp</th>\n",
       "    </tr>\n",
       "  </thead>\n",
       "  <tbody>\n",
       "    <tr>\n",
       "      <th>0</th>\n",
       "      <td>41.0</td>\n",
       "      <td>190.0</td>\n",
       "      <td>7.4</td>\n",
       "      <td>67</td>\n",
       "    </tr>\n",
       "    <tr>\n",
       "      <th>1</th>\n",
       "      <td>36.0</td>\n",
       "      <td>118.0</td>\n",
       "      <td>8.0</td>\n",
       "      <td>72</td>\n",
       "    </tr>\n",
       "  </tbody>\n",
       "</table>\n",
       "</div>"
      ],
      "text/plain": [
       "   Ozone  SolarR  Wind  Temp\n",
       "0   41.0   190.0   7.4    67\n",
       "1   36.0   118.0   8.0    72"
      ]
     },
     "metadata": {},
     "execution_count": 26
    }
   ],
   "metadata": {}
  },
  {
   "cell_type": "code",
   "execution_count": 27,
   "source": [
    "pred = np.zeros((len(results.model.results_list), len(data_to_pred)))\n",
    "for i in range(len(results.model.results_list)):\n",
    "    pred[i, :] = results.model.results_list[i].predict(data_to_pred)"
   ],
   "outputs": [],
   "metadata": {}
  },
  {
   "cell_type": "markdown",
   "source": [
    "La 1ère colonne contient les prédictions des modèles pour le 1er individu (vraie valeur : 41) et la 2ème pour le 2ème individu (vrai valeur : 36)"
   ],
   "metadata": {}
  },
  {
   "cell_type": "code",
   "execution_count": 28,
   "source": [
    "pred"
   ],
   "outputs": [
    {
     "output_type": "execute_result",
     "data": {
      "text/plain": [
       "array([[31.58839554, 32.63911457],\n",
       "       [31.23695298, 33.79831046],\n",
       "       [30.34152173, 32.60358871],\n",
       "       [31.24057727, 34.34801084],\n",
       "       [34.25059614, 34.13705458],\n",
       "       [30.0891857 , 32.18074168],\n",
       "       [30.56584981, 33.20057949],\n",
       "       [32.97478311, 34.58656478],\n",
       "       [32.99795862, 33.96978805],\n",
       "       [34.09269661, 35.50221132]])"
      ]
     },
     "metadata": {},
     "execution_count": 28
    }
   ],
   "metadata": {}
  },
  {
   "cell_type": "markdown",
   "source": [
    "Dans le cas de la régression linéaire, la prédiction avec les coefficients moyens est équivalente à la moyenne des prédictions de chaque modèle:"
   ],
   "metadata": {}
  },
  {
   "cell_type": "code",
   "execution_count": 29,
   "source": [
    "np.mean(pred, axis=0)"
   ],
   "outputs": [
    {
     "output_type": "execute_result",
     "data": {
      "text/plain": [
       "array([31.93785175, 33.69659645])"
      ]
     },
     "metadata": {},
     "execution_count": 29
    }
   ],
   "metadata": {}
  },
  {
   "cell_type": "markdown",
   "source": [
    "Ou directement avec les coefficients moyens :"
   ],
   "metadata": {}
  },
  {
   "cell_type": "code",
   "execution_count": 30,
   "source": [
    "results.params[0] + data_to_pred[mice_fit.exog_names[1:]].values.dot(results.params[1:])"
   ],
   "outputs": [
    {
     "output_type": "execute_result",
     "data": {
      "text/plain": [
       "array([31.93785175, 33.69659645])"
      ]
     },
     "metadata": {},
     "execution_count": 30
    }
   ],
   "metadata": {}
  }
 ]
}