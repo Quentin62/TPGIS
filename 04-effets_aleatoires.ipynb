{
 "metadata": {
  "language_info": {
   "codemirror_mode": {
    "name": "ipython",
    "version": 3
   },
   "file_extension": ".py",
   "mimetype": "text/x-python",
   "name": "python",
   "nbconvert_exporter": "python",
   "pygments_lexer": "ipython3",
   "version": "3.8.10"
  },
  "orig_nbformat": 2,
  "kernelspec": {
   "name": "python3",
   "display_name": "Python 3.8.10 64-bit"
  },
  "interpreter": {
   "hash": "916dbcbb3f70747c44a77c7bcd40155683ae19c65e1c03b4aa3499c5328201f1"
  }
 },
 "nbformat": 4,
 "nbformat_minor": 2,
 "cells": [
  {
   "cell_type": "markdown",
   "source": [
    "# Effets fixes et aléatoires\n",
    "\n",
    "- *Auteurs:* Cristian Preda, Quentin Grimonprez\n",
    "- *Date:* 8 mars 2021"
   ],
   "metadata": {}
  },
  {
   "cell_type": "markdown",
   "source": [
    "## Objectif du TP\n",
    "\n",
    "L’objectif de ce TP est d'introduire les effets aléatoires dans un modèle d'analyse de la variance et plus généralement dans un modèle de régression. On fait appel à ce type d’effets (technique) dans le contexte des mesures répétées ou l'hypothèse d'indépendance des observations n'est plus valide. Nous allons illustrer cela de manière progressive à l'aide d’un exemple."
   ],
   "metadata": {}
  },
  {
   "cell_type": "markdown",
   "source": [
    "### Présentation du problème et des données.\n",
    "\n",
    "Il s'agit de voir si le passage du sucre dans le sang (absorption) est différent chez les patients obèses et chez les patients contrôle (non-obèses). Pour cela, on réalise le plan d'expérience suivant : on forme un échantillon aléatoire de 13 patients obèses et un échantillon aléatoire de 20 patients contrôle. À chaque patient, on administre une quantité fixée de sucre (10 mg) et on regarde ensuite la glycémie (unité de mesure non-précisée) à 8 instants de temps différents : à t 0 = 0 (avant la dose du sucre), à t_1 = 0.5 heures après la prise de sucre, puis à t_2 = 1h, t_3 = 1.5h, t_4 = 2h, t_5 = 3h, t_6 = 4h et t_7 = 5h.\n",
    "\n",
    "La base de données est disponible en format csv (séparateur \";\") à l’adresse : <http://math.univ-lille1.fr/~preda/GIS5/glycemie.csv>.\n",
    "Remarquez la présence d'un en-tête pour les noms de variables dont un identificateur pour chaque patient\n",
    "(id). Pour des raisons qui seront évidentes plus tard, n'utilisez pas cette colonne comme row.names lors de la lecture des données."
   ],
   "metadata": {}
  },
  {
   "cell_type": "code",
   "execution_count": 3,
   "source": [
    "import pandas as pd\n",
    "import seaborn as sns\n",
    "import matplotlib.pyplot as plt\n",
    "import numpy as np\n",
    "import statsmodels.api as sm  # API classique\n",
    "import statsmodels.formula.api as smf  # API avec des formules\n",
    "from scipy.stats import ranksums, shapiro, ttest_ind, norm\n",
    "\n",
    "plt.rcParams[\"figure.figsize\"] = 12, 8"
   ],
   "outputs": [],
   "metadata": {}
  },
  {
   "cell_type": "code",
   "execution_count": 5,
   "source": [
    "glycemie = pd.read_table(\"data/glycemie.csv\", sep=\";\", dtype={\"id\": str})\n",
    "glycemie"
   ],
   "outputs": [
    {
     "output_type": "execute_result",
     "data": {
      "text/html": [
       "<div>\n",
       "<style scoped>\n",
       "    .dataframe tbody tr th:only-of-type {\n",
       "        vertical-align: middle;\n",
       "    }\n",
       "\n",
       "    .dataframe tbody tr th {\n",
       "        vertical-align: top;\n",
       "    }\n",
       "\n",
       "    .dataframe thead th {\n",
       "        text-align: right;\n",
       "    }\n",
       "</style>\n",
       "<table border=\"1\" class=\"dataframe\">\n",
       "  <thead>\n",
       "    <tr style=\"text-align: right;\">\n",
       "      <th></th>\n",
       "      <th>groupe</th>\n",
       "      <th>id</th>\n",
       "      <th>t0</th>\n",
       "      <th>t1</th>\n",
       "      <th>t2</th>\n",
       "      <th>t3</th>\n",
       "      <th>t4</th>\n",
       "      <th>t5</th>\n",
       "      <th>t6</th>\n",
       "      <th>t7</th>\n",
       "    </tr>\n",
       "  </thead>\n",
       "  <tbody>\n",
       "    <tr>\n",
       "      <th>0</th>\n",
       "      <td>control</td>\n",
       "      <td>1</td>\n",
       "      <td>4.3</td>\n",
       "      <td>3.3</td>\n",
       "      <td>3.0</td>\n",
       "      <td>2.6</td>\n",
       "      <td>2.2</td>\n",
       "      <td>2.5</td>\n",
       "      <td>3.4</td>\n",
       "      <td>4.4</td>\n",
       "    </tr>\n",
       "    <tr>\n",
       "      <th>1</th>\n",
       "      <td>control</td>\n",
       "      <td>2</td>\n",
       "      <td>3.7</td>\n",
       "      <td>2.6</td>\n",
       "      <td>2.6</td>\n",
       "      <td>1.9</td>\n",
       "      <td>2.9</td>\n",
       "      <td>3.2</td>\n",
       "      <td>3.1</td>\n",
       "      <td>3.9</td>\n",
       "    </tr>\n",
       "    <tr>\n",
       "      <th>2</th>\n",
       "      <td>control</td>\n",
       "      <td>3</td>\n",
       "      <td>4.0</td>\n",
       "      <td>4.1</td>\n",
       "      <td>3.1</td>\n",
       "      <td>2.3</td>\n",
       "      <td>2.9</td>\n",
       "      <td>3.1</td>\n",
       "      <td>3.9</td>\n",
       "      <td>4.0</td>\n",
       "    </tr>\n",
       "    <tr>\n",
       "      <th>3</th>\n",
       "      <td>control</td>\n",
       "      <td>4</td>\n",
       "      <td>3.6</td>\n",
       "      <td>3.0</td>\n",
       "      <td>2.2</td>\n",
       "      <td>2.8</td>\n",
       "      <td>2.9</td>\n",
       "      <td>3.9</td>\n",
       "      <td>3.8</td>\n",
       "      <td>4.0</td>\n",
       "    </tr>\n",
       "    <tr>\n",
       "      <th>4</th>\n",
       "      <td>control</td>\n",
       "      <td>5</td>\n",
       "      <td>4.1</td>\n",
       "      <td>3.8</td>\n",
       "      <td>2.1</td>\n",
       "      <td>3.0</td>\n",
       "      <td>3.6</td>\n",
       "      <td>3.4</td>\n",
       "      <td>3.6</td>\n",
       "      <td>3.7</td>\n",
       "    </tr>\n",
       "    <tr>\n",
       "      <th>5</th>\n",
       "      <td>control</td>\n",
       "      <td>6</td>\n",
       "      <td>3.8</td>\n",
       "      <td>2.2</td>\n",
       "      <td>2.0</td>\n",
       "      <td>2.6</td>\n",
       "      <td>3.8</td>\n",
       "      <td>3.6</td>\n",
       "      <td>3.0</td>\n",
       "      <td>3.5</td>\n",
       "    </tr>\n",
       "    <tr>\n",
       "      <th>6</th>\n",
       "      <td>control</td>\n",
       "      <td>7</td>\n",
       "      <td>3.8</td>\n",
       "      <td>3.0</td>\n",
       "      <td>2.4</td>\n",
       "      <td>2.5</td>\n",
       "      <td>3.1</td>\n",
       "      <td>3.4</td>\n",
       "      <td>3.5</td>\n",
       "      <td>3.7</td>\n",
       "    </tr>\n",
       "    <tr>\n",
       "      <th>7</th>\n",
       "      <td>control</td>\n",
       "      <td>8</td>\n",
       "      <td>4.4</td>\n",
       "      <td>3.9</td>\n",
       "      <td>2.8</td>\n",
       "      <td>2.1</td>\n",
       "      <td>3.6</td>\n",
       "      <td>3.8</td>\n",
       "      <td>4.0</td>\n",
       "      <td>3.9</td>\n",
       "    </tr>\n",
       "    <tr>\n",
       "      <th>8</th>\n",
       "      <td>control</td>\n",
       "      <td>9</td>\n",
       "      <td>5.0</td>\n",
       "      <td>4.0</td>\n",
       "      <td>3.4</td>\n",
       "      <td>3.4</td>\n",
       "      <td>3.3</td>\n",
       "      <td>3.6</td>\n",
       "      <td>4.0</td>\n",
       "      <td>4.3</td>\n",
       "    </tr>\n",
       "    <tr>\n",
       "      <th>9</th>\n",
       "      <td>control</td>\n",
       "      <td>10</td>\n",
       "      <td>3.7</td>\n",
       "      <td>3.1</td>\n",
       "      <td>2.9</td>\n",
       "      <td>2.2</td>\n",
       "      <td>1.5</td>\n",
       "      <td>2.3</td>\n",
       "      <td>2.7</td>\n",
       "      <td>2.8</td>\n",
       "    </tr>\n",
       "    <tr>\n",
       "      <th>10</th>\n",
       "      <td>control</td>\n",
       "      <td>11</td>\n",
       "      <td>3.7</td>\n",
       "      <td>2.6</td>\n",
       "      <td>2.6</td>\n",
       "      <td>2.3</td>\n",
       "      <td>2.9</td>\n",
       "      <td>2.2</td>\n",
       "      <td>3.1</td>\n",
       "      <td>3.9</td>\n",
       "    </tr>\n",
       "    <tr>\n",
       "      <th>11</th>\n",
       "      <td>control</td>\n",
       "      <td>12</td>\n",
       "      <td>4.4</td>\n",
       "      <td>3.7</td>\n",
       "      <td>3.1</td>\n",
       "      <td>3.2</td>\n",
       "      <td>3.7</td>\n",
       "      <td>4.3</td>\n",
       "      <td>3.9</td>\n",
       "      <td>4.8</td>\n",
       "    </tr>\n",
       "    <tr>\n",
       "      <th>12</th>\n",
       "      <td>control</td>\n",
       "      <td>13</td>\n",
       "      <td>4.7</td>\n",
       "      <td>3.1</td>\n",
       "      <td>3.2</td>\n",
       "      <td>3.3</td>\n",
       "      <td>3.2</td>\n",
       "      <td>4.2</td>\n",
       "      <td>3.7</td>\n",
       "      <td>4.3</td>\n",
       "    </tr>\n",
       "    <tr>\n",
       "      <th>13</th>\n",
       "      <td>control</td>\n",
       "      <td>14</td>\n",
       "      <td>4.3</td>\n",
       "      <td>3.3</td>\n",
       "      <td>3.0</td>\n",
       "      <td>2.6</td>\n",
       "      <td>2.2</td>\n",
       "      <td>2.5</td>\n",
       "      <td>2.4</td>\n",
       "      <td>3.4</td>\n",
       "    </tr>\n",
       "    <tr>\n",
       "      <th>14</th>\n",
       "      <td>control</td>\n",
       "      <td>15</td>\n",
       "      <td>5.0</td>\n",
       "      <td>4.9</td>\n",
       "      <td>4.1</td>\n",
       "      <td>3.7</td>\n",
       "      <td>3.7</td>\n",
       "      <td>4.1</td>\n",
       "      <td>4.7</td>\n",
       "      <td>4.9</td>\n",
       "    </tr>\n",
       "    <tr>\n",
       "      <th>15</th>\n",
       "      <td>control</td>\n",
       "      <td>16</td>\n",
       "      <td>4.6</td>\n",
       "      <td>4.4</td>\n",
       "      <td>3.9</td>\n",
       "      <td>3.9</td>\n",
       "      <td>3.7</td>\n",
       "      <td>4.2</td>\n",
       "      <td>4.8</td>\n",
       "      <td>5.0</td>\n",
       "    </tr>\n",
       "    <tr>\n",
       "      <th>16</th>\n",
       "      <td>control</td>\n",
       "      <td>17</td>\n",
       "      <td>4.3</td>\n",
       "      <td>3.9</td>\n",
       "      <td>3.1</td>\n",
       "      <td>3.1</td>\n",
       "      <td>3.1</td>\n",
       "      <td>3.1</td>\n",
       "      <td>3.6</td>\n",
       "      <td>4.0</td>\n",
       "    </tr>\n",
       "    <tr>\n",
       "      <th>17</th>\n",
       "      <td>control</td>\n",
       "      <td>18</td>\n",
       "      <td>3.1</td>\n",
       "      <td>3.1</td>\n",
       "      <td>3.3</td>\n",
       "      <td>2.6</td>\n",
       "      <td>2.6</td>\n",
       "      <td>1.9</td>\n",
       "      <td>2.3</td>\n",
       "      <td>2.7</td>\n",
       "    </tr>\n",
       "    <tr>\n",
       "      <th>18</th>\n",
       "      <td>control</td>\n",
       "      <td>19</td>\n",
       "      <td>4.8</td>\n",
       "      <td>5.0</td>\n",
       "      <td>2.9</td>\n",
       "      <td>2.8</td>\n",
       "      <td>2.2</td>\n",
       "      <td>3.1</td>\n",
       "      <td>3.5</td>\n",
       "      <td>3.6</td>\n",
       "    </tr>\n",
       "    <tr>\n",
       "      <th>19</th>\n",
       "      <td>control</td>\n",
       "      <td>20</td>\n",
       "      <td>3.7</td>\n",
       "      <td>3.1</td>\n",
       "      <td>3.3</td>\n",
       "      <td>2.8</td>\n",
       "      <td>2.9</td>\n",
       "      <td>3.6</td>\n",
       "      <td>4.3</td>\n",
       "      <td>4.4</td>\n",
       "    </tr>\n",
       "    <tr>\n",
       "      <th>20</th>\n",
       "      <td>obese</td>\n",
       "      <td>21</td>\n",
       "      <td>5.4</td>\n",
       "      <td>4.7</td>\n",
       "      <td>3.9</td>\n",
       "      <td>4.1</td>\n",
       "      <td>2.8</td>\n",
       "      <td>3.7</td>\n",
       "      <td>3.5</td>\n",
       "      <td>3.7</td>\n",
       "    </tr>\n",
       "    <tr>\n",
       "      <th>21</th>\n",
       "      <td>obese</td>\n",
       "      <td>22</td>\n",
       "      <td>3.0</td>\n",
       "      <td>2.5</td>\n",
       "      <td>2.3</td>\n",
       "      <td>2.2</td>\n",
       "      <td>2.1</td>\n",
       "      <td>2.6</td>\n",
       "      <td>3.2</td>\n",
       "      <td>3.5</td>\n",
       "    </tr>\n",
       "    <tr>\n",
       "      <th>22</th>\n",
       "      <td>obese</td>\n",
       "      <td>23</td>\n",
       "      <td>4.9</td>\n",
       "      <td>5.0</td>\n",
       "      <td>4.1</td>\n",
       "      <td>3.7</td>\n",
       "      <td>3.7</td>\n",
       "      <td>4.1</td>\n",
       "      <td>4.7</td>\n",
       "      <td>4.9</td>\n",
       "    </tr>\n",
       "    <tr>\n",
       "      <th>23</th>\n",
       "      <td>obese</td>\n",
       "      <td>24</td>\n",
       "      <td>4.8</td>\n",
       "      <td>4.3</td>\n",
       "      <td>4.7</td>\n",
       "      <td>4.6</td>\n",
       "      <td>4.7</td>\n",
       "      <td>3.7</td>\n",
       "      <td>3.6</td>\n",
       "      <td>3.9</td>\n",
       "    </tr>\n",
       "    <tr>\n",
       "      <th>24</th>\n",
       "      <td>obese</td>\n",
       "      <td>25</td>\n",
       "      <td>4.4</td>\n",
       "      <td>4.2</td>\n",
       "      <td>4.2</td>\n",
       "      <td>3.4</td>\n",
       "      <td>3.5</td>\n",
       "      <td>3.4</td>\n",
       "      <td>3.8</td>\n",
       "      <td>4.0</td>\n",
       "    </tr>\n",
       "    <tr>\n",
       "      <th>25</th>\n",
       "      <td>obese</td>\n",
       "      <td>26</td>\n",
       "      <td>4.9</td>\n",
       "      <td>4.3</td>\n",
       "      <td>4.0</td>\n",
       "      <td>4.0</td>\n",
       "      <td>3.3</td>\n",
       "      <td>4.1</td>\n",
       "      <td>4.2</td>\n",
       "      <td>4.3</td>\n",
       "    </tr>\n",
       "    <tr>\n",
       "      <th>26</th>\n",
       "      <td>obese</td>\n",
       "      <td>27</td>\n",
       "      <td>5.1</td>\n",
       "      <td>4.1</td>\n",
       "      <td>4.6</td>\n",
       "      <td>4.1</td>\n",
       "      <td>3.4</td>\n",
       "      <td>4.2</td>\n",
       "      <td>4.4</td>\n",
       "      <td>4.9</td>\n",
       "    </tr>\n",
       "    <tr>\n",
       "      <th>27</th>\n",
       "      <td>obese</td>\n",
       "      <td>28</td>\n",
       "      <td>4.8</td>\n",
       "      <td>4.6</td>\n",
       "      <td>4.6</td>\n",
       "      <td>4.4</td>\n",
       "      <td>4.1</td>\n",
       "      <td>4.0</td>\n",
       "      <td>3.8</td>\n",
       "      <td>3.8</td>\n",
       "    </tr>\n",
       "    <tr>\n",
       "      <th>28</th>\n",
       "      <td>obese</td>\n",
       "      <td>29</td>\n",
       "      <td>4.2</td>\n",
       "      <td>3.5</td>\n",
       "      <td>3.8</td>\n",
       "      <td>3.6</td>\n",
       "      <td>3.3</td>\n",
       "      <td>3.1</td>\n",
       "      <td>3.5</td>\n",
       "      <td>3.9</td>\n",
       "    </tr>\n",
       "    <tr>\n",
       "      <th>29</th>\n",
       "      <td>obese</td>\n",
       "      <td>30</td>\n",
       "      <td>6.6</td>\n",
       "      <td>6.1</td>\n",
       "      <td>5.2</td>\n",
       "      <td>4.1</td>\n",
       "      <td>4.3</td>\n",
       "      <td>3.8</td>\n",
       "      <td>4.2</td>\n",
       "      <td>4.8</td>\n",
       "    </tr>\n",
       "    <tr>\n",
       "      <th>30</th>\n",
       "      <td>obese</td>\n",
       "      <td>31</td>\n",
       "      <td>3.6</td>\n",
       "      <td>3.4</td>\n",
       "      <td>3.1</td>\n",
       "      <td>2.8</td>\n",
       "      <td>2.1</td>\n",
       "      <td>2.4</td>\n",
       "      <td>2.5</td>\n",
       "      <td>3.5</td>\n",
       "    </tr>\n",
       "    <tr>\n",
       "      <th>31</th>\n",
       "      <td>obese</td>\n",
       "      <td>32</td>\n",
       "      <td>4.5</td>\n",
       "      <td>4.0</td>\n",
       "      <td>3.7</td>\n",
       "      <td>3.3</td>\n",
       "      <td>2.4</td>\n",
       "      <td>2.3</td>\n",
       "      <td>3.1</td>\n",
       "      <td>3.3</td>\n",
       "    </tr>\n",
       "    <tr>\n",
       "      <th>32</th>\n",
       "      <td>obese</td>\n",
       "      <td>33</td>\n",
       "      <td>4.6</td>\n",
       "      <td>4.4</td>\n",
       "      <td>3.8</td>\n",
       "      <td>3.8</td>\n",
       "      <td>3.8</td>\n",
       "      <td>3.6</td>\n",
       "      <td>3.8</td>\n",
       "      <td>3.8</td>\n",
       "    </tr>\n",
       "  </tbody>\n",
       "</table>\n",
       "</div>"
      ],
      "text/plain": [
       "     groupe  id   t0   t1   t2   t3   t4   t5   t6   t7\n",
       "0   control   1  4.3  3.3  3.0  2.6  2.2  2.5  3.4  4.4\n",
       "1   control   2  3.7  2.6  2.6  1.9  2.9  3.2  3.1  3.9\n",
       "2   control   3  4.0  4.1  3.1  2.3  2.9  3.1  3.9  4.0\n",
       "3   control   4  3.6  3.0  2.2  2.8  2.9  3.9  3.8  4.0\n",
       "4   control   5  4.1  3.8  2.1  3.0  3.6  3.4  3.6  3.7\n",
       "5   control   6  3.8  2.2  2.0  2.6  3.8  3.6  3.0  3.5\n",
       "6   control   7  3.8  3.0  2.4  2.5  3.1  3.4  3.5  3.7\n",
       "7   control   8  4.4  3.9  2.8  2.1  3.6  3.8  4.0  3.9\n",
       "8   control   9  5.0  4.0  3.4  3.4  3.3  3.6  4.0  4.3\n",
       "9   control  10  3.7  3.1  2.9  2.2  1.5  2.3  2.7  2.8\n",
       "10  control  11  3.7  2.6  2.6  2.3  2.9  2.2  3.1  3.9\n",
       "11  control  12  4.4  3.7  3.1  3.2  3.7  4.3  3.9  4.8\n",
       "12  control  13  4.7  3.1  3.2  3.3  3.2  4.2  3.7  4.3\n",
       "13  control  14  4.3  3.3  3.0  2.6  2.2  2.5  2.4  3.4\n",
       "14  control  15  5.0  4.9  4.1  3.7  3.7  4.1  4.7  4.9\n",
       "15  control  16  4.6  4.4  3.9  3.9  3.7  4.2  4.8  5.0\n",
       "16  control  17  4.3  3.9  3.1  3.1  3.1  3.1  3.6  4.0\n",
       "17  control  18  3.1  3.1  3.3  2.6  2.6  1.9  2.3  2.7\n",
       "18  control  19  4.8  5.0  2.9  2.8  2.2  3.1  3.5  3.6\n",
       "19  control  20  3.7  3.1  3.3  2.8  2.9  3.6  4.3  4.4\n",
       "20    obese  21  5.4  4.7  3.9  4.1  2.8  3.7  3.5  3.7\n",
       "21    obese  22  3.0  2.5  2.3  2.2  2.1  2.6  3.2  3.5\n",
       "22    obese  23  4.9  5.0  4.1  3.7  3.7  4.1  4.7  4.9\n",
       "23    obese  24  4.8  4.3  4.7  4.6  4.7  3.7  3.6  3.9\n",
       "24    obese  25  4.4  4.2  4.2  3.4  3.5  3.4  3.8  4.0\n",
       "25    obese  26  4.9  4.3  4.0  4.0  3.3  4.1  4.2  4.3\n",
       "26    obese  27  5.1  4.1  4.6  4.1  3.4  4.2  4.4  4.9\n",
       "27    obese  28  4.8  4.6  4.6  4.4  4.1  4.0  3.8  3.8\n",
       "28    obese  29  4.2  3.5  3.8  3.6  3.3  3.1  3.5  3.9\n",
       "29    obese  30  6.6  6.1  5.2  4.1  4.3  3.8  4.2  4.8\n",
       "30    obese  31  3.6  3.4  3.1  2.8  2.1  2.4  2.5  3.5\n",
       "31    obese  32  4.5  4.0  3.7  3.3  2.4  2.3  3.1  3.3\n",
       "32    obese  33  4.6  4.4  3.8  3.8  3.8  3.6  3.8  3.8"
      ]
     },
     "metadata": {},
     "execution_count": 5
    }
   ],
   "metadata": {}
  },
  {
   "cell_type": "markdown",
   "source": [
    "\n",
    "\n",
    "\n",
    "Voici quelques tâches qui vous sont demandées :\n",
    "\n",
    "1. Statistiques descriptives pour chaque variable temps.\n",
    "Préciser notamment la moyenne et l’écart-type.\n",
    "1. Représentation graphique des données.\n",
    "1. Comparaison des deux groupes par l'évolution moyenne de la glycémie.\n",
    "1. Les premiers tests statistiques pour comparer les groupes.\n",
    "Pour chaque temps, comparer les deux groupes selon le niveau moyen de la glycémie.\n",
    "Note : Selon que l'hypothèse de normalité des données est vérifiée (à l'aide du test de Shapiro), on utilisera le test de Student, ou, dans le cas contraire, le test de Wilcoxon. Pour rappel, les tests de Student et Wilcoxon permettent de vérifier l'hypothèse nulle selon laquelle les deux groupes ont la même espérance de la glycémie. Le test de Wilcoxon est un test non-paramétrique - c'est-à-dire que son utilisation n'est pas conditionnée par la loi des données.\n",
    "Au vu des résultats numériques (et graphiques) il y a donc des différences significatives entre les deux groupes. Allons plus en détail.\n"
   ],
   "metadata": {}
  },
  {
   "cell_type": "markdown",
   "source": [
    "### Statistiques descriptives"
   ],
   "metadata": {}
  },
  {
   "cell_type": "code",
   "execution_count": 7,
   "source": [
    "glycemie.describe(include=\"all\")"
   ],
   "outputs": [
    {
     "output_type": "execute_result",
     "data": {
      "text/html": [
       "<div>\n",
       "<style scoped>\n",
       "    .dataframe tbody tr th:only-of-type {\n",
       "        vertical-align: middle;\n",
       "    }\n",
       "\n",
       "    .dataframe tbody tr th {\n",
       "        vertical-align: top;\n",
       "    }\n",
       "\n",
       "    .dataframe thead th {\n",
       "        text-align: right;\n",
       "    }\n",
       "</style>\n",
       "<table border=\"1\" class=\"dataframe\">\n",
       "  <thead>\n",
       "    <tr style=\"text-align: right;\">\n",
       "      <th></th>\n",
       "      <th>groupe</th>\n",
       "      <th>id</th>\n",
       "      <th>t0</th>\n",
       "      <th>t1</th>\n",
       "      <th>t2</th>\n",
       "      <th>t3</th>\n",
       "      <th>t4</th>\n",
       "      <th>t5</th>\n",
       "      <th>t6</th>\n",
       "      <th>t7</th>\n",
       "    </tr>\n",
       "  </thead>\n",
       "  <tbody>\n",
       "    <tr>\n",
       "      <th>count</th>\n",
       "      <td>33</td>\n",
       "      <td>33</td>\n",
       "      <td>33.000000</td>\n",
       "      <td>33.000000</td>\n",
       "      <td>33.000000</td>\n",
       "      <td>33.000000</td>\n",
       "      <td>33.000000</td>\n",
       "      <td>33.000000</td>\n",
       "      <td>33.000000</td>\n",
       "      <td>33.000000</td>\n",
       "    </tr>\n",
       "    <tr>\n",
       "      <th>unique</th>\n",
       "      <td>2</td>\n",
       "      <td>33</td>\n",
       "      <td>NaN</td>\n",
       "      <td>NaN</td>\n",
       "      <td>NaN</td>\n",
       "      <td>NaN</td>\n",
       "      <td>NaN</td>\n",
       "      <td>NaN</td>\n",
       "      <td>NaN</td>\n",
       "      <td>NaN</td>\n",
       "    </tr>\n",
       "    <tr>\n",
       "      <th>top</th>\n",
       "      <td>control</td>\n",
       "      <td>23</td>\n",
       "      <td>NaN</td>\n",
       "      <td>NaN</td>\n",
       "      <td>NaN</td>\n",
       "      <td>NaN</td>\n",
       "      <td>NaN</td>\n",
       "      <td>NaN</td>\n",
       "      <td>NaN</td>\n",
       "      <td>NaN</td>\n",
       "    </tr>\n",
       "    <tr>\n",
       "      <th>freq</th>\n",
       "      <td>20</td>\n",
       "      <td>1</td>\n",
       "      <td>NaN</td>\n",
       "      <td>NaN</td>\n",
       "      <td>NaN</td>\n",
       "      <td>NaN</td>\n",
       "      <td>NaN</td>\n",
       "      <td>NaN</td>\n",
       "      <td>NaN</td>\n",
       "      <td>NaN</td>\n",
       "    </tr>\n",
       "    <tr>\n",
       "      <th>mean</th>\n",
       "      <td>NaN</td>\n",
       "      <td>NaN</td>\n",
       "      <td>4.357576</td>\n",
       "      <td>3.793939</td>\n",
       "      <td>3.363636</td>\n",
       "      <td>3.145455</td>\n",
       "      <td>3.136364</td>\n",
       "      <td>3.363636</td>\n",
       "      <td>3.624242</td>\n",
       "      <td>3.984848</td>\n",
       "    </tr>\n",
       "    <tr>\n",
       "      <th>std</th>\n",
       "      <td>NaN</td>\n",
       "      <td>NaN</td>\n",
       "      <td>0.708886</td>\n",
       "      <td>0.859120</td>\n",
       "      <td>0.806930</td>\n",
       "      <td>0.731476</td>\n",
       "      <td>0.713187</td>\n",
       "      <td>0.689120</td>\n",
       "      <td>0.633951</td>\n",
       "      <td>0.575066</td>\n",
       "    </tr>\n",
       "    <tr>\n",
       "      <th>min</th>\n",
       "      <td>NaN</td>\n",
       "      <td>NaN</td>\n",
       "      <td>3.000000</td>\n",
       "      <td>2.200000</td>\n",
       "      <td>2.000000</td>\n",
       "      <td>1.900000</td>\n",
       "      <td>1.500000</td>\n",
       "      <td>1.900000</td>\n",
       "      <td>2.300000</td>\n",
       "      <td>2.700000</td>\n",
       "    </tr>\n",
       "    <tr>\n",
       "      <th>25%</th>\n",
       "      <td>NaN</td>\n",
       "      <td>NaN</td>\n",
       "      <td>3.800000</td>\n",
       "      <td>3.100000</td>\n",
       "      <td>2.900000</td>\n",
       "      <td>2.600000</td>\n",
       "      <td>2.800000</td>\n",
       "      <td>3.100000</td>\n",
       "      <td>3.200000</td>\n",
       "      <td>3.700000</td>\n",
       "    </tr>\n",
       "    <tr>\n",
       "      <th>50%</th>\n",
       "      <td>NaN</td>\n",
       "      <td>NaN</td>\n",
       "      <td>4.400000</td>\n",
       "      <td>3.900000</td>\n",
       "      <td>3.200000</td>\n",
       "      <td>3.100000</td>\n",
       "      <td>3.200000</td>\n",
       "      <td>3.600000</td>\n",
       "      <td>3.600000</td>\n",
       "      <td>3.900000</td>\n",
       "    </tr>\n",
       "    <tr>\n",
       "      <th>75%</th>\n",
       "      <td>NaN</td>\n",
       "      <td>NaN</td>\n",
       "      <td>4.800000</td>\n",
       "      <td>4.300000</td>\n",
       "      <td>3.900000</td>\n",
       "      <td>3.700000</td>\n",
       "      <td>3.700000</td>\n",
       "      <td>3.900000</td>\n",
       "      <td>4.000000</td>\n",
       "      <td>4.300000</td>\n",
       "    </tr>\n",
       "    <tr>\n",
       "      <th>max</th>\n",
       "      <td>NaN</td>\n",
       "      <td>NaN</td>\n",
       "      <td>6.600000</td>\n",
       "      <td>6.100000</td>\n",
       "      <td>5.200000</td>\n",
       "      <td>4.600000</td>\n",
       "      <td>4.700000</td>\n",
       "      <td>4.300000</td>\n",
       "      <td>4.800000</td>\n",
       "      <td>5.000000</td>\n",
       "    </tr>\n",
       "  </tbody>\n",
       "</table>\n",
       "</div>"
      ],
      "text/plain": [
       "         groupe   id         t0         t1         t2         t3         t4  \\\n",
       "count        33   33  33.000000  33.000000  33.000000  33.000000  33.000000   \n",
       "unique        2   33        NaN        NaN        NaN        NaN        NaN   \n",
       "top     control   23        NaN        NaN        NaN        NaN        NaN   \n",
       "freq         20    1        NaN        NaN        NaN        NaN        NaN   \n",
       "mean        NaN  NaN   4.357576   3.793939   3.363636   3.145455   3.136364   \n",
       "std         NaN  NaN   0.708886   0.859120   0.806930   0.731476   0.713187   \n",
       "min         NaN  NaN   3.000000   2.200000   2.000000   1.900000   1.500000   \n",
       "25%         NaN  NaN   3.800000   3.100000   2.900000   2.600000   2.800000   \n",
       "50%         NaN  NaN   4.400000   3.900000   3.200000   3.100000   3.200000   \n",
       "75%         NaN  NaN   4.800000   4.300000   3.900000   3.700000   3.700000   \n",
       "max         NaN  NaN   6.600000   6.100000   5.200000   4.600000   4.700000   \n",
       "\n",
       "               t5         t6         t7  \n",
       "count   33.000000  33.000000  33.000000  \n",
       "unique        NaN        NaN        NaN  \n",
       "top           NaN        NaN        NaN  \n",
       "freq          NaN        NaN        NaN  \n",
       "mean     3.363636   3.624242   3.984848  \n",
       "std      0.689120   0.633951   0.575066  \n",
       "min      1.900000   2.300000   2.700000  \n",
       "25%      3.100000   3.200000   3.700000  \n",
       "50%      3.600000   3.600000   3.900000  \n",
       "75%      3.900000   4.000000   4.300000  \n",
       "max      4.300000   4.800000   5.000000  "
      ]
     },
     "metadata": {},
     "execution_count": 7
    }
   ],
   "metadata": {}
  },
  {
   "cell_type": "code",
   "execution_count": 10,
   "source": [
    "glycemie.groupby(\"groupe\").describe().T"
   ],
   "outputs": [
    {
     "output_type": "execute_result",
     "data": {
      "text/html": [
       "<div>\n",
       "<style scoped>\n",
       "    .dataframe tbody tr th:only-of-type {\n",
       "        vertical-align: middle;\n",
       "    }\n",
       "\n",
       "    .dataframe tbody tr th {\n",
       "        vertical-align: top;\n",
       "    }\n",
       "\n",
       "    .dataframe thead th {\n",
       "        text-align: right;\n",
       "    }\n",
       "</style>\n",
       "<table border=\"1\" class=\"dataframe\">\n",
       "  <thead>\n",
       "    <tr style=\"text-align: right;\">\n",
       "      <th></th>\n",
       "      <th>groupe</th>\n",
       "      <th>control</th>\n",
       "      <th>obese</th>\n",
       "    </tr>\n",
       "  </thead>\n",
       "  <tbody>\n",
       "    <tr>\n",
       "      <th rowspan=\"5\" valign=\"top\">t0</th>\n",
       "      <th>count</th>\n",
       "      <td>20.000000</td>\n",
       "      <td>13.000000</td>\n",
       "    </tr>\n",
       "    <tr>\n",
       "      <th>mean</th>\n",
       "      <td>4.150000</td>\n",
       "      <td>4.676923</td>\n",
       "    </tr>\n",
       "    <tr>\n",
       "      <th>std</th>\n",
       "      <td>0.515548</td>\n",
       "      <td>0.858442</td>\n",
       "    </tr>\n",
       "    <tr>\n",
       "      <th>min</th>\n",
       "      <td>3.100000</td>\n",
       "      <td>3.000000</td>\n",
       "    </tr>\n",
       "    <tr>\n",
       "      <th>25%</th>\n",
       "      <td>3.700000</td>\n",
       "      <td>4.400000</td>\n",
       "    </tr>\n",
       "    <tr>\n",
       "      <th>...</th>\n",
       "      <th>...</th>\n",
       "      <td>...</td>\n",
       "      <td>...</td>\n",
       "    </tr>\n",
       "    <tr>\n",
       "      <th rowspan=\"5\" valign=\"top\">t7</th>\n",
       "      <th>min</th>\n",
       "      <td>2.700000</td>\n",
       "      <td>3.300000</td>\n",
       "    </tr>\n",
       "    <tr>\n",
       "      <th>25%</th>\n",
       "      <td>3.675000</td>\n",
       "      <td>3.700000</td>\n",
       "    </tr>\n",
       "    <tr>\n",
       "      <th>50%</th>\n",
       "      <td>3.950000</td>\n",
       "      <td>3.900000</td>\n",
       "    </tr>\n",
       "    <tr>\n",
       "      <th>75%</th>\n",
       "      <td>4.325000</td>\n",
       "      <td>4.300000</td>\n",
       "    </tr>\n",
       "    <tr>\n",
       "      <th>max</th>\n",
       "      <td>5.000000</td>\n",
       "      <td>4.900000</td>\n",
       "    </tr>\n",
       "  </tbody>\n",
       "</table>\n",
       "<p>64 rows × 2 columns</p>\n",
       "</div>"
      ],
      "text/plain": [
       "groupe      control      obese\n",
       "t0 count  20.000000  13.000000\n",
       "   mean    4.150000   4.676923\n",
       "   std     0.515548   0.858442\n",
       "   min     3.100000   3.000000\n",
       "   25%     3.700000   4.400000\n",
       "...             ...        ...\n",
       "t7 min     2.700000   3.300000\n",
       "   25%     3.675000   3.700000\n",
       "   50%     3.950000   3.900000\n",
       "   75%     4.325000   4.300000\n",
       "   max     5.000000   4.900000\n",
       "\n",
       "[64 rows x 2 columns]"
      ]
     },
     "metadata": {},
     "execution_count": 10
    }
   ],
   "metadata": {}
  },
  {
   "cell_type": "code",
   "execution_count": 11,
   "source": [
    "pd.set_option(\"display.max_rows\", 64)\n",
    "glycemie.groupby(\"groupe\").describe().T"
   ],
   "outputs": [
    {
     "output_type": "execute_result",
     "data": {
      "text/html": [
       "<div>\n",
       "<style scoped>\n",
       "    .dataframe tbody tr th:only-of-type {\n",
       "        vertical-align: middle;\n",
       "    }\n",
       "\n",
       "    .dataframe tbody tr th {\n",
       "        vertical-align: top;\n",
       "    }\n",
       "\n",
       "    .dataframe thead th {\n",
       "        text-align: right;\n",
       "    }\n",
       "</style>\n",
       "<table border=\"1\" class=\"dataframe\">\n",
       "  <thead>\n",
       "    <tr style=\"text-align: right;\">\n",
       "      <th></th>\n",
       "      <th>groupe</th>\n",
       "      <th>control</th>\n",
       "      <th>obese</th>\n",
       "    </tr>\n",
       "  </thead>\n",
       "  <tbody>\n",
       "    <tr>\n",
       "      <th rowspan=\"8\" valign=\"top\">t0</th>\n",
       "      <th>count</th>\n",
       "      <td>20.000000</td>\n",
       "      <td>13.000000</td>\n",
       "    </tr>\n",
       "    <tr>\n",
       "      <th>mean</th>\n",
       "      <td>4.150000</td>\n",
       "      <td>4.676923</td>\n",
       "    </tr>\n",
       "    <tr>\n",
       "      <th>std</th>\n",
       "      <td>0.515548</td>\n",
       "      <td>0.858442</td>\n",
       "    </tr>\n",
       "    <tr>\n",
       "      <th>min</th>\n",
       "      <td>3.100000</td>\n",
       "      <td>3.000000</td>\n",
       "    </tr>\n",
       "    <tr>\n",
       "      <th>25%</th>\n",
       "      <td>3.700000</td>\n",
       "      <td>4.400000</td>\n",
       "    </tr>\n",
       "    <tr>\n",
       "      <th>50%</th>\n",
       "      <td>4.200000</td>\n",
       "      <td>4.800000</td>\n",
       "    </tr>\n",
       "    <tr>\n",
       "      <th>75%</th>\n",
       "      <td>4.450000</td>\n",
       "      <td>4.900000</td>\n",
       "    </tr>\n",
       "    <tr>\n",
       "      <th>max</th>\n",
       "      <td>5.000000</td>\n",
       "      <td>6.600000</td>\n",
       "    </tr>\n",
       "    <tr>\n",
       "      <th rowspan=\"8\" valign=\"top\">t1</th>\n",
       "      <th>count</th>\n",
       "      <td>20.000000</td>\n",
       "      <td>13.000000</td>\n",
       "    </tr>\n",
       "    <tr>\n",
       "      <th>mean</th>\n",
       "      <td>3.505000</td>\n",
       "      <td>4.238462</td>\n",
       "    </tr>\n",
       "    <tr>\n",
       "      <th>std</th>\n",
       "      <td>0.747258</td>\n",
       "      <td>0.854925</td>\n",
       "    </tr>\n",
       "    <tr>\n",
       "      <th>min</th>\n",
       "      <td>2.200000</td>\n",
       "      <td>2.500000</td>\n",
       "    </tr>\n",
       "    <tr>\n",
       "      <th>25%</th>\n",
       "      <td>3.075000</td>\n",
       "      <td>4.000000</td>\n",
       "    </tr>\n",
       "    <tr>\n",
       "      <th>50%</th>\n",
       "      <td>3.300000</td>\n",
       "      <td>4.300000</td>\n",
       "    </tr>\n",
       "    <tr>\n",
       "      <th>75%</th>\n",
       "      <td>3.925000</td>\n",
       "      <td>4.600000</td>\n",
       "    </tr>\n",
       "    <tr>\n",
       "      <th>max</th>\n",
       "      <td>5.000000</td>\n",
       "      <td>6.100000</td>\n",
       "    </tr>\n",
       "    <tr>\n",
       "      <th rowspan=\"8\" valign=\"top\">t2</th>\n",
       "      <th>count</th>\n",
       "      <td>20.000000</td>\n",
       "      <td>13.000000</td>\n",
       "    </tr>\n",
       "    <tr>\n",
       "      <th>mean</th>\n",
       "      <td>2.950000</td>\n",
       "      <td>4.000000</td>\n",
       "    </tr>\n",
       "    <tr>\n",
       "      <th>std</th>\n",
       "      <td>0.541441</td>\n",
       "      <td>0.740495</td>\n",
       "    </tr>\n",
       "    <tr>\n",
       "      <th>min</th>\n",
       "      <td>2.000000</td>\n",
       "      <td>2.300000</td>\n",
       "    </tr>\n",
       "    <tr>\n",
       "      <th>25%</th>\n",
       "      <td>2.600000</td>\n",
       "      <td>3.800000</td>\n",
       "    </tr>\n",
       "    <tr>\n",
       "      <th>50%</th>\n",
       "      <td>3.000000</td>\n",
       "      <td>4.000000</td>\n",
       "    </tr>\n",
       "    <tr>\n",
       "      <th>75%</th>\n",
       "      <td>3.225000</td>\n",
       "      <td>4.600000</td>\n",
       "    </tr>\n",
       "    <tr>\n",
       "      <th>max</th>\n",
       "      <td>4.100000</td>\n",
       "      <td>5.200000</td>\n",
       "    </tr>\n",
       "    <tr>\n",
       "      <th rowspan=\"8\" valign=\"top\">t3</th>\n",
       "      <th>count</th>\n",
       "      <td>20.000000</td>\n",
       "      <td>13.000000</td>\n",
       "    </tr>\n",
       "    <tr>\n",
       "      <th>mean</th>\n",
       "      <td>2.785000</td>\n",
       "      <td>3.700000</td>\n",
       "    </tr>\n",
       "    <tr>\n",
       "      <th>std</th>\n",
       "      <td>0.529424</td>\n",
       "      <td>0.658281</td>\n",
       "    </tr>\n",
       "    <tr>\n",
       "      <th>min</th>\n",
       "      <td>1.900000</td>\n",
       "      <td>2.200000</td>\n",
       "    </tr>\n",
       "    <tr>\n",
       "      <th>25%</th>\n",
       "      <td>2.450000</td>\n",
       "      <td>3.400000</td>\n",
       "    </tr>\n",
       "    <tr>\n",
       "      <th>50%</th>\n",
       "      <td>2.700000</td>\n",
       "      <td>3.800000</td>\n",
       "    </tr>\n",
       "    <tr>\n",
       "      <th>75%</th>\n",
       "      <td>3.125000</td>\n",
       "      <td>4.100000</td>\n",
       "    </tr>\n",
       "    <tr>\n",
       "      <th>max</th>\n",
       "      <td>3.900000</td>\n",
       "      <td>4.600000</td>\n",
       "    </tr>\n",
       "    <tr>\n",
       "      <th rowspan=\"8\" valign=\"top\">t4</th>\n",
       "      <th>count</th>\n",
       "      <td>20.000000</td>\n",
       "      <td>13.000000</td>\n",
       "    </tr>\n",
       "    <tr>\n",
       "      <th>mean</th>\n",
       "      <td>3.000000</td>\n",
       "      <td>3.346154</td>\n",
       "    </tr>\n",
       "    <tr>\n",
       "      <th>std</th>\n",
       "      <td>0.622389</td>\n",
       "      <td>0.815082</td>\n",
       "    </tr>\n",
       "    <tr>\n",
       "      <th>min</th>\n",
       "      <td>1.500000</td>\n",
       "      <td>2.100000</td>\n",
       "    </tr>\n",
       "    <tr>\n",
       "      <th>25%</th>\n",
       "      <td>2.825000</td>\n",
       "      <td>2.800000</td>\n",
       "    </tr>\n",
       "    <tr>\n",
       "      <th>50%</th>\n",
       "      <td>3.000000</td>\n",
       "      <td>3.400000</td>\n",
       "    </tr>\n",
       "    <tr>\n",
       "      <th>75%</th>\n",
       "      <td>3.600000</td>\n",
       "      <td>3.800000</td>\n",
       "    </tr>\n",
       "    <tr>\n",
       "      <th>max</th>\n",
       "      <td>3.800000</td>\n",
       "      <td>4.700000</td>\n",
       "    </tr>\n",
       "    <tr>\n",
       "      <th rowspan=\"8\" valign=\"top\">t5</th>\n",
       "      <th>count</th>\n",
       "      <td>20.000000</td>\n",
       "      <td>13.000000</td>\n",
       "    </tr>\n",
       "    <tr>\n",
       "      <th>mean</th>\n",
       "      <td>3.300000</td>\n",
       "      <td>3.461538</td>\n",
       "    </tr>\n",
       "    <tr>\n",
       "      <th>std</th>\n",
       "      <td>0.715983</td>\n",
       "      <td>0.661486</td>\n",
       "    </tr>\n",
       "    <tr>\n",
       "      <th>min</th>\n",
       "      <td>1.900000</td>\n",
       "      <td>2.300000</td>\n",
       "    </tr>\n",
       "    <tr>\n",
       "      <th>25%</th>\n",
       "      <td>2.950000</td>\n",
       "      <td>3.100000</td>\n",
       "    </tr>\n",
       "    <tr>\n",
       "      <th>50%</th>\n",
       "      <td>3.400000</td>\n",
       "      <td>3.700000</td>\n",
       "    </tr>\n",
       "    <tr>\n",
       "      <th>75%</th>\n",
       "      <td>3.825000</td>\n",
       "      <td>4.000000</td>\n",
       "    </tr>\n",
       "    <tr>\n",
       "      <th>max</th>\n",
       "      <td>4.300000</td>\n",
       "      <td>4.200000</td>\n",
       "    </tr>\n",
       "    <tr>\n",
       "      <th rowspan=\"8\" valign=\"top\">t6</th>\n",
       "      <th>count</th>\n",
       "      <td>20.000000</td>\n",
       "      <td>13.000000</td>\n",
       "    </tr>\n",
       "    <tr>\n",
       "      <th>mean</th>\n",
       "      <td>3.565000</td>\n",
       "      <td>3.715385</td>\n",
       "    </tr>\n",
       "    <tr>\n",
       "      <th>std</th>\n",
       "      <td>0.669859</td>\n",
       "      <td>0.588566</td>\n",
       "    </tr>\n",
       "    <tr>\n",
       "      <th>min</th>\n",
       "      <td>2.300000</td>\n",
       "      <td>2.500000</td>\n",
       "    </tr>\n",
       "    <tr>\n",
       "      <th>25%</th>\n",
       "      <td>3.100000</td>\n",
       "      <td>3.500000</td>\n",
       "    </tr>\n",
       "    <tr>\n",
       "      <th>50%</th>\n",
       "      <td>3.600000</td>\n",
       "      <td>3.800000</td>\n",
       "    </tr>\n",
       "    <tr>\n",
       "      <th>75%</th>\n",
       "      <td>3.925000</td>\n",
       "      <td>4.200000</td>\n",
       "    </tr>\n",
       "    <tr>\n",
       "      <th>max</th>\n",
       "      <td>4.800000</td>\n",
       "      <td>4.700000</td>\n",
       "    </tr>\n",
       "    <tr>\n",
       "      <th rowspan=\"8\" valign=\"top\">t7</th>\n",
       "      <th>count</th>\n",
       "      <td>20.000000</td>\n",
       "      <td>13.000000</td>\n",
       "    </tr>\n",
       "    <tr>\n",
       "      <th>mean</th>\n",
       "      <td>3.960000</td>\n",
       "      <td>4.023077</td>\n",
       "    </tr>\n",
       "    <tr>\n",
       "      <th>std</th>\n",
       "      <td>0.608190</td>\n",
       "      <td>0.541839</td>\n",
       "    </tr>\n",
       "    <tr>\n",
       "      <th>min</th>\n",
       "      <td>2.700000</td>\n",
       "      <td>3.300000</td>\n",
       "    </tr>\n",
       "    <tr>\n",
       "      <th>25%</th>\n",
       "      <td>3.675000</td>\n",
       "      <td>3.700000</td>\n",
       "    </tr>\n",
       "    <tr>\n",
       "      <th>50%</th>\n",
       "      <td>3.950000</td>\n",
       "      <td>3.900000</td>\n",
       "    </tr>\n",
       "    <tr>\n",
       "      <th>75%</th>\n",
       "      <td>4.325000</td>\n",
       "      <td>4.300000</td>\n",
       "    </tr>\n",
       "    <tr>\n",
       "      <th>max</th>\n",
       "      <td>5.000000</td>\n",
       "      <td>4.900000</td>\n",
       "    </tr>\n",
       "  </tbody>\n",
       "</table>\n",
       "</div>"
      ],
      "text/plain": [
       "groupe      control      obese\n",
       "t0 count  20.000000  13.000000\n",
       "   mean    4.150000   4.676923\n",
       "   std     0.515548   0.858442\n",
       "   min     3.100000   3.000000\n",
       "   25%     3.700000   4.400000\n",
       "   50%     4.200000   4.800000\n",
       "   75%     4.450000   4.900000\n",
       "   max     5.000000   6.600000\n",
       "t1 count  20.000000  13.000000\n",
       "   mean    3.505000   4.238462\n",
       "   std     0.747258   0.854925\n",
       "   min     2.200000   2.500000\n",
       "   25%     3.075000   4.000000\n",
       "   50%     3.300000   4.300000\n",
       "   75%     3.925000   4.600000\n",
       "   max     5.000000   6.100000\n",
       "t2 count  20.000000  13.000000\n",
       "   mean    2.950000   4.000000\n",
       "   std     0.541441   0.740495\n",
       "   min     2.000000   2.300000\n",
       "   25%     2.600000   3.800000\n",
       "   50%     3.000000   4.000000\n",
       "   75%     3.225000   4.600000\n",
       "   max     4.100000   5.200000\n",
       "t3 count  20.000000  13.000000\n",
       "   mean    2.785000   3.700000\n",
       "   std     0.529424   0.658281\n",
       "   min     1.900000   2.200000\n",
       "   25%     2.450000   3.400000\n",
       "   50%     2.700000   3.800000\n",
       "   75%     3.125000   4.100000\n",
       "   max     3.900000   4.600000\n",
       "t4 count  20.000000  13.000000\n",
       "   mean    3.000000   3.346154\n",
       "   std     0.622389   0.815082\n",
       "   min     1.500000   2.100000\n",
       "   25%     2.825000   2.800000\n",
       "   50%     3.000000   3.400000\n",
       "   75%     3.600000   3.800000\n",
       "   max     3.800000   4.700000\n",
       "t5 count  20.000000  13.000000\n",
       "   mean    3.300000   3.461538\n",
       "   std     0.715983   0.661486\n",
       "   min     1.900000   2.300000\n",
       "   25%     2.950000   3.100000\n",
       "   50%     3.400000   3.700000\n",
       "   75%     3.825000   4.000000\n",
       "   max     4.300000   4.200000\n",
       "t6 count  20.000000  13.000000\n",
       "   mean    3.565000   3.715385\n",
       "   std     0.669859   0.588566\n",
       "   min     2.300000   2.500000\n",
       "   25%     3.100000   3.500000\n",
       "   50%     3.600000   3.800000\n",
       "   75%     3.925000   4.200000\n",
       "   max     4.800000   4.700000\n",
       "t7 count  20.000000  13.000000\n",
       "   mean    3.960000   4.023077\n",
       "   std     0.608190   0.541839\n",
       "   min     2.700000   3.300000\n",
       "   25%     3.675000   3.700000\n",
       "   50%     3.950000   3.900000\n",
       "   75%     4.325000   4.300000\n",
       "   max     5.000000   4.900000"
      ]
     },
     "metadata": {},
     "execution_count": 11
    }
   ],
   "metadata": {}
  },
  {
   "cell_type": "markdown",
   "source": [
    "### Représentation graphique"
   ],
   "metadata": {}
  },
  {
   "cell_type": "markdown",
   "source": [
    "Nous allons mettre en forme les données pour faire plus facilement nos analyses et graphes dans la suite. Pour cela, nous devons créer une variable contenant l'ensemble des temps et une contenant la valeur de glycémie. La méthode melt permet de transformer un DataFrame en un nouveau avec des colonnes d'identifiants choisies. Toutes les autres colonnes seront combinées en 2 colonnes : variable et value."
   ],
   "metadata": {}
  },
  {
   "cell_type": "code",
   "execution_count": 15,
   "source": [
    "df_melted = glycemie.melt(id_vars=[\"id\", \"groupe\"])\n",
    "df_melted"
   ],
   "outputs": [
    {
     "output_type": "execute_result",
     "data": {
      "text/html": [
       "<div>\n",
       "<style scoped>\n",
       "    .dataframe tbody tr th:only-of-type {\n",
       "        vertical-align: middle;\n",
       "    }\n",
       "\n",
       "    .dataframe tbody tr th {\n",
       "        vertical-align: top;\n",
       "    }\n",
       "\n",
       "    .dataframe thead th {\n",
       "        text-align: right;\n",
       "    }\n",
       "</style>\n",
       "<table border=\"1\" class=\"dataframe\">\n",
       "  <thead>\n",
       "    <tr style=\"text-align: right;\">\n",
       "      <th></th>\n",
       "      <th>id</th>\n",
       "      <th>groupe</th>\n",
       "      <th>variable</th>\n",
       "      <th>value</th>\n",
       "    </tr>\n",
       "  </thead>\n",
       "  <tbody>\n",
       "    <tr>\n",
       "      <th>0</th>\n",
       "      <td>1</td>\n",
       "      <td>control</td>\n",
       "      <td>t0</td>\n",
       "      <td>4.3</td>\n",
       "    </tr>\n",
       "    <tr>\n",
       "      <th>1</th>\n",
       "      <td>2</td>\n",
       "      <td>control</td>\n",
       "      <td>t0</td>\n",
       "      <td>3.7</td>\n",
       "    </tr>\n",
       "    <tr>\n",
       "      <th>2</th>\n",
       "      <td>3</td>\n",
       "      <td>control</td>\n",
       "      <td>t0</td>\n",
       "      <td>4.0</td>\n",
       "    </tr>\n",
       "    <tr>\n",
       "      <th>3</th>\n",
       "      <td>4</td>\n",
       "      <td>control</td>\n",
       "      <td>t0</td>\n",
       "      <td>3.6</td>\n",
       "    </tr>\n",
       "    <tr>\n",
       "      <th>4</th>\n",
       "      <td>5</td>\n",
       "      <td>control</td>\n",
       "      <td>t0</td>\n",
       "      <td>4.1</td>\n",
       "    </tr>\n",
       "    <tr>\n",
       "      <th>...</th>\n",
       "      <td>...</td>\n",
       "      <td>...</td>\n",
       "      <td>...</td>\n",
       "      <td>...</td>\n",
       "    </tr>\n",
       "    <tr>\n",
       "      <th>259</th>\n",
       "      <td>29</td>\n",
       "      <td>obese</td>\n",
       "      <td>t7</td>\n",
       "      <td>3.9</td>\n",
       "    </tr>\n",
       "    <tr>\n",
       "      <th>260</th>\n",
       "      <td>30</td>\n",
       "      <td>obese</td>\n",
       "      <td>t7</td>\n",
       "      <td>4.8</td>\n",
       "    </tr>\n",
       "    <tr>\n",
       "      <th>261</th>\n",
       "      <td>31</td>\n",
       "      <td>obese</td>\n",
       "      <td>t7</td>\n",
       "      <td>3.5</td>\n",
       "    </tr>\n",
       "    <tr>\n",
       "      <th>262</th>\n",
       "      <td>32</td>\n",
       "      <td>obese</td>\n",
       "      <td>t7</td>\n",
       "      <td>3.3</td>\n",
       "    </tr>\n",
       "    <tr>\n",
       "      <th>263</th>\n",
       "      <td>33</td>\n",
       "      <td>obese</td>\n",
       "      <td>t7</td>\n",
       "      <td>3.8</td>\n",
       "    </tr>\n",
       "  </tbody>\n",
       "</table>\n",
       "<p>264 rows × 4 columns</p>\n",
       "</div>"
      ],
      "text/plain": [
       "     id   groupe variable  value\n",
       "0     1  control       t0    4.3\n",
       "1     2  control       t0    3.7\n",
       "2     3  control       t0    4.0\n",
       "3     4  control       t0    3.6\n",
       "4     5  control       t0    4.1\n",
       "..   ..      ...      ...    ...\n",
       "259  29    obese       t7    3.9\n",
       "260  30    obese       t7    4.8\n",
       "261  31    obese       t7    3.5\n",
       "262  32    obese       t7    3.3\n",
       "263  33    obese       t7    3.8\n",
       "\n",
       "[264 rows x 4 columns]"
      ]
     },
     "metadata": {},
     "execution_count": 15
    }
   ],
   "metadata": {}
  },
  {
   "cell_type": "code",
   "execution_count": 17,
   "source": [
    "dict_temps = {\"t0\": 0, \"t1\": 0.5, \"t2\": 1, \"t3\": 1.5, \"t4\": 2, \"t5\": 3, \"t6\": 4, \"t7\": 5}\n",
    "df_melted[\"time\"] = df_melted[\"variable\"]\n",
    "df_melted[\"time\"].replace(dict_temps, inplace=True)\n",
    "df_melted.sort_values([\"id\", \"time\"], inplace=True)\n",
    "df_melted"
   ],
   "outputs": [
    {
     "output_type": "execute_result",
     "data": {
      "text/html": [
       "<div>\n",
       "<style scoped>\n",
       "    .dataframe tbody tr th:only-of-type {\n",
       "        vertical-align: middle;\n",
       "    }\n",
       "\n",
       "    .dataframe tbody tr th {\n",
       "        vertical-align: top;\n",
       "    }\n",
       "\n",
       "    .dataframe thead th {\n",
       "        text-align: right;\n",
       "    }\n",
       "</style>\n",
       "<table border=\"1\" class=\"dataframe\">\n",
       "  <thead>\n",
       "    <tr style=\"text-align: right;\">\n",
       "      <th></th>\n",
       "      <th>id</th>\n",
       "      <th>groupe</th>\n",
       "      <th>variable</th>\n",
       "      <th>value</th>\n",
       "      <th>time</th>\n",
       "    </tr>\n",
       "  </thead>\n",
       "  <tbody>\n",
       "    <tr>\n",
       "      <th>0</th>\n",
       "      <td>1</td>\n",
       "      <td>control</td>\n",
       "      <td>t0</td>\n",
       "      <td>4.3</td>\n",
       "      <td>0.0</td>\n",
       "    </tr>\n",
       "    <tr>\n",
       "      <th>33</th>\n",
       "      <td>1</td>\n",
       "      <td>control</td>\n",
       "      <td>t1</td>\n",
       "      <td>3.3</td>\n",
       "      <td>0.5</td>\n",
       "    </tr>\n",
       "    <tr>\n",
       "      <th>66</th>\n",
       "      <td>1</td>\n",
       "      <td>control</td>\n",
       "      <td>t2</td>\n",
       "      <td>3.0</td>\n",
       "      <td>1.0</td>\n",
       "    </tr>\n",
       "    <tr>\n",
       "      <th>99</th>\n",
       "      <td>1</td>\n",
       "      <td>control</td>\n",
       "      <td>t3</td>\n",
       "      <td>2.6</td>\n",
       "      <td>1.5</td>\n",
       "    </tr>\n",
       "    <tr>\n",
       "      <th>132</th>\n",
       "      <td>1</td>\n",
       "      <td>control</td>\n",
       "      <td>t4</td>\n",
       "      <td>2.2</td>\n",
       "      <td>2.0</td>\n",
       "    </tr>\n",
       "    <tr>\n",
       "      <th>...</th>\n",
       "      <td>...</td>\n",
       "      <td>...</td>\n",
       "      <td>...</td>\n",
       "      <td>...</td>\n",
       "      <td>...</td>\n",
       "    </tr>\n",
       "    <tr>\n",
       "      <th>107</th>\n",
       "      <td>9</td>\n",
       "      <td>control</td>\n",
       "      <td>t3</td>\n",
       "      <td>3.4</td>\n",
       "      <td>1.5</td>\n",
       "    </tr>\n",
       "    <tr>\n",
       "      <th>140</th>\n",
       "      <td>9</td>\n",
       "      <td>control</td>\n",
       "      <td>t4</td>\n",
       "      <td>3.3</td>\n",
       "      <td>2.0</td>\n",
       "    </tr>\n",
       "    <tr>\n",
       "      <th>173</th>\n",
       "      <td>9</td>\n",
       "      <td>control</td>\n",
       "      <td>t5</td>\n",
       "      <td>3.6</td>\n",
       "      <td>3.0</td>\n",
       "    </tr>\n",
       "    <tr>\n",
       "      <th>206</th>\n",
       "      <td>9</td>\n",
       "      <td>control</td>\n",
       "      <td>t6</td>\n",
       "      <td>4.0</td>\n",
       "      <td>4.0</td>\n",
       "    </tr>\n",
       "    <tr>\n",
       "      <th>239</th>\n",
       "      <td>9</td>\n",
       "      <td>control</td>\n",
       "      <td>t7</td>\n",
       "      <td>4.3</td>\n",
       "      <td>5.0</td>\n",
       "    </tr>\n",
       "  </tbody>\n",
       "</table>\n",
       "<p>264 rows × 5 columns</p>\n",
       "</div>"
      ],
      "text/plain": [
       "    id   groupe variable  value  time\n",
       "0    1  control       t0    4.3   0.0\n",
       "33   1  control       t1    3.3   0.5\n",
       "66   1  control       t2    3.0   1.0\n",
       "99   1  control       t3    2.6   1.5\n",
       "132  1  control       t4    2.2   2.0\n",
       "..  ..      ...      ...    ...   ...\n",
       "107  9  control       t3    3.4   1.5\n",
       "140  9  control       t4    3.3   2.0\n",
       "173  9  control       t5    3.6   3.0\n",
       "206  9  control       t6    4.0   4.0\n",
       "239  9  control       t7    4.3   5.0\n",
       "\n",
       "[264 rows x 5 columns]"
      ]
     },
     "metadata": {},
     "execution_count": 17
    }
   ],
   "metadata": {}
  },
  {
   "cell_type": "code",
   "execution_count": 21,
   "source": [
    "sns.lineplot(data=df_melted, x=\"time\", y=\"value\", units=\"id\", hue=\"groupe\", style=\"groupe\", estimator=None)\n",
    "plt.show()"
   ],
   "outputs": [
    {
     "output_type": "display_data",
     "data": {
      "image/png": "[encoded data removed]",
      "text/plain": [
       "<Figure size 864x576 with 1 Axes>"
      ]
     },
     "metadata": {
      "needs_background": "light"
     }
    }
   ],
   "metadata": {}
  },
  {
   "cell_type": "markdown",
   "source": [
    "### Comparaison des deux groupes par l'évolution moyenne de la glycémie"
   ],
   "metadata": {}
  },
  {
   "cell_type": "code",
   "execution_count": 22,
   "source": [
    "sns.lineplot(data=df_melted, x=\"time\", y=\"value\", hue=\"groupe\", estimator=\"mean\", ci=95)\n",
    "plt.show()"
   ],
   "outputs": [
    {
     "output_type": "display_data",
     "data": {
      "image/png": "[encoded data removed]",
      "text/plain": [
       "<Figure size 864x576 with 1 Axes>"
      ]
     },
     "metadata": {
      "needs_background": "light"
     }
    }
   ],
   "metadata": {}
  },
  {
   "cell_type": "code",
   "execution_count": 26,
   "source": [
    "sns.boxplot(data=df_melted, x=\"time\", y=\"value\", hue=\"groupe\", order=np.arange(0, 5.1, 0.5))\n",
    "plt.show()"
   ],
   "outputs": [
    {
     "output_type": "display_data",
     "data": {
      "image/png": "[encoded data removed]",
      "text/plain": [
       "<Figure size 864x576 with 1 Axes>"
      ]
     },
     "metadata": {
      "needs_background": "light"
     }
    }
   ],
   "metadata": {}
  },
  {
   "cell_type": "markdown",
   "source": [
    "### Les premiers tests statistiques pour comparer les groupes"
   ],
   "metadata": {}
  },
  {
   "cell_type": "markdown",
   "source": [
    "Nous comparons l'effet moyen de chaque groupe pour chaque instant de temps. On effectue d'abord un test de Shapiro (`shapiro`) pour tester la normalité des données puis un test de Student (`ttest_ind`) ou un test de Wilcoxon (`ranksums`) selon le résultat du test de Shapiro."
   ],
   "metadata": {}
  },
  {
   "cell_type": "code",
   "execution_count": 29,
   "source": [
    "pval = np.zeros(8)\n",
    "\n",
    "for i in range(8):\n",
    "    var = \"t\" + str(i)\n",
    "    shap_control = shapiro(glycemie[var][glycemie[\"groupe\"] == \"control\"])\n",
    "    shap_obese = shapiro(glycemie[var][glycemie[\"groupe\"] == \"obese\"])\n",
    "\n",
    "    if (shap_control.pvalue > 0.05) & (shap_obese.pvalue > 0.05):\n",
    "        pval[i] = ttest_ind(glycemie[var][glycemie[\"groupe\"] == \"control\"], glycemie[var][glycemie[\"groupe\"] == \"obese\"]).pvalue\n",
    "    else:\n",
    "        pval[i] = ranksums(glycemie[var][glycemie[\"groupe\"] == \"control\"], glycemie[var][glycemie[\"groupe\"] == \"obese\"]).pvalue"
   ],
   "outputs": [],
   "metadata": {}
  },
  {
   "cell_type": "code",
   "execution_count": 32,
   "source": [
    "pval"
   ],
   "outputs": [
    {
     "output_type": "execute_result",
     "data": {
      "text/plain": [
       "array([3.46711090e-02, 1.40254157e-02, 4.95542967e-05, 1.16304398e-04,\n",
       "       1.76977738e-01, 5.19180773e-01, 5.14157990e-01, 7.63550232e-01])"
      ]
     },
     "metadata": {},
     "execution_count": 32
    }
   ],
   "metadata": {}
  },
  {
   "cell_type": "code",
   "execution_count": 36,
   "source": [
    "pval < 0.05"
   ],
   "outputs": [
    {
     "output_type": "execute_result",
     "data": {
      "text/plain": [
       "array([ True,  True,  True,  True, False, False, False, False])"
      ]
     },
     "metadata": {},
     "execution_count": 36
    }
   ],
   "metadata": {}
  },
  {
   "cell_type": "markdown",
   "source": [
    "L'hypothèse d'égalité des moyennes est rejetée pour les 4 premiers temps."
   ],
   "metadata": {}
  },
  {
   "cell_type": "markdown",
   "source": [
    "Au vu des résultats numériques (et graphiques) il y a donc des différences significatives entre les deux groupes. Allons plus en détail."
   ],
   "metadata": {}
  },
  {
   "cell_type": "markdown",
   "source": [
    "### Un modèle de régression quadratique \n",
    "\n",
    "L'évolution de la glycémie en fonction du temps semble une fonction quadratique, c’est à dire une courbe (parabole) en \"U\" :\n",
    "\n",
    "y(t) = a + bt + ct^2 + ε\n",
    "\n",
    "avec a, b et c des coefficients et ε une erreur aléatoire."
   ],
   "metadata": {}
  },
  {
   "cell_type": "markdown",
   "source": [
    "Estimons un modèle de régression quadratique pour chaque groupe séparément. La variable explicative est donc le temps."
   ],
   "metadata": {}
  },
  {
   "cell_type": "markdown",
   "source": [
    "Dans l'API de statsmodels avec des formules, les fonctions ont le même nom que dans l'API classique mais écrit en minuscule."
   ],
   "metadata": {}
  },
  {
   "cell_type": "code",
   "execution_count": 40,
   "source": [
    "mod_control = smf.ols(\"value ~ time + np.power(time, 2)\", data=df_melted[df_melted[\"groupe\"] == \"control\"])\n",
    "res_control = mod_control.fit()\n",
    "res_control.summary()"
   ],
   "outputs": [
    {
     "output_type": "execute_result",
     "data": {
      "text/html": [
       "<table class=\"simpletable\">\n",
       "<caption>OLS Regression Results</caption>\n",
       "<tr>\n",
       "  <th>Dep. Variable:</th>          <td>value</td>      <th>  R-squared:         </th> <td>   0.277</td>\n",
       "</tr>\n",
       "<tr>\n",
       "  <th>Model:</th>                   <td>OLS</td>       <th>  Adj. R-squared:    </th> <td>   0.268</td>\n",
       "</tr>\n",
       "<tr>\n",
       "  <th>Method:</th>             <td>Least Squares</td>  <th>  F-statistic:       </th> <td>   30.14</td>\n",
       "</tr>\n",
       "<tr>\n",
       "  <th>Date:</th>             <td>Sun, 05 Sep 2021</td> <th>  Prob (F-statistic):</th> <td>8.38e-12</td>\n",
       "</tr>\n",
       "<tr>\n",
       "  <th>Time:</th>                 <td>16:39:07</td>     <th>  Log-Likelihood:    </th> <td> -157.21</td>\n",
       "</tr>\n",
       "<tr>\n",
       "  <th>No. Observations:</th>      <td>   160</td>      <th>  AIC:               </th> <td>   320.4</td>\n",
       "</tr>\n",
       "<tr>\n",
       "  <th>Df Residuals:</th>          <td>   157</td>      <th>  BIC:               </th> <td>   329.6</td>\n",
       "</tr>\n",
       "<tr>\n",
       "  <th>Df Model:</th>              <td>     2</td>      <th>                     </th>     <td> </td>   \n",
       "</tr>\n",
       "<tr>\n",
       "  <th>Covariance Type:</th>      <td>nonrobust</td>    <th>                     </th>     <td> </td>   \n",
       "</tr>\n",
       "</table>\n",
       "<table class=\"simpletable\">\n",
       "<tr>\n",
       "          <td></td>             <th>coef</th>     <th>std err</th>      <th>t</th>      <th>P>|t|</th>  <th>[0.025</th>    <th>0.975]</th>  \n",
       "</tr>\n",
       "<tr>\n",
       "  <th>Intercept</th>         <td>    3.8811</td> <td>    0.114</td> <td>   34.114</td> <td> 0.000</td> <td>    3.656</td> <td>    4.106</td>\n",
       "</tr>\n",
       "<tr>\n",
       "  <th>time</th>              <td>   -0.8051</td> <td>    0.116</td> <td>   -6.926</td> <td> 0.000</td> <td>   -1.035</td> <td>   -0.576</td>\n",
       "</tr>\n",
       "<tr>\n",
       "  <th>np.power(time, 2)</th> <td>    0.1714</td> <td>    0.022</td> <td>    7.618</td> <td> 0.000</td> <td>    0.127</td> <td>    0.216</td>\n",
       "</tr>\n",
       "</table>\n",
       "<table class=\"simpletable\">\n",
       "<tr>\n",
       "  <th>Omnibus:</th>       <td> 2.181</td> <th>  Durbin-Watson:     </th> <td>   0.870</td>\n",
       "</tr>\n",
       "<tr>\n",
       "  <th>Prob(Omnibus):</th> <td> 0.336</td> <th>  Jarque-Bera (JB):  </th> <td>   1.640</td>\n",
       "</tr>\n",
       "<tr>\n",
       "  <th>Skew:</th>          <td> 0.027</td> <th>  Prob(JB):          </th> <td>   0.440</td>\n",
       "</tr>\n",
       "<tr>\n",
       "  <th>Kurtosis:</th>      <td> 2.507</td> <th>  Cond. No.          </th> <td>    34.4</td>\n",
       "</tr>\n",
       "</table><br/><br/>Notes:<br/>[1] Standard Errors assume that the covariance matrix of the errors is correctly specified."
      ],
      "text/plain": [
       "<class 'statsmodels.iolib.summary.Summary'>\n",
       "\"\"\"\n",
       "                            OLS Regression Results                            \n",
       "==============================================================================\n",
       "Dep. Variable:                  value   R-squared:                       0.277\n",
       "Model:                            OLS   Adj. R-squared:                  0.268\n",
       "Method:                 Least Squares   F-statistic:                     30.14\n",
       "Date:                Sun, 05 Sep 2021   Prob (F-statistic):           8.38e-12\n",
       "Time:                        16:39:07   Log-Likelihood:                -157.21\n",
       "No. Observations:                 160   AIC:                             320.4\n",
       "Df Residuals:                     157   BIC:                             329.6\n",
       "Df Model:                           2                                         \n",
       "Covariance Type:            nonrobust                                         \n",
       "=====================================================================================\n",
       "                        coef    std err          t      P>|t|      [0.025      0.975]\n",
       "-------------------------------------------------------------------------------------\n",
       "Intercept             3.8811      0.114     34.114      0.000       3.656       4.106\n",
       "time                 -0.8051      0.116     -6.926      0.000      -1.035      -0.576\n",
       "np.power(time, 2)     0.1714      0.022      7.618      0.000       0.127       0.216\n",
       "==============================================================================\n",
       "Omnibus:                        2.181   Durbin-Watson:                   0.870\n",
       "Prob(Omnibus):                  0.336   Jarque-Bera (JB):                1.640\n",
       "Skew:                           0.027   Prob(JB):                        0.440\n",
       "Kurtosis:                       2.507   Cond. No.                         34.4\n",
       "==============================================================================\n",
       "\n",
       "Notes:\n",
       "[1] Standard Errors assume that the covariance matrix of the errors is correctly specified.\n",
       "\"\"\""
      ]
     },
     "metadata": {},
     "execution_count": 40
    }
   ],
   "metadata": {}
  },
  {
   "cell_type": "markdown",
   "source": [
    "Nous testons la normalité des résidus avec le test de Shapiro."
   ],
   "metadata": {}
  },
  {
   "cell_type": "code",
   "execution_count": 43,
   "source": [
    "shapiro(res_control.resid)"
   ],
   "outputs": [
    {
     "output_type": "execute_result",
     "data": {
      "text/plain": [
       "ShapiroResult(statistic=0.9921519160270691, pvalue=0.5321125984191895)"
      ]
     },
     "metadata": {},
     "execution_count": 43
    }
   ],
   "metadata": {}
  },
  {
   "cell_type": "markdown",
   "source": [
    "La p-valeur est > 0.05, on ne rejette donc pas l'hypothèse nulle de normalité des résidus."
   ],
   "metadata": {}
  },
  {
   "cell_type": "markdown",
   "source": [
    "Nous testons l'homoscédasticité des résidus avec le test de Breusch-Pagan."
   ],
   "metadata": {}
  },
  {
   "cell_type": "code",
   "execution_count": 47,
   "source": [
    "sm.stats.het_breuschpagan(res_control.resid, res_control.model.exog)"
   ],
   "outputs": [
    {
     "output_type": "execute_result",
     "data": {
      "text/plain": [
       "(0.5068825072007854, 0.7761253381551653, 0.2494795853310602, 0.779514499414012)"
      ]
     },
     "metadata": {},
     "execution_count": 47
    }
   ],
   "metadata": {}
  },
  {
   "cell_type": "markdown",
   "source": [
    "La fonction effectue 2 tests. Le 1er correspond à celui fait en R. Le 1er élément est la statistique de test, le 2ème la p-valeur. Ici on ne rejette pas l'hypothèse nulle d'homoscédasticité des résidus."
   ],
   "metadata": {}
  },
  {
   "cell_type": "markdown",
   "source": [
    "Nous testons l'autocorrélation des résidus avec le test de Durbin-Watson. Dans statsmodels, il existe une fonction pour calculer la statistique de test mais pas la p-valeur, nous créons donc cette fonction."
   ],
   "metadata": {}
  },
  {
   "cell_type": "code",
   "execution_count": 51,
   "source": [
    "def dw_test(X, residuals):\n",
    "    \"\"\" Test de Durbin-Watson\n",
    "\n",
    "    Parameters\n",
    "    ----------\n",
    "    X : array-like\n",
    "        Matrice de design de la régression\n",
    "    residuals : array-like\n",
    "        Vecteur des résidus de la régression\n",
    "\n",
    "    Returns\n",
    "    -------\n",
    "    tuple\n",
    "        Statistique de test, p-valeur\n",
    "    \"\"\"\n",
    "    dw = np.sum(np.square(np.diff(residuals)))/np.sum(np.square(residuals))\n",
    "    n, k = X.shape\n",
    "    AX = X[:-2, ] * -1 + X[1:-1, ] * 2 + X[2:, ] * -1\n",
    "    AX = np.vstack((X[0, :] - X[1, :], AX, X[-1, :] - X[-2, :]))\n",
    "    _, r = np.linalg.qr(X)\n",
    "    Q1 = np.linalg.inv(np.matmul(r.T, r))\n",
    "    XAXQ = np.matmul(np.matmul(X.T, AX), Q1)\n",
    "    P = 2 * (n - 1) - XAXQ.trace()\n",
    "    Q = 2 * (3 * n - 4) - 2 * np.matmul(np.matmul(AX.T, AX), Q1).trace() + np.matmul(XAXQ, XAXQ).trace()\n",
    "    dmean = P/(n - k)\n",
    "    dvar = 2/((n - k) * (n - k + 2)) * (Q - P * dmean)\n",
    "    pval = norm.cdf(dw, dmean, np.sqrt(dvar))\n",
    "\n",
    "    return dw, pval"
   ],
   "outputs": [],
   "metadata": {}
  },
  {
   "cell_type": "markdown",
   "source": [
    "On crée la matrice X qui contient une colonne de 1, le temps et le temps au carré (matrice de design de notre régression)."
   ],
   "metadata": {}
  },
  {
   "cell_type": "code",
   "execution_count": 55,
   "source": [
    "X = np.stack((np.ones(len(df_melted[df_melted[\"groupe\"] == \"control\"])),\n",
    "              df_melted[df_melted[\"groupe\"] == \"control\"][\"time\"],\n",
    "              df_melted[df_melted[\"groupe\"] == \"control\"][\"time\"] ** 2), axis=1)"
   ],
   "outputs": [],
   "metadata": {}
  },
  {
   "cell_type": "code",
   "execution_count": 58,
   "source": [
    "dw_test(X, res_control.resid)"
   ],
   "outputs": [
    {
     "output_type": "execute_result",
     "data": {
      "text/plain": [
       "(0.8700764537276818, 2.258372712745064e-13)"
      ]
     },
     "metadata": {},
     "execution_count": 58
    }
   ],
   "metadata": {}
  },
  {
   "cell_type": "markdown",
   "source": [
    "La p-valeur est inférieure à 0.05, on rejette l'hypothèse nulle de non autocorrélation. On a donc un problème d’autocorrélation des résidus! Corrélation due au temps!"
   ],
   "metadata": {}
  },
  {
   "cell_type": "markdown",
   "source": [
    "On peut faire le même travail avec le groupe obèse."
   ],
   "metadata": {}
  },
  {
   "cell_type": "code",
   "execution_count": 62,
   "source": [
    "mod_obese = smf.ols(\"value ~ time + np.power(time, 2)\", data=df_melted[df_melted[\"groupe\"] == \"obese\"])\n",
    "res_obese = mod_obese.fit()\n",
    "res_obese.summary()"
   ],
   "outputs": [
    {
     "output_type": "execute_result",
     "data": {
      "text/html": [
       "<table class=\"simpletable\">\n",
       "<caption>OLS Regression Results</caption>\n",
       "<tr>\n",
       "  <th>Dep. Variable:</th>          <td>value</td>      <th>  R-squared:         </th> <td>   0.243</td>\n",
       "</tr>\n",
       "<tr>\n",
       "  <th>Model:</th>                   <td>OLS</td>       <th>  Adj. R-squared:    </th> <td>   0.228</td>\n",
       "</tr>\n",
       "<tr>\n",
       "  <th>Method:</th>             <td>Least Squares</td>  <th>  F-statistic:       </th> <td>   16.20</td>\n",
       "</tr>\n",
       "<tr>\n",
       "  <th>Date:</th>             <td>Sun, 05 Sep 2021</td> <th>  Prob (F-statistic):</th> <td>7.89e-07</td>\n",
       "</tr>\n",
       "<tr>\n",
       "  <th>Time:</th>                 <td>16:39:08</td>     <th>  Log-Likelihood:    </th> <td> -110.55</td>\n",
       "</tr>\n",
       "<tr>\n",
       "  <th>No. Observations:</th>      <td>   104</td>      <th>  AIC:               </th> <td>   227.1</td>\n",
       "</tr>\n",
       "<tr>\n",
       "  <th>Df Residuals:</th>          <td>   101</td>      <th>  BIC:               </th> <td>   235.0</td>\n",
       "</tr>\n",
       "<tr>\n",
       "  <th>Df Model:</th>              <td>     2</td>      <th>                     </th>     <td> </td>   \n",
       "</tr>\n",
       "<tr>\n",
       "  <th>Covariance Type:</th>      <td>nonrobust</td>    <th>                     </th>     <td> </td>   \n",
       "</tr>\n",
       "</table>\n",
       "<table class=\"simpletable\">\n",
       "<tr>\n",
       "          <td></td>             <th>coef</th>     <th>std err</th>      <th>t</th>      <th>P>|t|</th>  <th>[0.025</th>    <th>0.975]</th>  \n",
       "</tr>\n",
       "<tr>\n",
       "  <th>Intercept</th>         <td>    4.6562</td> <td>    0.154</td> <td>   30.288</td> <td> 0.000</td> <td>    4.351</td> <td>    4.961</td>\n",
       "</tr>\n",
       "<tr>\n",
       "  <th>time</th>              <td>   -0.8712</td> <td>    0.157</td> <td>   -5.547</td> <td> 0.000</td> <td>   -1.183</td> <td>   -0.560</td>\n",
       "</tr>\n",
       "<tr>\n",
       "  <th>np.power(time, 2)</th> <td>    0.1517</td> <td>    0.030</td> <td>    4.991</td> <td> 0.000</td> <td>    0.091</td> <td>    0.212</td>\n",
       "</tr>\n",
       "</table>\n",
       "<table class=\"simpletable\">\n",
       "<tr>\n",
       "  <th>Omnibus:</th>       <td> 2.125</td> <th>  Durbin-Watson:     </th> <td>   0.533</td>\n",
       "</tr>\n",
       "<tr>\n",
       "  <th>Prob(Omnibus):</th> <td> 0.346</td> <th>  Jarque-Bera (JB):  </th> <td>   1.542</td>\n",
       "</tr>\n",
       "<tr>\n",
       "  <th>Skew:</th>          <td>-0.220</td> <th>  Prob(JB):          </th> <td>   0.463</td>\n",
       "</tr>\n",
       "<tr>\n",
       "  <th>Kurtosis:</th>      <td> 3.402</td> <th>  Cond. No.          </th> <td>    34.4</td>\n",
       "</tr>\n",
       "</table><br/><br/>Notes:<br/>[1] Standard Errors assume that the covariance matrix of the errors is correctly specified."
      ],
      "text/plain": [
       "<class 'statsmodels.iolib.summary.Summary'>\n",
       "\"\"\"\n",
       "                            OLS Regression Results                            \n",
       "==============================================================================\n",
       "Dep. Variable:                  value   R-squared:                       0.243\n",
       "Model:                            OLS   Adj. R-squared:                  0.228\n",
       "Method:                 Least Squares   F-statistic:                     16.20\n",
       "Date:                Sun, 05 Sep 2021   Prob (F-statistic):           7.89e-07\n",
       "Time:                        16:39:08   Log-Likelihood:                -110.55\n",
       "No. Observations:                 104   AIC:                             227.1\n",
       "Df Residuals:                     101   BIC:                             235.0\n",
       "Df Model:                           2                                         \n",
       "Covariance Type:            nonrobust                                         \n",
       "=====================================================================================\n",
       "                        coef    std err          t      P>|t|      [0.025      0.975]\n",
       "-------------------------------------------------------------------------------------\n",
       "Intercept             4.6562      0.154     30.288      0.000       4.351       4.961\n",
       "time                 -0.8712      0.157     -5.547      0.000      -1.183      -0.560\n",
       "np.power(time, 2)     0.1517      0.030      4.991      0.000       0.091       0.212\n",
       "==============================================================================\n",
       "Omnibus:                        2.125   Durbin-Watson:                   0.533\n",
       "Prob(Omnibus):                  0.346   Jarque-Bera (JB):                1.542\n",
       "Skew:                          -0.220   Prob(JB):                        0.463\n",
       "Kurtosis:                       3.402   Cond. No.                         34.4\n",
       "==============================================================================\n",
       "\n",
       "Notes:\n",
       "[1] Standard Errors assume that the covariance matrix of the errors is correctly specified.\n",
       "\"\"\""
      ]
     },
     "metadata": {},
     "execution_count": 62
    }
   ],
   "metadata": {}
  },
  {
   "cell_type": "code",
   "execution_count": 66,
   "source": [
    "shapiro(res_obese.resid)"
   ],
   "outputs": [
    {
     "output_type": "execute_result",
     "data": {
      "text/plain": [
       "ShapiroResult(statistic=0.9781585931777954, pvalue=0.08322624117136002)"
      ]
     },
     "metadata": {},
     "execution_count": 66
    }
   ],
   "metadata": {}
  },
  {
   "cell_type": "code",
   "execution_count": 71,
   "source": [
    "sm.stats.het_breuschpagan(res_obese.resid, res_obese.model.exog)"
   ],
   "outputs": [
    {
     "output_type": "execute_result",
     "data": {
      "text/plain": [
       "(2.9578583310329707,\n",
       " 0.22788158123141172,\n",
       " 1.4783123481936398,\n",
       " 0.23291356351270606)"
      ]
     },
     "metadata": {},
     "execution_count": 71
    }
   ],
   "metadata": {}
  },
  {
   "cell_type": "code",
   "execution_count": 75,
   "source": [
    "X = np.stack((np.ones(len(df_melted[df_melted[\"groupe\"] == \"obese\"])),\n",
    "              df_melted[df_melted[\"groupe\"] == \"obese\"][\"time\"],\n",
    "              df_melted[df_melted[\"groupe\"] == \"obese\"][\"time\"] ** 2), axis=1)\n",
    "dw_test(X, res_obese.resid)"
   ],
   "outputs": [
    {
     "output_type": "execute_result",
     "data": {
      "text/plain": [
       "(0.5326766146928679, 1.4091209326309271e-14)"
      ]
     },
     "metadata": {},
     "execution_count": 75
    }
   ],
   "metadata": {}
  },
  {
   "cell_type": "markdown",
   "source": [
    "Traçons les deux fonctions de régression sur le même graphique."
   ],
   "metadata": {}
  },
  {
   "cell_type": "code",
   "execution_count": 79,
   "source": [
    "pred_control = res_control.predict(pd.DataFrame({\"time\": list(dict_temps.values())}))\n",
    "pred_obese = res_obese.predict(pd.DataFrame({\"time\": list(dict_temps.values())}))"
   ],
   "outputs": [],
   "metadata": {}
  },
  {
   "cell_type": "code",
   "execution_count": 85,
   "source": [
    "pred_control"
   ],
   "outputs": [
    {
     "output_type": "execute_result",
     "data": {
      "text/plain": [
       "0    3.881115\n",
       "1    3.521394\n",
       "2    3.247353\n",
       "3    3.058992\n",
       "4    2.956309\n",
       "5    3.007982\n",
       "6    3.402373\n",
       "7    4.139481\n",
       "dtype: float64"
      ]
     },
     "metadata": {},
     "execution_count": 85
    }
   ],
   "metadata": {}
  },
  {
   "cell_type": "code",
   "execution_count": 90,
   "source": [
    "ax = sns.lineplot(x=list(dict_temps.values()), y=pred_control, label=\"control\")\n",
    "sns.lineplot(x=list(dict_temps.values()), y=pred_obese, label=\"obese\", ax=ax)\n",
    "ax.set_xlabel(\"Time\")\n",
    "ax.set_ylabel(\"Fonction de régression\")\n",
    "ax.set_title(\"Fonction de régression pour les deux groupes\")\n",
    "ax.legend()\n",
    "plt.show()"
   ],
   "outputs": [
    {
     "output_type": "display_data",
     "data": {
      "image/png": "[encoded data removed]",
      "text/plain": [
       "<Figure size 864x576 with 1 Axes>"
      ]
     },
     "metadata": {
      "needs_background": "light"
     }
    }
   ],
   "metadata": {}
  },
  {
   "cell_type": "markdown",
   "source": [
    "Comparaison des fonctions de régression :"
   ],
   "metadata": {}
  },
  {
   "cell_type": "code",
   "execution_count": 94,
   "source": [
    "res_control.params"
   ],
   "outputs": [
    {
     "output_type": "execute_result",
     "data": {
      "text/plain": [
       "Intercept            3.881115\n",
       "time                -0.805120\n",
       "np.power(time, 2)    0.171359\n",
       "dtype: float64"
      ]
     },
     "metadata": {},
     "execution_count": 94
    }
   ],
   "metadata": {}
  },
  {
   "cell_type": "code",
   "execution_count": 98,
   "source": [
    "res_obese.params"
   ],
   "outputs": [
    {
     "output_type": "execute_result",
     "data": {
      "text/plain": [
       "Intercept            4.656199\n",
       "time                -0.871185\n",
       "np.power(time, 2)    0.151689\n",
       "dtype: float64"
      ]
     },
     "metadata": {},
     "execution_count": 98
    }
   ],
   "metadata": {}
  },
  {
   "cell_type": "markdown",
   "source": [
    "On teste un autre modèle en y incorporant la variable groupe."
   ],
   "metadata": {}
  },
  {
   "cell_type": "code",
   "execution_count": 103,
   "source": [
    "mod = smf.ols(\"value ~ groupe * (time + np.power(time, 2))\", data=df_melted)\n",
    "res = mod.fit()\n",
    "res.summary()"
   ],
   "outputs": [
    {
     "output_type": "execute_result",
     "data": {
      "text/html": [
       "<table class=\"simpletable\">\n",
       "<caption>OLS Regression Results</caption>\n",
       "<tr>\n",
       "  <th>Dep. Variable:</th>          <td>value</td>      <th>  R-squared:         </th> <td>   0.327</td>\n",
       "</tr>\n",
       "<tr>\n",
       "  <th>Model:</th>                   <td>OLS</td>       <th>  Adj. R-squared:    </th> <td>   0.314</td>\n",
       "</tr>\n",
       "<tr>\n",
       "  <th>Method:</th>             <td>Least Squares</td>  <th>  F-statistic:       </th> <td>   25.11</td>\n",
       "</tr>\n",
       "<tr>\n",
       "  <th>Date:</th>             <td>Sun, 05 Sep 2021</td> <th>  Prob (F-statistic):</th> <td>1.30e-20</td>\n",
       "</tr>\n",
       "<tr>\n",
       "  <th>Time:</th>                 <td>16:39:09</td>     <th>  Log-Likelihood:    </th> <td> -268.17</td>\n",
       "</tr>\n",
       "<tr>\n",
       "  <th>No. Observations:</th>      <td>   264</td>      <th>  AIC:               </th> <td>   548.3</td>\n",
       "</tr>\n",
       "<tr>\n",
       "  <th>Df Residuals:</th>          <td>   258</td>      <th>  BIC:               </th> <td>   569.8</td>\n",
       "</tr>\n",
       "<tr>\n",
       "  <th>Df Model:</th>              <td>     5</td>      <th>                     </th>     <td> </td>   \n",
       "</tr>\n",
       "<tr>\n",
       "  <th>Covariance Type:</th>      <td>nonrobust</td>    <th>                     </th>     <td> </td>   \n",
       "</tr>\n",
       "</table>\n",
       "<table class=\"simpletable\">\n",
       "<tr>\n",
       "                  <td></td>                     <th>coef</th>     <th>std err</th>      <th>t</th>      <th>P>|t|</th>  <th>[0.025</th>    <th>0.975]</th>  \n",
       "</tr>\n",
       "<tr>\n",
       "  <th>Intercept</th>                         <td>    3.8811</td> <td>    0.118</td> <td>   32.931</td> <td> 0.000</td> <td>    3.649</td> <td>    4.113</td>\n",
       "</tr>\n",
       "<tr>\n",
       "  <th>groupe[T.obese]</th>                   <td>    0.7751</td> <td>    0.188</td> <td>    4.128</td> <td> 0.000</td> <td>    0.405</td> <td>    1.145</td>\n",
       "</tr>\n",
       "<tr>\n",
       "  <th>time</th>                              <td>   -0.8051</td> <td>    0.120</td> <td>   -6.686</td> <td> 0.000</td> <td>   -1.042</td> <td>   -0.568</td>\n",
       "</tr>\n",
       "<tr>\n",
       "  <th>groupe[T.obese]:time</th>              <td>   -0.0661</td> <td>    0.192</td> <td>   -0.344</td> <td> 0.731</td> <td>   -0.444</td> <td>    0.312</td>\n",
       "</tr>\n",
       "<tr>\n",
       "  <th>np.power(time, 2)</th>                 <td>    0.1714</td> <td>    0.023</td> <td>    7.354</td> <td> 0.000</td> <td>    0.125</td> <td>    0.217</td>\n",
       "</tr>\n",
       "<tr>\n",
       "  <th>groupe[T.obese]:np.power(time, 2)</th> <td>   -0.0197</td> <td>    0.037</td> <td>   -0.530</td> <td> 0.597</td> <td>   -0.093</td> <td>    0.053</td>\n",
       "</tr>\n",
       "</table>\n",
       "<table class=\"simpletable\">\n",
       "<tr>\n",
       "  <th>Omnibus:</th>       <td> 0.337</td> <th>  Durbin-Watson:     </th> <td>   0.725</td>\n",
       "</tr>\n",
       "<tr>\n",
       "  <th>Prob(Omnibus):</th> <td> 0.845</td> <th>  Jarque-Bera (JB):  </th> <td>   0.349</td>\n",
       "</tr>\n",
       "<tr>\n",
       "  <th>Skew:</th>          <td>-0.085</td> <th>  Prob(JB):          </th> <td>   0.840</td>\n",
       "</tr>\n",
       "<tr>\n",
       "  <th>Kurtosis:</th>      <td> 2.949</td> <th>  Cond. No.          </th> <td>    84.1</td>\n",
       "</tr>\n",
       "</table><br/><br/>Notes:<br/>[1] Standard Errors assume that the covariance matrix of the errors is correctly specified."
      ],
      "text/plain": [
       "<class 'statsmodels.iolib.summary.Summary'>\n",
       "\"\"\"\n",
       "                            OLS Regression Results                            \n",
       "==============================================================================\n",
       "Dep. Variable:                  value   R-squared:                       0.327\n",
       "Model:                            OLS   Adj. R-squared:                  0.314\n",
       "Method:                 Least Squares   F-statistic:                     25.11\n",
       "Date:                Sun, 05 Sep 2021   Prob (F-statistic):           1.30e-20\n",
       "Time:                        16:39:09   Log-Likelihood:                -268.17\n",
       "No. Observations:                 264   AIC:                             548.3\n",
       "Df Residuals:                     258   BIC:                             569.8\n",
       "Df Model:                           5                                         \n",
       "Covariance Type:            nonrobust                                         \n",
       "=====================================================================================================\n",
       "                                        coef    std err          t      P>|t|      [0.025      0.975]\n",
       "-----------------------------------------------------------------------------------------------------\n",
       "Intercept                             3.8811      0.118     32.931      0.000       3.649       4.113\n",
       "groupe[T.obese]                       0.7751      0.188      4.128      0.000       0.405       1.145\n",
       "time                                 -0.8051      0.120     -6.686      0.000      -1.042      -0.568\n",
       "groupe[T.obese]:time                 -0.0661      0.192     -0.344      0.731      -0.444       0.312\n",
       "np.power(time, 2)                     0.1714      0.023      7.354      0.000       0.125       0.217\n",
       "groupe[T.obese]:np.power(time, 2)    -0.0197      0.037     -0.530      0.597      -0.093       0.053\n",
       "==============================================================================\n",
       "Omnibus:                        0.337   Durbin-Watson:                   0.725\n",
       "Prob(Omnibus):                  0.845   Jarque-Bera (JB):                0.349\n",
       "Skew:                          -0.085   Prob(JB):                        0.840\n",
       "Kurtosis:                       2.949   Cond. No.                         84.1\n",
       "==============================================================================\n",
       "\n",
       "Notes:\n",
       "[1] Standard Errors assume that the covariance matrix of the errors is correctly specified.\n",
       "\"\"\""
      ]
     },
     "metadata": {},
     "execution_count": 103
    }
   ],
   "metadata": {}
  },
  {
   "cell_type": "markdown",
   "source": [
    "`groupe[T.obese]` est une constante présente uniquement pour le groupe obèse. Donc, la cosntante pour une personne du groupe contrôle est 3.8811 et pour celle du groupe obèse 3.8811+0.7751=4.6562. Pareil pour les variables associées aux temps et aux carrés du temps. À peu de choses près, on obtient les 2 modèles précédents réunis en un seul."
   ],
   "metadata": {}
  },
  {
   "cell_type": "code",
   "execution_count": 107,
   "source": [
    "shapiro(res.resid)"
   ],
   "outputs": [
    {
     "output_type": "execute_result",
     "data": {
      "text/plain": [
       "ShapiroResult(statistic=0.9954625964164734, pvalue=0.6340860724449158)"
      ]
     },
     "metadata": {},
     "execution_count": 107
    }
   ],
   "metadata": {}
  },
  {
   "cell_type": "code",
   "execution_count": 112,
   "source": [
    "sm.stats.het_breuschpagan(res.resid, res.model.exog)"
   ],
   "outputs": [
    {
     "output_type": "execute_result",
     "data": {
      "text/plain": [
       "(5.609310466619119, 0.346108405590119, 1.120165825634961, 0.3500090415400841)"
      ]
     },
     "metadata": {},
     "execution_count": 112
    }
   ],
   "metadata": {}
  },
  {
   "cell_type": "code",
   "execution_count": 117,
   "source": [
    "X = sm.add_constant(pd.DataFrame({\"time\": df_melted[\"time\"], \"residuals\": res.resid}))\n",
    "resid = smf.ols(\"residuals ~ time\", data=X).fit().resid\n",
    "dw_test(X.values, resid)"
   ],
   "outputs": [
    {
     "output_type": "execute_result",
     "data": {
      "text/plain": [
       "(0.7245727321282358, 7.142407484359622e-26)"
      ]
     },
     "metadata": {},
     "execution_count": 117
    }
   ],
   "metadata": {}
  },
  {
   "cell_type": "markdown",
   "source": [
    "Pour résoudre le problème d'autocorrélation, nous allons faire un modèle mixte. On commence avec la variante la plus simple : intercept aléatoire."
   ],
   "metadata": {}
  },
  {
   "cell_type": "markdown",
   "source": [
    "Nos groupes sont les individus, l'effet aléatoire (`re_formula`) est 1 (intercept)."
   ],
   "metadata": {}
  },
  {
   "cell_type": "code",
   "execution_count": 121,
   "source": [
    "mod_mixte1 = smf.mixedlm(\"value ~ groupe * (time + np.power(time, 2))\", df_melted, re_formula=\"1\", groups=df_melted[\"id\"])\n",
    "res_mixte1 = mod_mixte1.fit()\n",
    "res_mixte1.summary()"
   ],
   "outputs": [
    {
     "output_type": "execute_result",
     "data": {
      "text/html": [
       "<table class=\"simpletable\">\n",
       "<tr>\n",
       "       <td>Model:</td>       <td>MixedLM</td> <td>Dependent Variable:</td>   <td>value</td>  \n",
       "</tr>\n",
       "<tr>\n",
       "  <td>No. Observations:</td>   <td>264</td>         <td>Method:</td>         <td>REML</td>   \n",
       "</tr>\n",
       "<tr>\n",
       "     <td>No. Groups:</td>      <td>33</td>          <td>Scale:</td>         <td>0.2047</td>  \n",
       "</tr>\n",
       "<tr>\n",
       "  <td>Min. group size:</td>     <td>8</td>      <td>Log-Likelihood:</td>   <td>-216.2237</td>\n",
       "</tr>\n",
       "<tr>\n",
       "  <td>Max. group size:</td>     <td>8</td>        <td>Converged:</td>         <td>Yes</td>   \n",
       "</tr>\n",
       "<tr>\n",
       "  <td>Mean group size:</td>    <td>8.0</td>            <td></td>               <td></td>     \n",
       "</tr>\n",
       "</table>\n",
       "<table class=\"simpletable\">\n",
       "<tr>\n",
       "                  <td></td>                   <th>Coef.</th> <th>Std.Err.</th>    <th>z</th>   <th>P>|z|</th> <th>[0.025</th> <th>0.975]</th>\n",
       "</tr>\n",
       "<tr>\n",
       "  <th>Intercept</th>                          <td>3.881</td>   <td>0.139</td>  <td>27.908</td> <td>0.000</td>  <td>3.609</td>  <td>4.154</td>\n",
       "</tr>\n",
       "<tr>\n",
       "  <th>groupe[T.obese]</th>                    <td>0.775</td>   <td>0.222</td>   <td>3.498</td> <td>0.000</td>  <td>0.341</td>  <td>1.209</td>\n",
       "</tr>\n",
       "<tr>\n",
       "  <th>time</th>                              <td>-0.805</td>   <td>0.081</td>  <td>-9.989</td> <td>0.000</td> <td>-0.963</td> <td>-0.647</td>\n",
       "</tr>\n",
       "<tr>\n",
       "  <th>groupe[T.obese]:time</th>              <td>-0.066</td>   <td>0.128</td>  <td>-0.514</td> <td>0.607</td> <td>-0.318</td>  <td>0.186</td>\n",
       "</tr>\n",
       "<tr>\n",
       "  <th>np.power(time, 2)</th>                  <td>0.171</td>   <td>0.016</td>  <td>10.987</td> <td>0.000</td>  <td>0.141</td>  <td>0.202</td>\n",
       "</tr>\n",
       "<tr>\n",
       "  <th>groupe[T.obese]:np.power(time, 2)</th> <td>-0.020</td>   <td>0.025</td>  <td>-0.792</td> <td>0.429</td> <td>-0.068</td>  <td>0.029</td>\n",
       "</tr>\n",
       "<tr>\n",
       "  <th>Group Var</th>                          <td>0.262</td>   <td>0.172</td>     <td></td>      <td></td>       <td></td>       <td></td>   \n",
       "</tr>\n",
       "</table>"
      ],
      "text/plain": [
       "<class 'statsmodels.iolib.summary2.Summary'>\n",
       "\"\"\"\n",
       "                   Mixed Linear Model Regression Results\n",
       "============================================================================\n",
       "Model:                   MixedLM        Dependent Variable:        value    \n",
       "No. Observations:        264            Method:                    REML     \n",
       "No. Groups:              33             Scale:                     0.2047   \n",
       "Min. group size:         8              Log-Likelihood:            -216.2237\n",
       "Max. group size:         8              Converged:                 Yes      \n",
       "Mean group size:         8.0                                                \n",
       "----------------------------------------------------------------------------\n",
       "                                  Coef.  Std.Err.   z    P>|z| [0.025 0.975]\n",
       "----------------------------------------------------------------------------\n",
       "Intercept                          3.881    0.139 27.908 0.000  3.609  4.154\n",
       "groupe[T.obese]                    0.775    0.222  3.498 0.000  0.341  1.209\n",
       "time                              -0.805    0.081 -9.989 0.000 -0.963 -0.647\n",
       "groupe[T.obese]:time              -0.066    0.128 -0.514 0.607 -0.318  0.186\n",
       "np.power(time, 2)                  0.171    0.016 10.987 0.000  0.141  0.202\n",
       "groupe[T.obese]:np.power(time, 2) -0.020    0.025 -0.792 0.429 -0.068  0.029\n",
       "Group Var                          0.262    0.172                           \n",
       "============================================================================\n",
       "\n",
       "\"\"\""
      ]
     },
     "metadata": {},
     "execution_count": 121
    }
   ],
   "metadata": {}
  },
  {
   "cell_type": "markdown",
   "source": [
    "Les effets aléatoires :"
   ],
   "metadata": {}
  },
  {
   "cell_type": "code",
   "execution_count": 125,
   "source": [
    "res_mixte1.random_effects"
   ],
   "outputs": [
    {
     "output_type": "execute_result",
     "data": {
      "text/plain": [
       "{'1': Group   -0.172543\n",
       " dtype: float64,\n",
       " '10': Group   -0.685047\n",
       " dtype: float64,\n",
       " '11': Group   -0.445878\n",
       " dtype: float64,\n",
       " '12': Group    0.442462\n",
       " dtype: float64,\n",
       " '13': Group    0.283016\n",
       " dtype: float64,\n",
       " '14': Group   -0.400322\n",
       " dtype: float64,\n",
       " '15': Group    0.898021\n",
       " dtype: float64,\n",
       " '16': Group    0.829687\n",
       " dtype: float64,\n",
       " '17': Group    0.112181\n",
       " dtype: float64,\n",
       " '18': Group   -0.639491\n",
       " dtype: float64,\n",
       " '19': Group    0.078014\n",
       " dtype: float64,\n",
       " '2': Group   -0.377544\n",
       " dtype: float64,\n",
       " '20': Group    0.100792\n",
       " dtype: float64,\n",
       " '21': Group    0.072714\n",
       " dtype: float64,\n",
       " '22': Group   -1.111739\n",
       " dtype: float64,\n",
       " '23': Group    0.44855\n",
       " dtype: float64,\n",
       " '24': Group    0.357439\n",
       " dtype: float64,\n",
       " '25': Group   -0.029787\n",
       " dtype: float64,\n",
       " '26': Group    0.220771\n",
       " dtype: float64,\n",
       " '27': Group    0.414383\n",
       " dtype: float64,\n",
       " '28': Group    0.334661\n",
       " dtype: float64,\n",
       " '29': Group   -0.257566\n",
       " dtype: float64,\n",
       " '3': Group    0.02107\n",
       " dtype: float64,\n",
       " '30': Group    0.904109\n",
       " dtype: float64,\n",
       " '31': Group   -0.88396\n",
       " dtype: float64,\n",
       " '32': Group   -0.519512\n",
       " dtype: float64,\n",
       " '33': Group    0.049936\n",
       " dtype: float64,\n",
       " '4': Group   -0.115598\n",
       " dtype: float64,\n",
       " '5': Group    0.009681\n",
       " dtype: float64,\n",
       " '6': Group   -0.309211\n",
       " dtype: float64,\n",
       " '7': Group   -0.20671\n",
       " dtype: float64,\n",
       " '8': Group    0.146348\n",
       " dtype: float64,\n",
       " '9': Group    0.431073\n",
       " dtype: float64}"
      ]
     },
     "metadata": {},
     "execution_count": 125
    }
   ],
   "metadata": {}
  },
  {
   "cell_type": "markdown",
   "source": [
    "On vérifie que les effets aléatoires ont bien une moyenne nulle"
   ],
   "metadata": {}
  },
  {
   "cell_type": "code",
   "execution_count": 131,
   "source": [
    "np.mean(list(res_mixte1.random_effects.values()))"
   ],
   "outputs": [
    {
     "output_type": "execute_result",
     "data": {
      "text/plain": [
       "2.028680254087786e-15"
      ]
     },
     "metadata": {},
     "execution_count": 131
    }
   ],
   "metadata": {}
  },
  {
   "cell_type": "markdown",
   "source": [
    "La matrice de covariance des effets aléatoires"
   ],
   "metadata": {}
  },
  {
   "cell_type": "code",
   "execution_count": 136,
   "source": [
    "res_mixte1.cov_re"
   ],
   "outputs": [
    {
     "output_type": "execute_result",
     "data": {
      "text/html": [
       "<div>\n",
       "<style scoped>\n",
       "    .dataframe tbody tr th:only-of-type {\n",
       "        vertical-align: middle;\n",
       "    }\n",
       "\n",
       "    .dataframe tbody tr th {\n",
       "        vertical-align: top;\n",
       "    }\n",
       "\n",
       "    .dataframe thead th {\n",
       "        text-align: right;\n",
       "    }\n",
       "</style>\n",
       "<table border=\"1\" class=\"dataframe\">\n",
       "  <thead>\n",
       "    <tr style=\"text-align: right;\">\n",
       "      <th></th>\n",
       "      <th>Group</th>\n",
       "    </tr>\n",
       "  </thead>\n",
       "  <tbody>\n",
       "    <tr>\n",
       "      <th>Group</th>\n",
       "      <td>0.262334</td>\n",
       "    </tr>\n",
       "  </tbody>\n",
       "</table>\n",
       "</div>"
      ],
      "text/plain": [
       "          Group\n",
       "Group  0.262334"
      ]
     },
     "metadata": {},
     "execution_count": 136
    }
   ],
   "metadata": {}
  },
  {
   "cell_type": "code",
   "execution_count": 140,
   "source": [
    "shapiro(res_mixte1.resid)"
   ],
   "outputs": [
    {
     "output_type": "execute_result",
     "data": {
      "text/plain": [
       "ShapiroResult(statistic=0.996862530708313, pvalue=0.8855814933776855)"
      ]
     },
     "metadata": {},
     "execution_count": 140
    }
   ],
   "metadata": {}
  },
  {
   "cell_type": "code",
   "execution_count": 144,
   "source": [
    "X = sm.add_constant(pd.DataFrame({\"time\": df_melted[\"time\"], \"residuals\": res_mixte1.resid}))\n",
    "resid = smf.ols(\"residuals ~ time\", data=X).fit().resid\n",
    "dw_test(X.values, resid)"
   ],
   "outputs": [
    {
     "output_type": "execute_result",
     "data": {
      "text/plain": [
       "(1.4780358084308232, 9.060999243561599e-06)"
      ]
     },
     "metadata": {},
     "execution_count": 144
    }
   ],
   "metadata": {}
  },
  {
   "cell_type": "code",
   "execution_count": 149,
   "source": [
    "ax = sns.scatterplot(x=range(len(res_mixte1.resid)), y=res_mixte1.resid)\n",
    "ax.set_ylabel(\"Résidus (res_mixte1)\")\n",
    "plt.show()"
   ],
   "outputs": [
    {
     "output_type": "display_data",
     "data": {
      "image/png": "[encoded data removed]",
      "text/plain": [
       "<Figure size 864x576 with 1 Axes>"
      ]
     },
     "metadata": {
      "needs_background": "light"
     }
    }
   ],
   "metadata": {}
  },
  {
   "cell_type": "markdown",
   "source": [
    "Réalisons un modèle mixte basé sur notre modèle quadratique avec intercept et pente aléatoires"
   ],
   "metadata": {}
  },
  {
   "cell_type": "code",
   "execution_count": 155,
   "source": [
    "mod_mixte2 = smf.mixedlm(\"value ~ groupe * (time + np.power(time, 2))\", df_melted, re_formula=\"time\", groups=df_melted[\"id\"])\n",
    "res_mixte2 = mod_mixte2.fit()\n",
    "res_mixte2.summary()"
   ],
   "outputs": [
    {
     "output_type": "stream",
     "name": "stderr",
     "text": [
      "/home/quentin/.local/lib/python3.8/site-packages/statsmodels/regression/mixed_linear_model.py:2237: ConvergenceWarning: The MLE may be on the boundary of the parameter space.\n",
      "  warnings.warn(msg, ConvergenceWarning)\n"
     ]
    },
    {
     "output_type": "execute_result",
     "data": {
      "text/html": [
       "<table class=\"simpletable\">\n",
       "<tr>\n",
       "       <td>Model:</td>       <td>MixedLM</td> <td>Dependent Variable:</td>   <td>value</td>  \n",
       "</tr>\n",
       "<tr>\n",
       "  <td>No. Observations:</td>   <td>264</td>         <td>Method:</td>         <td>REML</td>   \n",
       "</tr>\n",
       "<tr>\n",
       "     <td>No. Groups:</td>      <td>33</td>          <td>Scale:</td>         <td>0.1759</td>  \n",
       "</tr>\n",
       "<tr>\n",
       "  <td>Min. group size:</td>     <td>8</td>      <td>Log-Likelihood:</td>   <td>-211.0955</td>\n",
       "</tr>\n",
       "<tr>\n",
       "  <td>Max. group size:</td>     <td>8</td>        <td>Converged:</td>         <td>Yes</td>   \n",
       "</tr>\n",
       "<tr>\n",
       "  <td>Mean group size:</td>    <td>8.0</td>            <td></td>               <td></td>     \n",
       "</tr>\n",
       "</table>\n",
       "<table class=\"simpletable\">\n",
       "<tr>\n",
       "                  <td></td>                   <th>Coef.</th> <th>Std.Err.</th>    <th>z</th>    <th>P>|z|</th> <th>[0.025</th> <th>0.975]</th>\n",
       "</tr>\n",
       "<tr>\n",
       "  <th>Intercept</th>                          <td>3.881</td>   <td>0.149</td>  <td>25.990</td>  <td>0.000</td>  <td>3.588</td>  <td>4.174</td>\n",
       "</tr>\n",
       "<tr>\n",
       "  <th>groupe[T.obese]</th>                    <td>0.775</td>   <td>0.238</td>   <td>3.258</td>  <td>0.001</td>  <td>0.309</td>  <td>1.241</td>\n",
       "</tr>\n",
       "<tr>\n",
       "  <th>time</th>                              <td>-0.805</td>   <td>0.078</td>  <td>-10.329</td> <td>0.000</td> <td>-0.958</td> <td>-0.652</td>\n",
       "</tr>\n",
       "<tr>\n",
       "  <th>groupe[T.obese]:time</th>              <td>-0.066</td>   <td>0.124</td>  <td>-0.532</td>  <td>0.595</td> <td>-0.309</td>  <td>0.177</td>\n",
       "</tr>\n",
       "<tr>\n",
       "  <th>np.power(time, 2)</th>                  <td>0.171</td>   <td>0.014</td>  <td>11.852</td>  <td>0.000</td>  <td>0.143</td>  <td>0.200</td>\n",
       "</tr>\n",
       "<tr>\n",
       "  <th>groupe[T.obese]:np.power(time, 2)</th> <td>-0.020</td>   <td>0.023</td>  <td>-0.854</td>  <td>0.393</td> <td>-0.065</td>  <td>0.025</td>\n",
       "</tr>\n",
       "<tr>\n",
       "  <th>Group Var</th>                          <td>0.339</td>   <td>0.259</td>     <td></td>       <td></td>       <td></td>       <td></td>   \n",
       "</tr>\n",
       "<tr>\n",
       "  <th>Group x time Cov</th>                  <td>-0.028</td>   <td>0.043</td>     <td></td>       <td></td>       <td></td>       <td></td>   \n",
       "</tr>\n",
       "<tr>\n",
       "  <th>time Var</th>                           <td>0.010</td>   <td>0.012</td>     <td></td>       <td></td>       <td></td>       <td></td>   \n",
       "</tr>\n",
       "</table>"
      ],
      "text/plain": [
       "<class 'statsmodels.iolib.summary2.Summary'>\n",
       "\"\"\"\n",
       "                    Mixed Linear Model Regression Results\n",
       "=============================================================================\n",
       "Model:                    MixedLM        Dependent Variable:        value    \n",
       "No. Observations:         264            Method:                    REML     \n",
       "No. Groups:               33             Scale:                     0.1759   \n",
       "Min. group size:          8              Log-Likelihood:            -211.0955\n",
       "Max. group size:          8              Converged:                 Yes      \n",
       "Mean group size:          8.0                                                \n",
       "-----------------------------------------------------------------------------\n",
       "                                  Coef.  Std.Err.    z    P>|z| [0.025 0.975]\n",
       "-----------------------------------------------------------------------------\n",
       "Intercept                          3.881    0.149  25.990 0.000  3.588  4.174\n",
       "groupe[T.obese]                    0.775    0.238   3.258 0.001  0.309  1.241\n",
       "time                              -0.805    0.078 -10.329 0.000 -0.958 -0.652\n",
       "groupe[T.obese]:time              -0.066    0.124  -0.532 0.595 -0.309  0.177\n",
       "np.power(time, 2)                  0.171    0.014  11.852 0.000  0.143  0.200\n",
       "groupe[T.obese]:np.power(time, 2) -0.020    0.023  -0.854 0.393 -0.065  0.025\n",
       "Group Var                          0.339    0.259                            \n",
       "Group x time Cov                  -0.028    0.043                            \n",
       "time Var                           0.010    0.012                            \n",
       "=============================================================================\n",
       "\n",
       "\"\"\""
      ]
     },
     "metadata": {},
     "execution_count": 155
    }
   ],
   "metadata": {}
  },
  {
   "cell_type": "code",
   "execution_count": 161,
   "source": [
    "res_mixte2.random_effects"
   ],
   "outputs": [
    {
     "output_type": "execute_result",
     "data": {
      "text/plain": [
       "{'1': Group   -0.202766\n",
       " time     0.012898\n",
       " dtype: float64,\n",
       " '10': Group   -0.512104\n",
       " time    -0.083301\n",
       " dtype: float64,\n",
       " '11': Group   -0.525072\n",
       " time     0.033831\n",
       " dtype: float64,\n",
       " '12': Group    0.318413\n",
       " time     0.059472\n",
       " dtype: float64,\n",
       " '13': Group    0.245271\n",
       " time     0.018939\n",
       " dtype: float64,\n",
       " '14': Group   -0.177288\n",
       " time    -0.104684\n",
       " dtype: float64,\n",
       " '15': Group    0.959431\n",
       " time    -0.023098\n",
       " dtype: float64,\n",
       " '16': Group    0.760310\n",
       " time     0.036568\n",
       " dtype: float64,\n",
       " '17': Group    0.189944\n",
       " time    -0.035069\n",
       " dtype: float64,\n",
       " '18': Group   -0.412439\n",
       " time    -0.107887\n",
       " dtype: float64,\n",
       " '19': Group    0.356421\n",
       " time    -0.127393\n",
       " dtype: float64,\n",
       " '2': Group   -0.516174\n",
       " time     0.061510\n",
       " dtype: float64,\n",
       " '20': Group   -0.123065\n",
       " time     0.103361\n",
       " dtype: float64,\n",
       " '21': Group    0.267341\n",
       " time    -0.088954\n",
       " dtype: float64,\n",
       " '22': Group   -1.494142\n",
       " time     0.169273\n",
       " dtype: float64,\n",
       " '23': Group    0.296981\n",
       " time     0.072143\n",
       " dtype: float64,\n",
       " '24': Group    0.494640\n",
       " time    -0.060968\n",
       " dtype: float64,\n",
       " '25': Group   -0.065802\n",
       " time     0.016368\n",
       " dtype: float64,\n",
       " '26': Group    0.146020\n",
       " time     0.035577\n",
       " dtype: float64,\n",
       " '27': Group    0.273234\n",
       " time     0.067165\n",
       " dtype: float64,\n",
       " '28': Group    0.461348\n",
       " time    -0.056270\n",
       " dtype: float64,\n",
       " '29': Group   -0.346337\n",
       " time     0.039298\n",
       " dtype: float64,\n",
       " '3': Group    0.018182\n",
       " time     0.001446\n",
       " dtype: float64,\n",
       " '30': Group    1.235741\n",
       " time    -0.147140\n",
       " dtype: float64,\n",
       " '31': Group   -0.954462\n",
       " time     0.027352\n",
       " dtype: float64,\n",
       " '32': Group   -0.385959\n",
       " time    -0.064274\n",
       " dtype: float64,\n",
       " '33': Group    0.071395\n",
       " time    -0.009569\n",
       " dtype: float64,\n",
       " '4': Group   -0.335952\n",
       " time     0.100523\n",
       " dtype: float64,\n",
       " '5': Group    0.022213\n",
       " time    -0.005699\n",
       " dtype: float64,\n",
       " '6': Group   -0.421813\n",
       " time     0.049947\n",
       " dtype: float64,\n",
       " '7': Group   -0.300949\n",
       " time     0.042098\n",
       " dtype: float64,\n",
       " '8': Group    0.128228\n",
       " time     0.009151\n",
       " dtype: float64,\n",
       " '9': Group    0.529209\n",
       " time    -0.042613\n",
       " dtype: float64}"
      ]
     },
     "metadata": {},
     "execution_count": 161
    }
   ],
   "metadata": {}
  },
  {
   "cell_type": "markdown",
   "source": [
    "On vérifie que les effets aléatoires ont bien une moyenne nulle"
   ],
   "metadata": {}
  },
  {
   "cell_type": "code",
   "execution_count": 167,
   "source": [
    "np.mean(list(res_mixte2.random_effects.values()), axis=0)"
   ],
   "outputs": [
    {
     "output_type": "execute_result",
     "data": {
      "text/plain": [
       "array([-4.38369879e-15,  7.62016712e-16])"
      ]
     },
     "metadata": {},
     "execution_count": 167
    }
   ],
   "metadata": {}
  },
  {
   "cell_type": "markdown",
   "source": [
    "La matrice de covariance des effets aléatoires"
   ],
   "metadata": {}
  },
  {
   "cell_type": "code",
   "execution_count": 173,
   "source": [
    "res_mixte2.cov_re"
   ],
   "outputs": [
    {
     "output_type": "execute_result",
     "data": {
      "text/html": [
       "<div>\n",
       "<style scoped>\n",
       "    .dataframe tbody tr th:only-of-type {\n",
       "        vertical-align: middle;\n",
       "    }\n",
       "\n",
       "    .dataframe tbody tr th {\n",
       "        vertical-align: top;\n",
       "    }\n",
       "\n",
       "    .dataframe thead th {\n",
       "        text-align: right;\n",
       "    }\n",
       "</style>\n",
       "<table border=\"1\" class=\"dataframe\">\n",
       "  <thead>\n",
       "    <tr style=\"text-align: right;\">\n",
       "      <th></th>\n",
       "      <th>Group</th>\n",
       "      <th>time</th>\n",
       "    </tr>\n",
       "  </thead>\n",
       "  <tbody>\n",
       "    <tr>\n",
       "      <th>Group</th>\n",
       "      <td>0.339028</td>\n",
       "      <td>-0.027678</td>\n",
       "    </tr>\n",
       "    <tr>\n",
       "      <th>time</th>\n",
       "      <td>-0.027678</td>\n",
       "      <td>0.009864</td>\n",
       "    </tr>\n",
       "  </tbody>\n",
       "</table>\n",
       "</div>"
      ],
      "text/plain": [
       "          Group      time\n",
       "Group  0.339028 -0.027678\n",
       "time  -0.027678  0.009864"
      ]
     },
     "metadata": {},
     "execution_count": 173
    }
   ],
   "metadata": {}
  },
  {
   "cell_type": "code",
   "execution_count": 179,
   "source": [
    "X = sm.add_constant(pd.DataFrame({\"time\": df_melted[\"time\"], \"residuals\": res_mixte2.resid}))\n",
    "resid = smf.ols(\"residuals ~ time\", data=X).fit().resid\n",
    "dw_test(X.values, resid)"
   ],
   "outputs": [
    {
     "output_type": "execute_result",
     "data": {
      "text/plain": [
       "(1.7512764940070544, 0.020030684660545625)"
      ]
     },
     "metadata": {},
     "execution_count": 179
    }
   ],
   "metadata": {}
  },
  {
   "cell_type": "code",
   "execution_count": 184,
   "source": [
    "ax = sns.scatterplot(x=df_melted[\"time\"], y=res_mixte2.resid)\n",
    "ax.set_ylabel(\"Résidus (res_mixte1)\")\n",
    "plt.show()"
   ],
   "outputs": [
    {
     "output_type": "display_data",
     "data": {
      "image/png": "[encoded data removed]",
      "text/plain": [
       "<Figure size 864x576 with 1 Axes>"
      ]
     },
     "metadata": {
      "needs_background": "light"
     }
    }
   ],
   "metadata": {}
  },
  {
   "cell_type": "code",
   "execution_count": 190,
   "source": [
    "ax = sns.scatterplot(x=res_mixte2.fittedvalues, y=res_mixte2.resid)\n",
    "ax.set_xlabel(\"Valeurs prédites\")\n",
    "ax.set_ylabel(\"Résidus (res_mixte2)\")\n",
    "plt.show()"
   ],
   "outputs": [
    {
     "output_type": "display_data",
     "data": {
      "image/png": "[encoded data removed]",
      "text/plain": [
       "<Figure size 864x576 with 1 Axes>"
      ]
     },
     "metadata": {
      "needs_background": "light"
     }
    }
   ],
   "metadata": {}
  }
 ]
}