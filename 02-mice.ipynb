{
 "cells": [
  {
   "cell_type": "markdown",
   "metadata": {},
   "source": [
    "# Imputation multiple avec MICE\n",
    "\n",
    "- *Auteurs :* Quentin Grimonprez, Cristian Preda, Vincent Vandewalle\n",
    "- *Date :* 16 février 2020"
   ]
  },
  {
   "cell_type": "markdown",
   "metadata": {},
   "source": [
    "On utilise le package [pandas](https://pandas.pydata.org/pandas-docs/stable/) pour manipuler des dataFrames (tableau pouvant contenir des types différents entre les colonnes) et le package [statsmodels](https://www.statsmodels.org/stable/api.html) pour l'imputation multiple (statsmodels contient principalement des méthodes de régressions (avec plus d'analyses statistiques que scikit-learn) et séries temporelles). Dans [scikit-learn](https://scikit-learn.org/stable/modules/impute.html), il est pour l'instant uniquement possible de faire de l'imputation basée sur des méthodes simples (moyenne, valeur la plus fréquente...), une implémentation de MICE est en développement."
   ]
  },
  {
   "cell_type": "code",
   "execution_count": 1,
   "metadata": {},
   "outputs": [
    {
     "name": "stderr",
     "output_type": "stream",
     "text": [
      "/home/quentin/.local/lib/python3.8/site-packages/statsmodels/compat/pandas.py:65: FutureWarning: pandas.Int64Index is deprecated and will be removed from pandas in a future version. Use pandas.Index with the appropriate dtype instead.\n",
      "  from pandas import Int64Index as NumericIndex\n"
     ]
    }
   ],
   "source": [
    "import numpy as np\n",
    "import pandas as pd\n",
    "import seaborn as sns\n",
    "import matplotlib.pyplot as plt\n",
    "import statsmodels.api as sm\n",
    "from statsmodels.imputation import mice\n",
    "\n",
    "plt.rcParams[\"figure.figsize\"] = 8, 8"
   ]
  },
  {
   "cell_type": "markdown",
   "metadata": {},
   "source": [
    "## Aperçu des données\n",
    "\n",
    "Chargement des données airquality à partir du fichier fourni. En ouvrant ce fichier, on notera que les manquants de la variable *Ozone* sont codés par la valeur `-9` tandis que ceux de la variable Solar.R le sont par `NA`."
   ]
  },
  {
   "cell_type": "code",
   "execution_count": 2,
   "metadata": {},
   "outputs": [
    {
     "data": {
      "text/html": [
       "<div>\n",
       "<style scoped>\n",
       "    .dataframe tbody tr th:only-of-type {\n",
       "        vertical-align: middle;\n",
       "    }\n",
       "\n",
       "    .dataframe tbody tr th {\n",
       "        vertical-align: top;\n",
       "    }\n",
       "\n",
       "    .dataframe thead th {\n",
       "        text-align: right;\n",
       "    }\n",
       "</style>\n",
       "<table border=\"1\" class=\"dataframe\">\n",
       "  <thead>\n",
       "    <tr style=\"text-align: right;\">\n",
       "      <th></th>\n",
       "      <th>Ozone</th>\n",
       "      <th>SolarR</th>\n",
       "      <th>Wind</th>\n",
       "      <th>Temp</th>\n",
       "      <th>Month</th>\n",
       "      <th>Day</th>\n",
       "    </tr>\n",
       "  </thead>\n",
       "  <tbody>\n",
       "    <tr>\n",
       "      <th>0</th>\n",
       "      <td>41.0</td>\n",
       "      <td>190.0</td>\n",
       "      <td>7.4</td>\n",
       "      <td>67</td>\n",
       "      <td>5</td>\n",
       "      <td>1</td>\n",
       "    </tr>\n",
       "    <tr>\n",
       "      <th>1</th>\n",
       "      <td>36.0</td>\n",
       "      <td>118.0</td>\n",
       "      <td>8.0</td>\n",
       "      <td>72</td>\n",
       "      <td>5</td>\n",
       "      <td>2</td>\n",
       "    </tr>\n",
       "    <tr>\n",
       "      <th>2</th>\n",
       "      <td>12.0</td>\n",
       "      <td>149.0</td>\n",
       "      <td>12.6</td>\n",
       "      <td>74</td>\n",
       "      <td>5</td>\n",
       "      <td>3</td>\n",
       "    </tr>\n",
       "    <tr>\n",
       "      <th>3</th>\n",
       "      <td>18.0</td>\n",
       "      <td>313.0</td>\n",
       "      <td>11.5</td>\n",
       "      <td>62</td>\n",
       "      <td>5</td>\n",
       "      <td>4</td>\n",
       "    </tr>\n",
       "    <tr>\n",
       "      <th>4</th>\n",
       "      <td>NaN</td>\n",
       "      <td>NaN</td>\n",
       "      <td>14.3</td>\n",
       "      <td>56</td>\n",
       "      <td>5</td>\n",
       "      <td>5</td>\n",
       "    </tr>\n",
       "  </tbody>\n",
       "</table>\n",
       "</div>"
      ],
      "text/plain": [
       "   Ozone  SolarR  Wind  Temp Month Day\n",
       "0   41.0   190.0   7.4    67     5   1\n",
       "1   36.0   118.0   8.0    72     5   2\n",
       "2   12.0   149.0  12.6    74     5   3\n",
       "3   18.0   313.0  11.5    62     5   4\n",
       "4    NaN     NaN  14.3    56     5   5"
      ]
     },
     "execution_count": 2,
     "metadata": {},
     "output_type": "execute_result"
    }
   ],
   "source": [
    "airquality = pd.read_table(\"data/airquality2.txt\", sep=\" \", header=[0],\n",
    "                           na_values={\"Ozone\": -9, \"Solar.R\": \"NA\"},\n",
    "                           dtype={\"Month\": str, \"Day\": str})\n",
    "airquality.rename(columns={\"Solar.R\": \"SolarR\"}, inplace=True)  # les fonctions de modélisation de statsmodels ne supportent pas les \".\" dans les noms. Le paramètre inplace=True indique qu'il faut modifier directement le DataFrame et non retourner une copie.\n",
    "airquality.head()"
   ]
  },
  {
   "cell_type": "markdown",
   "metadata": {},
   "source": [
    "On vérifie le type des colonnes. Les chaînes de caractères sont de type *object*."
   ]
  },
  {
   "cell_type": "code",
   "execution_count": 3,
   "metadata": {},
   "outputs": [
    {
     "data": {
      "text/plain": [
       "Ozone     float64\n",
       "SolarR    float64\n",
       "Wind      float64\n",
       "Temp        int64\n",
       "Month      object\n",
       "Day        object\n",
       "dtype: object"
      ]
     },
     "execution_count": 3,
     "metadata": {},
     "output_type": "execute_result"
    }
   ],
   "source": [
    "airquality.dtypes"
   ]
  },
  {
   "cell_type": "markdown",
   "metadata": {},
   "source": [
    "#### Statistiques univariées"
   ]
  },
  {
   "cell_type": "code",
   "execution_count": 4,
   "metadata": {},
   "outputs": [
    {
     "name": "stdout",
     "output_type": "stream",
     "text": [
      "(153, 6)\n"
     ]
    },
    {
     "data": {
      "text/html": [
       "<div>\n",
       "<style scoped>\n",
       "    .dataframe tbody tr th:only-of-type {\n",
       "        vertical-align: middle;\n",
       "    }\n",
       "\n",
       "    .dataframe tbody tr th {\n",
       "        vertical-align: top;\n",
       "    }\n",
       "\n",
       "    .dataframe thead th {\n",
       "        text-align: right;\n",
       "    }\n",
       "</style>\n",
       "<table border=\"1\" class=\"dataframe\">\n",
       "  <thead>\n",
       "    <tr style=\"text-align: right;\">\n",
       "      <th></th>\n",
       "      <th>Ozone</th>\n",
       "      <th>SolarR</th>\n",
       "      <th>Wind</th>\n",
       "      <th>Temp</th>\n",
       "    </tr>\n",
       "  </thead>\n",
       "  <tbody>\n",
       "    <tr>\n",
       "      <th>count</th>\n",
       "      <td>116.000000</td>\n",
       "      <td>146.000000</td>\n",
       "      <td>153.000000</td>\n",
       "      <td>153.000000</td>\n",
       "    </tr>\n",
       "    <tr>\n",
       "      <th>mean</th>\n",
       "      <td>42.129310</td>\n",
       "      <td>185.931507</td>\n",
       "      <td>9.957516</td>\n",
       "      <td>77.882353</td>\n",
       "    </tr>\n",
       "    <tr>\n",
       "      <th>std</th>\n",
       "      <td>32.987885</td>\n",
       "      <td>90.058422</td>\n",
       "      <td>3.523001</td>\n",
       "      <td>9.465270</td>\n",
       "    </tr>\n",
       "    <tr>\n",
       "      <th>min</th>\n",
       "      <td>1.000000</td>\n",
       "      <td>7.000000</td>\n",
       "      <td>1.700000</td>\n",
       "      <td>56.000000</td>\n",
       "    </tr>\n",
       "    <tr>\n",
       "      <th>25%</th>\n",
       "      <td>18.000000</td>\n",
       "      <td>115.750000</td>\n",
       "      <td>7.400000</td>\n",
       "      <td>72.000000</td>\n",
       "    </tr>\n",
       "    <tr>\n",
       "      <th>50%</th>\n",
       "      <td>31.500000</td>\n",
       "      <td>205.000000</td>\n",
       "      <td>9.700000</td>\n",
       "      <td>79.000000</td>\n",
       "    </tr>\n",
       "    <tr>\n",
       "      <th>75%</th>\n",
       "      <td>63.250000</td>\n",
       "      <td>258.750000</td>\n",
       "      <td>11.500000</td>\n",
       "      <td>85.000000</td>\n",
       "    </tr>\n",
       "    <tr>\n",
       "      <th>max</th>\n",
       "      <td>168.000000</td>\n",
       "      <td>334.000000</td>\n",
       "      <td>20.700000</td>\n",
       "      <td>97.000000</td>\n",
       "    </tr>\n",
       "  </tbody>\n",
       "</table>\n",
       "</div>"
      ],
      "text/plain": [
       "            Ozone      SolarR        Wind        Temp\n",
       "count  116.000000  146.000000  153.000000  153.000000\n",
       "mean    42.129310  185.931507    9.957516   77.882353\n",
       "std     32.987885   90.058422    3.523001    9.465270\n",
       "min      1.000000    7.000000    1.700000   56.000000\n",
       "25%     18.000000  115.750000    7.400000   72.000000\n",
       "50%     31.500000  205.000000    9.700000   79.000000\n",
       "75%     63.250000  258.750000   11.500000   85.000000\n",
       "max    168.000000  334.000000   20.700000   97.000000"
      ]
     },
     "execution_count": 4,
     "metadata": {},
     "output_type": "execute_result"
    }
   ],
   "source": [
    "print(airquality.shape)\n",
    "airquality.describe()  # par défaut, calcule les statistiques pour les variables numériques. Si vous voulez des statistiques sur toutes les variables, ajoutez le paramètre include=\"all\""
   ]
  },
  {
   "cell_type": "markdown",
   "metadata": {},
   "source": [
    "La valeur **count** représentent le nombre de données présentes. On constate que les variables *Ozone* et *SolarR* présentent des valeurs manquantes."
   ]
  },
  {
   "cell_type": "code",
   "execution_count": 5,
   "metadata": {},
   "outputs": [
    {
     "data": {
      "text/html": [
       "<div>\n",
       "<style scoped>\n",
       "    .dataframe tbody tr th:only-of-type {\n",
       "        vertical-align: middle;\n",
       "    }\n",
       "\n",
       "    .dataframe tbody tr th {\n",
       "        vertical-align: top;\n",
       "    }\n",
       "\n",
       "    .dataframe thead th {\n",
       "        text-align: right;\n",
       "    }\n",
       "</style>\n",
       "<table border=\"1\" class=\"dataframe\">\n",
       "  <thead>\n",
       "    <tr style=\"text-align: right;\">\n",
       "      <th></th>\n",
       "      <th>Ozone</th>\n",
       "      <th>SolarR</th>\n",
       "      <th>Wind</th>\n",
       "      <th>Temp</th>\n",
       "    </tr>\n",
       "  </thead>\n",
       "  <tbody>\n",
       "    <tr>\n",
       "      <th>0</th>\n",
       "      <td>41.0</td>\n",
       "      <td>190.0</td>\n",
       "      <td>7.4</td>\n",
       "      <td>67</td>\n",
       "    </tr>\n",
       "    <tr>\n",
       "      <th>1</th>\n",
       "      <td>36.0</td>\n",
       "      <td>118.0</td>\n",
       "      <td>8.0</td>\n",
       "      <td>72</td>\n",
       "    </tr>\n",
       "    <tr>\n",
       "      <th>2</th>\n",
       "      <td>12.0</td>\n",
       "      <td>149.0</td>\n",
       "      <td>12.6</td>\n",
       "      <td>74</td>\n",
       "    </tr>\n",
       "    <tr>\n",
       "      <th>3</th>\n",
       "      <td>18.0</td>\n",
       "      <td>313.0</td>\n",
       "      <td>11.5</td>\n",
       "      <td>62</td>\n",
       "    </tr>\n",
       "    <tr>\n",
       "      <th>4</th>\n",
       "      <td>NaN</td>\n",
       "      <td>NaN</td>\n",
       "      <td>14.3</td>\n",
       "      <td>56</td>\n",
       "    </tr>\n",
       "  </tbody>\n",
       "</table>\n",
       "</div>"
      ],
      "text/plain": [
       "   Ozone  SolarR  Wind  Temp\n",
       "0   41.0   190.0   7.4    67\n",
       "1   36.0   118.0   8.0    72\n",
       "2   12.0   149.0  12.6    74\n",
       "3   18.0   313.0  11.5    62\n",
       "4    NaN     NaN  14.3    56"
      ]
     },
     "execution_count": 5,
     "metadata": {},
     "output_type": "execute_result"
    }
   ],
   "source": [
    "X = airquality.copy()\n",
    "X = X[X.columns[0:4]]\n",
    "X.head()"
   ]
  },
  {
   "cell_type": "markdown",
   "metadata": {},
   "source": [
    "## Visualisation des manquants"
   ]
  },
  {
   "cell_type": "markdown",
   "metadata": {},
   "source": [
    "On crée un objet permettant d'imputer les données manquantes. La méthode utilisée est le *predictive mean matching*, on peut préciser le paramètre *k_pmm* qui correspond au nombre d'observations, proches de la réponse prédite, utilisées pour tirer la valeur imputée (cf. [doc](https://www.statsmodels.org/stable/generated/statsmodels.imputation.mice.MICEData.html#statsmodels.imputation.mice.MICEData))."
   ]
  },
  {
   "cell_type": "code",
   "execution_count": 6,
   "metadata": {},
   "outputs": [],
   "source": [
    "imp = mice.MICEData(X, k_pmm=5)"
   ]
  },
  {
   "cell_type": "markdown",
   "metadata": {},
   "source": [
    "### Visualisation de la répartition des manquants."
   ]
  },
  {
   "cell_type": "code",
   "execution_count": 7,
   "metadata": {},
   "outputs": [
    {
     "data": {
      "image/png": "[encoded data removed]",
      "text/plain": [
       "<Figure size 576x576 with 1 Axes>"
      ]
     },
     "metadata": {
      "needs_background": "light"
     },
     "output_type": "display_data"
    }
   ],
   "source": [
    "ax = imp.plot_missing_pattern()"
   ]
  },
  {
   "cell_type": "markdown",
   "metadata": {},
   "source": [
    "On note que certains individus ont simultanément *SolarR* et *Ozone* manquants. La classe MICEData ne dispose pas d'une fonction pour récupérer le l'ensemble des patterns et leur fréquence. On la crée donc."
   ]
  },
  {
   "cell_type": "code",
   "execution_count": 8,
   "metadata": {},
   "outputs": [],
   "source": [
    "def get_missing_pattern(miceData):\n",
    "    cols = miceData.data.columns\n",
    "\n",
    "    miss = np.zeros(miceData.data.shape)\n",
    "    for j, col in enumerate(cols):\n",
    "        ix = miceData.ix_miss[col]\n",
    "        miss[ix, j] = 1\n",
    "    miss = pd.DataFrame(miss, columns=cols)\n",
    "\n",
    "    count = miss.groupby(list(cols)).size()\n",
    "    count = count.reset_index()\n",
    "    count.rename({0: \"count\"}, axis=1, inplace=True)\n",
    "\n",
    "    return count"
   ]
  },
  {
   "cell_type": "code",
   "execution_count": 9,
   "metadata": {},
   "outputs": [
    {
     "data": {
      "text/html": [
       "<div>\n",
       "<style scoped>\n",
       "    .dataframe tbody tr th:only-of-type {\n",
       "        vertical-align: middle;\n",
       "    }\n",
       "\n",
       "    .dataframe tbody tr th {\n",
       "        vertical-align: top;\n",
       "    }\n",
       "\n",
       "    .dataframe thead th {\n",
       "        text-align: right;\n",
       "    }\n",
       "</style>\n",
       "<table border=\"1\" class=\"dataframe\">\n",
       "  <thead>\n",
       "    <tr style=\"text-align: right;\">\n",
       "      <th></th>\n",
       "      <th>Ozone</th>\n",
       "      <th>SolarR</th>\n",
       "      <th>Wind</th>\n",
       "      <th>Temp</th>\n",
       "      <th>count</th>\n",
       "    </tr>\n",
       "  </thead>\n",
       "  <tbody>\n",
       "    <tr>\n",
       "      <th>0</th>\n",
       "      <td>0.0</td>\n",
       "      <td>0.0</td>\n",
       "      <td>0.0</td>\n",
       "      <td>0.0</td>\n",
       "      <td>111</td>\n",
       "    </tr>\n",
       "    <tr>\n",
       "      <th>1</th>\n",
       "      <td>0.0</td>\n",
       "      <td>1.0</td>\n",
       "      <td>0.0</td>\n",
       "      <td>0.0</td>\n",
       "      <td>5</td>\n",
       "    </tr>\n",
       "    <tr>\n",
       "      <th>2</th>\n",
       "      <td>1.0</td>\n",
       "      <td>0.0</td>\n",
       "      <td>0.0</td>\n",
       "      <td>0.0</td>\n",
       "      <td>35</td>\n",
       "    </tr>\n",
       "    <tr>\n",
       "      <th>3</th>\n",
       "      <td>1.0</td>\n",
       "      <td>1.0</td>\n",
       "      <td>0.0</td>\n",
       "      <td>0.0</td>\n",
       "      <td>2</td>\n",
       "    </tr>\n",
       "  </tbody>\n",
       "</table>\n",
       "</div>"
      ],
      "text/plain": [
       "   Ozone  SolarR  Wind  Temp  count\n",
       "0    0.0     0.0   0.0   0.0    111\n",
       "1    0.0     1.0   0.0   0.0      5\n",
       "2    1.0     0.0   0.0   0.0     35\n",
       "3    1.0     1.0   0.0   0.0      2"
      ]
     },
     "execution_count": 9,
     "metadata": {},
     "output_type": "execute_result"
    }
   ],
   "source": [
    "get_missing_pattern(imp)"
   ]
  },
  {
   "cell_type": "markdown",
   "metadata": {},
   "source": [
    "Un profil (pattern) de données manquantes est donc un vecteur avec les éléments 0 ou 1 avec 0 = donnée présente, 1 = donnée manquante. Les 4 premières colonnes décrivent le pattern de manquants et la dernière (**count**), le nombre d'individus suivant ce pattern. Dans notre exemple, il y a 35 individus avec uniquement *Ozone* comme manquant."
   ]
  },
  {
   "cell_type": "markdown",
   "metadata": {},
   "source": [
    "#### MCAR, MAR ou MNAR\n",
    "\n",
    "Afin de mettre un modèle sur les données manquantes, visualiser les croisements deux à deux des variables est utile."
   ]
  },
  {
   "cell_type": "code",
   "execution_count": 10,
   "metadata": {},
   "outputs": [],
   "source": [
    "def compare_distribution(X, variable1, variable2):\n",
    "    fig, ax = plt.subplots(3, 3, sharex=\"col\", sharey=\"row\",\n",
    "                           gridspec_kw={\"width_ratios\": [4, 0.5, 1.25],\n",
    "                                        \"height_ratios\": [4, 0.5, 1.25]})\n",
    "\n",
    "    # create a categorical variable indicating if the value is missing or not\n",
    "    X_temp = X.copy()\n",
    "    X_temp[\"var1_status\"] = np.array([\"present\", \"miss\"])[np.isnan(X[variable1]) * 1]\n",
    "    X_temp[\"var2_status\"] = np.array([\"present\", \"miss\"])[np.isnan(X[variable2]) * 1]\n",
    "\n",
    "    # plot the present values\n",
    "    sns.scatterplot(data=X, x=variable1, y=variable2, ax=ax[0, 0])\n",
    "\n",
    "    # plot the variable2 values when the variable1 is missing\n",
    "    sns.scatterplot(x=0, y=X_temp[variable2][X_temp[\"var1_status\"] == \"miss\"], color=\"tab:orange\", ax=ax[0, 1])\n",
    "    ax[0, 1].axes.xaxis.set_visible(False)\n",
    "\n",
    "    # boxplot of variable2 with regards to the fact that variable1 is missing or not\n",
    "    sns.boxplot(data=X_temp, x=\"var1_status\", y=variable2, ax=ax[0, 2])\n",
    "    ax[0, 2].yaxis.label.set_visible(False)\n",
    "    ax[0, 2].xaxis.label.set_visible(False)\n",
    "\n",
    "    # plot the variable1 values when the variable2 is missing\n",
    "    sns.scatterplot(x=X_temp[variable1][X_temp[\"var2_status\"] == \"miss\"], y=0, color=\"tab:orange\", ax=ax[1, 0])\n",
    "    ax[1, 0].axes.yaxis.set_visible(False)\n",
    "\n",
    "    # boxplot of variable1 with regards to the fact that variable2 is missing or not\n",
    "    sns.boxplot(data=X_temp, x=variable1, y=\"var2_status\", orient=\"h\", ax=ax[2, 0])\n",
    "    ax[2, 0].yaxis.label.set_visible(False)\n",
    "\n",
    "    ax[1, 1].axis(\"off\")\n",
    "    ax[1, 2].axis(\"off\")\n",
    "    ax[2, 1].axis(\"off\")\n",
    "    ax[2, 2].axis(\"off\")\n",
    "    fig.suptitle(\"\")\n"
   ]
  },
  {
   "cell_type": "markdown",
   "metadata": {},
   "source": [
    "Par exemple :"
   ]
  },
  {
   "cell_type": "code",
   "execution_count": 11,
   "metadata": {},
   "outputs": [
    {
     "data": {
      "image/png": "[encoded data removed]",
      "text/plain": [
       "<Figure size 576x576 with 9 Axes>"
      ]
     },
     "metadata": {
      "needs_background": "light"
     },
     "output_type": "display_data"
    }
   ],
   "source": [
    "compare_distribution(X, \"Ozone\", \"SolarR\")"
   ]
  },
  {
   "cell_type": "markdown",
   "metadata": {},
   "source": [
    "## Imputation"
   ]
  },
  {
   "cell_type": "markdown",
   "metadata": {},
   "source": [
    "### Imputation des données manquantes"
   ]
  },
  {
   "cell_type": "markdown",
   "metadata": {},
   "source": [
    "Pour chaque variable, la méthode par défaut utilisée est une régression linéaire. Cela peut être changé variable par variable avec la fonction [`set_imputer`](https://www.statsmodels.org/stable/generated/statsmodels.imputation.mice.MICEData.set_imputer.html#statsmodels.imputation.mice.MICEData.set_imputer). Cette fonction permet de définir le modèle utilisé, la formule et d'autres paramètres."
   ]
  },
  {
   "cell_type": "markdown",
   "metadata": {},
   "source": [
    "La méthode `update_all(n_iter)` effectue `n_iter` itérations (une itération = une mise à jour de chaque variable) de l'algorithme MICE."
   ]
  },
  {
   "cell_type": "code",
   "execution_count": 12,
   "metadata": {},
   "outputs": [
    {
     "data": {
      "text/html": [
       "<div>\n",
       "<style scoped>\n",
       "    .dataframe tbody tr th:only-of-type {\n",
       "        vertical-align: middle;\n",
       "    }\n",
       "\n",
       "    .dataframe tbody tr th {\n",
       "        vertical-align: top;\n",
       "    }\n",
       "\n",
       "    .dataframe thead th {\n",
       "        text-align: right;\n",
       "    }\n",
       "</style>\n",
       "<table border=\"1\" class=\"dataframe\">\n",
       "  <thead>\n",
       "    <tr style=\"text-align: right;\">\n",
       "      <th></th>\n",
       "      <th>Ozone</th>\n",
       "      <th>SolarR</th>\n",
       "      <th>Wind</th>\n",
       "      <th>Temp</th>\n",
       "    </tr>\n",
       "  </thead>\n",
       "  <tbody>\n",
       "    <tr>\n",
       "      <th>0</th>\n",
       "      <td>41.0</td>\n",
       "      <td>190.0</td>\n",
       "      <td>7.4</td>\n",
       "      <td>67</td>\n",
       "    </tr>\n",
       "    <tr>\n",
       "      <th>1</th>\n",
       "      <td>36.0</td>\n",
       "      <td>118.0</td>\n",
       "      <td>8.0</td>\n",
       "      <td>72</td>\n",
       "    </tr>\n",
       "    <tr>\n",
       "      <th>2</th>\n",
       "      <td>12.0</td>\n",
       "      <td>149.0</td>\n",
       "      <td>12.6</td>\n",
       "      <td>74</td>\n",
       "    </tr>\n",
       "    <tr>\n",
       "      <th>3</th>\n",
       "      <td>18.0</td>\n",
       "      <td>313.0</td>\n",
       "      <td>11.5</td>\n",
       "      <td>62</td>\n",
       "    </tr>\n",
       "    <tr>\n",
       "      <th>4</th>\n",
       "      <td>14.0</td>\n",
       "      <td>13.0</td>\n",
       "      <td>14.3</td>\n",
       "      <td>56</td>\n",
       "    </tr>\n",
       "  </tbody>\n",
       "</table>\n",
       "</div>"
      ],
      "text/plain": [
       "   Ozone  SolarR  Wind  Temp\n",
       "0   41.0   190.0   7.4    67\n",
       "1   36.0   118.0   8.0    72\n",
       "2   12.0   149.0  12.6    74\n",
       "3   18.0   313.0  11.5    62\n",
       "4   14.0    13.0  14.3    56"
      ]
     },
     "execution_count": 12,
     "metadata": {},
     "output_type": "execute_result"
    }
   ],
   "source": [
    "imp.update_all(n_iter=1)  # Code équivalent : imp.next_sample()\n",
    "imp.data.head()"
   ]
  },
  {
   "cell_type": "markdown",
   "metadata": {},
   "source": [
    "### Visualisation de la distribution d'une variable en fonction d'une variable avec manquant"
   ]
  },
  {
   "cell_type": "code",
   "execution_count": 13,
   "metadata": {},
   "outputs": [
    {
     "data": {
      "image/png": "[encoded data removed]",
      "text/plain": [
       "<Figure size 576x576 with 1 Axes>"
      ]
     },
     "metadata": {
      "needs_background": "light"
     },
     "output_type": "display_data"
    }
   ],
   "source": [
    "ax = imp.plot_bivariate(\"Ozone\", \"Wind\")"
   ]
  },
  {
   "cell_type": "code",
   "execution_count": 14,
   "metadata": {},
   "outputs": [
    {
     "data": {
      "image/png": "[encoded data removed]",
      "text/plain": [
       "<Figure size 576x576 with 1 Axes>"
      ]
     },
     "metadata": {
      "needs_background": "light"
     },
     "output_type": "display_data"
    }
   ],
   "source": [
    "ax = imp.plot_bivariate(\"SolarR\", \"Ozone\")"
   ]
  },
  {
   "cell_type": "code",
   "execution_count": 15,
   "metadata": {},
   "outputs": [
    {
     "data": {
      "image/png": "[encoded data removed]",
      "text/plain": [
       "<Figure size 576x576 with 1 Axes>"
      ]
     },
     "metadata": {
      "needs_background": "light"
     },
     "output_type": "display_data"
    },
    {
     "data": {
      "image/png": "[encoded data removed]",
      "text/plain": [
       "<Figure size 576x576 with 1 Axes>"
      ]
     },
     "metadata": {
      "needs_background": "light"
     },
     "output_type": "display_data"
    }
   ],
   "source": [
    "for var_name in [\"Ozone\", \"SolarR\"]:\n",
    "    ax = imp.plot_imputed_hist(var_name, imp_hist_args={\"density\": True},\n",
    "                               obs_hist_args={\"density\": True}, all_hist_args={\"density\": True})"
   ]
  },
  {
   "cell_type": "markdown",
   "metadata": {},
   "source": [
    "## Imputation multiple"
   ]
  },
  {
   "cell_type": "code",
   "execution_count": 16,
   "metadata": {},
   "outputs": [],
   "source": [
    "n_imputation = 10\n",
    "n_burn_iter = 5\n",
    "\n",
    "imp.update_all(n_burn_iter)\n",
    "\n",
    "imputed_data = []\n",
    "for m in range(n_imputation):\n",
    "    data = imp.next_sample()\n",
    "    imputed_data.append(data.copy())"
   ]
  },
  {
   "cell_type": "markdown",
   "metadata": {},
   "source": [
    "Un jeu de données imputées."
   ]
  },
  {
   "cell_type": "code",
   "execution_count": 17,
   "metadata": {},
   "outputs": [
    {
     "name": "stdout",
     "output_type": "stream",
     "text": [
      "   Ozone  SolarR  Wind  Temp\n",
      "0   41.0   190.0   7.4    67\n",
      "1   36.0   118.0   8.0    72\n",
      "2   12.0   149.0  12.6    74\n",
      "3   18.0   313.0  11.5    62\n",
      "4    8.0    14.0  14.3    56\n"
     ]
    },
    {
     "data": {
      "text/html": [
       "<div>\n",
       "<style scoped>\n",
       "    .dataframe tbody tr th:only-of-type {\n",
       "        vertical-align: middle;\n",
       "    }\n",
       "\n",
       "    .dataframe tbody tr th {\n",
       "        vertical-align: top;\n",
       "    }\n",
       "\n",
       "    .dataframe thead th {\n",
       "        text-align: right;\n",
       "    }\n",
       "</style>\n",
       "<table border=\"1\" class=\"dataframe\">\n",
       "  <thead>\n",
       "    <tr style=\"text-align: right;\">\n",
       "      <th></th>\n",
       "      <th>Ozone</th>\n",
       "      <th>SolarR</th>\n",
       "      <th>Wind</th>\n",
       "      <th>Temp</th>\n",
       "    </tr>\n",
       "  </thead>\n",
       "  <tbody>\n",
       "    <tr>\n",
       "      <th>count</th>\n",
       "      <td>153.000000</td>\n",
       "      <td>153.000000</td>\n",
       "      <td>153.000000</td>\n",
       "      <td>153.000000</td>\n",
       "    </tr>\n",
       "    <tr>\n",
       "      <th>mean</th>\n",
       "      <td>42.235294</td>\n",
       "      <td>185.895425</td>\n",
       "      <td>9.957516</td>\n",
       "      <td>77.882353</td>\n",
       "    </tr>\n",
       "    <tr>\n",
       "      <th>std</th>\n",
       "      <td>33.719190</td>\n",
       "      <td>91.408148</td>\n",
       "      <td>3.523001</td>\n",
       "      <td>9.465270</td>\n",
       "    </tr>\n",
       "    <tr>\n",
       "      <th>min</th>\n",
       "      <td>1.000000</td>\n",
       "      <td>7.000000</td>\n",
       "      <td>1.700000</td>\n",
       "      <td>56.000000</td>\n",
       "    </tr>\n",
       "    <tr>\n",
       "      <th>25%</th>\n",
       "      <td>18.000000</td>\n",
       "      <td>115.000000</td>\n",
       "      <td>7.400000</td>\n",
       "      <td>72.000000</td>\n",
       "    </tr>\n",
       "    <tr>\n",
       "      <th>50%</th>\n",
       "      <td>31.000000</td>\n",
       "      <td>207.000000</td>\n",
       "      <td>9.700000</td>\n",
       "      <td>79.000000</td>\n",
       "    </tr>\n",
       "    <tr>\n",
       "      <th>75%</th>\n",
       "      <td>61.000000</td>\n",
       "      <td>259.000000</td>\n",
       "      <td>11.500000</td>\n",
       "      <td>85.000000</td>\n",
       "    </tr>\n",
       "    <tr>\n",
       "      <th>max</th>\n",
       "      <td>168.000000</td>\n",
       "      <td>334.000000</td>\n",
       "      <td>20.700000</td>\n",
       "      <td>97.000000</td>\n",
       "    </tr>\n",
       "  </tbody>\n",
       "</table>\n",
       "</div>"
      ],
      "text/plain": [
       "            Ozone      SolarR        Wind        Temp\n",
       "count  153.000000  153.000000  153.000000  153.000000\n",
       "mean    42.235294  185.895425    9.957516   77.882353\n",
       "std     33.719190   91.408148    3.523001    9.465270\n",
       "min      1.000000    7.000000    1.700000   56.000000\n",
       "25%     18.000000  115.000000    7.400000   72.000000\n",
       "50%     31.000000  207.000000    9.700000   79.000000\n",
       "75%     61.000000  259.000000   11.500000   85.000000\n",
       "max    168.000000  334.000000   20.700000   97.000000"
      ]
     },
     "execution_count": 17,
     "metadata": {},
     "output_type": "execute_result"
    }
   ],
   "source": [
    "print(imputed_data[0].head())\n",
    "imputed_data[0].describe()"
   ]
  },
  {
   "cell_type": "code",
   "execution_count": 18,
   "metadata": {},
   "outputs": [],
   "source": [
    "def plot_imputed_data(mice_data, imputed_data, variable):\n",
    "    df_list = []\n",
    "    for i in range(len(imputed_data)):\n",
    "        df_temp = pd.DataFrame()\n",
    "        df_temp[variable] = imputed_data[i][variable].reset_index(drop=True)\n",
    "        df_temp[\"Imputation\"] = i\n",
    "        df_temp[\"miss\"] = False\n",
    "        df_temp.loc[mice_data.ix_miss[\"Ozone\"], \"miss\"] = True\n",
    "        df_list.append(df_temp)\n",
    "\n",
    "    df = pd.concat(df_list)\n",
    "\n",
    "    ax = sns.stripplot(data=df, x=\"Imputation\", y=\"Ozone\", hue=\"miss\")\n",
    "\n",
    "    return ax"
   ]
  },
  {
   "cell_type": "code",
   "execution_count": 19,
   "metadata": {},
   "outputs": [
    {
     "data": {
      "text/plain": [
       "<AxesSubplot:xlabel='Imputation', ylabel='Ozone'>"
      ]
     },
     "execution_count": 19,
     "metadata": {},
     "output_type": "execute_result"
    },
    {
     "data": {
      "image/png": "[encoded data removed]",
      "text/plain": [
       "<Figure size 576x576 with 1 Axes>"
      ]
     },
     "metadata": {
      "needs_background": "light"
     },
     "output_type": "display_data"
    }
   ],
   "source": [
    "plot_imputed_data(imp, imputed_data, \"Ozone\")"
   ]
  },
  {
   "cell_type": "markdown",
   "metadata": {},
   "source": [
    "## Regression linéaire dans le contexte de l’imputation multiple"
   ]
  },
  {
   "cell_type": "markdown",
   "metadata": {},
   "source": [
    "Pour appliquer un modèle de régression sur plusieurs jeux de données imputées, nous utilisons [`mice.Mice`](https://www.statsmodels.org/stable/generated/statsmodels.imputation.mice.MICE.html). Il prend notamment en arguments la formule, le modèle, un objet `MICEData`. La méthode `fit` de l'objet va imputer et appliquer le modèle fourni (ici une régression linéaire avec `sm.OLS`). On lui précise le nombre de burn-in itérations (itérations à faire avant de garder la 1ère imputation) et le nombre d'imputations à faire."
   ]
  },
  {
   "cell_type": "code",
   "execution_count": 20,
   "metadata": {},
   "outputs": [],
   "source": [
    "formula = \"Ozone ~ SolarR + Wind + Temp\"\n",
    "mice_fit = mice.MICE(formula, sm.OLS, imp, n_skip=3)  # n_skip : nombre d'itérations à faire entre 2 imputations\n",
    "results = mice_fit.fit(n_burnin=5, n_imputations=10)"
   ]
  },
  {
   "cell_type": "code",
   "execution_count": 21,
   "metadata": {},
   "outputs": [
    {
     "data": {
      "text/html": [
       "<table class=\"simpletable\">\n",
       "<tr>\n",
       "        <td>Method:</td>       <td>MICE</td>    <td>Sample size:</td>     <td>153</td> \n",
       "</tr>\n",
       "<tr>\n",
       "        <td>Model:</td>         <td>OLS</td>        <td>Scale</td>      <td>458.58</td>\n",
       "</tr>\n",
       "<tr>\n",
       "  <td>Dependent variable:</td> <td>Ozone</td> <td>Num. imputations</td>   <td>10</td>  \n",
       "</tr>\n",
       "</table>\n",
       "<table class=\"simpletable\">\n",
       "<tr>\n",
       "      <td></td>        <th>Coef.</th>  <th>Std.Err.</th>    <th>t</th>     <th>P>|t|</th>  <th>[0.025</th>    <th>0.975]</th>    <th>FMI</th> \n",
       "</tr>\n",
       "<tr>\n",
       "  <th>Intercept</th> <td>-60.2401</td>  <td>21.0331</td> <td>-2.8641</td> <td>0.0042</td> <td>-101.4642</td> <td>-19.0159</td> <td>0.1481</td>\n",
       "</tr>\n",
       "<tr>\n",
       "  <th>SolarR</th>     <td>0.0528</td>   <td>0.0224</td>  <td>2.3579</td>  <td>0.0184</td>  <td>0.0089</td>    <td>0.0966</td>  <td>0.1955</td>\n",
       "</tr>\n",
       "<tr>\n",
       "  <th>Wind</th>       <td>-3.0666</td>  <td>0.6067</td>  <td>-5.0541</td> <td>0.0000</td>  <td>-4.2558</td>   <td>-1.8774</td> <td>0.1567</td>\n",
       "</tr>\n",
       "<tr>\n",
       "  <th>Temp</th>       <td>1.5708</td>   <td>0.2367</td>  <td>6.6362</td>  <td>0.0000</td>  <td>1.1069</td>    <td>2.0347</td>  <td>0.1640</td>\n",
       "</tr>\n",
       "</table>"
      ],
      "text/plain": [
       "<class 'statsmodels.iolib.summary2.Summary'>\n",
       "\"\"\"\n",
       "                           Results: MICE\n",
       "====================================================================\n",
       "Method:                    MICE        Sample size:           153   \n",
       "Model:                     OLS         Scale                  458.58\n",
       "Dependent variable:        Ozone       Num. imputations       10    \n",
       "--------------------------------------------------------------------\n",
       "           Coef.   Std.Err.    t    P>|t|    [0.025   0.975]   FMI  \n",
       "--------------------------------------------------------------------\n",
       "Intercept -60.2401  21.0331 -2.8641 0.0042 -101.4642 -19.0159 0.1481\n",
       "SolarR      0.0528   0.0224  2.3579 0.0184    0.0089   0.0966 0.1955\n",
       "Wind       -3.0666   0.6067 -5.0541 0.0000   -4.2558  -1.8774 0.1567\n",
       "Temp        1.5708   0.2367  6.6362 0.0000    1.1069   2.0347 0.1640\n",
       "====================================================================\n",
       "\n",
       "\"\"\""
      ]
     },
     "execution_count": 21,
     "metadata": {},
     "output_type": "execute_result"
    }
   ],
   "source": [
    "results.summary()"
   ]
  },
  {
   "cell_type": "markdown",
   "metadata": {},
   "source": [
    "La statistique *FMI* représente la part de variance de l’estimateur due à l’imputation. Une valeur trop grande montre que l’imputation est probablement inappropriée dans ce cas. Une valeur < 0.3 est généralement tolérée."
   ]
  },
  {
   "cell_type": "code",
   "execution_count": 22,
   "metadata": {},
   "outputs": [
    {
     "data": {
      "text/plain": [
       "array([0.14807369, 0.19549912, 0.15669591, 0.16396402])"
      ]
     },
     "execution_count": 22,
     "metadata": {},
     "output_type": "execute_result"
    }
   ],
   "source": [
    "results.frac_miss_info"
   ]
  },
  {
   "cell_type": "markdown",
   "metadata": {},
   "source": [
    "Les coefficients moyens :"
   ]
  },
  {
   "cell_type": "code",
   "execution_count": 23,
   "metadata": {},
   "outputs": [
    {
     "data": {
      "text/plain": [
       "array([-6.02400809e+01,  5.27722654e-02, -3.06658200e+00,  1.57081379e+00])"
      ]
     },
     "execution_count": 23,
     "metadata": {},
     "output_type": "execute_result"
    }
   ],
   "source": [
    "results.params"
   ]
  },
  {
   "cell_type": "markdown",
   "metadata": {},
   "source": [
    "D'autres éléments que l'on peut récupérer :"
   ]
  },
  {
   "cell_type": "code",
   "execution_count": 24,
   "metadata": {},
   "outputs": [
    {
     "data": {
      "text/plain": [
       "array([4.18251724e-03, 1.83786543e-02, 4.32357277e-07, 3.21955267e-11])"
      ]
     },
     "execution_count": 24,
     "metadata": {},
     "output_type": "execute_result"
    }
   ],
   "source": [
    "results.normalized_cov_params\n",
    "results.scale\n",
    "results.tvalues\n",
    "results.pvalues"
   ]
  },
  {
   "cell_type": "markdown",
   "metadata": {},
   "source": [
    "Récupérer tous les coefficients :"
   ]
  },
  {
   "cell_type": "code",
   "execution_count": 25,
   "metadata": {},
   "outputs": [],
   "source": [
    "params = []\n",
    "for i in range(n_imputation):\n",
    "    params.append(mice_fit.results_list[i].params)\n",
    "\n",
    "params = pd.concat(params, ignore_index=True)"
   ]
  },
  {
   "cell_type": "markdown",
   "metadata": {},
   "source": [
    "Effectuer une prédiction avec les différents modèles :"
   ]
  },
  {
   "cell_type": "code",
   "execution_count": 26,
   "metadata": {},
   "outputs": [
    {
     "data": {
      "text/html": [
       "<div>\n",
       "<style scoped>\n",
       "    .dataframe tbody tr th:only-of-type {\n",
       "        vertical-align: middle;\n",
       "    }\n",
       "\n",
       "    .dataframe tbody tr th {\n",
       "        vertical-align: top;\n",
       "    }\n",
       "\n",
       "    .dataframe thead th {\n",
       "        text-align: right;\n",
       "    }\n",
       "</style>\n",
       "<table border=\"1\" class=\"dataframe\">\n",
       "  <thead>\n",
       "    <tr style=\"text-align: right;\">\n",
       "      <th></th>\n",
       "      <th>Ozone</th>\n",
       "      <th>SolarR</th>\n",
       "      <th>Wind</th>\n",
       "      <th>Temp</th>\n",
       "    </tr>\n",
       "  </thead>\n",
       "  <tbody>\n",
       "    <tr>\n",
       "      <th>0</th>\n",
       "      <td>41.0</td>\n",
       "      <td>190.0</td>\n",
       "      <td>7.4</td>\n",
       "      <td>67</td>\n",
       "    </tr>\n",
       "    <tr>\n",
       "      <th>1</th>\n",
       "      <td>36.0</td>\n",
       "      <td>118.0</td>\n",
       "      <td>8.0</td>\n",
       "      <td>72</td>\n",
       "    </tr>\n",
       "  </tbody>\n",
       "</table>\n",
       "</div>"
      ],
      "text/plain": [
       "   Ozone  SolarR  Wind  Temp\n",
       "0   41.0   190.0   7.4    67\n",
       "1   36.0   118.0   8.0    72"
      ]
     },
     "execution_count": 26,
     "metadata": {},
     "output_type": "execute_result"
    }
   ],
   "source": [
    "data_to_pred = X.iloc[:2]\n",
    "data_to_pred"
   ]
  },
  {
   "cell_type": "code",
   "execution_count": 27,
   "metadata": {},
   "outputs": [],
   "source": [
    "pred = np.zeros((len(results.model.results_list), len(data_to_pred)))\n",
    "for i in range(len(results.model.results_list)):\n",
    "    pred[i, :] = results.model.results_list[i].predict(data_to_pred)"
   ]
  },
  {
   "cell_type": "markdown",
   "metadata": {},
   "source": [
    "La 1ère colonne contient les prédictions des modèles pour le 1er individu (vraie valeur : 41) et la 2ème pour le 2ème individu (vrai valeur : 36)"
   ]
  },
  {
   "cell_type": "code",
   "execution_count": 28,
   "metadata": {},
   "outputs": [
    {
     "data": {
      "text/plain": [
       "array([[31.41797289, 34.86418947],\n",
       "       [32.67883755, 34.2041118 ],\n",
       "       [32.90432266, 35.39133721],\n",
       "       [32.70911739, 35.48998624],\n",
       "       [31.82773987, 33.47439501],\n",
       "       [32.02928919, 34.84908639],\n",
       "       [31.84451393, 33.02503272],\n",
       "       [33.42520393, 34.89747842],\n",
       "       [30.51240237, 34.23803651],\n",
       "       [34.03526912, 35.09618169]])"
      ]
     },
     "execution_count": 28,
     "metadata": {},
     "output_type": "execute_result"
    }
   ],
   "source": [
    "pred"
   ]
  },
  {
   "cell_type": "markdown",
   "metadata": {},
   "source": [
    "Dans le cas de la régression linéaire, la prédiction avec les coefficients moyens est équivalente à la moyenne des prédictions de chaque modèle:"
   ]
  },
  {
   "cell_type": "code",
   "execution_count": 29,
   "metadata": {},
   "outputs": [
    {
     "data": {
      "text/plain": [
       "array([32.33846689, 34.55298355])"
      ]
     },
     "execution_count": 29,
     "metadata": {},
     "output_type": "execute_result"
    }
   ],
   "source": [
    "np.mean(pred, axis=0)"
   ]
  },
  {
   "cell_type": "markdown",
   "metadata": {},
   "source": [
    "Ou directement avec les coefficients moyens :"
   ]
  },
  {
   "cell_type": "code",
   "execution_count": 30,
   "metadata": {},
   "outputs": [
    {
     "data": {
      "text/plain": [
       "array([32.33846689, 34.55298355])"
      ]
     },
     "execution_count": 30,
     "metadata": {},
     "output_type": "execute_result"
    }
   ],
   "source": [
    "results.params[0] + data_to_pred[mice_fit.exog_names[1:]].values.dot(results.params[1:])"
   ]
  }
 ],
 "metadata": {
  "interpreter": {
   "hash": "916dbcbb3f70747c44a77c7bcd40155683ae19c65e1c03b4aa3499c5328201f1"
  },
  "kernelspec": {
   "display_name": "Python 3.8.10 64-bit",
   "name": "python3"
  },
  "language_info": {
   "codemirror_mode": {
    "name": "ipython",
    "version": 3
   },
   "file_extension": ".py",
   "mimetype": "text/x-python",
   "name": "python",
   "nbconvert_exporter": "python",
   "pygments_lexer": "ipython3",
   "version": "3.8.10"
  },
  "orig_nbformat": 2
 },
 "nbformat": 4,
 "nbformat_minor": 2
}
