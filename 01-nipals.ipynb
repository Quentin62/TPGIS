{
 "cells": [
  {
   "cell_type": "markdown",
   "metadata": {},
   "source": [
    "# NIPALS\n",
    "\n",
    "- *Auteurs:* Quentin Grimonprez, Cristian Preda, Vincent Vandewalle\n",
    "- *Date:* 3 février 2020"
   ]
  },
  {
   "cell_type": "code",
   "execution_count": 1,
   "metadata": {},
   "outputs": [],
   "source": [
    "import matplotlib.pyplot as plt\n",
    "from matplotlib.ticker import MaxNLocator\n",
    "import numpy as np\n",
    "from sklearn.decomposition import PCA\n",
    "\n",
    "plt.style.use(\"seaborn\")\n",
    "plt.rcParams[\"figure.figsize\"] = 8, 8\n",
    "rng = np.random.default_rng(42)  # fixer le seed de l'aléatoire"
   ]
  },
  {
   "cell_type": "markdown",
   "metadata": {},
   "source": [
    "## Simulation des données"
   ]
  },
  {
   "cell_type": "code",
   "execution_count": 2,
   "metadata": {},
   "outputs": [
    {
     "data": {
      "text/plain": [
       "array([[1.23188337, 3.14347085, 3.38747085, 2.78091498],\n",
       "       [2.68390863, 3.01394039, 7.49967134, 4.42190575],\n",
       "       [1.47854511, 2.8752649 , 3.94930934, 2.96519088],\n",
       "       [0.88652465, 0.7900847 , 3.87468799, 2.70999804],\n",
       "       [1.15626546, 3.07337384, 3.34086297, 2.58239614],\n",
       "       [1.63844708, 2.6526894 , 4.28874731, 2.89878903],\n",
       "       [1.57275728, 2.27116509, 4.70553025, 3.26809815],\n",
       "       [1.31399837, 1.54228126, 3.15422406, 2.2028122 ],\n",
       "       [1.77750098, 2.74133885, 4.80741826, 3.42503327],\n",
       "       [0.97545041, 2.90650781, 4.23619526, 3.35994645]])"
      ]
     },
     "execution_count": 2,
     "metadata": {},
     "output_type": "execute_result"
    }
   ],
   "source": [
    "n = 100\n",
    "p = 4\n",
    "mu = [1, 2, 4, 3]\n",
    "cov = [[0.7, 0, 1.3, 0.5],\n",
    "       [0, 1.2, -0.3, -0.1],\n",
    "       [1.3, -0.3, 3.1, 1.3],\n",
    "       [0.5, -0.1, 1.3, 0.6]]\n",
    "\n",
    "X = rng.multivariate_normal(mu, cov, n)\n",
    "X[:10, ]"
   ]
  },
  {
   "cell_type": "markdown",
   "metadata": {},
   "source": [
    "On vérifie que les données sont \"bien\" simulées :\n",
    "- Les moyennes:"
   ]
  },
  {
   "cell_type": "code",
   "execution_count": 3,
   "metadata": {},
   "outputs": [
    {
     "data": {
      "text/plain": [
       "array([1.06, 2.08, 4.05, 3.01])"
      ]
     },
     "execution_count": 3,
     "metadata": {},
     "output_type": "execute_result"
    }
   ],
   "source": [
    "np.round(np.mean(X, axis=0), 2)"
   ]
  },
  {
   "cell_type": "markdown",
   "metadata": {},
   "source": [
    "- La matrice de variance-covariance :"
   ]
  },
  {
   "cell_type": "code",
   "execution_count": 4,
   "metadata": {},
   "outputs": [
    {
     "data": {
      "text/plain": [
       "array([[ 0.68, -0.09,  1.24,  0.46],\n",
       "       [-0.09,  1.12, -0.44, -0.14],\n",
       "       [ 1.24, -0.44,  2.98,  1.21],\n",
       "       [ 0.46, -0.14,  1.21,  0.53]])"
      ]
     },
     "execution_count": 4,
     "metadata": {},
     "output_type": "execute_result"
    }
   ],
   "source": [
    "np.round(np.cov(X.T), 2)"
   ]
  },
  {
   "cell_type": "markdown",
   "metadata": {},
   "source": [
    "## ACP normée sur les données simulées.\n"
   ]
  },
  {
   "cell_type": "code",
   "execution_count": 5,
   "metadata": {},
   "outputs": [
    {
     "data": {
      "text/plain": [
       "array([[1.50473599, 2.97966599, 1.97091461, 3.83947684],\n",
       "       [3.27837359, 2.85688531, 4.36349491, 6.10511464],\n",
       "       [1.80603139, 2.72543614, 2.29780619, 4.0938978 ],\n",
       "       [1.08288299, 0.74891374, 2.25438963, 3.74156521],\n",
       "       [1.41236929, 2.91322171, 1.94379699, 3.56539133],\n",
       "       [2.00135041, 2.51445895, 2.49529962, 4.00221993],\n",
       "       [1.92111083, 2.1528157 , 2.73779428, 4.51210744],\n",
       "       [1.60503882, 1.46191368, 1.83520584, 3.04131788],\n",
       "       [2.17120366, 2.59848891, 2.79707525, 4.72878029],\n",
       "       [1.19150511, 2.75505099, 2.46472353, 4.63891801]])"
      ]
     },
     "execution_count": 5,
     "metadata": {},
     "output_type": "execute_result"
    }
   ],
   "source": [
    "sd = X.std(axis=0, ddof=0)\n",
    "X_scaled = X / sd\n",
    "X_scaled[:10, ]"
   ]
  },
  {
   "cell_type": "code",
   "execution_count": 6,
   "metadata": {},
   "outputs": [
    {
     "data": {
      "text/plain": [
       "PCA(n_components=4)"
      ]
     },
     "execution_count": 6,
     "metadata": {},
     "output_type": "execute_result"
    }
   ],
   "source": [
    "pca = PCA(n_components=4)\n",
    "pca.fit(X_scaled)"
   ]
  },
  {
   "cell_type": "markdown",
   "metadata": {},
   "source": [
    "- valeurs propres"
   ]
  },
  {
   "cell_type": "code",
   "execution_count": 7,
   "metadata": {},
   "outputs": [
    {
     "data": {
      "text/plain": [
       "array([2.82415221, 0.96655006, 0.23306123, 0.01664054])"
      ]
     },
     "execution_count": 7,
     "metadata": {},
     "output_type": "execute_result"
    }
   ],
   "source": [
    "pca.explained_variance_"
   ]
  },
  {
   "cell_type": "markdown",
   "metadata": {},
   "source": [
    "- facteurs principaux"
   ]
  },
  {
   "cell_type": "code",
   "execution_count": 8,
   "metadata": {},
   "outputs": [
    {
     "data": {
      "text/plain": [
       "array([[-0.54407827,  0.16875229, -0.59263506, -0.56946044],\n",
       "       [ 0.18040406,  0.97972749,  0.03806101,  0.0783567 ],\n",
       "       [-0.77938323,  0.0892577 ,  0.16706563,  0.5972302 ],\n",
       "       [ 0.25297231, -0.06074344, -0.78703502,  0.55936671]])"
      ]
     },
     "execution_count": 8,
     "metadata": {},
     "output_type": "execute_result"
    }
   ],
   "source": [
    "pca.components_"
   ]
  },
  {
   "cell_type": "markdown",
   "metadata": {},
   "source": [
    "- composantes principales"
   ]
  },
  {
   "cell_type": "code",
   "execution_count": 9,
   "metadata": {},
   "outputs": [
    {
     "data": {
      "text/plain": [
       "array([[ 0.46509805,  0.98837386, -0.3289216 ,  0.11656863],\n",
       "       [-3.2287372 ,  1.45664559,  0.03060112, -0.04301417],\n",
       "       [-0.08034218,  0.8260302 , -0.37987793,  0.09327031],\n",
       "       [ 0.20593412, -1.27014213, -0.21036512, -0.13251822],\n",
       "       [ 0.67629184,  0.88410469, -0.43108578, -0.03473332],\n",
       "       [-0.28704851,  0.65489962, -0.57269607, -0.0512197 ],\n",
       "       [-0.73849162,  0.33529494, -0.19740539,  0.04481167],\n",
       "       [ 0.68934701, -0.54822109, -1.04192394, -0.10552004],\n",
       "       [-0.95787193,  0.83628506, -0.2132364 ,  0.15554989],\n",
       "       [-0.15028273,  0.79324069,  0.45510558,  0.10950964]])"
      ]
     },
     "execution_count": 9,
     "metadata": {},
     "output_type": "execute_result"
    }
   ],
   "source": [
    "comp = pca.transform(X_scaled)\n",
    "comp[:10, :]"
   ]
  },
  {
   "cell_type": "markdown",
   "metadata": {},
   "source": [
    "Scikit-learn ne propose pas de fonctions graphiques pour l'ACP. Nous écrivons donc ces fonctions."
   ]
  },
  {
   "cell_type": "code",
   "execution_count": 10,
   "metadata": {},
   "outputs": [],
   "source": [
    "def plot_explained_variance(pca, cumulative=False):\n",
    "    _, ax = plt.subplots()\n",
    "    ax.xaxis.set_major_locator(MaxNLocator(integer=True))\n",
    "\n",
    "    if cumulative:\n",
    "        cumul_ratio = np.cumsum(pca.explained_variance_ratio_)\n",
    "        ax.bar(range(len(cumul_ratio) + 1), np.concatenate(([0], cumul_ratio)))\n",
    "        ax.set_ylabel(\"Cumulative explained variance ratio\")\n",
    "        ax.set_title(\"Cumulative explained variance ratio\")\n",
    "    else:\n",
    "        ax.bar(range(1, len(pca.explained_variance_ratio_) + 1), pca.explained_variance_ratio_)\n",
    "        ax.set_ylabel(\"Explained variance ratio\")\n",
    "        ax.set_title(\"Explained variance ratio\")\n",
    "\n",
    "    ax.set_xlabel(\"Number of components\")\n",
    "\n",
    "    return ax\n",
    "\n",
    "\n",
    "def plot_individuals(score, comp=[0, 1]):\n",
    "    _, ax = plt.subplots()\n",
    "    ax.axhline(y=0, color=\"k\", lw=1, ls=\"--\")\n",
    "    ax.axvline(x=0, color=\"k\", lw=1, ls=\"--\")\n",
    "    ax.scatter(score[:, comp[0]], score[:, comp[1]])\n",
    "    ax.set_xlabel(\"Dim \" + str(comp[0]))\n",
    "    ax.set_ylabel(\"Dim \" + str(comp[1]))\n",
    "    ax.set_title(\"PCA graph of individuals\")\n",
    "\n",
    "    return ax\n",
    "\n",
    "\n",
    "def get_var_contribution(pca):\n",
    "    return pca.components_ * np.sqrt(pca.explained_variance_[:pca.n_components_]).reshape(-1, 1)\n",
    "\n",
    "\n",
    "def plot_variables(pca, comp=[0, 1], label=None):\n",
    "    _, ax = plt.subplots()\n",
    "\n",
    "    if label is None:\n",
    "        label = [\"V\" + str(i) for i in range(pca.n_features_)]\n",
    "\n",
    "    var_contrib = get_var_contribution(pca)\n",
    "\n",
    "    # plot circle + axis\n",
    "    an = np.linspace(0, 2 * np.pi, 100)\n",
    "    ax.plot(np.cos(an), np.sin(an), color=\"k\")\n",
    "    ax.axhline(y=0, color=\"k\", lw=1, ls=\"--\")\n",
    "    ax.axvline(x=0, color=\"k\", lw=1, ls=\"--\")\n",
    "\n",
    "    # plot arrow + text\n",
    "    for i in range(pca.n_features_):\n",
    "        ax.arrow(0, 0,\n",
    "                  var_contrib[comp[0], i], var_contrib[comp[1], i],\n",
    "                  head_width=0.01, head_length=0.01)\n",
    "\n",
    "        ax.text(var_contrib[comp[0], i] + 0.025,\n",
    "                 var_contrib[comp[1], i] + 0.025,\n",
    "                 label[i])\n",
    "\n",
    "    ax.set_xlabel(\"Dim \" + str(comp[0]) + \" (\" + str(round(pca.explained_variance_ratio_[comp[0]] * 100, 2)) + \"%)\")\n",
    "    ax.set_ylabel(\"Dim \" + str(comp[1]) + \" (\" + str(round(pca.explained_variance_ratio_[comp[1]] * 100, 2)) + \"%)\")\n",
    "    ax.set_title(\"PCA graph of variables\")\n",
    "\n",
    "    return ax"
   ]
  },
  {
   "cell_type": "code",
   "execution_count": 11,
   "metadata": {},
   "outputs": [
    {
     "data": {
      "text/plain": [
       "<AxesSubplot:title={'center':'Explained variance ratio'}, xlabel='Number of components', ylabel='Explained variance ratio'>"
      ]
     },
     "execution_count": 11,
     "metadata": {},
     "output_type": "execute_result"
    },
    {
     "data": {
      "image/png": "[encoded data removed]",
      "text/plain": [
       "<Figure size 576x576 with 1 Axes>"
      ]
     },
     "metadata": {},
     "output_type": "display_data"
    }
   ],
   "source": [
    "plot_explained_variance(pca, cumulative=False)"
   ]
  },
  {
   "cell_type": "code",
   "execution_count": 12,
   "metadata": {},
   "outputs": [
    {
     "data": {
      "text/plain": [
       "<AxesSubplot:title={'center':'PCA graph of individuals'}, xlabel='Dim 0', ylabel='Dim 1'>"
      ]
     },
     "execution_count": 12,
     "metadata": {},
     "output_type": "execute_result"
    },
    {
     "data": {
      "image/png": "[encoded data removed]",
      "text/plain": [
       "<Figure size 576x576 with 1 Axes>"
      ]
     },
     "metadata": {},
     "output_type": "display_data"
    }
   ],
   "source": [
    "plot_individuals(comp, [0, 1])"
   ]
  },
  {
   "cell_type": "code",
   "execution_count": 13,
   "metadata": {},
   "outputs": [
    {
     "data": {
      "text/plain": [
       "<AxesSubplot:title={'center':'PCA graph of variables'}, xlabel='Dim 0 (69.9%)', ylabel='Dim 1 (23.92%)'>"
      ]
     },
     "execution_count": 13,
     "metadata": {},
     "output_type": "execute_result"
    },
    {
     "data": {
      "image/png": "[encoded data removed]",
      "text/plain": [
       "<Figure size 576x576 with 1 Axes>"
      ]
     },
     "metadata": {},
     "output_type": "display_data"
    }
   ],
   "source": [
    "plot_variables(pca)"
   ]
  },
  {
   "cell_type": "markdown",
   "metadata": {},
   "source": [
    "### NIPALS sans traitement des données manquantes"
   ]
  },
  {
   "cell_type": "code",
   "execution_count": 14,
   "metadata": {},
   "outputs": [],
   "source": [
    "def NIPALS(X, h=2, iter=100):\n",
    "    # renvoie les composantes principales (CP), les facteurs principaux (FP) et les données reconstituées avec h composantes (Xrec)\n",
    "    n, p = X.shape\n",
    "\n",
    "    # centrer et réduire matrice X\n",
    "    m = X.mean(axis=0)\n",
    "    s = X.std(axis=0, ddof=0)\n",
    "    X_reduit = (X - m) / s\n",
    "\n",
    "    # on réserve la place pour:\n",
    "    CP = np.zeros((n, h))  # les composantes principales\n",
    "    FP = np.zeros((h, p))  # les facteurs principaux\n",
    "    X_recons = np.zeros((n, p))  # les données reconstituées\n",
    "\n",
    "    # déroulement de l'algorithme:\n",
    "    for i in range(h):\n",
    "        # voir pages 30-32 du cours\n",
    "        cp, fp = calcul_cp_fp(X_reduit, iter)  # fonction qui calcule la 1ere comp. princ et 1er fact. principal\n",
    "        CP[:, i] = cp\n",
    "        FP[i, :] = fp\n",
    "        X_reduit -= np.matmul(cp.reshape(-1, 1), fp.reshape(1, -1))\n",
    "\n",
    "    # Reconstitution des données avec h composantes\n",
    "    X_recons = np.matmul(CP, FP)\n",
    "    X_recons *= s\n",
    "    X_recons += m\n",
    "\n",
    "    return CP, FP, X_recons\n",
    "\n",
    "\n",
    "def calcul_cp_fp(X, iter=100):\n",
    "    cp = X[:, 0].copy()\n",
    "    fp = np.zeros((X.shape[1], ))\n",
    "    for i in range(iter):\n",
    "        fp = np.matmul(X.T, cp)\n",
    "\n",
    "        # on normalize fp:\n",
    "        fp /= np.sqrt(np.sum(fp**2))\n",
    "        cp = np.matmul(X, fp)\n",
    "\n",
    "    return cp, fp"
   ]
  },
  {
   "cell_type": "markdown",
   "metadata": {},
   "source": [
    "### Application de NIPALS aux données simulées\n",
    "Voici ce qu'on obtient avec h=4 composantes. À comparer avec ce qui est donné par scikit-learn dans l'objet 'pca'."
   ]
  },
  {
   "cell_type": "code",
   "execution_count": 15,
   "metadata": {},
   "outputs": [],
   "source": [
    "cp, fp, X_rec = NIPALS(X, h=p)"
   ]
  },
  {
   "cell_type": "markdown",
   "metadata": {},
   "source": [
    "Les facteurs principaux :\n",
    "- nipals"
   ]
  },
  {
   "cell_type": "code",
   "execution_count": 16,
   "metadata": {},
   "outputs": [
    {
     "data": {
      "text/plain": [
       "array([[ 0.54407827, -0.16875229,  0.59263506,  0.56946044],\n",
       "       [ 0.18040406,  0.97972749,  0.03806101,  0.0783567 ],\n",
       "       [ 0.77938323, -0.0892577 , -0.16706563, -0.5972302 ],\n",
       "       [ 0.25297231, -0.06074344, -0.78703502,  0.55936671]])"
      ]
     },
     "execution_count": 16,
     "metadata": {},
     "output_type": "execute_result"
    }
   ],
   "source": [
    "fp"
   ]
  },
  {
   "cell_type": "markdown",
   "metadata": {},
   "source": [
    "- scikit-learn"
   ]
  },
  {
   "cell_type": "code",
   "execution_count": 17,
   "metadata": {},
   "outputs": [
    {
     "data": {
      "text/plain": [
       "array([[-0.54407827,  0.16875229, -0.59263506, -0.56946044],\n",
       "       [ 0.18040406,  0.97972749,  0.03806101,  0.0783567 ],\n",
       "       [-0.77938323,  0.0892577 ,  0.16706563,  0.5972302 ],\n",
       "       [ 0.25297231, -0.06074344, -0.78703502,  0.55936671]])"
      ]
     },
     "execution_count": 17,
     "metadata": {},
     "output_type": "execute_result"
    }
   ],
   "source": [
    "pca.components_"
   ]
  },
  {
   "cell_type": "markdown",
   "metadata": {},
   "source": [
    "Les composantes principales :\n",
    "- nipals"
   ]
  },
  {
   "cell_type": "code",
   "execution_count": 18,
   "metadata": {},
   "outputs": [
    {
     "data": {
      "text/plain": [
       "array([[-0.46509805,  0.98837386,  0.3289216 ,  0.11656863],\n",
       "       [ 3.2287372 ,  1.45664559, -0.03060112, -0.04301417],\n",
       "       [ 0.08034218,  0.8260302 ,  0.37987793,  0.09327031],\n",
       "       [-0.20593412, -1.27014213,  0.21036512, -0.13251822],\n",
       "       [-0.67629184,  0.88410469,  0.43108578, -0.03473332],\n",
       "       [ 0.28704851,  0.65489962,  0.57269607, -0.0512197 ]])"
      ]
     },
     "execution_count": 18,
     "metadata": {},
     "output_type": "execute_result"
    }
   ],
   "source": [
    "cp[:6, :]"
   ]
  },
  {
   "cell_type": "markdown",
   "metadata": {},
   "source": [
    "- scikit-learn"
   ]
  },
  {
   "cell_type": "code",
   "execution_count": 19,
   "metadata": {},
   "outputs": [
    {
     "data": {
      "text/plain": [
       "array([[ 0.46509805,  0.98837386, -0.3289216 ,  0.11656863],\n",
       "       [-3.2287372 ,  1.45664559,  0.03060112, -0.04301417],\n",
       "       [-0.08034218,  0.8260302 , -0.37987793,  0.09327031],\n",
       "       [ 0.20593412, -1.27014213, -0.21036512, -0.13251822],\n",
       "       [ 0.67629184,  0.88410469, -0.43108578, -0.03473332],\n",
       "       [-0.28704851,  0.65489962, -0.57269607, -0.0512197 ]])"
      ]
     },
     "execution_count": 19,
     "metadata": {},
     "output_type": "execute_result"
    }
   ],
   "source": [
    "comp[:6, :]"
   ]
  },
  {
   "cell_type": "markdown",
   "metadata": {},
   "source": [
    "#### La reconstitution complète des données (toutes les composantes principales) \n",
    "\n",
    "La reconstitution des données avec toutes les composantes principales.\n",
    "- Données reconstituées"
   ]
  },
  {
   "cell_type": "code",
   "execution_count": 20,
   "metadata": {},
   "outputs": [
    {
     "data": {
      "text/plain": [
       "array([[1.23188337, 3.14347085, 3.38747085, 2.78091498],\n",
       "       [2.68390863, 3.01394039, 7.49967134, 4.42190575],\n",
       "       [1.47854511, 2.8752649 , 3.94930934, 2.96519088],\n",
       "       [0.88652465, 0.7900847 , 3.87468799, 2.70999804],\n",
       "       [1.15626546, 3.07337384, 3.34086297, 2.58239614],\n",
       "       [1.63844708, 2.6526894 , 4.28874731, 2.89878903]])"
      ]
     },
     "execution_count": 20,
     "metadata": {},
     "output_type": "execute_result"
    }
   ],
   "source": [
    "X_rec[:6, :]"
   ]
  },
  {
   "cell_type": "markdown",
   "metadata": {},
   "source": [
    "- Données"
   ]
  },
  {
   "cell_type": "code",
   "execution_count": 21,
   "metadata": {},
   "outputs": [
    {
     "data": {
      "text/plain": [
       "array([[1.23188337, 3.14347085, 3.38747085, 2.78091498],\n",
       "       [2.68390863, 3.01394039, 7.49967134, 4.42190575],\n",
       "       [1.47854511, 2.8752649 , 3.94930934, 2.96519088],\n",
       "       [0.88652465, 0.7900847 , 3.87468799, 2.70999804],\n",
       "       [1.15626546, 3.07337384, 3.34086297, 2.58239614],\n",
       "       [1.63844708, 2.6526894 , 4.28874731, 2.89878903]])"
      ]
     },
     "execution_count": 21,
     "metadata": {},
     "output_type": "execute_result"
    }
   ],
   "source": [
    "X[:6, :]"
   ]
  },
  {
   "cell_type": "markdown",
   "metadata": {},
   "source": [
    "#### Approximation des données avec quelques composantes (ici h=2)\n",
    "\n",
    "Voici la reconstitution des données avec juste deux composantes :"
   ]
  },
  {
   "cell_type": "code",
   "execution_count": 22,
   "metadata": {},
   "outputs": [],
   "source": [
    "cp, fp, X_rec = NIPALS(X, h=2)"
   ]
  },
  {
   "cell_type": "markdown",
   "metadata": {},
   "source": [
    "- Données reconstituées"
   ]
  },
  {
   "cell_type": "code",
   "execution_count": 23,
   "metadata": {},
   "outputs": [
    {
     "data": {
      "text/plain": [
       "array([[0.99787074, 3.18191365, 3.63960016, 2.87596954],\n",
       "       [2.71234221, 3.00830238, 7.4326992 , 4.42609564],\n",
       "       [1.21684447, 2.91701296, 4.18455463, 3.09172691],\n",
       "       [0.77974411, 0.80140151, 3.75583487, 2.85468521],\n",
       "       [0.88840092, 3.11174104, 3.41766147, 2.78294344],\n",
       "       [1.28364127, 2.70333478, 4.38390676, 3.16727224]])"
      ]
     },
     "execution_count": 23,
     "metadata": {},
     "output_type": "execute_result"
    }
   ],
   "source": [
    "X_rec[:6, :]"
   ]
  },
  {
   "cell_type": "markdown",
   "metadata": {},
   "source": [
    "- Données"
   ]
  },
  {
   "cell_type": "code",
   "execution_count": 24,
   "metadata": {},
   "outputs": [
    {
     "data": {
      "text/plain": [
       "array([[1.23188337, 3.14347085, 3.38747085, 2.78091498],\n",
       "       [2.68390863, 3.01394039, 7.49967134, 4.42190575],\n",
       "       [1.47854511, 2.8752649 , 3.94930934, 2.96519088],\n",
       "       [0.88652465, 0.7900847 , 3.87468799, 2.70999804],\n",
       "       [1.15626546, 3.07337384, 3.34086297, 2.58239614],\n",
       "       [1.63844708, 2.6526894 , 4.28874731, 2.89878903]])"
      ]
     },
     "execution_count": 24,
     "metadata": {},
     "output_type": "execute_result"
    }
   ],
   "source": [
    "X[:6, :]"
   ]
  },
  {
   "cell_type": "markdown",
   "metadata": {},
   "source": [
    "## NIPALS avec données manquantes.\n",
    "L'algorithme précédent est adapté aux cas où il n'y a pas de données manquantes. Les points à modifier sont au niveau du :\n",
    "\n",
    "  - calcul des moyennes (m) et écart-types (s)\n",
    "  - calcul des composantes et facteurs dans la fonction calcul_cp_fp\n",
    "\n",
    "On ré-écrit donc ces fonctions en les renommant : *NIPALS_dm* et *calcul_cp_fp_dm* "
   ]
  },
  {
   "cell_type": "code",
   "execution_count": 25,
   "metadata": {},
   "outputs": [],
   "source": [
    "def NIPALS_dm(X, h=2, iter=100):\n",
    "    # renvoie les composantes principales (CP), les facteurs principaux (FP) et les données reconstituées avec h composantes (Xrec)\n",
    "    n, p = X.shape\n",
    "\n",
    "    # centrer et réduire matrice X\n",
    "    m = np.nanmean(X, axis=0)\n",
    "    s = np.nanstd(X, axis=0, ddof=0)\n",
    "    X_reduit = (X - m) / s\n",
    "\n",
    "    # on réserve la place pour:\n",
    "    CP = np.zeros((n, h))  # les composantes principales\n",
    "    FP = np.zeros((h, p))  # les facteurs principaux\n",
    "    X_recons = np.zeros((n, p))  # les données reconstituées\n",
    "\n",
    "    # déroulement de l'algorithme:\n",
    "    for i in range(h):\n",
    "        # voir pages 30-32 du cours\n",
    "        cp, fp = calcul_cp_fp_dm(X_reduit, iter)  # fonction qui calcule la 1ere comp. princ et 1er fact. principal\n",
    "        CP[:, i] = cp\n",
    "        FP[i, :] = fp\n",
    "        X_reduit -= np.matmul(cp.reshape(-1, 1), fp.reshape(1, -1))\n",
    "\n",
    "    # Reconstitution des données avec h composantes\n",
    "    X_recons = np.matmul(CP, FP)\n",
    "    X_recons *= s\n",
    "    X_recons += m\n",
    "\n",
    "    return CP, FP, X_rec\n",
    "\n",
    "\n",
    "def calcul_cp_fp_dm(X, iter=100):\n",
    "    cp = X[:, 0].copy()\n",
    "    fp = np.zeros((X.shape[1], ))\n",
    "    for i in range(iter):\n",
    "        for j in range(X.shape[1]):\n",
    "            fp[j] = np.nansum(X[:, j] * cp)\n",
    "\n",
    "        # on normalize fp:\n",
    "        fp /= np.sqrt(np.sum(fp**2))\n",
    "\n",
    "        for j in range(X.shape[0]):\n",
    "            cp[j] = np.nansum(X[j, :] * fp)\n",
    "\n",
    "    return cp, fp"
   ]
  },
  {
   "cell_type": "markdown",
   "metadata": {},
   "source": [
    "On vérifie que la version modifiée *NIPALS_dm* donne les mêmes résultats que *NIPALS* lorsqu'il n'y a pas données manquantes. "
   ]
  },
  {
   "cell_type": "code",
   "execution_count": 26,
   "metadata": {},
   "outputs": [],
   "source": [
    "cp_dm, fp_dm, X_rec_dm = NIPALS_dm(X, h=p)\n",
    "cp, fp, X_rec = NIPALS(X, h=p)"
   ]
  },
  {
   "cell_type": "markdown",
   "metadata": {},
   "source": [
    "Les facteurs principaux :"
   ]
  },
  {
   "cell_type": "code",
   "execution_count": 27,
   "metadata": {},
   "outputs": [
    {
     "data": {
      "text/plain": [
       "array([[ 0.54407827, -0.16875229,  0.59263506,  0.56946044],\n",
       "       [ 0.18040406,  0.97972749,  0.03806101,  0.0783567 ],\n",
       "       [ 0.77938323, -0.0892577 , -0.16706563, -0.5972302 ],\n",
       "       [ 0.25297231, -0.06074344, -0.78703502,  0.55936671]])"
      ]
     },
     "execution_count": 27,
     "metadata": {},
     "output_type": "execute_result"
    }
   ],
   "source": [
    "fp_dm"
   ]
  },
  {
   "cell_type": "code",
   "execution_count": 28,
   "metadata": {},
   "outputs": [
    {
     "data": {
      "text/plain": [
       "array([[ 0.54407827, -0.16875229,  0.59263506,  0.56946044],\n",
       "       [ 0.18040406,  0.97972749,  0.03806101,  0.0783567 ],\n",
       "       [ 0.77938323, -0.0892577 , -0.16706563, -0.5972302 ],\n",
       "       [ 0.25297231, -0.06074344, -0.78703502,  0.55936671]])"
      ]
     },
     "execution_count": 28,
     "metadata": {},
     "output_type": "execute_result"
    }
   ],
   "source": [
    "fp"
   ]
  },
  {
   "cell_type": "markdown",
   "metadata": {},
   "source": [
    "Les composantes principales :"
   ]
  },
  {
   "cell_type": "code",
   "execution_count": 29,
   "metadata": {},
   "outputs": [
    {
     "data": {
      "text/plain": [
       "array([[-0.46509805,  0.98837386,  0.3289216 ,  0.11656863],\n",
       "       [ 3.2287372 ,  1.45664559, -0.03060112, -0.04301417],\n",
       "       [ 0.08034218,  0.8260302 ,  0.37987793,  0.09327031],\n",
       "       [-0.20593412, -1.27014213,  0.21036512, -0.13251822],\n",
       "       [-0.67629184,  0.88410469,  0.43108578, -0.03473332],\n",
       "       [ 0.28704851,  0.65489962,  0.57269607, -0.0512197 ]])"
      ]
     },
     "execution_count": 29,
     "metadata": {},
     "output_type": "execute_result"
    }
   ],
   "source": [
    "cp_dm[:6, :]"
   ]
  },
  {
   "cell_type": "code",
   "execution_count": 30,
   "metadata": {},
   "outputs": [
    {
     "data": {
      "text/plain": [
       "array([[-0.46509805,  0.98837386,  0.3289216 ,  0.11656863],\n",
       "       [ 3.2287372 ,  1.45664559, -0.03060112, -0.04301417],\n",
       "       [ 0.08034218,  0.8260302 ,  0.37987793,  0.09327031],\n",
       "       [-0.20593412, -1.27014213,  0.21036512, -0.13251822],\n",
       "       [-0.67629184,  0.88410469,  0.43108578, -0.03473332],\n",
       "       [ 0.28704851,  0.65489962,  0.57269607, -0.0512197 ]])"
      ]
     },
     "execution_count": 30,
     "metadata": {},
     "output_type": "execute_result"
    }
   ],
   "source": [
    "cp[:6, :]"
   ]
  },
  {
   "cell_type": "markdown",
   "metadata": {},
   "source": [
    "Les données reconstituées :"
   ]
  },
  {
   "cell_type": "code",
   "execution_count": 31,
   "metadata": {},
   "outputs": [
    {
     "data": {
      "text/plain": [
       "array([[0.99787074, 3.18191365, 3.63960016, 2.87596954],\n",
       "       [2.71234221, 3.00830238, 7.4326992 , 4.42609564],\n",
       "       [1.21684447, 2.91701296, 4.18455463, 3.09172691],\n",
       "       [0.77974411, 0.80140151, 3.75583487, 2.85468521],\n",
       "       [0.88840092, 3.11174104, 3.41766147, 2.78294344],\n",
       "       [1.28364127, 2.70333478, 4.38390676, 3.16727224]])"
      ]
     },
     "execution_count": 31,
     "metadata": {},
     "output_type": "execute_result"
    }
   ],
   "source": [
    "X_rec_dm[:6, :]"
   ]
  },
  {
   "cell_type": "code",
   "execution_count": 32,
   "metadata": {},
   "outputs": [
    {
     "data": {
      "text/plain": [
       "array([[1.23188337, 3.14347085, 3.38747085, 2.78091498],\n",
       "       [2.68390863, 3.01394039, 7.49967134, 4.42190575],\n",
       "       [1.47854511, 2.8752649 , 3.94930934, 2.96519088],\n",
       "       [0.88652465, 0.7900847 , 3.87468799, 2.70999804],\n",
       "       [1.15626546, 3.07337384, 3.34086297, 2.58239614],\n",
       "       [1.63844708, 2.6526894 , 4.28874731, 2.89878903]])"
      ]
     },
     "execution_count": 32,
     "metadata": {},
     "output_type": "execute_result"
    }
   ],
   "source": [
    "X_rec[:6, :]"
   ]
  },
  {
   "cell_type": "markdown",
   "metadata": {},
   "source": [
    "Parfait!"
   ]
  },
  {
   "cell_type": "markdown",
   "metadata": {},
   "source": [
    "### Simulation des données manquantes sur la matrice X\n"
   ]
  },
  {
   "cell_type": "code",
   "execution_count": 33,
   "metadata": {},
   "outputs": [],
   "source": [
    "# pourcentage des données manquantes\n",
    "prop_miss = 0.1\n",
    "# génération des valeurs manquantes\n",
    "X_miss = X.copy()\n",
    "ind = rng.random((n, p))\n",
    "is_missing = ind < prop_miss\n",
    "X_miss[is_missing] = np.nan"
   ]
  },
  {
   "cell_type": "markdown",
   "metadata": {},
   "source": [
    "Nombre de manquants par colonne :"
   ]
  },
  {
   "cell_type": "code",
   "execution_count": 34,
   "metadata": {},
   "outputs": [
    {
     "data": {
      "text/plain": [
       "array([ 9,  6, 20, 11])"
      ]
     },
     "execution_count": 34,
     "metadata": {},
     "output_type": "execute_result"
    }
   ],
   "source": [
    "np.isnan(X_miss).sum(axis=0)"
   ]
  },
  {
   "cell_type": "markdown",
   "metadata": {},
   "source": [
    "Voici les valeurs qui ont été déclarées manquantes :"
   ]
  },
  {
   "cell_type": "code",
   "execution_count": 35,
   "metadata": {},
   "outputs": [
    {
     "data": {
      "text/plain": [
       "array([ 3.01394039,  7.49967134,  4.42190575,  0.88652465,  3.34086297,\n",
       "        1.77750098,  4.80741826,  4.23619526, -0.10588813,  4.96592085,\n",
       "        2.2224621 ,  4.57506364,  3.5085072 ,  3.41285513,  3.06144548,\n",
       "        1.46074951,  2.11144813,  3.2752856 ,  1.20344408,  2.76090799,\n",
       "        3.31289671,  0.30332669,  3.06252788,  3.52716513,  5.64925906,\n",
       "        0.7972992 ,  1.92393853,  0.56638218,  3.09186486,  4.07118995,\n",
       "        0.20240732,  2.32633613,  1.4963125 ,  3.9421519 , -1.00301296,\n",
       "        1.93548331,  7.97703491,  1.23682406,  0.0760175 ,  4.14315011,\n",
       "        3.64241138,  4.06142202,  4.37938677,  0.11648195,  4.75510937,\n",
       "        3.20818419])"
      ]
     },
     "execution_count": 35,
     "metadata": {},
     "output_type": "execute_result"
    }
   ],
   "source": [
    "X[is_missing]"
   ]
  },
  {
   "cell_type": "markdown",
   "metadata": {},
   "source": [
    "### Imputation des valeurs manquantes avec NIPALS :"
   ]
  },
  {
   "cell_type": "code",
   "execution_count": 36,
   "metadata": {},
   "outputs": [],
   "source": [
    "cp_imp, fp_imp, X_rec_imp = NIPALS_dm(X_miss, p)"
   ]
  },
  {
   "cell_type": "markdown",
   "metadata": {},
   "source": [
    "Voici les valeurs estimées par NIPALS pour les données manquantes :"
   ]
  },
  {
   "cell_type": "code",
   "execution_count": 37,
   "metadata": {},
   "outputs": [
    {
     "data": {
      "text/plain": [
       "array([ 3.01394039,  7.49967134,  4.42190575,  0.88652465,  3.34086297,\n",
       "        1.77750098,  4.80741826,  4.23619526, -0.10588813,  4.96592085,\n",
       "        2.2224621 ,  4.57506364,  3.5085072 ,  3.41285513,  3.06144548,\n",
       "        1.46074951,  2.11144813,  3.2752856 ,  1.20344408,  2.76090799,\n",
       "        3.31289671,  0.30332669,  3.06252788,  3.52716513,  5.64925906,\n",
       "        0.7972992 ,  1.92393853,  0.56638218,  3.09186486,  4.07118995,\n",
       "        0.20240732,  2.32633613,  1.4963125 ,  3.9421519 , -1.00301296,\n",
       "        1.93548331,  7.97703491,  1.23682406,  0.0760175 ,  4.14315011,\n",
       "        3.64241138,  4.06142202,  4.37938677,  0.11648195,  4.75510937,\n",
       "        3.20818419])"
      ]
     },
     "execution_count": 37,
     "metadata": {},
     "output_type": "execute_result"
    }
   ],
   "source": [
    "X_rec_imp[is_missing]"
   ]
  },
  {
   "cell_type": "markdown",
   "metadata": {},
   "source": [
    "Cela a l'air pas mal!"
   ]
  }
 ],
 "metadata": {
  "interpreter": {
   "hash": "916dbcbb3f70747c44a77c7bcd40155683ae19c65e1c03b4aa3499c5328201f1"
  },
  "kernelspec": {
   "display_name": "Python 3.8.10 64-bit",
   "name": "python3"
  },
  "language_info": {
   "codemirror_mode": {
    "name": "ipython",
    "version": 3
   },
   "file_extension": ".py",
   "mimetype": "text/x-python",
   "name": "python",
   "nbconvert_exporter": "python",
   "pygments_lexer": "ipython3",
   "version": "3.8.10"
  },
  "orig_nbformat": 2
 },
 "nbformat": 4,
 "nbformat_minor": 2
}
