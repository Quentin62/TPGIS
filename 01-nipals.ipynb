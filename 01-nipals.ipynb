{
 "cells": [
  {
   "cell_type": "markdown",
   "metadata": {},
   "source": [
    "# NIPALS\n",
    "\n",
    "- *Auteurs :* Quentin Grimonprez, Cristian Preda, Vincent Vandewalle\n",
    "- *Date :* 3 février 2020"
   ]
  },
  {
   "cell_type": "code",
   "execution_count": 63,
   "metadata": {},
   "outputs": [],
   "source": [
    "import matplotlib.pyplot as plt\n",
    "from matplotlib.ticker import MaxNLocator\n",
    "import numpy as np\n",
    "from sklearn.decomposition import PCA\n",
    "\n",
    "plt.style.use(\"seaborn-v0_8\")\n",
    "plt.rcParams[\"figure.figsize\"] = 8, 8\n",
    "rng = np.random.default_rng(42)  # fixer le seed de l'aléatoire"
   ]
  },
  {
   "cell_type": "markdown",
   "metadata": {},
   "source": [
    "## Simulation des données"
   ]
  },
  {
   "cell_type": "code",
   "execution_count": 64,
   "metadata": {},
   "outputs": [],
   "source": [
    "n = 100\n",
    "p = 4\n",
    "mu = np.array([1, 2, 4, 3])\n",
    "cov = np.array([\n",
    "    [0.7, 0, 1.3, 0.5],\n",
    "    [0, 1.2, -0.3, -0.1],\n",
    "    [1.3, -0.3, 3.1, 1.3],\n",
    "    [0.5, -0.1, 1.3, 0.6]\n",
    "])"
   ]
  },
  {
   "cell_type": "code",
   "execution_count": 65,
   "metadata": {},
   "outputs": [
    {
     "data": {
      "text/plain": [
       "array([[1.23188337, 3.14347085, 3.38747085, 2.78091498],\n",
       "       [2.68390863, 3.01394039, 7.49967134, 4.42190575],\n",
       "       [1.47854511, 2.8752649 , 3.94930934, 2.96519088],\n",
       "       [0.88652465, 0.7900847 , 3.87468799, 2.70999804],\n",
       "       [1.15626546, 3.07337384, 3.34086297, 2.58239614],\n",
       "       [1.63844708, 2.6526894 , 4.28874731, 2.89878903],\n",
       "       [1.57275728, 2.27116509, 4.70553025, 3.26809815],\n",
       "       [1.31399837, 1.54228126, 3.15422406, 2.2028122 ],\n",
       "       [1.77750098, 2.74133885, 4.80741826, 3.42503327],\n",
       "       [0.97545041, 2.90650781, 4.23619526, 3.35994645]])"
      ]
     },
     "execution_count": 65,
     "metadata": {},
     "output_type": "execute_result"
    }
   ],
   "source": [
    "X = rng.multivariate_normal(mu, cov, n)\n",
    "X[:10, ]"
   ]
  },
  {
   "attachments": {},
   "cell_type": "markdown",
   "metadata": {},
   "source": [
    "Taille de X"
   ]
  },
  {
   "cell_type": "code",
   "execution_count": 66,
   "metadata": {},
   "outputs": [
    {
     "data": {
      "text/plain": [
       "(100, 4)"
      ]
     },
     "execution_count": 66,
     "metadata": {},
     "output_type": "execute_result"
    }
   ],
   "source": [
    "X.shape"
   ]
  },
  {
   "cell_type": "markdown",
   "metadata": {},
   "source": [
    "On vérifie que les données sont \"bien\" simulées :\n",
    "- Les moyennes:"
   ]
  },
  {
   "attachments": {},
   "cell_type": "markdown",
   "metadata": {},
   "source": [
    "X étant un objet de class ndarray, il dispose de méthodes: `mean`, `std`, ... mais on peut également utiliser les fonctions `np.mean`, `np.std`, ... qui peuvent s'appliquer à plusieurs types d'objets: ndarray, list, dataframe..."
   ]
  },
  {
   "cell_type": "code",
   "execution_count": 67,
   "metadata": {},
   "outputs": [
    {
     "data": {
      "text/plain": [
       "array([1.05906072, 2.07754193, 4.04868361, 3.01170916])"
      ]
     },
     "execution_count": 67,
     "metadata": {},
     "output_type": "execute_result"
    }
   ],
   "source": [
    "X.mean(axis=0)  # axis=0: par colonne, axis=1: par ligne"
   ]
  },
  {
   "cell_type": "code",
   "execution_count": 68,
   "metadata": {},
   "outputs": [
    {
     "data": {
      "text/plain": [
       "array([1.05906072, 2.07754193, 4.04868361, 3.01170916])"
      ]
     },
     "execution_count": 68,
     "metadata": {},
     "output_type": "execute_result"
    }
   ],
   "source": [
    "np.mean(X, axis=0)"
   ]
  },
  {
   "cell_type": "code",
   "execution_count": 69,
   "metadata": {},
   "outputs": [
    {
     "data": {
      "text/plain": [
       "array([1.06, 2.08, 4.05, 3.01])"
      ]
     },
     "execution_count": 69,
     "metadata": {},
     "output_type": "execute_result"
    }
   ],
   "source": [
    "np.round(np.mean(X, axis=0), 2)"
   ]
  },
  {
   "cell_type": "markdown",
   "metadata": {},
   "source": [
    "- La matrice de variance-covariance :"
   ]
  },
  {
   "cell_type": "code",
   "execution_count": 70,
   "metadata": {},
   "outputs": [
    {
     "data": {
      "text/plain": [
       "array([[ 0.68, -0.09,  1.24,  0.46],\n",
       "       [-0.09,  1.12, -0.44, -0.14],\n",
       "       [ 1.24, -0.44,  2.98,  1.21],\n",
       "       [ 0.46, -0.14,  1.21,  0.53]])"
      ]
     },
     "execution_count": 70,
     "metadata": {},
     "output_type": "execute_result"
    }
   ],
   "source": [
    "np.round(np.cov(X, rowvar=False), 2)"
   ]
  },
  {
   "cell_type": "markdown",
   "metadata": {},
   "source": [
    "## ACP normée sur les données simulées.\n"
   ]
  },
  {
   "attachments": {},
   "cell_type": "markdown",
   "metadata": {},
   "source": [
    "La méthode std de numpy permet de calculer l'écart-type. L'estimateur biaisé ($\\sqrt{1/n}$) est utilisé par défaut, à l'inverse de R qui utilise l'estimateur non biaisé par défaut ($\\sqrt{1/(n-1)}$). Le paramètre `ddof` permet de choisir l'estimateur; `ddof=0` pour le biaisé, `ddof=1` pour le non-biaisé."
   ]
  },
  {
   "cell_type": "code",
   "execution_count": 71,
   "metadata": {},
   "outputs": [
    {
     "data": {
      "text/plain": [
       "array([[1.50473599, 2.97966599, 1.97091461, 3.83947684],\n",
       "       [3.27837359, 2.85688531, 4.36349491, 6.10511464],\n",
       "       [1.80603139, 2.72543614, 2.29780619, 4.0938978 ],\n",
       "       [1.08288299, 0.74891374, 2.25438963, 3.74156521],\n",
       "       [1.41236929, 2.91322171, 1.94379699, 3.56539133],\n",
       "       [2.00135041, 2.51445895, 2.49529962, 4.00221993],\n",
       "       [1.92111083, 2.1528157 , 2.73779428, 4.51210744],\n",
       "       [1.60503882, 1.46191368, 1.83520584, 3.04131788],\n",
       "       [2.17120366, 2.59848891, 2.79707525, 4.72878029],\n",
       "       [1.19150511, 2.75505099, 2.46472353, 4.63891801]])"
      ]
     },
     "execution_count": 71,
     "metadata": {},
     "output_type": "execute_result"
    }
   ],
   "source": [
    "sd = X.std(axis=0, ddof=0)\n",
    "X_scaled = X / sd\n",
    "X_scaled[:10, ]"
   ]
  },
  {
   "attachments": {},
   "cell_type": "markdown",
   "metadata": {},
   "source": [
    "La fonction `np.cov` n'a pas le même comportement par défaut (`ddof=1`)."
   ]
  },
  {
   "cell_type": "code",
   "execution_count": 72,
   "metadata": {},
   "outputs": [
    {
     "data": {
      "text/plain": [
       "array([[ 1.        , -0.10388285,  0.87476038,  0.77471904],\n",
       "       [-0.10388285,  1.        , -0.23970501, -0.18348252],\n",
       "       [ 0.87476038, -0.23970501,  1.        ,  0.96219283],\n",
       "       [ 0.77471904, -0.18348252,  0.96219283,  1.        ]])"
      ]
     },
     "execution_count": 72,
     "metadata": {},
     "output_type": "execute_result"
    }
   ],
   "source": [
    "np.cov(X_scaled, rowvar=False, ddof=0)"
   ]
  },
  {
   "cell_type": "code",
   "execution_count": 73,
   "metadata": {},
   "outputs": [],
   "source": [
    "pca = PCA(n_components=2)"
   ]
  },
  {
   "cell_type": "code",
   "execution_count": 74,
   "metadata": {},
   "outputs": [
    {
     "data": {
      "text/html": [
       "<style>#sk-container-id-3 {color: black;background-color: white;}#sk-container-id-3 pre{padding: 0;}#sk-container-id-3 div.sk-toggleable {background-color: white;}#sk-container-id-3 label.sk-toggleable__label {cursor: pointer;display: block;width: 100%;margin-bottom: 0;padding: 0.3em;box-sizing: border-box;text-align: center;}#sk-container-id-3 label.sk-toggleable__label-arrow:before {content: \"▸\";float: left;margin-right: 0.25em;color: #696969;}#sk-container-id-3 label.sk-toggleable__label-arrow:hover:before {color: black;}#sk-container-id-3 div.sk-estimator:hover label.sk-toggleable__label-arrow:before {color: black;}#sk-container-id-3 div.sk-toggleable__content {max-height: 0;max-width: 0;overflow: hidden;text-align: left;background-color: #f0f8ff;}#sk-container-id-3 div.sk-toggleable__content pre {margin: 0.2em;color: black;border-radius: 0.25em;background-color: #f0f8ff;}#sk-container-id-3 input.sk-toggleable__control:checked~div.sk-toggleable__content {max-height: 200px;max-width: 100%;overflow: auto;}#sk-container-id-3 input.sk-toggleable__control:checked~label.sk-toggleable__label-arrow:before {content: \"▾\";}#sk-container-id-3 div.sk-estimator input.sk-toggleable__control:checked~label.sk-toggleable__label {background-color: #d4ebff;}#sk-container-id-3 div.sk-label input.sk-toggleable__control:checked~label.sk-toggleable__label {background-color: #d4ebff;}#sk-container-id-3 input.sk-hidden--visually {border: 0;clip: rect(1px 1px 1px 1px);clip: rect(1px, 1px, 1px, 1px);height: 1px;margin: -1px;overflow: hidden;padding: 0;position: absolute;width: 1px;}#sk-container-id-3 div.sk-estimator {font-family: monospace;background-color: #f0f8ff;border: 1px dotted black;border-radius: 0.25em;box-sizing: border-box;margin-bottom: 0.5em;}#sk-container-id-3 div.sk-estimator:hover {background-color: #d4ebff;}#sk-container-id-3 div.sk-parallel-item::after {content: \"\";width: 100%;border-bottom: 1px solid gray;flex-grow: 1;}#sk-container-id-3 div.sk-label:hover label.sk-toggleable__label {background-color: #d4ebff;}#sk-container-id-3 div.sk-serial::before {content: \"\";position: absolute;border-left: 1px solid gray;box-sizing: border-box;top: 0;bottom: 0;left: 50%;z-index: 0;}#sk-container-id-3 div.sk-serial {display: flex;flex-direction: column;align-items: center;background-color: white;padding-right: 0.2em;padding-left: 0.2em;position: relative;}#sk-container-id-3 div.sk-item {position: relative;z-index: 1;}#sk-container-id-3 div.sk-parallel {display: flex;align-items: stretch;justify-content: center;background-color: white;position: relative;}#sk-container-id-3 div.sk-item::before, #sk-container-id-3 div.sk-parallel-item::before {content: \"\";position: absolute;border-left: 1px solid gray;box-sizing: border-box;top: 0;bottom: 0;left: 50%;z-index: -1;}#sk-container-id-3 div.sk-parallel-item {display: flex;flex-direction: column;z-index: 1;position: relative;background-color: white;}#sk-container-id-3 div.sk-parallel-item:first-child::after {align-self: flex-end;width: 50%;}#sk-container-id-3 div.sk-parallel-item:last-child::after {align-self: flex-start;width: 50%;}#sk-container-id-3 div.sk-parallel-item:only-child::after {width: 0;}#sk-container-id-3 div.sk-dashed-wrapped {border: 1px dashed gray;margin: 0 0.4em 0.5em 0.4em;box-sizing: border-box;padding-bottom: 0.4em;background-color: white;}#sk-container-id-3 div.sk-label label {font-family: monospace;font-weight: bold;display: inline-block;line-height: 1.2em;}#sk-container-id-3 div.sk-label-container {text-align: center;}#sk-container-id-3 div.sk-container {/* jupyter's `normalize.less` sets `[hidden] { display: none; }` but bootstrap.min.css set `[hidden] { display: none !important; }` so we also need the `!important` here to be able to override the default hidden behavior on the sphinx rendered scikit-learn.org. See: https://github.com/scikit-learn/scikit-learn/issues/21755 */display: inline-block !important;position: relative;}#sk-container-id-3 div.sk-text-repr-fallback {display: none;}</style><div id=\"sk-container-id-3\" class=\"sk-top-container\"><div class=\"sk-text-repr-fallback\"><pre>PCA(n_components=2)</pre><b>In a Jupyter environment, please rerun this cell to show the HTML representation or trust the notebook. <br />On GitHub, the HTML representation is unable to render, please try loading this page with nbviewer.org.</b></div><div class=\"sk-container\" hidden><div class=\"sk-item\"><div class=\"sk-estimator sk-toggleable\"><input class=\"sk-toggleable__control sk-hidden--visually\" id=\"sk-estimator-id-5\" type=\"checkbox\" checked><label for=\"sk-estimator-id-5\" class=\"sk-toggleable__label sk-toggleable__label-arrow\">PCA</label><div class=\"sk-toggleable__content\"><pre>PCA(n_components=2)</pre></div></div></div></div></div>"
      ],
      "text/plain": [
       "PCA(n_components=2)"
      ]
     },
     "execution_count": 74,
     "metadata": {},
     "output_type": "execute_result"
    }
   ],
   "source": [
    "pca.fit(X_scaled)"
   ]
  },
  {
   "cell_type": "markdown",
   "metadata": {},
   "source": [
    "- valeurs propres"
   ]
  },
  {
   "cell_type": "code",
   "execution_count": 75,
   "metadata": {},
   "outputs": [
    {
     "data": {
      "text/plain": [
       "array([2.82415221, 0.96655006])"
      ]
     },
     "execution_count": 75,
     "metadata": {},
     "output_type": "execute_result"
    }
   ],
   "source": [
    "pca.explained_variance_"
   ]
  },
  {
   "cell_type": "markdown",
   "metadata": {},
   "source": [
    "- facteurs principaux"
   ]
  },
  {
   "cell_type": "code",
   "execution_count": 76,
   "metadata": {},
   "outputs": [
    {
     "data": {
      "text/plain": [
       "array([[-0.54407827,  0.16875229, -0.59263506, -0.56946044],\n",
       "       [ 0.18040406,  0.97972749,  0.03806101,  0.0783567 ]])"
      ]
     },
     "execution_count": 76,
     "metadata": {},
     "output_type": "execute_result"
    }
   ],
   "source": [
    "pca.components_"
   ]
  },
  {
   "cell_type": "markdown",
   "metadata": {},
   "source": [
    "- composantes principales"
   ]
  },
  {
   "cell_type": "code",
   "execution_count": 77,
   "metadata": {},
   "outputs": [
    {
     "data": {
      "text/plain": [
       "array([[ 0.46509805,  0.98837386],\n",
       "       [-3.2287372 ,  1.45664559],\n",
       "       [-0.08034218,  0.8260302 ],\n",
       "       [ 0.20593412, -1.27014213],\n",
       "       [ 0.67629184,  0.88410469],\n",
       "       [-0.28704851,  0.65489962],\n",
       "       [-0.73849162,  0.33529494],\n",
       "       [ 0.68934701, -0.54822109],\n",
       "       [-0.95787193,  0.83628506],\n",
       "       [-0.15028273,  0.79324069]])"
      ]
     },
     "execution_count": 77,
     "metadata": {},
     "output_type": "execute_result"
    }
   ],
   "source": [
    "comp = pca.transform(X_scaled)\n",
    "comp[:10, :]"
   ]
  },
  {
   "cell_type": "code",
   "execution_count": 78,
   "metadata": {},
   "outputs": [
    {
     "data": {
      "text/plain": [
       "array([[ 0.46509805,  0.98837386],\n",
       "       [-3.2287372 ,  1.45664559],\n",
       "       [-0.08034218,  0.8260302 ],\n",
       "       [ 0.20593412, -1.27014213],\n",
       "       [ 0.67629184,  0.88410469],\n",
       "       [-0.28704851,  0.65489962],\n",
       "       [-0.73849162,  0.33529494],\n",
       "       [ 0.68934701, -0.54822109],\n",
       "       [-0.95787193,  0.83628506],\n",
       "       [-0.15028273,  0.79324069],\n",
       "       [ 1.31926884, -0.73248642],\n",
       "       [ 0.17945407, -0.30861595],\n",
       "       [ 1.13187087, -0.21090846],\n",
       "       [-2.34477831,  0.37277604],\n",
       "       [-0.52806217, -1.6098275 ],\n",
       "       [-2.8984837 ,  0.44069909],\n",
       "       [ 1.31864749, -0.99492972],\n",
       "       [ 1.71874839, -0.01306557],\n",
       "       [-1.62310588, -0.49803466],\n",
       "       [-0.68117389, -0.20406301],\n",
       "       [ 0.91604224,  0.54204298],\n",
       "       [-1.99209349, -0.48026927],\n",
       "       [ 0.84339532, -0.58995869],\n",
       "       [-0.42849695, -0.01204923],\n",
       "       [-2.10715103,  1.0721854 ],\n",
       "       [-0.69840115, -1.39192427],\n",
       "       [-1.45951328,  0.19888295],\n",
       "       [ 1.49763451,  1.63191869],\n",
       "       [-0.86953358,  1.46576597],\n",
       "       [ 0.40000889, -0.1116575 ],\n",
       "       [-1.87039532, -0.145832  ],\n",
       "       [ 1.53623426, -0.53699859],\n",
       "       [-0.84638925,  0.91036642],\n",
       "       [ 1.33369178,  0.04010965],\n",
       "       [ 0.14589349, -0.91064671],\n",
       "       [ 0.86701848,  0.86845681],\n",
       "       [-1.28477183,  0.41319454],\n",
       "       [ 2.00031459, -0.3761263 ],\n",
       "       [-3.000591  ,  0.61234393],\n",
       "       [ 0.40364008, -1.14716002],\n",
       "       [-1.59496981,  0.78288755],\n",
       "       [ 1.42997485,  0.78671362],\n",
       "       [-0.23237264, -0.03271751],\n",
       "       [-0.64921255,  1.21266144],\n",
       "       [ 2.73224241, -0.40898199],\n",
       "       [ 2.18505985, -0.43489922],\n",
       "       [ 0.87092408, -1.74080032],\n",
       "       [-2.40725012, -1.639206  ],\n",
       "       [-0.49404956, -1.59763784],\n",
       "       [ 1.1867572 ,  0.25506319],\n",
       "       [ 0.51538092, -1.5703577 ],\n",
       "       [-3.28785668,  0.13582713],\n",
       "       [-1.34197046,  0.34093043],\n",
       "       [ 0.02420001,  0.42277446],\n",
       "       [ 1.0221897 , -1.54287161],\n",
       "       [-0.22668089, -0.33102611],\n",
       "       [-0.12943508, -0.26345285],\n",
       "       [-1.26624816,  0.26371451],\n",
       "       [ 0.66751522, -1.39253396],\n",
       "       [-3.51701778,  0.27127195],\n",
       "       [-1.20082119,  0.04704975],\n",
       "       [ 3.59406931,  1.04721115],\n",
       "       [ 5.05254626,  0.83710996],\n",
       "       [ 2.97398193,  0.77212763],\n",
       "       [ 0.96898214,  0.235538  ],\n",
       "       [-0.29785886,  0.20785947],\n",
       "       [ 0.78602446, -1.1776547 ],\n",
       "       [ 0.14411118, -0.09924996],\n",
       "       [-0.29448346, -2.21895309],\n",
       "       [-1.31154799,  1.16678312],\n",
       "       [ 0.83196384,  1.69720961],\n",
       "       [-1.85780692,  0.51830565],\n",
       "       [-0.45021203,  0.04772011],\n",
       "       [ 2.64476998,  2.42817383],\n",
       "       [ 0.6208554 ,  0.24622052],\n",
       "       [ 3.05622273,  1.34011014],\n",
       "       [-0.14972626,  1.0268807 ],\n",
       "       [ 0.89629518, -1.91799912],\n",
       "       [ 3.02551111, -0.70924247],\n",
       "       [ 0.26983424,  0.62687795],\n",
       "       [ 1.26063626,  0.06268799],\n",
       "       [ 3.24016698, -1.05433631],\n",
       "       [-2.08783671,  0.60214731],\n",
       "       [-0.98377793,  1.01600845],\n",
       "       [-1.23187278, -0.31591356],\n",
       "       [-3.93768297, -0.16600481],\n",
       "       [ 2.84977619,  1.89211014],\n",
       "       [-2.81624886, -1.44150882],\n",
       "       [-1.02857281, -0.85406988],\n",
       "       [ 0.50569432, -0.40753033],\n",
       "       [-0.15134381, -0.47089276],\n",
       "       [-0.07730918, -1.63733656],\n",
       "       [ 0.22746622, -0.96275802],\n",
       "       [ 1.21349543, -1.00117895],\n",
       "       [-0.26838765,  2.03092037],\n",
       "       [ 0.41685895, -1.50273309],\n",
       "       [-2.7517138 ,  0.91260608],\n",
       "       [ 0.67461392,  1.31534412],\n",
       "       [-0.81971559, -0.50353296],\n",
       "       [ 1.40304291, -0.40416587]])"
      ]
     },
     "execution_count": 78,
     "metadata": {},
     "output_type": "execute_result"
    }
   ],
   "source": [
    "pca.fit_transform(X_scaled)"
   ]
  },
  {
   "cell_type": "markdown",
   "metadata": {},
   "source": [
    "Scikit-learn ne propose pas de fonctions graphiques pour l'ACP. Nous écrivons donc ces fonctions."
   ]
  },
  {
   "cell_type": "code",
   "execution_count": 79,
   "metadata": {},
   "outputs": [],
   "source": [
    "def plot_explained_variance(pca, cumulative=False):\n",
    "    _, ax = plt.subplots()\n",
    "    ax.xaxis.set_major_locator(MaxNLocator(integer=True))\n",
    "\n",
    "    if cumulative:\n",
    "        cumul_ratio = np.cumsum(pca.explained_variance_ratio_)\n",
    "        ax.bar(range(len(cumul_ratio) + 1), np.concatenate(([0], cumul_ratio)))\n",
    "        ax.set_ylabel(\"Cumulative explained variance ratio\")\n",
    "        ax.set_title(\"Cumulative explained variance ratio\")\n",
    "    else:\n",
    "        ax.bar(range(1, len(pca.explained_variance_ratio_) + 1), pca.explained_variance_ratio_)\n",
    "        ax.set_ylabel(\"Explained variance ratio\")\n",
    "        ax.set_title(\"Explained variance ratio\")\n",
    "\n",
    "    ax.set_xlabel(\"Number of components\")\n",
    "\n",
    "    return ax\n",
    "\n",
    "\n",
    "def plot_individuals(score, comp=[0, 1]):\n",
    "    _, ax = plt.subplots()\n",
    "    ax.axhline(y=0, color=\"k\", lw=1, ls=\"--\")\n",
    "    ax.axvline(x=0, color=\"k\", lw=1, ls=\"--\")\n",
    "    ax.scatter(score[:, comp[0]], score[:, comp[1]])\n",
    "    ax.set_xlabel(\"Dim \" + str(comp[0]))\n",
    "    ax.set_ylabel(\"Dim \" + str(comp[1]))\n",
    "    ax.set_title(\"PCA graph of individuals\")\n",
    "\n",
    "    return ax\n",
    "\n",
    "\n",
    "def get_var_contribution(pca):\n",
    "    return pca.components_ * np.sqrt(pca.explained_variance_[:pca.n_components_]).reshape(-1, 1)\n",
    "\n",
    "\n",
    "def plot_variables(pca, comp=[0, 1], label=None):\n",
    "    _, ax = plt.subplots()\n",
    "\n",
    "    if label is None:\n",
    "        label = [\"V\" + str(i) for i in range(pca.n_features_in_)]\n",
    "\n",
    "    var_contrib = get_var_contribution(pca)\n",
    "\n",
    "    # plot circle + axis\n",
    "    an = np.linspace(0, 2 * np.pi, 100)\n",
    "    ax.plot(np.cos(an), np.sin(an), color=\"k\")\n",
    "    ax.axhline(y=0, color=\"k\", lw=1, ls=\"--\")\n",
    "    ax.axvline(x=0, color=\"k\", lw=1, ls=\"--\")\n",
    "\n",
    "    # plot arrow + text\n",
    "    for i in range(pca.n_features_in_):\n",
    "        ax.arrow(0, 0,\n",
    "                 var_contrib[comp[0], i], var_contrib[comp[1], i],\n",
    "                 head_width=0.01, head_length=0.01)\n",
    "\n",
    "        ax.text(var_contrib[comp[0], i] + 0.025,\n",
    "                var_contrib[comp[1], i] + 0.025,\n",
    "                label[i])\n",
    "\n",
    "    ax.set_xlabel(\"Dim \" + str(comp[0]) + \" (\" + str(round(pca.explained_variance_ratio_[comp[0]] * 100, 2)) + \"%)\")\n",
    "    ax.set_ylabel(\"Dim \" + str(comp[1]) + \" (\" + str(round(pca.explained_variance_ratio_[comp[1]] * 100, 2)) + \"%)\")\n",
    "    ax.set_title(\"PCA graph of variables\")\n",
    "\n",
    "    return ax"
   ]
  },
  {
   "cell_type": "code",
   "execution_count": 80,
   "metadata": {},
   "outputs": [
    {
     "data": {
      "image/png": "[encoded data removed]",
      "text/plain": [
       "<Figure size 800x800 with 1 Axes>"
      ]
     },
     "metadata": {},
     "output_type": "display_data"
    }
   ],
   "source": [
    "plot_explained_variance(pca, cumulative=False)\n",
    "plt.show()"
   ]
  },
  {
   "cell_type": "code",
   "execution_count": 81,
   "metadata": {},
   "outputs": [
    {
     "data": {
      "image/png": "[encoded data removed]",
      "text/plain": [
       "<Figure size 800x800 with 1 Axes>"
      ]
     },
     "metadata": {},
     "output_type": "display_data"
    }
   ],
   "source": [
    "plot_individuals(comp, [0, 1])\n",
    "plt.show()"
   ]
  },
  {
   "cell_type": "code",
   "execution_count": 82,
   "metadata": {},
   "outputs": [
    {
     "data": {
      "image/png": "[encoded data removed]",
      "text/plain": [
       "<Figure size 800x800 with 1 Axes>"
      ]
     },
     "metadata": {},
     "output_type": "display_data"
    }
   ],
   "source": [
    "plot_variables(pca)\n",
    "plt.show()"
   ]
  },
  {
   "attachments": {},
   "cell_type": "markdown",
   "metadata": {},
   "source": [
    "### ACP normée\n",
    "\n",
    "Faire plus directement une ACP normée grâce aux pipelines. Les pipelines permettent de chaîner des transformeurs (comme PCA) et optionnellement un estimateur final. En faisant un fit d'une pipeline, on applique le fit de la 1ère étape avec les données d'entrées puis on applique le fit de la 2ème étape avec le résultat du transform de la 1ère étape et ainsi de suite."
   ]
  },
  {
   "cell_type": "code",
   "execution_count": 83,
   "metadata": {},
   "outputs": [],
   "source": [
    "from sklearn.pipeline import Pipeline\n",
    "from sklearn.preprocessing import StandardScaler"
   ]
  },
  {
   "attachments": {},
   "cell_type": "markdown",
   "metadata": {},
   "source": [
    "On fait 2 étapes:\n",
    "\n",
    "1) on réduit nos données\n",
    "2) on applique une ACP"
   ]
  },
  {
   "cell_type": "code",
   "execution_count": 84,
   "metadata": {},
   "outputs": [],
   "source": [
    "scaled_PCA = Pipeline(steps=[(\"scaler\", StandardScaler()), (\"pca\", PCA())])"
   ]
  },
  {
   "cell_type": "code",
   "execution_count": 85,
   "metadata": {},
   "outputs": [
    {
     "data": {
      "text/html": [
       "<style>#sk-container-id-4 {color: black;background-color: white;}#sk-container-id-4 pre{padding: 0;}#sk-container-id-4 div.sk-toggleable {background-color: white;}#sk-container-id-4 label.sk-toggleable__label {cursor: pointer;display: block;width: 100%;margin-bottom: 0;padding: 0.3em;box-sizing: border-box;text-align: center;}#sk-container-id-4 label.sk-toggleable__label-arrow:before {content: \"▸\";float: left;margin-right: 0.25em;color: #696969;}#sk-container-id-4 label.sk-toggleable__label-arrow:hover:before {color: black;}#sk-container-id-4 div.sk-estimator:hover label.sk-toggleable__label-arrow:before {color: black;}#sk-container-id-4 div.sk-toggleable__content {max-height: 0;max-width: 0;overflow: hidden;text-align: left;background-color: #f0f8ff;}#sk-container-id-4 div.sk-toggleable__content pre {margin: 0.2em;color: black;border-radius: 0.25em;background-color: #f0f8ff;}#sk-container-id-4 input.sk-toggleable__control:checked~div.sk-toggleable__content {max-height: 200px;max-width: 100%;overflow: auto;}#sk-container-id-4 input.sk-toggleable__control:checked~label.sk-toggleable__label-arrow:before {content: \"▾\";}#sk-container-id-4 div.sk-estimator input.sk-toggleable__control:checked~label.sk-toggleable__label {background-color: #d4ebff;}#sk-container-id-4 div.sk-label input.sk-toggleable__control:checked~label.sk-toggleable__label {background-color: #d4ebff;}#sk-container-id-4 input.sk-hidden--visually {border: 0;clip: rect(1px 1px 1px 1px);clip: rect(1px, 1px, 1px, 1px);height: 1px;margin: -1px;overflow: hidden;padding: 0;position: absolute;width: 1px;}#sk-container-id-4 div.sk-estimator {font-family: monospace;background-color: #f0f8ff;border: 1px dotted black;border-radius: 0.25em;box-sizing: border-box;margin-bottom: 0.5em;}#sk-container-id-4 div.sk-estimator:hover {background-color: #d4ebff;}#sk-container-id-4 div.sk-parallel-item::after {content: \"\";width: 100%;border-bottom: 1px solid gray;flex-grow: 1;}#sk-container-id-4 div.sk-label:hover label.sk-toggleable__label {background-color: #d4ebff;}#sk-container-id-4 div.sk-serial::before {content: \"\";position: absolute;border-left: 1px solid gray;box-sizing: border-box;top: 0;bottom: 0;left: 50%;z-index: 0;}#sk-container-id-4 div.sk-serial {display: flex;flex-direction: column;align-items: center;background-color: white;padding-right: 0.2em;padding-left: 0.2em;position: relative;}#sk-container-id-4 div.sk-item {position: relative;z-index: 1;}#sk-container-id-4 div.sk-parallel {display: flex;align-items: stretch;justify-content: center;background-color: white;position: relative;}#sk-container-id-4 div.sk-item::before, #sk-container-id-4 div.sk-parallel-item::before {content: \"\";position: absolute;border-left: 1px solid gray;box-sizing: border-box;top: 0;bottom: 0;left: 50%;z-index: -1;}#sk-container-id-4 div.sk-parallel-item {display: flex;flex-direction: column;z-index: 1;position: relative;background-color: white;}#sk-container-id-4 div.sk-parallel-item:first-child::after {align-self: flex-end;width: 50%;}#sk-container-id-4 div.sk-parallel-item:last-child::after {align-self: flex-start;width: 50%;}#sk-container-id-4 div.sk-parallel-item:only-child::after {width: 0;}#sk-container-id-4 div.sk-dashed-wrapped {border: 1px dashed gray;margin: 0 0.4em 0.5em 0.4em;box-sizing: border-box;padding-bottom: 0.4em;background-color: white;}#sk-container-id-4 div.sk-label label {font-family: monospace;font-weight: bold;display: inline-block;line-height: 1.2em;}#sk-container-id-4 div.sk-label-container {text-align: center;}#sk-container-id-4 div.sk-container {/* jupyter's `normalize.less` sets `[hidden] { display: none; }` but bootstrap.min.css set `[hidden] { display: none !important; }` so we also need the `!important` here to be able to override the default hidden behavior on the sphinx rendered scikit-learn.org. See: https://github.com/scikit-learn/scikit-learn/issues/21755 */display: inline-block !important;position: relative;}#sk-container-id-4 div.sk-text-repr-fallback {display: none;}</style><div id=\"sk-container-id-4\" class=\"sk-top-container\"><div class=\"sk-text-repr-fallback\"><pre>Pipeline(steps=[(&#x27;scaler&#x27;, StandardScaler()), (&#x27;pca&#x27;, PCA())])</pre><b>In a Jupyter environment, please rerun this cell to show the HTML representation or trust the notebook. <br />On GitHub, the HTML representation is unable to render, please try loading this page with nbviewer.org.</b></div><div class=\"sk-container\" hidden><div class=\"sk-item sk-dashed-wrapped\"><div class=\"sk-label-container\"><div class=\"sk-label sk-toggleable\"><input class=\"sk-toggleable__control sk-hidden--visually\" id=\"sk-estimator-id-6\" type=\"checkbox\" ><label for=\"sk-estimator-id-6\" class=\"sk-toggleable__label sk-toggleable__label-arrow\">Pipeline</label><div class=\"sk-toggleable__content\"><pre>Pipeline(steps=[(&#x27;scaler&#x27;, StandardScaler()), (&#x27;pca&#x27;, PCA())])</pre></div></div></div><div class=\"sk-serial\"><div class=\"sk-item\"><div class=\"sk-estimator sk-toggleable\"><input class=\"sk-toggleable__control sk-hidden--visually\" id=\"sk-estimator-id-7\" type=\"checkbox\" ><label for=\"sk-estimator-id-7\" class=\"sk-toggleable__label sk-toggleable__label-arrow\">StandardScaler</label><div class=\"sk-toggleable__content\"><pre>StandardScaler()</pre></div></div></div><div class=\"sk-item\"><div class=\"sk-estimator sk-toggleable\"><input class=\"sk-toggleable__control sk-hidden--visually\" id=\"sk-estimator-id-8\" type=\"checkbox\" ><label for=\"sk-estimator-id-8\" class=\"sk-toggleable__label sk-toggleable__label-arrow\">PCA</label><div class=\"sk-toggleable__content\"><pre>PCA()</pre></div></div></div></div></div></div></div>"
      ],
      "text/plain": [
       "Pipeline(steps=[('scaler', StandardScaler()), ('pca', PCA())])"
      ]
     },
     "execution_count": 85,
     "metadata": {},
     "output_type": "execute_result"
    }
   ],
   "source": [
    "scaled_PCA.fit(X)"
   ]
  },
  {
   "cell_type": "code",
   "execution_count": 86,
   "metadata": {},
   "outputs": [
    {
     "data": {
      "text/plain": [
       "array([[ 0.46509805,  0.98837386, -0.3289216 ,  0.11656863],\n",
       "       [-3.2287372 ,  1.45664559,  0.03060112, -0.04301417],\n",
       "       [-0.08034218,  0.8260302 , -0.37987793,  0.09327031],\n",
       "       [ 0.20593412, -1.27014213, -0.21036512, -0.13251822],\n",
       "       [ 0.67629184,  0.88410469, -0.43108578, -0.03473332],\n",
       "       [-0.28704851,  0.65489962, -0.57269607, -0.0512197 ],\n",
       "       [-0.73849162,  0.33529494, -0.19740539,  0.04481167],\n",
       "       [ 0.68934701, -0.54822109, -1.04192394, -0.10552004],\n",
       "       [-0.95787193,  0.83628506, -0.2132364 ,  0.15554989],\n",
       "       [-0.15028273,  0.79324069,  0.45510558,  0.10950964]])"
      ]
     },
     "execution_count": 86,
     "metadata": {},
     "output_type": "execute_result"
    }
   ],
   "source": [
    "pc_pipeline = scaled_PCA.transform(X)\n",
    "pc_pipeline[:10]"
   ]
  },
  {
   "cell_type": "code",
   "execution_count": 87,
   "metadata": {},
   "outputs": [
    {
     "data": {
      "text/plain": [
       "array([[ 0.46509805,  0.98837386],\n",
       "       [-3.2287372 ,  1.45664559],\n",
       "       [-0.08034218,  0.8260302 ],\n",
       "       [ 0.20593412, -1.27014213],\n",
       "       [ 0.67629184,  0.88410469],\n",
       "       [-0.28704851,  0.65489962],\n",
       "       [-0.73849162,  0.33529494],\n",
       "       [ 0.68934701, -0.54822109],\n",
       "       [-0.95787193,  0.83628506],\n",
       "       [-0.15028273,  0.79324069]])"
      ]
     },
     "execution_count": 87,
     "metadata": {},
     "output_type": "execute_result"
    }
   ],
   "source": [
    "comp[:10, ]"
   ]
  },
  {
   "attachments": {},
   "cell_type": "markdown",
   "metadata": {},
   "source": [
    "## NIPALS"
   ]
  },
  {
   "cell_type": "markdown",
   "metadata": {},
   "source": [
    "### NIPALS sans traitement des données manquantes"
   ]
  },
  {
   "cell_type": "code",
   "execution_count": 88,
   "metadata": {},
   "outputs": [],
   "source": [
    "def NIPALS(X, h=2, iter=100):\n",
    "    # renvoie les composantes principales (CP), les facteurs principaux (FP) et les données reconstituées avec h composantes (Xrec)\n",
    "    n, p = X.shape\n",
    "\n",
    "    # centrer et réduire matrice X\n",
    "    m = X.mean(axis=0)\n",
    "    s = X.std(axis=0, ddof=0)\n",
    "    X_reduit = (X - m) / s\n",
    "\n",
    "    # on réserve la place pour:\n",
    "    CP = np.zeros((n, h))  # les composantes principales\n",
    "    FP = np.zeros((h, p))  # les facteurs principaux\n",
    "    X_recons = np.zeros((n, p))  # les données reconstituées\n",
    "\n",
    "    # déroulement de l'algorithme:\n",
    "    for i in range(h):\n",
    "        # voir pages 30-32 du cours\n",
    "        cp, fp = calcul_cp_fp(X_reduit, iter)  # fonction qui calcule la 1ere comp. princ et 1er fact. principal\n",
    "        CP[:, i] = cp\n",
    "        FP[i, :] = fp\n",
    "        X_reduit -= np.matmul(cp.reshape(-1, 1), fp.reshape(1, -1))\n",
    "\n",
    "    # Reconstitution des données avec h composantes\n",
    "    X_recons = np.matmul(CP, FP)\n",
    "    X_recons *= s\n",
    "    X_recons += m\n",
    "\n",
    "    return CP, FP, X_recons\n",
    "\n",
    "\n",
    "def calcul_cp_fp(X, iter=100):\n",
    "    cp = X[:, 0].copy()  # important ici: on crée une copie de la colonne sz X, sinon la colonne de X sera modifiée directement\n",
    "    for i in range(iter):\n",
    "        fp = np.matmul(X.T, cp)\n",
    "\n",
    "        # on normalize fp:\n",
    "        fp /= np.sqrt(np.sum(fp**2))\n",
    "        cp = np.matmul(X, fp)\n",
    "\n",
    "    return cp, fp"
   ]
  },
  {
   "cell_type": "markdown",
   "metadata": {},
   "source": [
    "### Application de NIPALS aux données simulées\n",
    "Voici ce qu'on obtient avec h=4 composantes. À comparer avec ce qui est donné par scikit-learn dans l'objet 'pca'."
   ]
  },
  {
   "cell_type": "code",
   "execution_count": 89,
   "metadata": {},
   "outputs": [],
   "source": [
    "cp, fp, X_rec = NIPALS(X, h=p)"
   ]
  },
  {
   "cell_type": "markdown",
   "metadata": {},
   "source": [
    "Les facteurs principaux :\n",
    "- nipals"
   ]
  },
  {
   "cell_type": "code",
   "execution_count": 90,
   "metadata": {},
   "outputs": [
    {
     "data": {
      "text/plain": [
       "array([[ 0.54407827, -0.16875229,  0.59263506,  0.56946044],\n",
       "       [ 0.18040406,  0.97972749,  0.03806101,  0.0783567 ],\n",
       "       [ 0.77938323, -0.0892577 , -0.16706563, -0.5972302 ],\n",
       "       [ 0.25297231, -0.06074344, -0.78703502,  0.55936671]])"
      ]
     },
     "execution_count": 90,
     "metadata": {},
     "output_type": "execute_result"
    }
   ],
   "source": [
    "fp"
   ]
  },
  {
   "cell_type": "markdown",
   "metadata": {},
   "source": [
    "- scikit-learn"
   ]
  },
  {
   "cell_type": "code",
   "execution_count": 91,
   "metadata": {},
   "outputs": [
    {
     "data": {
      "text/plain": [
       "array([[-0.54407827,  0.16875229, -0.59263506, -0.56946044],\n",
       "       [ 0.18040406,  0.97972749,  0.03806101,  0.0783567 ]])"
      ]
     },
     "execution_count": 91,
     "metadata": {},
     "output_type": "execute_result"
    }
   ],
   "source": [
    "pca.components_"
   ]
  },
  {
   "cell_type": "markdown",
   "metadata": {},
   "source": [
    "Les composantes principales :\n",
    "- nipals"
   ]
  },
  {
   "cell_type": "code",
   "execution_count": 92,
   "metadata": {},
   "outputs": [
    {
     "data": {
      "text/plain": [
       "array([[-0.46509805,  0.98837386,  0.3289216 ,  0.11656863],\n",
       "       [ 3.2287372 ,  1.45664559, -0.03060112, -0.04301417],\n",
       "       [ 0.08034218,  0.8260302 ,  0.37987793,  0.09327031],\n",
       "       [-0.20593412, -1.27014213,  0.21036512, -0.13251822],\n",
       "       [-0.67629184,  0.88410469,  0.43108578, -0.03473332],\n",
       "       [ 0.28704851,  0.65489962,  0.57269607, -0.0512197 ]])"
      ]
     },
     "execution_count": 92,
     "metadata": {},
     "output_type": "execute_result"
    }
   ],
   "source": [
    "cp[:6, :]"
   ]
  },
  {
   "cell_type": "markdown",
   "metadata": {},
   "source": [
    "- scikit-learn"
   ]
  },
  {
   "cell_type": "code",
   "execution_count": 93,
   "metadata": {},
   "outputs": [
    {
     "data": {
      "text/plain": [
       "array([[ 0.46509805,  0.98837386],\n",
       "       [-3.2287372 ,  1.45664559],\n",
       "       [-0.08034218,  0.8260302 ],\n",
       "       [ 0.20593412, -1.27014213],\n",
       "       [ 0.67629184,  0.88410469],\n",
       "       [-0.28704851,  0.65489962]])"
      ]
     },
     "execution_count": 93,
     "metadata": {},
     "output_type": "execute_result"
    }
   ],
   "source": [
    "comp[:6, :]"
   ]
  },
  {
   "cell_type": "markdown",
   "metadata": {},
   "source": [
    "#### La reconstitution complète des données (toutes les composantes principales) \n",
    "\n",
    "La reconstitution des données avec toutes les composantes principales.\n",
    "- Données reconstituées"
   ]
  },
  {
   "cell_type": "code",
   "execution_count": 94,
   "metadata": {},
   "outputs": [
    {
     "data": {
      "text/plain": [
       "array([[1.23188337, 3.14347085, 3.38747085, 2.78091498],\n",
       "       [2.68390863, 3.01394039, 7.49967134, 4.42190575],\n",
       "       [1.47854511, 2.8752649 , 3.94930934, 2.96519088],\n",
       "       [0.88652465, 0.7900847 , 3.87468799, 2.70999804],\n",
       "       [1.15626546, 3.07337384, 3.34086297, 2.58239614],\n",
       "       [1.63844708, 2.6526894 , 4.28874731, 2.89878903]])"
      ]
     },
     "execution_count": 94,
     "metadata": {},
     "output_type": "execute_result"
    }
   ],
   "source": [
    "X_rec[:6, :]"
   ]
  },
  {
   "cell_type": "markdown",
   "metadata": {},
   "source": [
    "- Données"
   ]
  },
  {
   "cell_type": "code",
   "execution_count": 95,
   "metadata": {},
   "outputs": [
    {
     "data": {
      "text/plain": [
       "array([[1.23188337, 3.14347085, 3.38747085, 2.78091498],\n",
       "       [2.68390863, 3.01394039, 7.49967134, 4.42190575],\n",
       "       [1.47854511, 2.8752649 , 3.94930934, 2.96519088],\n",
       "       [0.88652465, 0.7900847 , 3.87468799, 2.70999804],\n",
       "       [1.15626546, 3.07337384, 3.34086297, 2.58239614],\n",
       "       [1.63844708, 2.6526894 , 4.28874731, 2.89878903]])"
      ]
     },
     "execution_count": 95,
     "metadata": {},
     "output_type": "execute_result"
    }
   ],
   "source": [
    "X[:6, :]"
   ]
  },
  {
   "cell_type": "markdown",
   "metadata": {},
   "source": [
    "#### Approximation des données avec quelques composantes (ici h=2)\n",
    "\n",
    "Voici la reconstitution des données avec juste deux composantes :"
   ]
  },
  {
   "cell_type": "code",
   "execution_count": 96,
   "metadata": {},
   "outputs": [],
   "source": [
    "cp, fp, X_rec = NIPALS(X, h=2)"
   ]
  },
  {
   "cell_type": "markdown",
   "metadata": {},
   "source": [
    "- Données reconstituées"
   ]
  },
  {
   "cell_type": "code",
   "execution_count": 97,
   "metadata": {},
   "outputs": [
    {
     "data": {
      "text/plain": [
       "array([[0.99787074, 3.18191365, 3.63960016, 2.87596954],\n",
       "       [2.71234221, 3.00830238, 7.4326992 , 4.42609564],\n",
       "       [1.21684447, 2.91701296, 4.18455463, 3.09172691],\n",
       "       [0.77974411, 0.80140151, 3.75583487, 2.85468521],\n",
       "       [0.88840092, 3.11174104, 3.41766147, 2.78294344],\n",
       "       [1.28364127, 2.70333478, 4.38390676, 3.16727224]])"
      ]
     },
     "execution_count": 97,
     "metadata": {},
     "output_type": "execute_result"
    }
   ],
   "source": [
    "X_rec[:6, :]"
   ]
  },
  {
   "cell_type": "markdown",
   "metadata": {},
   "source": [
    "- Données"
   ]
  },
  {
   "cell_type": "code",
   "execution_count": 98,
   "metadata": {},
   "outputs": [
    {
     "data": {
      "text/plain": [
       "array([[1.23188337, 3.14347085, 3.38747085, 2.78091498],\n",
       "       [2.68390863, 3.01394039, 7.49967134, 4.42190575],\n",
       "       [1.47854511, 2.8752649 , 3.94930934, 2.96519088],\n",
       "       [0.88652465, 0.7900847 , 3.87468799, 2.70999804],\n",
       "       [1.15626546, 3.07337384, 3.34086297, 2.58239614],\n",
       "       [1.63844708, 2.6526894 , 4.28874731, 2.89878903]])"
      ]
     },
     "execution_count": 98,
     "metadata": {},
     "output_type": "execute_result"
    }
   ],
   "source": [
    "X[:6, :]"
   ]
  },
  {
   "cell_type": "markdown",
   "metadata": {},
   "source": [
    "## NIPALS avec données manquantes.\n",
    "L'algorithme précédent est adapté aux cas où il n'y a pas de données manquantes. Les points à modifier sont au niveau du :\n",
    "\n",
    "  - calcul des moyennes (m) et écart-types (s)\n",
    "  - calcul des composantes et facteurs dans la fonction calcul_cp_fp\n",
    "\n",
    "On ré-écrit donc ces fonctions en les renommant : *NIPALS_dm* et *calcul_cp_fp_dm*"
   ]
  },
  {
   "cell_type": "code",
   "execution_count": 99,
   "metadata": {},
   "outputs": [],
   "source": [
    "def NIPALS_dm(X, h=2, iter=100):\n",
    "    # renvoie les composantes principales (CP), les facteurs principaux (FP) et les données reconstituées avec h composantes (Xrec)\n",
    "    n, p = X.shape\n",
    "\n",
    "    # centrer et réduire matrice X\n",
    "    m = np.nanmean(X, axis=0)\n",
    "    s = np.nanstd(X, axis=0, ddof=0)\n",
    "    X_reduit = (X - m) / s\n",
    "\n",
    "    # on réserve la place pour:\n",
    "    CP = np.zeros((n, h))  # les composantes principales\n",
    "    FP = np.zeros((h, p))  # les facteurs principaux\n",
    "    X_recons = np.zeros((n, p))  # les données reconstituées\n",
    "\n",
    "    # déroulement de l'algorithme:\n",
    "    for i in range(h):\n",
    "        # voir pages 30-32 du cours\n",
    "        cp, fp = calcul_cp_fp_dm(X_reduit, iter)  # fonction qui calcule la 1ere comp. princ et 1er fact. principal\n",
    "        CP[:, i] = cp\n",
    "        FP[i, :] = fp\n",
    "        X_reduit -= np.matmul(cp.reshape(-1, 1), fp.reshape(1, -1))\n",
    "\n",
    "    # Reconstitution des données avec h composantes\n",
    "    X_recons = np.matmul(CP, FP)\n",
    "    X_recons *= s\n",
    "    X_recons += m\n",
    "\n",
    "    return CP, FP, X_rec\n",
    "\n",
    "\n",
    "def calcul_cp_fp_dm(X, iter=100):\n",
    "    cp = X[:, 0].copy()\n",
    "    fp = np.zeros((X.shape[1], ))\n",
    "    for i in range(iter):\n",
    "        for j in range(X.shape[1]):\n",
    "            fp[j] = np.nansum(X[:, j] * cp)\n",
    "\n",
    "        # on normalize fp:\n",
    "        fp /= np.sqrt(np.sum(fp**2))\n",
    "\n",
    "        for j in range(X.shape[0]):\n",
    "            cp[j] = np.nansum(X[j, :] * fp)\n",
    "\n",
    "    return cp, fp"
   ]
  },
  {
   "cell_type": "markdown",
   "metadata": {},
   "source": [
    "On vérifie que la version modifiée *NIPALS_dm* donne les mêmes résultats que *NIPALS* lorsqu'il n'y a pas données manquantes. "
   ]
  },
  {
   "cell_type": "code",
   "execution_count": 100,
   "metadata": {},
   "outputs": [],
   "source": [
    "cp_dm, fp_dm, X_rec_dm = NIPALS_dm(X, h=p)\n",
    "cp, fp, X_rec = NIPALS(X, h=p)"
   ]
  },
  {
   "cell_type": "markdown",
   "metadata": {},
   "source": [
    "Les facteurs principaux :"
   ]
  },
  {
   "cell_type": "code",
   "execution_count": 101,
   "metadata": {},
   "outputs": [
    {
     "data": {
      "text/plain": [
       "array([[ 0.54407827, -0.16875229,  0.59263506,  0.56946044],\n",
       "       [ 0.18040406,  0.97972749,  0.03806101,  0.0783567 ],\n",
       "       [ 0.77938323, -0.0892577 , -0.16706563, -0.5972302 ],\n",
       "       [ 0.25297231, -0.06074344, -0.78703502,  0.55936671]])"
      ]
     },
     "execution_count": 101,
     "metadata": {},
     "output_type": "execute_result"
    }
   ],
   "source": [
    "fp_dm"
   ]
  },
  {
   "cell_type": "code",
   "execution_count": 102,
   "metadata": {},
   "outputs": [
    {
     "data": {
      "text/plain": [
       "array([[ 0.54407827, -0.16875229,  0.59263506,  0.56946044],\n",
       "       [ 0.18040406,  0.97972749,  0.03806101,  0.0783567 ],\n",
       "       [ 0.77938323, -0.0892577 , -0.16706563, -0.5972302 ],\n",
       "       [ 0.25297231, -0.06074344, -0.78703502,  0.55936671]])"
      ]
     },
     "execution_count": 102,
     "metadata": {},
     "output_type": "execute_result"
    }
   ],
   "source": [
    "fp"
   ]
  },
  {
   "cell_type": "markdown",
   "metadata": {},
   "source": [
    "Les composantes principales :"
   ]
  },
  {
   "cell_type": "code",
   "execution_count": 103,
   "metadata": {},
   "outputs": [
    {
     "data": {
      "text/plain": [
       "array([[-0.46509805,  0.98837386,  0.3289216 ,  0.11656863],\n",
       "       [ 3.2287372 ,  1.45664559, -0.03060112, -0.04301417],\n",
       "       [ 0.08034218,  0.8260302 ,  0.37987793,  0.09327031],\n",
       "       [-0.20593412, -1.27014213,  0.21036512, -0.13251822],\n",
       "       [-0.67629184,  0.88410469,  0.43108578, -0.03473332],\n",
       "       [ 0.28704851,  0.65489962,  0.57269607, -0.0512197 ]])"
      ]
     },
     "execution_count": 103,
     "metadata": {},
     "output_type": "execute_result"
    }
   ],
   "source": [
    "cp_dm[:6, :]"
   ]
  },
  {
   "cell_type": "code",
   "execution_count": 104,
   "metadata": {},
   "outputs": [
    {
     "data": {
      "text/plain": [
       "array([[-0.46509805,  0.98837386,  0.3289216 ,  0.11656863],\n",
       "       [ 3.2287372 ,  1.45664559, -0.03060112, -0.04301417],\n",
       "       [ 0.08034218,  0.8260302 ,  0.37987793,  0.09327031],\n",
       "       [-0.20593412, -1.27014213,  0.21036512, -0.13251822],\n",
       "       [-0.67629184,  0.88410469,  0.43108578, -0.03473332],\n",
       "       [ 0.28704851,  0.65489962,  0.57269607, -0.0512197 ]])"
      ]
     },
     "execution_count": 104,
     "metadata": {},
     "output_type": "execute_result"
    }
   ],
   "source": [
    "cp[:6, :]"
   ]
  },
  {
   "cell_type": "markdown",
   "metadata": {},
   "source": [
    "Les données reconstituées :"
   ]
  },
  {
   "cell_type": "code",
   "execution_count": 105,
   "metadata": {},
   "outputs": [
    {
     "data": {
      "text/plain": [
       "array([[0.99787074, 3.18191365, 3.63960016, 2.87596954],\n",
       "       [2.71234221, 3.00830238, 7.4326992 , 4.42609564],\n",
       "       [1.21684447, 2.91701296, 4.18455463, 3.09172691],\n",
       "       [0.77974411, 0.80140151, 3.75583487, 2.85468521],\n",
       "       [0.88840092, 3.11174104, 3.41766147, 2.78294344],\n",
       "       [1.28364127, 2.70333478, 4.38390676, 3.16727224]])"
      ]
     },
     "execution_count": 105,
     "metadata": {},
     "output_type": "execute_result"
    }
   ],
   "source": [
    "X_rec_dm[:6, :]"
   ]
  },
  {
   "cell_type": "code",
   "execution_count": 106,
   "metadata": {},
   "outputs": [
    {
     "data": {
      "text/plain": [
       "array([[1.23188337, 3.14347085, 3.38747085, 2.78091498],\n",
       "       [2.68390863, 3.01394039, 7.49967134, 4.42190575],\n",
       "       [1.47854511, 2.8752649 , 3.94930934, 2.96519088],\n",
       "       [0.88652465, 0.7900847 , 3.87468799, 2.70999804],\n",
       "       [1.15626546, 3.07337384, 3.34086297, 2.58239614],\n",
       "       [1.63844708, 2.6526894 , 4.28874731, 2.89878903]])"
      ]
     },
     "execution_count": 106,
     "metadata": {},
     "output_type": "execute_result"
    }
   ],
   "source": [
    "X_rec[:6, :]"
   ]
  },
  {
   "cell_type": "markdown",
   "metadata": {},
   "source": [
    "Parfait!"
   ]
  },
  {
   "cell_type": "markdown",
   "metadata": {},
   "source": [
    "### Simulation des données manquantes sur la matrice X\n"
   ]
  },
  {
   "cell_type": "code",
   "execution_count": 107,
   "metadata": {},
   "outputs": [],
   "source": [
    "# pourcentage des données manquantes\n",
    "prop_miss = 0.1\n",
    "# génération des valeurs manquantes\n",
    "X_miss = X.copy()\n",
    "ind = rng.random((n, p))\n",
    "is_missing = ind < prop_miss\n",
    "X_miss[is_missing] = np.nan"
   ]
  },
  {
   "cell_type": "code",
   "execution_count": 108,
   "metadata": {},
   "outputs": [
    {
     "data": {
      "text/plain": [
       "array([[0.14302188, 0.77676794, 0.19820423, 0.91063823],\n",
       "       [0.65626904, 0.03616271, 0.00542983, 0.05165792],\n",
       "       [0.60592518, 0.80148181, 0.23855282, 0.84940884],\n",
       "       [0.05723194, 0.80096385, 0.92779543, 0.7721084 ],\n",
       "       [0.69812078, 0.83798022, 0.0401513 , 0.20178211],\n",
       "       [0.12492368, 0.50453099, 0.74518813, 0.63001184],\n",
       "       [0.8511311 , 0.15521299, 0.73462109, 0.19304149],\n",
       "       [0.27075875, 0.7099047 , 0.98020478, 0.61154361],\n",
       "       [0.05450031, 0.61630897, 0.04235055, 0.88414571],\n",
       "       [0.70957829, 0.17312785, 0.09172101, 0.18353323],\n",
       "       [0.98002718, 0.45856064, 0.78408095, 0.63640834],\n",
       "       [0.57241315, 0.14513025, 0.94602445, 0.30134263],\n",
       "       [0.57801722, 0.69977594, 0.64923316, 0.94059441],\n",
       "       [0.14843899, 0.50835274, 0.40403439, 0.47416873],\n",
       "       [0.11921753, 0.13409461, 0.27807555, 0.3047046 ],\n",
       "       [0.42790321, 0.61098755, 0.63462912, 0.4118109 ],\n",
       "       [0.40878311, 0.21762853, 0.58830625, 0.31704091],\n",
       "       [0.03605983, 0.41840004, 0.47413268, 0.22559287],\n",
       "       [0.57245793, 0.5657719 , 0.70200218, 0.64794848],\n",
       "       [0.65243306, 0.31621415, 0.78743222, 0.54914438],\n",
       "       [0.4314182 , 0.62601248, 0.36065733, 0.51273924],\n",
       "       [0.73670569, 0.88640289, 0.9210572 , 0.50363293],\n",
       "       [0.52027511, 0.79987041, 0.31445069, 0.83738236],\n",
       "       [0.49414165, 0.11585672, 0.07205915, 0.84199321],\n",
       "       [0.05556792, 0.28061144, 0.33413004, 0.17299445],\n",
       "       [0.31389337, 0.74269257, 0.01468284, 0.82717342],\n",
       "       [0.85654802, 0.37226157, 0.1536129 , 0.60084041],\n",
       "       [0.11967256, 0.36491936, 0.95842918, 0.99546447],\n",
       "       [0.77210489, 0.31096151, 0.68766505, 0.70540637],\n",
       "       [0.3878417 , 0.64088863, 0.01072764, 0.20905766],\n",
       "       [0.5250883 , 0.1637513 , 0.16590687, 0.83630429],\n",
       "       [0.989133  , 0.55596943, 0.83906973, 0.99032166],\n",
       "       [0.14159589, 0.44824561, 0.39257272, 0.08004928],\n",
       "       [0.75533017, 0.43377903, 0.46932693, 0.15067297],\n",
       "       [0.18092665, 0.90710362, 0.04464909, 0.23285228],\n",
       "       [0.29205933, 0.49019754, 0.58644517, 0.49328998],\n",
       "       [0.08411533, 0.24366745, 0.84358838, 0.6375887 ],\n",
       "       [0.64914905, 0.67020326, 0.76290302, 0.05810848],\n",
       "       [0.36660838, 0.53952744, 0.33845648, 0.84447887],\n",
       "       [0.48257251, 0.76862759, 0.85201552, 0.50479148],\n",
       "       [0.90955224, 0.58712394, 0.8502743 , 0.3405908 ],\n",
       "       [0.49881696, 0.53141104, 0.10497972, 0.39855251],\n",
       "       [0.91733767, 0.63083224, 0.17750658, 0.33885564],\n",
       "       [0.19160301, 0.02482313, 0.92746046, 0.44820733],\n",
       "       [0.30753507, 0.59847719, 0.00731446, 0.27802211],\n",
       "       [0.70303347, 0.63376977, 0.98180595, 0.62035771],\n",
       "       [0.47750587, 0.76143256, 0.90332787, 0.72069595],\n",
       "       [0.96321122, 0.78200517, 0.86680144, 0.11410407],\n",
       "       [0.7324135 , 0.4400887 , 0.5531038 , 0.65410241],\n",
       "       [0.96981512, 0.98457808, 0.28822825, 0.7337535 ],\n",
       "       [0.74998354, 0.34649286, 0.12386977, 0.04094696],\n",
       "       [0.77734313, 0.48969974, 0.98554017, 0.46497346],\n",
       "       [0.97791698, 0.411576  , 0.79368215, 0.08481927],\n",
       "       [0.55546171, 0.80205979, 0.92470167, 0.82258309],\n",
       "       [0.03697073, 0.37270234, 0.04869847, 0.10928229],\n",
       "       [0.67530563, 0.7132582 , 0.77372068, 0.86545655],\n",
       "       [0.73943147, 0.80087159, 0.04896371, 0.23453515],\n",
       "       [0.62189777, 0.8581253 , 0.00450012, 0.51462934],\n",
       "       [0.6772874 , 0.02960729, 0.40135556, 0.89563488],\n",
       "       [0.67161281, 0.23765836, 0.85278113, 0.34803142],\n",
       "       [0.85334467, 0.29894365, 0.59032025, 0.39694007],\n",
       "       [0.27482505, 0.88655756, 0.18759368, 0.08481159],\n",
       "       [0.34192694, 0.71763915, 0.80743161, 0.99874337],\n",
       "       [0.29636206, 0.40794195, 0.13682128, 0.57487193],\n",
       "       [0.99758004, 0.70088101, 0.59521284, 0.39236909],\n",
       "       [0.91529876, 0.4969166 , 0.13436691, 0.36537846],\n",
       "       [0.06716667, 0.20197904, 0.01766878, 0.45327992],\n",
       "       [0.63454026, 0.34329246, 0.42038177, 0.95920927],\n",
       "       [0.75196312, 0.54085664, 0.28454088, 0.8969968 ],\n",
       "       [0.23509712, 0.32534273, 0.90906481, 0.52954206],\n",
       "       [0.74231795, 0.59074479, 0.65343921, 0.29938329],\n",
       "       [0.24137206, 0.32249235, 0.15544156, 0.87431437],\n",
       "       [0.28324693, 0.56148939, 0.79197443, 0.78382411],\n",
       "       [0.43838626, 0.47625731, 0.99470175, 0.67459748],\n",
       "       [0.81463844, 0.90255397, 0.78758984, 0.18517934],\n",
       "       [0.56217073, 0.10189416, 0.65292213, 0.95534943],\n",
       "       [0.51273206, 0.43297249, 0.03584275, 0.95977452],\n",
       "       [0.10300268, 0.04107909, 0.24606661, 0.06553043],\n",
       "       [0.45511784, 0.5160878 , 0.31256995, 0.05096048],\n",
       "       [0.11160037, 0.38450438, 0.06052845, 0.69818973],\n",
       "       [0.20702054, 0.30207157, 0.39412578, 0.41660963],\n",
       "       [0.00166071, 0.11207037, 0.86276456, 0.00123306],\n",
       "       [0.50816736, 0.48950201, 0.33309416, 0.43132702],\n",
       "       [0.78058114, 0.84120371, 0.26034854, 0.32249044],\n",
       "       [0.24248285, 0.4798634 , 0.68325836, 0.22825288],\n",
       "       [0.33073574, 0.93038462, 0.04856929, 0.46076961],\n",
       "       [0.71155804, 0.15045401, 0.04737402, 0.13820537],\n",
       "       [0.91882319, 0.00925978, 0.18832197, 0.03128351],\n",
       "       [0.11062947, 0.62014929, 0.24163891, 0.56921205],\n",
       "       [0.59019538, 0.84943533, 0.00474139, 0.85336946],\n",
       "       [0.61911909, 0.16274349, 0.77293739, 0.85549154],\n",
       "       [0.25426348, 0.91879368, 0.45445743, 0.60342445],\n",
       "       [0.98464953, 0.36153608, 0.81315935, 0.31839912],\n",
       "       [0.79921352, 0.60073392, 0.2163557 , 0.41402609],\n",
       "       [0.31763563, 0.07810839, 0.02983477, 0.34647866],\n",
       "       [0.01903415, 0.16548776, 0.72518332, 0.70809124],\n",
       "       [0.73858039, 0.31715317, 0.89001946, 0.59383055],\n",
       "       [0.12602634, 0.14371866, 0.69309543, 0.17294394],\n",
       "       [0.5072927 , 0.99177448, 0.0040076 , 0.0165798 ],\n",
       "       [0.99308458, 0.58463883, 0.12690998, 0.8973022 ]])"
      ]
     },
     "execution_count": 108,
     "metadata": {},
     "output_type": "execute_result"
    }
   ],
   "source": [
    "ind"
   ]
  },
  {
   "cell_type": "markdown",
   "metadata": {},
   "source": [
    "Nombre de manquants par colonne :"
   ]
  },
  {
   "cell_type": "code",
   "execution_count": 109,
   "metadata": {},
   "outputs": [
    {
     "data": {
      "text/plain": [
       "array([ 9,  6, 20, 11])"
      ]
     },
     "execution_count": 109,
     "metadata": {},
     "output_type": "execute_result"
    }
   ],
   "source": [
    "np.isnan(X_miss).sum(axis=0)"
   ]
  },
  {
   "cell_type": "markdown",
   "metadata": {},
   "source": [
    "Voici les valeurs qui ont été déclarées manquantes :"
   ]
  },
  {
   "cell_type": "code",
   "execution_count": 110,
   "metadata": {},
   "outputs": [
    {
     "data": {
      "text/plain": [
       "array([ 3.01394039,  7.49967134,  4.42190575,  0.88652465,  3.34086297,\n",
       "        1.77750098,  4.80741826,  4.23619526, -0.10588813,  4.96592085,\n",
       "        2.2224621 ,  4.57506364,  3.5085072 ,  3.41285513,  3.06144548,\n",
       "        1.46074951,  2.11144813,  3.2752856 ,  1.20344408,  2.76090799,\n",
       "        3.31289671,  0.30332669,  3.06252788,  3.52716513,  5.64925906,\n",
       "        0.7972992 ,  1.92393853,  0.56638218,  3.09186486,  4.07118995,\n",
       "        0.20240732,  2.32633613,  1.4963125 ,  3.9421519 , -1.00301296,\n",
       "        1.93548331,  7.97703491,  1.23682406,  0.0760175 ,  4.14315011,\n",
       "        3.64241138,  4.06142202,  4.37938677,  0.11648195,  4.75510937,\n",
       "        3.20818419])"
      ]
     },
     "execution_count": 110,
     "metadata": {},
     "output_type": "execute_result"
    }
   ],
   "source": [
    "X[is_missing]"
   ]
  },
  {
   "cell_type": "code",
   "execution_count": 111,
   "metadata": {},
   "outputs": [
    {
     "data": {
      "text/plain": [
       "array([nan, nan, nan, nan, nan, nan, nan, nan, nan, nan, nan, nan, nan,\n",
       "       nan, nan, nan, nan, nan, nan, nan, nan, nan, nan, nan, nan, nan,\n",
       "       nan, nan, nan, nan, nan, nan, nan, nan, nan, nan, nan, nan, nan,\n",
       "       nan, nan, nan, nan, nan, nan, nan])"
      ]
     },
     "execution_count": 111,
     "metadata": {},
     "output_type": "execute_result"
    }
   ],
   "source": [
    "X_miss[is_missing]"
   ]
  },
  {
   "cell_type": "markdown",
   "metadata": {},
   "source": [
    "### Imputation des valeurs manquantes avec NIPALS :"
   ]
  },
  {
   "cell_type": "code",
   "execution_count": 112,
   "metadata": {},
   "outputs": [],
   "source": [
    "cp_imp, fp_imp, X_rec_imp = NIPALS_dm(X_miss, p)"
   ]
  },
  {
   "cell_type": "markdown",
   "metadata": {},
   "source": [
    "Voici les valeurs estimées par NIPALS pour les données manquantes :"
   ]
  },
  {
   "cell_type": "code",
   "execution_count": 113,
   "metadata": {},
   "outputs": [
    {
     "data": {
      "text/plain": [
       "array([ 3.01394039,  7.49967134,  4.42190575,  0.88652465,  3.34086297,\n",
       "        1.77750098,  4.80741826,  4.23619526, -0.10588813,  4.96592085,\n",
       "        2.2224621 ,  4.57506364,  3.5085072 ,  3.41285513,  3.06144548,\n",
       "        1.46074951,  2.11144813,  3.2752856 ,  1.20344408,  2.76090799,\n",
       "        3.31289671,  0.30332669,  3.06252788,  3.52716513,  5.64925906,\n",
       "        0.7972992 ,  1.92393853,  0.56638218,  3.09186486,  4.07118995,\n",
       "        0.20240732,  2.32633613,  1.4963125 ,  3.9421519 , -1.00301296,\n",
       "        1.93548331,  7.97703491,  1.23682406,  0.0760175 ,  4.14315011,\n",
       "        3.64241138,  4.06142202,  4.37938677,  0.11648195,  4.75510937,\n",
       "        3.20818419])"
      ]
     },
     "execution_count": 113,
     "metadata": {},
     "output_type": "execute_result"
    }
   ],
   "source": [
    "X_rec_imp[is_missing]"
   ]
  },
  {
   "cell_type": "markdown",
   "metadata": {},
   "source": [
    "Cela a l'air pas mal!"
   ]
  },
  {
   "attachments": {},
   "cell_type": "markdown",
   "metadata": {},
   "source": [
    "## NIPALS avec données manquantes (version classe)\n",
    "\n",
    "Faire une fonction pour NIPALS n'est pas très pythonique, on devrait plutôt faire une classe.\n"
   ]
  },
  {
   "cell_type": "code",
   "execution_count": 114,
   "metadata": {},
   "outputs": [],
   "source": [
    "class NIPALS:\n",
    "    def __init__(self, n_components=None, n_iterations=100):\n",
    "        self.n_components = n_components\n",
    "        self.n_iterations = n_iterations\n",
    "        \n",
    "    def fit(self, X, y=None):\n",
    "        n, p = X.shape\n",
    "        \n",
    "        self.n_components_ = min(n, p) if self.n_components is None else self.n_components\n",
    "\n",
    "        # centrer et réduire matrice X\n",
    "        self.mu_ = np.nanmean(X, axis=0)\n",
    "        self.sd_ = np.nanstd(X, axis=0, ddof=0)\n",
    "        X_scaled = (X - self.mu_) / self.sd_\n",
    "\n",
    "        cp = np.zeros((n, self.n_components_))  # les composantes principales\n",
    "        self.fp_ = np.zeros((self.n_components_, p))  # les facteurs principaux\n",
    "        \n",
    "        # déroulement de l'algorithme:\n",
    "        for i in range(self.n_components_):\n",
    "            cp[:, i], self.fp_[i, :] = self._compute_cp_fp(X_scaled)\n",
    "            X_scaled -= np.matmul(cp[:, i].reshape(-1, 1), self.fp_[i, :].reshape(1, -1))\n",
    "        \n",
    "        return self\n",
    "    \n",
    "    def _compute_cp_fp(self, X):\n",
    "        fp = np.zeros((X.shape[1], ))\n",
    "        cp = X[:, 0].copy()\n",
    "        \n",
    "        for i in range(self.n_iterations):\n",
    "            fp = self._compute_fp_with_fixed_cp(X, cp)\n",
    "            cp = self._compute_cp_with_fixed_fp(X, fp)\n",
    "\n",
    "        return cp, fp\n",
    "    \n",
    "    def _compute_cp_with_fixed_fp(self, X, fp):\n",
    "        cp = X[:, 0].copy()\n",
    "        for j in range(X.shape[0]):\n",
    "            cp[j] = np.nansum(X[j, :] * fp)\n",
    "        \n",
    "        return cp\n",
    "    \n",
    "    def _compute_fp_with_fixed_cp(self, X, cp):\n",
    "        fp = np.zeros((X.shape[1], ))\n",
    "        for j in range(X.shape[1]):\n",
    "            fp[j] = np.nansum(X[:, j] * cp)\n",
    "\n",
    "        # on normalize fp:\n",
    "        fp /= np.sqrt(np.sum(fp**2))\n",
    "        \n",
    "        return fp\n",
    "    \n",
    "    def transform(self, X):\n",
    "        cp = np.zeros((n, self.n_components_))\n",
    "        \n",
    "        X_scaled = (X - self.mu_) / self.sd_\n",
    "        \n",
    "        for i in range(self.n_components_):\n",
    "            cp[:, i] = self._compute_cp_with_fixed_fp(X_scaled, self.fp_[i, :])\n",
    "            X_scaled -= np.matmul(cp[:, i].reshape(-1, 1), self.fp_[i, :].reshape(1, -1))\n",
    "        \n",
    "        return cp\n",
    "        \n",
    "    def fit_transform(self, X, y=None):\n",
    "        self.fit(X)\n",
    "        return self.transform(X)\n",
    "    \n",
    "    def inverse_transform(self, X):\n",
    "        X_recons = np.matmul(X, self.fp_)\n",
    "        X_recons *= self.sd_\n",
    "        X_recons += self.mu_\n",
    "        \n",
    "        return X_recons\n",
    "    "
   ]
  },
  {
   "cell_type": "code",
   "execution_count": 115,
   "metadata": {},
   "outputs": [],
   "source": [
    "nip = NIPALS(n_components=p)\n",
    "nip.fit(X)\n",
    "pc = nip.transform(X)\n",
    "X_recons = nip.inverse_transform(pc)"
   ]
  },
  {
   "cell_type": "code",
   "execution_count": 116,
   "metadata": {},
   "outputs": [],
   "source": [
    "cp_dm, fp_dm, X_rec_dm = NIPALS_dm(X, h=p)"
   ]
  },
  {
   "cell_type": "code",
   "execution_count": 117,
   "metadata": {},
   "outputs": [
    {
     "data": {
      "text/plain": [
       "array([[ 0.54407827, -0.16875229,  0.59263506,  0.56946044],\n",
       "       [ 0.18040406,  0.97972749,  0.03806101,  0.0783567 ],\n",
       "       [ 0.77938323, -0.0892577 , -0.16706563, -0.5972302 ],\n",
       "       [ 0.25297231, -0.06074344, -0.78703502,  0.55936671]])"
      ]
     },
     "execution_count": 117,
     "metadata": {},
     "output_type": "execute_result"
    }
   ],
   "source": [
    "fp_dm"
   ]
  },
  {
   "cell_type": "code",
   "execution_count": 118,
   "metadata": {},
   "outputs": [
    {
     "data": {
      "text/plain": [
       "array([[ 0.54407827, -0.16875229,  0.59263506,  0.56946044],\n",
       "       [ 0.18040406,  0.97972749,  0.03806101,  0.0783567 ],\n",
       "       [ 0.77938323, -0.0892577 , -0.16706563, -0.5972302 ],\n",
       "       [ 0.25297231, -0.06074344, -0.78703502,  0.55936671]])"
      ]
     },
     "execution_count": 118,
     "metadata": {},
     "output_type": "execute_result"
    }
   ],
   "source": [
    "nip.fp_"
   ]
  },
  {
   "cell_type": "code",
   "execution_count": 119,
   "metadata": {},
   "outputs": [
    {
     "data": {
      "text/plain": [
       "array([[-0.46509805,  0.98837386,  0.3289216 ,  0.11656863],\n",
       "       [ 3.2287372 ,  1.45664559, -0.03060112, -0.04301417],\n",
       "       [ 0.08034218,  0.8260302 ,  0.37987793,  0.09327031],\n",
       "       [-0.20593412, -1.27014213,  0.21036512, -0.13251822],\n",
       "       [-0.67629184,  0.88410469,  0.43108578, -0.03473332],\n",
       "       [ 0.28704851,  0.65489962,  0.57269607, -0.0512197 ],\n",
       "       [ 0.73849162,  0.33529494,  0.19740539,  0.04481167],\n",
       "       [-0.68934701, -0.54822109,  1.04192394, -0.10552004],\n",
       "       [ 0.95787193,  0.83628506,  0.2132364 ,  0.15554989],\n",
       "       [ 0.15028273,  0.79324069, -0.45510558,  0.10950964]])"
      ]
     },
     "execution_count": 119,
     "metadata": {},
     "output_type": "execute_result"
    }
   ],
   "source": [
    "cp_dm[:10, ]"
   ]
  },
  {
   "cell_type": "code",
   "execution_count": 120,
   "metadata": {},
   "outputs": [
    {
     "data": {
      "text/plain": [
       "array([[-0.46509805,  0.98837386,  0.3289216 ,  0.11656863],\n",
       "       [ 3.2287372 ,  1.45664559, -0.03060112, -0.04301417],\n",
       "       [ 0.08034218,  0.8260302 ,  0.37987793,  0.09327031],\n",
       "       [-0.20593412, -1.27014213,  0.21036512, -0.13251822],\n",
       "       [-0.67629184,  0.88410469,  0.43108578, -0.03473332],\n",
       "       [ 0.28704851,  0.65489962,  0.57269607, -0.0512197 ],\n",
       "       [ 0.73849162,  0.33529494,  0.19740539,  0.04481167],\n",
       "       [-0.68934701, -0.54822109,  1.04192394, -0.10552004],\n",
       "       [ 0.95787193,  0.83628506,  0.2132364 ,  0.15554989],\n",
       "       [ 0.15028273,  0.79324069, -0.45510558,  0.10950964]])"
      ]
     },
     "execution_count": 120,
     "metadata": {},
     "output_type": "execute_result"
    }
   ],
   "source": [
    "pc[:10, ]"
   ]
  },
  {
   "cell_type": "code",
   "execution_count": 121,
   "metadata": {},
   "outputs": [],
   "source": [
    "cp_imp, fp_imp, X_rec_imp = NIPALS_dm(X_miss, p)"
   ]
  },
  {
   "cell_type": "code",
   "execution_count": 122,
   "metadata": {},
   "outputs": [],
   "source": [
    "nip = NIPALS(n_components=p)\n",
    "nip.fit(X_miss)\n",
    "pc = nip.transform(X_miss)\n",
    "X_recons = nip.inverse_transform(pc)"
   ]
  },
  {
   "cell_type": "code",
   "execution_count": 123,
   "metadata": {},
   "outputs": [
    {
     "data": {
      "text/plain": [
       "array([ 3.01394039,  7.49967134,  4.42190575,  0.88652465,  3.34086297,\n",
       "        1.77750098,  4.80741826,  4.23619526, -0.10588813,  4.96592085,\n",
       "        2.2224621 ,  4.57506364,  3.5085072 ,  3.41285513,  3.06144548,\n",
       "        1.46074951,  2.11144813,  3.2752856 ,  1.20344408,  2.76090799,\n",
       "        3.31289671,  0.30332669,  3.06252788,  3.52716513,  5.64925906,\n",
       "        0.7972992 ,  1.92393853,  0.56638218,  3.09186486,  4.07118995,\n",
       "        0.20240732,  2.32633613,  1.4963125 ,  3.9421519 , -1.00301296,\n",
       "        1.93548331,  7.97703491,  1.23682406,  0.0760175 ,  4.14315011,\n",
       "        3.64241138,  4.06142202,  4.37938677,  0.11648195,  4.75510937,\n",
       "        3.20818419])"
      ]
     },
     "execution_count": 123,
     "metadata": {},
     "output_type": "execute_result"
    }
   ],
   "source": [
    "X_rec_imp[is_missing]"
   ]
  },
  {
   "cell_type": "code",
   "execution_count": 124,
   "metadata": {},
   "outputs": [
    {
     "data": {
      "text/plain": [
       "array([2.00229811, 5.11740942, 3.05275806, 1.02413029, 3.52078876,\n",
       "       1.12755762, 4.34855052, 4.23727022, 0.75330718, 4.23114253,\n",
       "       1.7195988 , 4.46595893, 3.60688626, 3.32304999, 3.98911965,\n",
       "       1.47808294, 2.62737357, 1.88747632, 1.98684858, 2.84081005,\n",
       "       3.38754992, 1.04353445, 3.63144683, 4.13132113, 4.92891952,\n",
       "       2.2980935 , 2.22637766, 1.05566221, 3.72923277, 4.29268786,\n",
       "       2.25385361, 2.79789539, 2.34114609, 3.69796831, 0.52243915,\n",
       "       2.56326625, 6.88000467, 2.11493625, 1.72556401, 3.53238024,\n",
       "       3.60190471, 2.00595822, 4.34700247, 1.04688325, 4.40951451,\n",
       "       3.04497695])"
      ]
     },
     "execution_count": 124,
     "metadata": {},
     "output_type": "execute_result"
    }
   ],
   "source": [
    "X_recons[is_missing]"
   ]
  },
  {
   "cell_type": "code",
   "execution_count": null,
   "metadata": {},
   "outputs": [],
   "source": []
  }
 ],
 "metadata": {
  "interpreter": {
   "hash": "916dbcbb3f70747c44a77c7bcd40155683ae19c65e1c03b4aa3499c5328201f1"
  },
  "kernelspec": {
   "display_name": "Python 3 (ipykernel)",
   "language": "python",
   "name": "python3"
  },
  "language_info": {
   "codemirror_mode": {
    "name": "ipython",
    "version": 3
   },
   "file_extension": ".py",
   "mimetype": "text/x-python",
   "name": "python",
   "nbconvert_exporter": "python",
   "pygments_lexer": "ipython3",
   "version": "3.10.6"
  }
 },
 "nbformat": 4,
 "nbformat_minor": 4
}
