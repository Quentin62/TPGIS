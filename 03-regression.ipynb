{
 "metadata": {
  "language_info": {
   "codemirror_mode": {
    "name": "ipython",
    "version": 3
   },
   "file_extension": ".py",
   "mimetype": "text/x-python",
   "name": "python",
   "nbconvert_exporter": "python",
   "pygments_lexer": "ipython3",
   "version": "3.8.10"
  },
  "orig_nbformat": 2,
  "kernelspec": {
   "name": "python3",
   "display_name": "Python 3.8.10 64-bit"
  },
  "interpreter": {
   "hash": "916dbcbb3f70747c44a77c7bcd40155683ae19c65e1c03b4aa3499c5328201f1"
  }
 },
 "nbformat": 4,
 "nbformat_minor": 2,
 "cells": [
  {
   "cell_type": "markdown",
   "source": [
    "# PCR, PLS, Ridge et Lasso\n",
    "\n",
    "- *Auteurs:* Quentin Grimonprez, Cristian Preda, Vincent Vandewalle\n",
    "- *Date:* 22 février 2020"
   ],
   "metadata": {}
  },
  {
   "cell_type": "markdown",
   "source": [
    "## Objectif du TP\n",
    "\n",
    "L'objectif de ce TP est de présenter des solutions pour réaliser la régression linéaire en condition de multicolinéarité. On utilisera le package scikit-learn. Nous allons illustrer les principales fonctionnalités de ces fonctions à l’aide de la base de données disponible à l’adresse : <http://math.univ-lille1.fr/∼preda/GIS4/car.txt>"
   ],
   "metadata": {}
  },
  {
   "cell_type": "code",
   "execution_count": 3,
   "source": [
    "import numpy as np\n",
    "import pandas as pd\n",
    "import matplotlib.pyplot as plt\n",
    "import operator\n",
    "from sklearn.linear_model import LinearRegression, Lasso, LassoCV, Ridge, RidgeCV\n",
    "from sklearn.cross_decomposition import PLSRegression\n",
    "from sklearn.decomposition import PCA\n",
    "from sklearn.preprocessing import StandardScaler\n",
    "from sklearn.pipeline import make_pipeline\n",
    "from sklearn.model_selection import cross_val_score, cross_validate\n",
    "from sklearn.metrics import mean_squared_error, r2_score\n",
    "from sklearn.feature_selection import SequentialFeatureSelector\n",
    "import statsmodels.api as sm\n",
    "\n",
    "plt.rcParams[\"figure.figsize\"] = 12, 8"
   ],
   "outputs": [],
   "metadata": {}
  },
  {
   "cell_type": "markdown",
   "source": [
    "## Aperçu des données\n",
    "\n",
    "Chargement des données car à partir du fichier fourni. En ouvrant ce fichier, on notera que les séparateur est la tabulation et que la 1ère colonne correspond aux index, et la 1ère ligne aux noms de colonnes."
   ],
   "metadata": {}
  },
  {
   "cell_type": "code",
   "execution_count": 5,
   "source": [
    "car = pd.read_table(\"data/car.txt\", sep=\"\\t\", header=0, index_col=0)\n",
    "car.head()"
   ],
   "outputs": [
    {
     "output_type": "execute_result",
     "data": {
      "text/html": [
       "<div>\n",
       "<style scoped>\n",
       "    .dataframe tbody tr th:only-of-type {\n",
       "        vertical-align: middle;\n",
       "    }\n",
       "\n",
       "    .dataframe tbody tr th {\n",
       "        vertical-align: top;\n",
       "    }\n",
       "\n",
       "    .dataframe thead th {\n",
       "        text-align: right;\n",
       "    }\n",
       "</style>\n",
       "<table border=\"1\" class=\"dataframe\">\n",
       "  <thead>\n",
       "    <tr style=\"text-align: right;\">\n",
       "      <th></th>\n",
       "      <th>CYL</th>\n",
       "      <th>PUIS</th>\n",
       "      <th>LON</th>\n",
       "      <th>LAR</th>\n",
       "      <th>POIDS</th>\n",
       "      <th>VITESSE</th>\n",
       "      <th>NAT</th>\n",
       "      <th>FINITION</th>\n",
       "      <th>PRIX</th>\n",
       "    </tr>\n",
       "    <tr>\n",
       "      <th>NOM</th>\n",
       "      <th></th>\n",
       "      <th></th>\n",
       "      <th></th>\n",
       "      <th></th>\n",
       "      <th></th>\n",
       "      <th></th>\n",
       "      <th></th>\n",
       "      <th></th>\n",
       "      <th></th>\n",
       "    </tr>\n",
       "  </thead>\n",
       "  <tbody>\n",
       "    <tr>\n",
       "      <th>ALFASUD-TI-1350</th>\n",
       "      <td>1350</td>\n",
       "      <td>79</td>\n",
       "      <td>393</td>\n",
       "      <td>161</td>\n",
       "      <td>870</td>\n",
       "      <td>165</td>\n",
       "      <td>I</td>\n",
       "      <td>B</td>\n",
       "      <td>30570</td>\n",
       "    </tr>\n",
       "    <tr>\n",
       "      <th>AUDI-100-L</th>\n",
       "      <td>1588</td>\n",
       "      <td>85</td>\n",
       "      <td>468</td>\n",
       "      <td>177</td>\n",
       "      <td>1110</td>\n",
       "      <td>160</td>\n",
       "      <td>D</td>\n",
       "      <td>TB</td>\n",
       "      <td>39990</td>\n",
       "    </tr>\n",
       "    <tr>\n",
       "      <th>SIMCA-1307-GLS</th>\n",
       "      <td>1294</td>\n",
       "      <td>68</td>\n",
       "      <td>424</td>\n",
       "      <td>168</td>\n",
       "      <td>1050</td>\n",
       "      <td>152</td>\n",
       "      <td>F</td>\n",
       "      <td>M</td>\n",
       "      <td>29600</td>\n",
       "    </tr>\n",
       "    <tr>\n",
       "      <th>CITROEN-GS-CLUB</th>\n",
       "      <td>1222</td>\n",
       "      <td>59</td>\n",
       "      <td>412</td>\n",
       "      <td>161</td>\n",
       "      <td>930</td>\n",
       "      <td>151</td>\n",
       "      <td>F</td>\n",
       "      <td>M</td>\n",
       "      <td>28250</td>\n",
       "    </tr>\n",
       "    <tr>\n",
       "      <th>FIAT-132-1600GLS</th>\n",
       "      <td>1585</td>\n",
       "      <td>98</td>\n",
       "      <td>439</td>\n",
       "      <td>164</td>\n",
       "      <td>1105</td>\n",
       "      <td>165</td>\n",
       "      <td>I</td>\n",
       "      <td>B</td>\n",
       "      <td>34900</td>\n",
       "    </tr>\n",
       "  </tbody>\n",
       "</table>\n",
       "</div>"
      ],
      "text/plain": [
       "                   CYL  PUIS  LON  LAR  POIDS  VITESSE NAT FINITION   PRIX\n",
       "NOM                                                                       \n",
       "ALFASUD-TI-1350   1350    79  393  161    870      165   I        B  30570\n",
       "AUDI-100-L        1588    85  468  177   1110      160   D       TB  39990\n",
       "SIMCA-1307-GLS    1294    68  424  168   1050      152   F        M  29600\n",
       "CITROEN-GS-CLUB   1222    59  412  161    930      151   F        M  28250\n",
       "FIAT-132-1600GLS  1585    98  439  164   1105      165   I        B  34900"
      ]
     },
     "metadata": {},
     "execution_count": 5
    }
   ],
   "metadata": {}
  },
  {
   "cell_type": "markdown",
   "source": [
    "On vérifie le type des colonnes. Les chaînes de caractères sont de type *object*."
   ],
   "metadata": {}
  },
  {
   "cell_type": "code",
   "execution_count": 7,
   "source": [
    "car.dtypes"
   ],
   "outputs": [
    {
     "output_type": "execute_result",
     "data": {
      "text/plain": [
       "CYL          int64\n",
       "PUIS         int64\n",
       "LON          int64\n",
       "LAR          int64\n",
       "POIDS        int64\n",
       "VITESSE      int64\n",
       "NAT         object\n",
       "FINITION    object\n",
       "PRIX         int64\n",
       "dtype: object"
      ]
     },
     "metadata": {},
     "execution_count": 7
    }
   ],
   "metadata": {}
  },
  {
   "cell_type": "markdown",
   "source": [
    "#### Statistiques univariées"
   ],
   "metadata": {}
  },
  {
   "cell_type": "code",
   "execution_count": 9,
   "source": [
    "print(car.shape)\n",
    "car.describe(percentiles=[0.1, 0.5, 0.9], include=\"all\")"
   ],
   "outputs": [
    {
     "output_type": "stream",
     "name": "stdout",
     "text": [
      "(18, 9)\n"
     ]
    },
    {
     "output_type": "execute_result",
     "data": {
      "text/html": [
       "<div>\n",
       "<style scoped>\n",
       "    .dataframe tbody tr th:only-of-type {\n",
       "        vertical-align: middle;\n",
       "    }\n",
       "\n",
       "    .dataframe tbody tr th {\n",
       "        vertical-align: top;\n",
       "    }\n",
       "\n",
       "    .dataframe thead th {\n",
       "        text-align: right;\n",
       "    }\n",
       "</style>\n",
       "<table border=\"1\" class=\"dataframe\">\n",
       "  <thead>\n",
       "    <tr style=\"text-align: right;\">\n",
       "      <th></th>\n",
       "      <th>CYL</th>\n",
       "      <th>PUIS</th>\n",
       "      <th>LON</th>\n",
       "      <th>LAR</th>\n",
       "      <th>POIDS</th>\n",
       "      <th>VITESSE</th>\n",
       "      <th>NAT</th>\n",
       "      <th>FINITION</th>\n",
       "      <th>PRIX</th>\n",
       "    </tr>\n",
       "  </thead>\n",
       "  <tbody>\n",
       "    <tr>\n",
       "      <th>count</th>\n",
       "      <td>18.000000</td>\n",
       "      <td>18.000000</td>\n",
       "      <td>18.000000</td>\n",
       "      <td>18.000000</td>\n",
       "      <td>18.000000</td>\n",
       "      <td>18.000000</td>\n",
       "      <td>18</td>\n",
       "      <td>18</td>\n",
       "      <td>18.000000</td>\n",
       "    </tr>\n",
       "    <tr>\n",
       "      <th>unique</th>\n",
       "      <td>NaN</td>\n",
       "      <td>NaN</td>\n",
       "      <td>NaN</td>\n",
       "      <td>NaN</td>\n",
       "      <td>NaN</td>\n",
       "      <td>NaN</td>\n",
       "      <td>6</td>\n",
       "      <td>3</td>\n",
       "      <td>NaN</td>\n",
       "    </tr>\n",
       "    <tr>\n",
       "      <th>top</th>\n",
       "      <td>NaN</td>\n",
       "      <td>NaN</td>\n",
       "      <td>NaN</td>\n",
       "      <td>NaN</td>\n",
       "      <td>NaN</td>\n",
       "      <td>NaN</td>\n",
       "      <td>F</td>\n",
       "      <td>B</td>\n",
       "      <td>NaN</td>\n",
       "    </tr>\n",
       "    <tr>\n",
       "      <th>freq</th>\n",
       "      <td>NaN</td>\n",
       "      <td>NaN</td>\n",
       "      <td>NaN</td>\n",
       "      <td>NaN</td>\n",
       "      <td>NaN</td>\n",
       "      <td>NaN</td>\n",
       "      <td>6</td>\n",
       "      <td>7</td>\n",
       "      <td>NaN</td>\n",
       "    </tr>\n",
       "    <tr>\n",
       "      <th>mean</th>\n",
       "      <td>1631.666667</td>\n",
       "      <td>84.611111</td>\n",
       "      <td>433.500000</td>\n",
       "      <td>166.666667</td>\n",
       "      <td>1078.833333</td>\n",
       "      <td>158.277778</td>\n",
       "      <td>NaN</td>\n",
       "      <td>NaN</td>\n",
       "      <td>34158.611111</td>\n",
       "    </tr>\n",
       "    <tr>\n",
       "      <th>std</th>\n",
       "      <td>373.929846</td>\n",
       "      <td>20.376281</td>\n",
       "      <td>22.107358</td>\n",
       "      <td>5.313689</td>\n",
       "      <td>136.957808</td>\n",
       "      <td>12.140383</td>\n",
       "      <td>NaN</td>\n",
       "      <td>NaN</td>\n",
       "      <td>6571.577795</td>\n",
       "    </tr>\n",
       "    <tr>\n",
       "      <th>min</th>\n",
       "      <td>1166.000000</td>\n",
       "      <td>55.000000</td>\n",
       "      <td>393.000000</td>\n",
       "      <td>157.000000</td>\n",
       "      <td>815.000000</td>\n",
       "      <td>140.000000</td>\n",
       "      <td>NaN</td>\n",
       "      <td>NaN</td>\n",
       "      <td>22100.000000</td>\n",
       "    </tr>\n",
       "    <tr>\n",
       "      <th>10%</th>\n",
       "      <td>1272.400000</td>\n",
       "      <td>57.800000</td>\n",
       "      <td>402.500000</td>\n",
       "      <td>161.000000</td>\n",
       "      <td>912.000000</td>\n",
       "      <td>140.000000</td>\n",
       "      <td>NaN</td>\n",
       "      <td>NaN</td>\n",
       "      <td>27492.000000</td>\n",
       "    </tr>\n",
       "    <tr>\n",
       "      <th>50%</th>\n",
       "      <td>1577.500000</td>\n",
       "      <td>82.000000</td>\n",
       "      <td>434.500000</td>\n",
       "      <td>167.000000</td>\n",
       "      <td>1087.500000</td>\n",
       "      <td>160.000000</td>\n",
       "      <td>NaN</td>\n",
       "      <td>NaN</td>\n",
       "      <td>33345.000000</td>\n",
       "    </tr>\n",
       "    <tr>\n",
       "      <th>90%</th>\n",
       "      <td>1994.500000</td>\n",
       "      <td>110.800000</td>\n",
       "      <td>461.700000</td>\n",
       "      <td>173.000000</td>\n",
       "      <td>1208.000000</td>\n",
       "      <td>173.600000</td>\n",
       "      <td>NaN</td>\n",
       "      <td>NaN</td>\n",
       "      <td>42870.500000</td>\n",
       "    </tr>\n",
       "    <tr>\n",
       "      <th>max</th>\n",
       "      <td>2664.000000</td>\n",
       "      <td>128.000000</td>\n",
       "      <td>469.000000</td>\n",
       "      <td>177.000000</td>\n",
       "      <td>1370.000000</td>\n",
       "      <td>180.000000</td>\n",
       "      <td>NaN</td>\n",
       "      <td>NaN</td>\n",
       "      <td>47700.000000</td>\n",
       "    </tr>\n",
       "  </tbody>\n",
       "</table>\n",
       "</div>"
      ],
      "text/plain": [
       "                CYL        PUIS         LON         LAR        POIDS  \\\n",
       "count     18.000000   18.000000   18.000000   18.000000    18.000000   \n",
       "unique          NaN         NaN         NaN         NaN          NaN   \n",
       "top             NaN         NaN         NaN         NaN          NaN   \n",
       "freq            NaN         NaN         NaN         NaN          NaN   \n",
       "mean    1631.666667   84.611111  433.500000  166.666667  1078.833333   \n",
       "std      373.929846   20.376281   22.107358    5.313689   136.957808   \n",
       "min     1166.000000   55.000000  393.000000  157.000000   815.000000   \n",
       "10%     1272.400000   57.800000  402.500000  161.000000   912.000000   \n",
       "50%     1577.500000   82.000000  434.500000  167.000000  1087.500000   \n",
       "90%     1994.500000  110.800000  461.700000  173.000000  1208.000000   \n",
       "max     2664.000000  128.000000  469.000000  177.000000  1370.000000   \n",
       "\n",
       "           VITESSE  NAT FINITION          PRIX  \n",
       "count    18.000000   18       18     18.000000  \n",
       "unique         NaN    6        3           NaN  \n",
       "top            NaN    F        B           NaN  \n",
       "freq           NaN    6        7           NaN  \n",
       "mean    158.277778  NaN      NaN  34158.611111  \n",
       "std      12.140383  NaN      NaN   6571.577795  \n",
       "min     140.000000  NaN      NaN  22100.000000  \n",
       "10%     140.000000  NaN      NaN  27492.000000  \n",
       "50%     160.000000  NaN      NaN  33345.000000  \n",
       "90%     173.600000  NaN      NaN  42870.500000  \n",
       "max     180.000000  NaN      NaN  47700.000000  "
      ]
     },
     "metadata": {},
     "execution_count": 9
    }
   ],
   "metadata": {}
  },
  {
   "cell_type": "markdown",
   "source": [
    "La valeur **count** représentent le nombre de données présentes. On constate qu'il n'y a pas de manquants."
   ],
   "metadata": {}
  },
  {
   "cell_type": "markdown",
   "source": [
    "## Expliquer/prédire le PRIX des voitures à partir de leurs caractéristiques"
   ],
   "metadata": {}
  },
  {
   "cell_type": "markdown",
   "source": [
    "Note : Les variables qualitatives (ici *NAT* et *FINITION*) ne peuvent pas faire partie d'un modèle de régression basé sur les composantes principales ou PLS car ces techniques ne sont pas adaptées à ce type de données. Par contre Ridge et Lasso traitent aussi bien les variables qualitatives que les variables quantitatives. On ne va donc considérer dans la liste des prédicteurs que les variables **quantitatives**."
   ],
   "metadata": {}
  },
  {
   "cell_type": "markdown",
   "source": [
    "On sépare le jeu de données en X et y pour suivre l'[API de scikit-learn](https://scikit-learn.org/stable/modules/classes.html). Scikit-learn est fait pour fonctionner avec des numpy.array ou équivalents, on ne pourra pas utiliser de formules comme dans statsmodels ou R. La force de scikit-learn est que toutes les méthodes partageant le même but (ex: prédiction) ont la même API, c'est-à-dire même noms de paramètres, même noms de méthodes. Toutes les méthodes de régressions que nous utilisons dans la suite ont une méthode `fit` qui prend en paramètres X et y, une méthode `predict`... C'est cela qui fait la force de scikit-learn en permettant de changer de modèle facilement. Par contre, elle ne dispose pas d'analyse statistique des résultats à l'inverse de statsmodels."
   ],
   "metadata": {}
  },
  {
   "cell_type": "code",
   "execution_count": 11,
   "source": [
    "X = car.iloc[:, 0:6]  # .iloc permet d'accéder aux lignes et aux colonnes d'un DataFrame par leur position.\n",
    "y = car.loc[:, \"PRIX\"]  # .loc permet d'accéder aux lignes et aux colonnes via leurs noms.\n",
    "n, p = X.shape\n",
    "X.head()"
   ],
   "outputs": [
    {
     "output_type": "execute_result",
     "data": {
      "text/html": [
       "<div>\n",
       "<style scoped>\n",
       "    .dataframe tbody tr th:only-of-type {\n",
       "        vertical-align: middle;\n",
       "    }\n",
       "\n",
       "    .dataframe tbody tr th {\n",
       "        vertical-align: top;\n",
       "    }\n",
       "\n",
       "    .dataframe thead th {\n",
       "        text-align: right;\n",
       "    }\n",
       "</style>\n",
       "<table border=\"1\" class=\"dataframe\">\n",
       "  <thead>\n",
       "    <tr style=\"text-align: right;\">\n",
       "      <th></th>\n",
       "      <th>CYL</th>\n",
       "      <th>PUIS</th>\n",
       "      <th>LON</th>\n",
       "      <th>LAR</th>\n",
       "      <th>POIDS</th>\n",
       "      <th>VITESSE</th>\n",
       "    </tr>\n",
       "    <tr>\n",
       "      <th>NOM</th>\n",
       "      <th></th>\n",
       "      <th></th>\n",
       "      <th></th>\n",
       "      <th></th>\n",
       "      <th></th>\n",
       "      <th></th>\n",
       "    </tr>\n",
       "  </thead>\n",
       "  <tbody>\n",
       "    <tr>\n",
       "      <th>ALFASUD-TI-1350</th>\n",
       "      <td>1350</td>\n",
       "      <td>79</td>\n",
       "      <td>393</td>\n",
       "      <td>161</td>\n",
       "      <td>870</td>\n",
       "      <td>165</td>\n",
       "    </tr>\n",
       "    <tr>\n",
       "      <th>AUDI-100-L</th>\n",
       "      <td>1588</td>\n",
       "      <td>85</td>\n",
       "      <td>468</td>\n",
       "      <td>177</td>\n",
       "      <td>1110</td>\n",
       "      <td>160</td>\n",
       "    </tr>\n",
       "    <tr>\n",
       "      <th>SIMCA-1307-GLS</th>\n",
       "      <td>1294</td>\n",
       "      <td>68</td>\n",
       "      <td>424</td>\n",
       "      <td>168</td>\n",
       "      <td>1050</td>\n",
       "      <td>152</td>\n",
       "    </tr>\n",
       "    <tr>\n",
       "      <th>CITROEN-GS-CLUB</th>\n",
       "      <td>1222</td>\n",
       "      <td>59</td>\n",
       "      <td>412</td>\n",
       "      <td>161</td>\n",
       "      <td>930</td>\n",
       "      <td>151</td>\n",
       "    </tr>\n",
       "    <tr>\n",
       "      <th>FIAT-132-1600GLS</th>\n",
       "      <td>1585</td>\n",
       "      <td>98</td>\n",
       "      <td>439</td>\n",
       "      <td>164</td>\n",
       "      <td>1105</td>\n",
       "      <td>165</td>\n",
       "    </tr>\n",
       "  </tbody>\n",
       "</table>\n",
       "</div>"
      ],
      "text/plain": [
       "                   CYL  PUIS  LON  LAR  POIDS  VITESSE\n",
       "NOM                                                   \n",
       "ALFASUD-TI-1350   1350    79  393  161    870      165\n",
       "AUDI-100-L        1588    85  468  177   1110      160\n",
       "SIMCA-1307-GLS    1294    68  424  168   1050      152\n",
       "CITROEN-GS-CLUB   1222    59  412  161    930      151\n",
       "FIAT-132-1600GLS  1585    98  439  164   1105      165"
      ]
     },
     "metadata": {},
     "execution_count": 11
    }
   ],
   "metadata": {}
  },
  {
   "cell_type": "code",
   "execution_count": 15,
   "source": [
    "y.head()"
   ],
   "outputs": [
    {
     "output_type": "execute_result",
     "data": {
      "text/plain": [
       "NOM\n",
       "ALFASUD-TI-1350     30570\n",
       "AUDI-100-L          39990\n",
       "SIMCA-1307-GLS      29600\n",
       "CITROEN-GS-CLUB     28250\n",
       "FIAT-132-1600GLS    34900\n",
       "Name: PRIX, dtype: int64"
      ]
     },
     "metadata": {},
     "execution_count": 15
    }
   ],
   "metadata": {}
  },
  {
   "cell_type": "markdown",
   "source": [
    "On note que y est de type **Series**, c'est un **Dataframe** avec une seule colonne."
   ],
   "metadata": {}
  },
  {
   "cell_type": "code",
   "execution_count": 17,
   "source": [
    "type(y)"
   ],
   "outputs": [
    {
     "output_type": "execute_result",
     "data": {
      "text/plain": [
       "pandas.core.series.Series"
      ]
     },
     "metadata": {},
     "execution_count": 17
    }
   ],
   "metadata": {}
  },
  {
   "cell_type": "markdown",
   "source": [
    "### Régression linéaire \"ordinaire\""
   ],
   "metadata": {}
  },
  {
   "cell_type": "code",
   "execution_count": 21,
   "source": [
    "lm = LinearRegression()\n",
    "lm.fit(X, y)"
   ],
   "outputs": [
    {
     "output_type": "execute_result",
     "data": {
      "text/plain": [
       "LinearRegression()"
      ]
     },
     "metadata": {},
     "execution_count": 21
    }
   ],
   "metadata": {}
  },
  {
   "cell_type": "code",
   "execution_count": 24,
   "source": [
    "lm.coef_"
   ],
   "outputs": [
    {
     "output_type": "execute_result",
     "data": {
      "text/plain": [
       "array([  -3.50518169,  282.16880257,  -15.03766027,  208.69377328,\n",
       "         12.57467832, -111.11355103])"
      ]
     },
     "metadata": {},
     "execution_count": 24
    }
   ],
   "metadata": {}
  },
  {
   "cell_type": "markdown",
   "source": [
    "On accède aux coefficients estimés par les attributs `coef_` et `intercept_`. On note que malgré le fait que nous avons fourni un DataFrame (avec des noms de colonnes), nous n'avons pas l'information sur les noms pour les coefficients."
   ],
   "metadata": {}
  },
  {
   "cell_type": "code",
   "execution_count": 27,
   "source": [
    "pd.DataFrame([lm.coef_], columns=X.columns)"
   ],
   "outputs": [
    {
     "output_type": "execute_result",
     "data": {
      "text/html": [
       "<div>\n",
       "<style scoped>\n",
       "    .dataframe tbody tr th:only-of-type {\n",
       "        vertical-align: middle;\n",
       "    }\n",
       "\n",
       "    .dataframe tbody tr th {\n",
       "        vertical-align: top;\n",
       "    }\n",
       "\n",
       "    .dataframe thead th {\n",
       "        text-align: right;\n",
       "    }\n",
       "</style>\n",
       "<table border=\"1\" class=\"dataframe\">\n",
       "  <thead>\n",
       "    <tr style=\"text-align: right;\">\n",
       "      <th></th>\n",
       "      <th>CYL</th>\n",
       "      <th>PUIS</th>\n",
       "      <th>LON</th>\n",
       "      <th>LAR</th>\n",
       "      <th>POIDS</th>\n",
       "      <th>VITESSE</th>\n",
       "    </tr>\n",
       "  </thead>\n",
       "  <tbody>\n",
       "    <tr>\n",
       "      <th>0</th>\n",
       "      <td>-3.505182</td>\n",
       "      <td>282.168803</td>\n",
       "      <td>-15.03766</td>\n",
       "      <td>208.693773</td>\n",
       "      <td>12.574678</td>\n",
       "      <td>-111.113551</td>\n",
       "    </tr>\n",
       "  </tbody>\n",
       "</table>\n",
       "</div>"
      ],
      "text/plain": [
       "        CYL        PUIS       LON         LAR      POIDS     VITESSE\n",
       "0 -3.505182  282.168803 -15.03766  208.693773  12.574678 -111.113551"
      ]
     },
     "metadata": {},
     "execution_count": 27
    }
   ],
   "metadata": {}
  },
  {
   "cell_type": "code",
   "execution_count": 30,
   "source": [
    "lm.intercept_"
   ],
   "outputs": [
    {
     "output_type": "execute_result",
     "data": {
      "text/plain": [
       "-8239.362677061443"
      ]
     },
     "metadata": {},
     "execution_count": 30
    }
   ],
   "metadata": {}
  },
  {
   "cell_type": "markdown",
   "source": [
    "On peut obtenir le R2 avec la méthode `score`"
   ],
   "metadata": {}
  },
  {
   "cell_type": "code",
   "execution_count": 32,
   "source": [
    "lm.score(X, y)"
   ],
   "outputs": [
    {
     "output_type": "execute_result",
     "data": {
      "text/plain": [
       "0.7091028079636772"
      ]
     },
     "metadata": {},
     "execution_count": 32
    }
   ],
   "metadata": {}
  },
  {
   "cell_type": "code",
   "execution_count": 35,
   "source": [
    "yhat = lm.predict(X)"
   ],
   "outputs": [],
   "metadata": {}
  },
  {
   "cell_type": "code",
   "execution_count": 37,
   "source": [
    "yhat"
   ],
   "outputs": [
    {
     "output_type": "execute_result",
     "data": {
      "text/plain": [
       "array([29616.10867236, 36259.65464946, 31411.14922499, 26445.75074645,\n",
       "       37042.99657626, 34972.83432923, 33749.14462282, 26579.9571656 ,\n",
       "       44445.57655539, 24650.24125571, 38270.46181151, 34830.41842394,\n",
       "       44872.42274919, 36343.488685  , 35638.06479235, 32233.42043584,\n",
       "       37103.49511476, 30389.81418915])"
      ]
     },
     "metadata": {},
     "execution_count": 37
    }
   ],
   "metadata": {}
  },
  {
   "cell_type": "code",
   "execution_count": 42,
   "source": [
    "mean_squared_error(y, yhat)"
   ],
   "outputs": [
    {
     "output_type": "execute_result",
     "data": {
      "text/plain": [
       "11864658.772722948"
      ]
     },
     "metadata": {},
     "execution_count": 42
    }
   ],
   "metadata": {}
  },
  {
   "cell_type": "markdown",
   "source": [
    "On effectue le même calcul avec statsmodels pour voir la différence."
   ],
   "metadata": {}
  },
  {
   "cell_type": "code",
   "execution_count": 45,
   "source": [
    "X2 = sm.add_constant(X)\n",
    "lm2 = sm.OLS(y, X2)\n",
    "results = lm2.fit()\n",
    "results.summary()"
   ],
   "outputs": [
    {
     "output_type": "stream",
     "name": "stderr",
     "text": [
      "/home/quentin/.local/lib/python3.8/site-packages/scipy/stats/stats.py:1541: UserWarning: kurtosistest only valid for n>=20 ... continuing anyway, n=18\n",
      "  warnings.warn(\"kurtosistest only valid for n>=20 ... continuing \"\n"
     ]
    },
    {
     "output_type": "execute_result",
     "data": {
      "text/html": [
       "<table class=\"simpletable\">\n",
       "<caption>OLS Regression Results</caption>\n",
       "<tr>\n",
       "  <th>Dep. Variable:</th>          <td>PRIX</td>       <th>  R-squared:         </th> <td>   0.709</td>\n",
       "</tr>\n",
       "<tr>\n",
       "  <th>Model:</th>                   <td>OLS</td>       <th>  Adj. R-squared:    </th> <td>   0.550</td>\n",
       "</tr>\n",
       "<tr>\n",
       "  <th>Method:</th>             <td>Least Squares</td>  <th>  F-statistic:       </th> <td>   4.469</td>\n",
       "</tr>\n",
       "<tr>\n",
       "  <th>Date:</th>             <td>Sun, 05 Sep 2021</td> <th>  Prob (F-statistic):</th>  <td>0.0156</td> \n",
       "</tr>\n",
       "<tr>\n",
       "  <th>Time:</th>                 <td>16:29:11</td>     <th>  Log-Likelihood:    </th> <td> -172.14</td>\n",
       "</tr>\n",
       "<tr>\n",
       "  <th>No. Observations:</th>      <td>    18</td>      <th>  AIC:               </th> <td>   358.3</td>\n",
       "</tr>\n",
       "<tr>\n",
       "  <th>Df Residuals:</th>          <td>    11</td>      <th>  BIC:               </th> <td>   364.5</td>\n",
       "</tr>\n",
       "<tr>\n",
       "  <th>Df Model:</th>              <td>     6</td>      <th>                     </th>     <td> </td>   \n",
       "</tr>\n",
       "<tr>\n",
       "  <th>Covariance Type:</th>      <td>nonrobust</td>    <th>                     </th>     <td> </td>   \n",
       "</tr>\n",
       "</table>\n",
       "<table class=\"simpletable\">\n",
       "<tr>\n",
       "     <td></td>        <th>coef</th>     <th>std err</th>      <th>t</th>      <th>P>|t|</th>  <th>[0.025</th>    <th>0.975]</th>  \n",
       "</tr>\n",
       "<tr>\n",
       "  <th>const</th>   <td>-8239.3627</td> <td> 4.27e+04</td> <td>   -0.193</td> <td> 0.851</td> <td>-1.02e+05</td> <td> 8.58e+04</td>\n",
       "</tr>\n",
       "<tr>\n",
       "  <th>CYL</th>     <td>   -3.5052</td> <td>    5.551</td> <td>   -0.631</td> <td> 0.541</td> <td>  -15.722</td> <td>    8.712</td>\n",
       "</tr>\n",
       "<tr>\n",
       "  <th>PUIS</th>    <td>  282.1688</td> <td>  174.883</td> <td>    1.613</td> <td> 0.135</td> <td> -102.746</td> <td>  667.084</td>\n",
       "</tr>\n",
       "<tr>\n",
       "  <th>LON</th>     <td>  -15.0377</td> <td>  129.747</td> <td>   -0.116</td> <td> 0.910</td> <td> -300.610</td> <td>  270.535</td>\n",
       "</tr>\n",
       "<tr>\n",
       "  <th>LAR</th>     <td>  208.6938</td> <td>  412.048</td> <td>    0.506</td> <td> 0.623</td> <td> -698.218</td> <td> 1115.605</td>\n",
       "</tr>\n",
       "<tr>\n",
       "  <th>POIDS</th>   <td>   12.5747</td> <td>   24.622</td> <td>    0.511</td> <td> 0.620</td> <td>  -41.618</td> <td>   66.768</td>\n",
       "</tr>\n",
       "<tr>\n",
       "  <th>VITESSE</th> <td> -111.1136</td> <td>  222.257</td> <td>   -0.500</td> <td> 0.627</td> <td> -600.297</td> <td>  378.070</td>\n",
       "</tr>\n",
       "</table>\n",
       "<table class=\"simpletable\">\n",
       "<tr>\n",
       "  <th>Omnibus:</th>       <td> 1.348</td> <th>  Durbin-Watson:     </th> <td>   1.262</td>\n",
       "</tr>\n",
       "<tr>\n",
       "  <th>Prob(Omnibus):</th> <td> 0.510</td> <th>  Jarque-Bera (JB):  </th> <td>   0.796</td>\n",
       "</tr>\n",
       "<tr>\n",
       "  <th>Skew:</th>          <td>-0.509</td> <th>  Prob(JB):          </th> <td>   0.672</td>\n",
       "</tr>\n",
       "<tr>\n",
       "  <th>Kurtosis:</th>      <td> 2.836</td> <th>  Cond. No.          </th> <td>8.43e+04</td>\n",
       "</tr>\n",
       "</table><br/><br/>Notes:<br/>[1] Standard Errors assume that the covariance matrix of the errors is correctly specified.<br/>[2] The condition number is large, 8.43e+04. This might indicate that there are<br/>strong multicollinearity or other numerical problems."
      ],
      "text/plain": [
       "<class 'statsmodels.iolib.summary.Summary'>\n",
       "\"\"\"\n",
       "                            OLS Regression Results                            \n",
       "==============================================================================\n",
       "Dep. Variable:                   PRIX   R-squared:                       0.709\n",
       "Model:                            OLS   Adj. R-squared:                  0.550\n",
       "Method:                 Least Squares   F-statistic:                     4.469\n",
       "Date:                Sun, 05 Sep 2021   Prob (F-statistic):             0.0156\n",
       "Time:                        16:29:11   Log-Likelihood:                -172.14\n",
       "No. Observations:                  18   AIC:                             358.3\n",
       "Df Residuals:                      11   BIC:                             364.5\n",
       "Df Model:                           6                                         \n",
       "Covariance Type:            nonrobust                                         \n",
       "==============================================================================\n",
       "                 coef    std err          t      P>|t|      [0.025      0.975]\n",
       "------------------------------------------------------------------------------\n",
       "const      -8239.3627   4.27e+04     -0.193      0.851   -1.02e+05    8.58e+04\n",
       "CYL           -3.5052      5.551     -0.631      0.541     -15.722       8.712\n",
       "PUIS         282.1688    174.883      1.613      0.135    -102.746     667.084\n",
       "LON          -15.0377    129.747     -0.116      0.910    -300.610     270.535\n",
       "LAR          208.6938    412.048      0.506      0.623    -698.218    1115.605\n",
       "POIDS         12.5747     24.622      0.511      0.620     -41.618      66.768\n",
       "VITESSE     -111.1136    222.257     -0.500      0.627    -600.297     378.070\n",
       "==============================================================================\n",
       "Omnibus:                        1.348   Durbin-Watson:                   1.262\n",
       "Prob(Omnibus):                  0.510   Jarque-Bera (JB):                0.796\n",
       "Skew:                          -0.509   Prob(JB):                        0.672\n",
       "Kurtosis:                       2.836   Cond. No.                     8.43e+04\n",
       "==============================================================================\n",
       "\n",
       "Notes:\n",
       "[1] Standard Errors assume that the covariance matrix of the errors is correctly specified.\n",
       "[2] The condition number is large, 8.43e+04. This might indicate that there are\n",
       "strong multicollinearity or other numerical problems.\n",
       "\"\"\""
      ]
     },
     "metadata": {},
     "execution_count": 45
    }
   ],
   "metadata": {}
  },
  {
   "cell_type": "markdown",
   "source": [
    "Malgré un bon R2 et un test global de Fisher nous indiquant que le modèle explique le PRIX de manière significative (p = 0.0156) mieux que le modèle null (sans variables explicatives), aucune variable n'est significative ! L'explication peut venir d'une inflation de la variance des estimateurs due soit au fait que le nombre d'observations est plus petit que le nombre de variables (ce n'est pas le cas ici), soit au fait que\n",
    "la matrice (X.T X) est mal-conditionnée (son inverse n’existe pas ou a des valeurs trop grandes) et dans ce dernier cas on parle de multicolinéarité : une ou plusieurs variables prédicteurs sont redondantes dans l'analyse."
   ],
   "metadata": {}
  },
  {
   "cell_type": "markdown",
   "source": [
    "statsmodels a détecté la multicolinéarité en calculant le *condition number*, c'est la racine carrée du ratio entre la plus grande et la plus petite valeur propre de X.T * X. Plus ce nombre est élevé, plus la matrice est mal conditionnée. Une valeur au-dessus de 20 est indicative d'un problème, dans notre cas, c'est au-dessus de 80000 !"
   ],
   "metadata": {}
  },
  {
   "cell_type": "markdown",
   "source": [
    "### Diagnostiquer la multicolinéarité."
   ],
   "metadata": {}
  },
  {
   "cell_type": "markdown",
   "source": [
    "On réalise une ACP (normée en général) afin d’identifier des valeurs propres proches de 0."
   ],
   "metadata": {}
  },
  {
   "cell_type": "code",
   "execution_count": 48,
   "source": [
    "scaler = StandardScaler(with_mean=False, with_std=True)\n",
    "scaler.fit(X)\n",
    "X_scaled = scaler.transform(X)"
   ],
   "outputs": [],
   "metadata": {}
  },
  {
   "cell_type": "code",
   "execution_count": 51,
   "source": [
    "pca = PCA(n_components=p)\n",
    "pca.fit(X_scaled)"
   ],
   "outputs": [
    {
     "output_type": "execute_result",
     "data": {
      "text/plain": [
       "PCA(n_components=6)"
      ]
     },
     "metadata": {},
     "execution_count": 51
    }
   ],
   "metadata": {}
  },
  {
   "cell_type": "code",
   "execution_count": 54,
   "source": [
    "pca.explained_variance_"
   ],
   "outputs": [
    {
     "output_type": "execute_result",
     "data": {
      "text/plain": [
       "array([4.68090853, 0.90641889, 0.39501114, 0.22650574, 0.09826011,\n",
       "       0.04583676])"
      ]
     },
     "metadata": {},
     "execution_count": 54
    }
   ],
   "metadata": {}
  },
  {
   "cell_type": "code",
   "execution_count": 57,
   "source": [
    "pca.explained_variance_ratio_"
   ],
   "outputs": [
    {
     "output_type": "execute_result",
     "data": {
      "text/plain": [
       "array([0.73680968, 0.14267705, 0.06217768, 0.03565368, 0.01546687,\n",
       "       0.00721505])"
      ]
     },
     "metadata": {},
     "execution_count": 57
    }
   ],
   "metadata": {}
  },
  {
   "cell_type": "markdown",
   "source": [
    "Effectivement, les deux dernières valeurs propres sont particulièrement proches de 0 et elles expliquent des quantités négligeables d’information (1.54% et 0.72%). Multicolinéarité en vue !"
   ],
   "metadata": {}
  },
  {
   "cell_type": "markdown",
   "source": [
    "Une autre manière de diagnostiquer la multicolinéarité et d’investiguer la statistique VIF (Variance Inflation Factor) qui pour chaque variable prédicteur X_i∈{X1,..., X_p} calcule la quantité 1/(1-R_i^2) où R_i^2) est le R^2 (le pouvoir explicatif donc) de la variable X_i par les autres variables {X_1,..., X_i−1 , X_i+1,..., X_p}. Une valeur de VIF supérieure à 10 évoque une quasi-certitude sur la présence de multicolinéarité. Voir aussi : <https://en.wikipedia.org/wiki/Variance_inflation_factor>\n"
   ],
   "metadata": {}
  },
  {
   "cell_type": "code",
   "execution_count": 60,
   "source": [
    "def VIF(X):\n",
    "    vif = pd.Series(index=X.columns, dtype=np.float64)\n",
    "    for i in range(X.shape[1]):\n",
    "        lm = LinearRegression().fit(X.drop(columns=X.columns[i]), X.iloc[:, i])\n",
    "        r2 = lm.score(X.drop(columns=X.columns[i]), X.iloc[:, i])\n",
    "        vif[X.columns[i]] = 1 / (1 - r2)\n",
    "    return vif"
   ],
   "outputs": [],
   "metadata": {}
  },
  {
   "cell_type": "code",
   "execution_count": 63,
   "source": [
    "VIF(X)"
   ],
   "outputs": [
    {
     "output_type": "execute_result",
     "data": {
      "text/plain": [
       "CYL         3.772014\n",
       "PUIS       11.118820\n",
       "LON         7.204195\n",
       "LAR         4.197605\n",
       "POIDS       9.957283\n",
       "VITESSE     6.375112\n",
       "dtype: float64"
      ]
     },
     "metadata": {},
     "execution_count": 63
    }
   ],
   "metadata": {}
  },
  {
   "cell_type": "code",
   "execution_count": 66,
   "source": [
    "r2_score(y, yhat)"
   ],
   "outputs": [
    {
     "output_type": "execute_result",
     "data": {
      "text/plain": [
       "0.7091028079636772"
      ]
     },
     "metadata": {},
     "execution_count": 66
    }
   ],
   "metadata": {}
  },
  {
   "cell_type": "markdown",
   "source": [
    "On observe ici la variable PUIS avec un VIF égal à 11.11 mais aussi la variable POIDS avec un VIF = 9.95.\n",
    "Il n'y a donc pas de doute que la multicolinéarité est présente."
   ],
   "metadata": {}
  },
  {
   "cell_type": "markdown",
   "source": [
    "### Solutions à la multicolinéarité: sélection stepwise, PCR, PLS, Ridge et Lasso"
   ],
   "metadata": {}
  },
  {
   "cell_type": "markdown",
   "source": [
    "#### Sélection stepwise\n",
    "\n",
    "C’est la solution la plus simple : choisir un modèle de taille plus petite qui inclut juste les variables qui ajustent le mieux les données en termes de vraisemblance pénalisée (critère AIC : voir cours régression linéaire)"
   ],
   "metadata": {}
  },
  {
   "cell_type": "markdown",
   "source": [
    "Scikit-learn contient une fonction pour faire de la [sélection séquentielle](https://scikit-learn.org/stable/modules/generated/sklearn.feature_selection.SequentialFeatureSelector.html) mais son défaut est de devoir fixer le nombre de variables à garder à l'avance. Le critère de sélection doit être un *scorer* donc impossible de mettre une critère type AIC impliquant la complexité du modèle.\n",
    "On code donc notre propre fonction stepAIC."
   ],
   "metadata": {}
  },
  {
   "cell_type": "code",
   "execution_count": 69,
   "source": [
    "def compute_AIC(n, mse, n_params):\n",
    "    return n * np.log(mse) + 2 * n_params\n",
    "\n",
    "\n",
    "def find_best_estimator(X, y, kept_variables, remaining_variables):\n",
    "    aic = dict()\n",
    "    for i in remaining_variables:\n",
    "        current_variables = list(kept_variables) + [i]\n",
    "        lm = LinearRegression().fit(X[:, current_variables], y)\n",
    "        yhat = lm.predict(X[:, current_variables])\n",
    "        mse = mean_squared_error(y, yhat)\n",
    "\n",
    "        aic[i] = compute_AIC(len(y), mse, len(current_variables) + 1)\n",
    "\n",
    "    best_var = min(aic.items(), key=operator.itemgetter(1))[0]\n",
    "    best_AIC = aic[best_var]\n",
    "\n",
    "    return best_AIC, best_var\n",
    "\n",
    "\n",
    "def stepAIC(X, y):\n",
    "    n, p = X.shape\n",
    "    if isinstance(X, pd.DataFrame):\n",
    "        X = X.values\n",
    "\n",
    "    mse_null = mean_squared_error(y, np.full((n, ), y.mean()))\n",
    "    aic_null = compute_AIC(len(y), mse_null, 1)\n",
    "\n",
    "    best_AIC = aic_null\n",
    "    current_AIC = 0\n",
    "    kept_variables = set()\n",
    "    remaining_variables = set(range(p))\n",
    "    for i in range(1, p + 1):\n",
    "        current_AIC, current_var = find_best_estimator(X, y, kept_variables, remaining_variables)\n",
    "\n",
    "        if best_AIC < current_AIC:\n",
    "            break\n",
    "        else:\n",
    "            best_AIC = current_AIC\n",
    "            kept_variables.add(current_var)\n",
    "            remaining_variables.remove(current_var)\n",
    "\n",
    "    return list(kept_variables)"
   ],
   "outputs": [],
   "metadata": {}
  },
  {
   "cell_type": "code",
   "execution_count": 72,
   "source": [
    "var_to_keep = stepAIC(X, y)\n",
    "X.columns[var_to_keep]"
   ],
   "outputs": [
    {
     "output_type": "execute_result",
     "data": {
      "text/plain": [
       "Index(['PUIS', 'POIDS'], dtype='object')"
      ]
     },
     "metadata": {},
     "execution_count": 72
    }
   ],
   "metadata": {}
  },
  {
   "cell_type": "code",
   "execution_count": 75,
   "source": [
    "var_to_keep"
   ],
   "outputs": [
    {
     "output_type": "execute_result",
     "data": {
      "text/plain": [
       "[1, 4]"
      ]
     },
     "metadata": {},
     "execution_count": 75
    }
   ],
   "metadata": {}
  },
  {
   "cell_type": "code",
   "execution_count": 80,
   "source": [
    "step = LinearRegression()\n",
    "step.fit(X.iloc[:, var_to_keep], y)"
   ],
   "outputs": [
    {
     "output_type": "execute_result",
     "data": {
      "text/plain": [
       "LinearRegression()"
      ]
     },
     "metadata": {},
     "execution_count": 80
    }
   ],
   "metadata": {}
  },
  {
   "cell_type": "code",
   "execution_count": 83,
   "source": [
    "step.coef_"
   ],
   "outputs": [
    {
     "output_type": "execute_result",
     "data": {
      "text/plain": [
       "array([172.96722456,  16.451161  ])"
      ]
     },
     "metadata": {},
     "execution_count": 83
    }
   ],
   "metadata": {}
  },
  {
   "cell_type": "code",
   "execution_count": 89,
   "source": [
    "step.intercept_"
   ],
   "outputs": [
    {
     "output_type": "execute_result",
     "data": {
      "text/plain": [
       "1775.6012014028092"
      ]
     },
     "metadata": {},
     "execution_count": 89
    }
   ],
   "metadata": {}
  },
  {
   "cell_type": "markdown",
   "source": [
    "On calcule le RMSEP pour le modèle stepwise par leave-one-out. Pour cela, on utilise la fonction cross_val_score qui permet d'appliquer une méthode de validation croisée à n'importe quel estimateur. Le paramètre scoring permet de spécifier la grandeur à calculer, la liste des scores disponibles : <https://scikit-learn.org/stable/modules/model_evaluation.html#scoring-parameter>. Pour le paramètre cv, on met un entier correspondant au nombre de folds pour une validation croisée K-folds. On peut préciser d'autres méthodes de validation croisée en fournissant une instance de la [méthode désirée](https://scikit-learn.org/stable/modules/classes.html#module-sklearn.model_selection)."
   ],
   "metadata": {}
  },
  {
   "cell_type": "code",
   "execution_count": 93,
   "source": [
    "out = cross_validate(LinearRegression(), X.iloc[:, var_to_keep], y, cv=n, scoring=\"neg_root_mean_squared_error\")\n",
    "out"
   ],
   "outputs": [
    {
     "output_type": "execute_result",
     "data": {
      "text/plain": [
       "{'fit_time': array([0.00227427, 0.0022521 , 0.00197601, 0.0017767 , 0.00178599,\n",
       "        0.00180078, 0.0017426 , 0.00173116, 0.00178862, 0.00175571,\n",
       "        0.00172591, 0.0017302 , 0.00183892, 0.00184226, 0.00201893,\n",
       "        0.00201678, 0.00192165, 0.00198078]),\n",
       " 'score_time': array([0.00159645, 0.00150204, 0.00149632, 0.0012877 , 0.00126719,\n",
       "        0.001333  , 0.00123596, 0.00124311, 0.00127506, 0.0013032 ,\n",
       "        0.00122857, 0.00125432, 0.00133157, 0.00129175, 0.00126362,\n",
       "        0.00178003, 0.00142908, 0.00138927]),\n",
       " 'test_score': array([-1176.51399646, -5598.59666164, -1374.53207836, -1141.82263195,\n",
       "        -2214.7862879 , -1862.08366917, -2620.80163224, -5336.41005041,\n",
       "        -3064.02411106, -2538.9481773 , -6159.62991976, -1201.55892258,\n",
       "         -332.74083292, -1677.66070367, -5847.77944456, -6647.75573941,\n",
       "        -5330.88357943, -7994.01742724])}"
      ]
     },
     "metadata": {},
     "execution_count": 93
    }
   ],
   "metadata": {}
  },
  {
   "cell_type": "code",
   "execution_count": 97,
   "source": [
    "sfs = SequentialFeatureSelector(LinearRegression(), n_features_to_select=2, scoring=\"neg_root_mean_squared_error\", cv=n)\n",
    "sfs.fit(X, y)"
   ],
   "outputs": [
    {
     "output_type": "execute_result",
     "data": {
      "text/plain": [
       "SequentialFeatureSelector(cv=18, estimator=LinearRegression(),\n",
       "                          n_features_to_select=2,\n",
       "                          scoring='neg_root_mean_squared_error')"
      ]
     },
     "metadata": {},
     "execution_count": 97
    }
   ],
   "metadata": {}
  },
  {
   "cell_type": "code",
   "execution_count": 102,
   "source": [
    "X.columns[sfs.get_support()]"
   ],
   "outputs": [
    {
     "output_type": "execute_result",
     "data": {
      "text/plain": [
       "Index(['PUIS', 'VITESSE'], dtype='object')"
      ]
     },
     "metadata": {},
     "execution_count": 102
    }
   ],
   "metadata": {}
  },
  {
   "cell_type": "markdown",
   "source": [
    "La fonction ne retourne le score calculé sur chaque fold. Pour obtenir le RMSSEP, on moyenne les résultats."
   ],
   "metadata": {}
  },
  {
   "cell_type": "code",
   "execution_count": 107,
   "source": [
    "-out[\"test_score\"].mean()"
   ],
   "outputs": [
    {
     "output_type": "execute_result",
     "data": {
      "text/plain": [
       "3451.1414370032926"
      ]
     },
     "metadata": {},
     "execution_count": 107
    }
   ],
   "metadata": {}
  },
  {
   "cell_type": "markdown",
   "source": [
    "#### PCR\n",
    "\n",
    "Utile lorsqu'on veut construire un modèle avec toutes les variables !"
   ],
   "metadata": {}
  },
  {
   "cell_type": "markdown",
   "source": [
    "La fonction PCR n'existe pas dans scikit-learn mais peut être définie à l'aide de la fonction [make_pipeline](https://scikit-learn.org/stable/modules/generated/sklearn.pipeline.make_pipeline.html) qui permet de créer une chaine de traitement contenant des transformateurs et finissant par un estimateur. Ici pour la PCR, on réduit les données, puis on fait une ACP et finalement nous appliquons une régression linéaire."
   ],
   "metadata": {}
  },
  {
   "cell_type": "code",
   "execution_count": 112,
   "source": [
    "pcr = {}\n",
    "error_test_pcr = {}\n",
    "error_train_pcr = {}\n",
    "for n_comp in np.arange(1, p + 1):\n",
    "    pcr[n_comp] = make_pipeline(StandardScaler(with_mean=False, with_std=True), PCA(n_components=n_comp), LinearRegression())\n",
    "    cv = cross_validate(pcr[n_comp], X, y, scoring=\"neg_root_mean_squared_error\", cv=n, return_train_score=True)\n",
    "    error_test_pcr[n_comp] = -np.mean(cv[\"test_score\"])\n",
    "    error_train_pcr[n_comp] = -np.mean(cv[\"train_score\"])"
   ],
   "outputs": [],
   "metadata": {}
  },
  {
   "cell_type": "code",
   "execution_count": 116,
   "source": [
    "error_test_pcr"
   ],
   "outputs": [
    {
     "output_type": "execute_result",
     "data": {
      "text/plain": [
       "{1: 3725.7227578332586,\n",
       " 2: 3874.5649175175154,\n",
       " 3: 4200.86871041654,\n",
       " 4: 4316.786518995186,\n",
       " 5: 4554.929351749855,\n",
       " 6: 5107.418051126646}"
      ]
     },
     "metadata": {},
     "execution_count": 116
    }
   ],
   "metadata": {}
  },
  {
   "cell_type": "code",
   "execution_count": 121,
   "source": [
    "plt.plot(error_test_pcr.keys(), error_test_pcr.values(), label=\"Test error\")\n",
    "plt.plot(error_train_pcr.keys(), error_train_pcr.values(), ls=\"--\", label=\"Train error\")\n",
    "plt.xlabel(\"Nombre de composantes\")\n",
    "plt.ylabel(\"RMSEP\")\n",
    "plt.title(\"PCR\")\n",
    "plt.legend()\n",
    "plt.show()"
   ],
   "outputs": [
    {
     "output_type": "display_data",
     "data": {
      "image/png": "[encoded data removed]",
      "text/plain": [
       "<Figure size 864x576 with 1 Axes>"
      ]
     },
     "metadata": {
      "needs_background": "light"
     }
    }
   ],
   "metadata": {}
  },
  {
   "cell_type": "markdown",
   "source": [
    "Le critère est minimal (3725.72) pour 1 composante. On apprend désormais le modèle."
   ],
   "metadata": {}
  },
  {
   "cell_type": "markdown",
   "source": [],
   "metadata": {}
  },
  {
   "cell_type": "code",
   "execution_count": 125,
   "source": [
    "n_comp = 1\n",
    "pcr[n_comp].fit(X, y)"
   ],
   "outputs": [
    {
     "output_type": "execute_result",
     "data": {
      "text/plain": [
       "Pipeline(steps=[('standardscaler', StandardScaler(with_mean=False)),\n",
       "                ('pca', PCA(n_components=1)),\n",
       "                ('linearregression', LinearRegression())])"
      ]
     },
     "metadata": {},
     "execution_count": 125
    }
   ],
   "metadata": {}
  },
  {
   "cell_type": "markdown",
   "source": [
    "Coefficients de la régression PCR sur données centrées :"
   ],
   "metadata": {}
  },
  {
   "cell_type": "code",
   "execution_count": 131,
   "source": [
    "pcr[n_comp].named_steps[\"linearregression\"].coef_"
   ],
   "outputs": [
    {
     "output_type": "execute_result",
     "data": {
      "text/plain": [
       "array([2346.33027554])"
      ]
     },
     "metadata": {},
     "execution_count": 131
    }
   ],
   "metadata": {}
  },
  {
   "cell_type": "code",
   "execution_count": 135,
   "source": [
    "(pcr[n_comp].named_steps[\"linearregression\"].coef_ * pcr[n_comp].named_steps[\"pca\"].components_)"
   ],
   "outputs": [
    {
     "output_type": "execute_result",
     "data": {
      "text/plain": [
       "array([[ 997.04025644,  989.66899306,  988.88419572,  907.84736568,\n",
       "        1010.12329822,  842.20181881]])"
      ]
     },
     "metadata": {},
     "execution_count": 135
    }
   ],
   "metadata": {}
  },
  {
   "cell_type": "markdown",
   "source": [
    "Coefficients de la régression PCR sur données d'origine :"
   ],
   "metadata": {}
  },
  {
   "cell_type": "code",
   "execution_count": 140,
   "source": [
    "(pcr[n_comp].named_steps[\"linearregression\"].coef_ * pcr[n_comp].named_steps[\"pca\"].components_) / pcr[n_comp].named_steps[\"standardscaler\"].scale_"
   ],
   "outputs": [
    {
     "output_type": "execute_result",
     "data": {
      "text/plain": [
       "array([[  2.74368567,  49.97776646,  46.02781687, 175.80388641,\n",
       "          7.58925916,  71.38313123]])"
      ]
     },
     "metadata": {},
     "execution_count": 140
    }
   ],
   "metadata": {}
  },
  {
   "cell_type": "code",
   "execution_count": 145,
   "source": [
    "pcr[n_comp].named_steps[\"linearregression\"].intercept_"
   ],
   "outputs": [
    {
     "output_type": "execute_result",
     "data": {
      "text/plain": [
       "34158.61111111111"
      ]
     },
     "metadata": {},
     "execution_count": 145
    }
   ],
   "metadata": {}
  },
  {
   "cell_type": "markdown",
   "source": [
    "#### Régression PLS"
   ],
   "metadata": {}
  },
  {
   "cell_type": "code",
   "execution_count": 151,
   "source": [
    "pls = {}\n",
    "error_test_pls = {}\n",
    "error_train_pls = {}\n",
    "for n_comp in np.arange(1, p + 1):\n",
    "    pls[n_comp] = PLSRegression(n_components=n_comp)\n",
    "    cv = cross_validate(pls[n_comp], X, y, scoring=\"neg_root_mean_squared_error\", cv=n, return_train_score=True)\n",
    "    error_test_pls[n_comp] = -np.mean(cv[\"test_score\"])\n",
    "    error_train_pls[n_comp] = -np.mean(cv[\"train_score\"])"
   ],
   "outputs": [],
   "metadata": {}
  },
  {
   "cell_type": "code",
   "execution_count": 157,
   "source": [
    "error_test_pls"
   ],
   "outputs": [
    {
     "output_type": "execute_result",
     "data": {
      "text/plain": [
       "{1: 3785.3285422498125,\n",
       " 2: 4492.286693385333,\n",
       " 3: 4661.829456411197,\n",
       " 4: 4809.142166929097,\n",
       " 5: 5006.376691799098,\n",
       " 6: 5107.4180511266495}"
      ]
     },
     "metadata": {},
     "execution_count": 157
    }
   ],
   "metadata": {}
  },
  {
   "cell_type": "code",
   "execution_count": 162,
   "source": [
    "plt.plot(error_test_pls.keys(), error_test_pls.values(), label=\"Test error\")\n",
    "plt.plot(error_train_pls.keys(), error_train_pls.values(), ls=\"--\", label=\"Train error\")\n",
    "plt.xlabel(\"Nombre de composantes\")\n",
    "plt.ylabel(\"RMSEP\")\n",
    "plt.title(\"PLS\")\n",
    "plt.legend()\n",
    "plt.show()"
   ],
   "outputs": [
    {
     "output_type": "display_data",
     "data": {
      "image/png": "[encoded data removed]",
      "text/plain": [
       "<Figure size 864x576 with 1 Axes>"
      ]
     },
     "metadata": {
      "needs_background": "light"
     }
    }
   ],
   "metadata": {}
  },
  {
   "cell_type": "markdown",
   "source": [
    "Le critère est minimal (3785.33) pour 1 composante. On apprend désormais le modèle."
   ],
   "metadata": {}
  },
  {
   "cell_type": "code",
   "execution_count": 170,
   "source": [
    "n_comp = 1\n",
    "pls[n_comp].fit(X, y)"
   ],
   "outputs": [
    {
     "output_type": "execute_result",
     "data": {
      "text/plain": [
       "PLSRegression(n_components=1)"
      ]
     },
     "metadata": {},
     "execution_count": 170
    }
   ],
   "metadata": {}
  },
  {
   "cell_type": "code",
   "execution_count": 178,
   "source": [
    "pls[n_comp].coef_"
   ],
   "outputs": [
    {
     "output_type": "execute_result",
     "data": {
      "text/plain": [
       "array([[ 958.03905452],\n",
       "       [1198.25986571],\n",
       "       [ 965.80401707],\n",
       "       [ 820.11735637],\n",
       "       [1130.13961394],\n",
       "       [ 872.79198926]])"
      ]
     },
     "metadata": {},
     "execution_count": 178
    }
   ],
   "metadata": {}
  },
  {
   "cell_type": "markdown",
   "source": [
    "#### Régression Ridge\n",
    "\n",
    "Pour la régression ridge, scikit-learn dispose de 2 fonctions : Ridge et RidgeCV. La 1ère apprend une ridge pour une seule valeur de l'hyperparamètre tandis que RidgeCV permet de faire de la validation croisée pour choisir la meilleure valeur parmi un ensemble de valeurs. On notera qu'on laisse la méthode de validation croisée par défaut, car dans le cas de la régression ridge, il existe une formule exacte pour le score leave-one-out qui est calculé de base de manière optimisée. À noter que RidgeCV ne propose pas d'heuristique pour choisir les valeurs d'alpha."
   ],
   "metadata": {}
  },
  {
   "cell_type": "code",
   "execution_count": 185,
   "source": [
    "ridge = RidgeCV(alphas=np.arange(0.1, 100000, 1), store_cv_values=True)\n",
    "ridge.fit(X, y)"
   ],
   "outputs": [
    {
     "output_type": "execute_result",
     "data": {
      "text/plain": [
       "RidgeCV(alphas=array([1.00000e-01, 1.10000e+00, 2.10000e+00, ..., 9.99971e+04,\n",
       "       9.99981e+04, 9.99991e+04]),\n",
       "        store_cv_values=True)"
      ]
     },
     "metadata": {},
     "execution_count": 185
    }
   ],
   "metadata": {}
  },
  {
   "cell_type": "markdown",
   "source": [
    "Le paramètre optimal est :"
   ],
   "metadata": {}
  },
  {
   "cell_type": "code",
   "execution_count": 197,
   "source": [
    "ridge.alpha_"
   ],
   "outputs": [
    {
     "output_type": "execute_result",
     "data": {
      "text/plain": [
       "19310.1"
      ]
     },
     "metadata": {},
     "execution_count": 197
    }
   ],
   "metadata": {}
  },
  {
   "cell_type": "code",
   "execution_count": 205,
   "source": [
    "ridge.cv_values_.shape"
   ],
   "outputs": [
    {
     "output_type": "execute_result",
     "data": {
      "text/plain": [
       "(18, 100000)"
      ]
     },
     "metadata": {},
     "execution_count": 205
    }
   ],
   "metadata": {}
  },
  {
   "cell_type": "code",
   "execution_count": 212,
   "source": [
    "plt.figure()\n",
    "plt.semilogx(ridge.alphas, ridge.cv_values_.T, \":\")\n",
    "plt.plot(ridge.alphas, ridge.cv_values_.mean(axis=0), \"black\",\n",
    "         label=\"Average across the folds\", linewidth=2)\n",
    "plt.axvline(ridge.alpha_, linestyle=\"--\", color=\"black\",\n",
    "            label=\"alpha: CV estimate\")\n",
    "plt.legend()\n",
    "plt.xlabel(r\"$\\alpha$\")\n",
    "plt.ylabel(\"Mean square error\")\n",
    "plt.title(\"Ridge: Mean square error on each fold\")\n",
    "plt.show()"
   ],
   "outputs": [
    {
     "output_type": "display_data",
     "data": {
      "image/png": "[encoded data removed]",
      "text/plain": [
       "<Figure size 864x576 with 1 Axes>"
      ]
     },
     "metadata": {
      "needs_background": "light"
     }
    }
   ],
   "metadata": {}
  },
  {
   "cell_type": "code",
   "execution_count": 222,
   "source": [
    "ridge_best = Ridge(alpha=ridge.alpha_)\n",
    "ridge_best.fit(X, y)"
   ],
   "outputs": [
    {
     "output_type": "execute_result",
     "data": {
      "text/plain": [
       "Ridge(alpha=19310.1)"
      ]
     },
     "metadata": {},
     "execution_count": 222
    }
   ],
   "metadata": {}
  },
  {
   "cell_type": "markdown",
   "source": [
    "La valeur de RMSEP pour notre modèle ridge est :"
   ],
   "metadata": {}
  },
  {
   "cell_type": "code",
   "execution_count": 230,
   "source": [
    "-cross_val_score(ridge_best, X, y, cv=n, scoring=\"neg_root_mean_squared_error\").mean()"
   ],
   "outputs": [
    {
     "output_type": "execute_result",
     "data": {
      "text/plain": [
       "3878.533138865312"
      ]
     },
     "metadata": {},
     "execution_count": 230
    }
   ],
   "metadata": {}
  },
  {
   "cell_type": "code",
   "execution_count": 241,
   "source": [
    "ridge_best.coef_"
   ],
   "outputs": [
    {
     "output_type": "execute_result",
     "data": {
      "text/plain": [
       "array([ 2.35223883, 21.75905149,  1.92321203,  0.59702154, 26.27356241,\n",
       "       10.62928607])"
      ]
     },
     "metadata": {},
     "execution_count": 241
    }
   ],
   "metadata": {}
  },
  {
   "cell_type": "code",
   "execution_count": 248,
   "source": [
    "ridge_best.intercept_"
   ],
   "outputs": [
    {
     "output_type": "execute_result",
     "data": {
      "text/plain": [
       "-2480.9067955354258"
      ]
     },
     "metadata": {},
     "execution_count": 248
    }
   ],
   "metadata": {}
  },
  {
   "cell_type": "markdown",
   "source": [
    "#### Lasso\n",
    "\n",
    "Comme pour la ridge, le lasso dispose de 2 fonctions. Au contraire de la ridge, nous précisons, le nombre de folds de la validation croisée car il n'y a pas de formule exacte pour le critère de leave-one-out. Le lasso dispose d'une heuristique pour le choix d'une gamme de valeur à tester, nous n'en fournissons donc pas."
   ],
   "metadata": {}
  },
  {
   "cell_type": "code",
   "execution_count": 259,
   "source": [
    "lasso = LassoCV(cv=n)\n",
    "lasso.fit(X, y)"
   ],
   "outputs": [
    {
     "output_type": "execute_result",
     "data": {
      "text/plain": [
       "LassoCV(cv=18)"
      ]
     },
     "metadata": {},
     "execution_count": 259
    }
   ],
   "metadata": {}
  },
  {
   "cell_type": "markdown",
   "source": [
    "Liste des valeurs des testées"
   ],
   "metadata": {}
  },
  {
   "cell_type": "code",
   "execution_count": 268,
   "source": [
    "lasso.alphas_"
   ],
   "outputs": [
    {
     "output_type": "execute_result",
     "data": {
      "text/plain": [
       "array([1482013.98148148, 1382131.19925736, 1288980.18225913,\n",
       "       1202107.23204101, 1121089.22791397, 1045531.56610729,\n",
       "        975066.23782371,  909350.03682722,  848062.88783345,\n",
       "        790906.28756092,  737601.8508503 ,  687889.95477025,\n",
       "        641528.47410608,  598291.60207221,  557968.75050467,\n",
       "        520363.5241769 ,  485292.76424333,  452585.65615154,\n",
       "        422082.89767826,  393635.92303691,  367106.17927769,\n",
       "        342364.45145589,  319290.2332816 ,  297771.14018554,\n",
       "        277702.36194227,  258986.15218473,  241531.35232389,\n",
       "        225252.94755449,  210071.65278463,  195913.52647223,\n",
       "        182709.6104877 ,  170395.59424856,  158911.50149036,\n",
       "        148201.39814815,  138213.11992574,  128898.01822591,\n",
       "        120210.7232041 ,  112108.9227914 ,  104553.15661073,\n",
       "         97506.62378237,   90935.00368272,   84806.28878334,\n",
       "         79090.62875609,   73760.18508503,   68788.99547702,\n",
       "         64152.84741061,   59829.16020722,   55796.87505047,\n",
       "         52036.35241769,   48529.27642433,   45258.56561515,\n",
       "         42208.28976783,   39363.59230369,   36710.61792777,\n",
       "         34236.44514559,   31929.02332816,   29777.11401855,\n",
       "         27770.23619423,   25898.61521847,   24153.13523239,\n",
       "         22525.29475545,   21007.16527846,   19591.35264722,\n",
       "         18270.96104877,   17039.55942486,   15891.15014904,\n",
       "         14820.13981481,   13821.31199257,   12889.80182259,\n",
       "         12021.07232041,   11210.89227914,   10455.31566107,\n",
       "          9750.66237824,    9093.50036827,    8480.62887833,\n",
       "          7909.06287561,    7376.0185085 ,    6878.8995477 ,\n",
       "          6415.28474106,    5982.91602072,    5579.68750505,\n",
       "          5203.63524177,    4852.92764243,    4525.85656152,\n",
       "          4220.82897678,    3936.35923037,    3671.06179278,\n",
       "          3423.64451456,    3192.90233282,    2977.71140186,\n",
       "          2777.02361942,    2589.86152185,    2415.31352324,\n",
       "          2252.52947554,    2100.71652785,    1959.13526472,\n",
       "          1827.09610488,    1703.95594249,    1589.1150149 ,\n",
       "          1482.01398148])"
      ]
     },
     "metadata": {},
     "execution_count": 268
    }
   ],
   "metadata": {}
  },
  {
   "cell_type": "markdown",
   "source": [
    "Valeur choisie par validation croisée"
   ],
   "metadata": {}
  },
  {
   "cell_type": "code",
   "execution_count": 277,
   "source": [
    "lasso.alpha_"
   ],
   "outputs": [
    {
     "output_type": "execute_result",
     "data": {
      "text/plain": [
       "8480.628878334483"
      ]
     },
     "metadata": {},
     "execution_count": 277
    }
   ],
   "metadata": {}
  },
  {
   "cell_type": "code",
   "execution_count": 289,
   "source": [
    "plt.figure()\n",
    "plt.semilogx(lasso.alphas_, lasso.mse_path_, \":\")\n",
    "plt.plot(lasso.alphas_, lasso.mse_path_.mean(axis=-1), \"black\",\n",
    "         label=\"Average across the folds\", linewidth=2)\n",
    "plt.axvline(lasso.alpha_, linestyle=\"--\", color=\"black\",\n",
    "            label=\"alpha: CV estimate\")\n",
    "plt.legend()\n",
    "plt.xlabel(r\"$\\alpha$\")\n",
    "plt.ylabel(\"Mean square error\")\n",
    "plt.title(\"Lasso: Mean square error on each fold\")\n",
    "plt.show()"
   ],
   "outputs": [
    {
     "output_type": "display_data",
     "data": {
      "image/png": "[encoded data removed]",
      "text/plain": [
       "<Figure size 864x576 with 1 Axes>"
      ]
     },
     "metadata": {
      "needs_background": "light"
     }
    }
   ],
   "metadata": {}
  },
  {
   "cell_type": "code",
   "execution_count": 301,
   "source": [
    "lasso_best = Lasso(alpha=lasso.alpha_)\n",
    "lasso_best.fit(X, y)"
   ],
   "outputs": [
    {
     "output_type": "execute_result",
     "data": {
      "text/plain": [
       "Lasso(alpha=8480.628878334483)"
      ]
     },
     "metadata": {},
     "execution_count": 301
    }
   ],
   "metadata": {}
  },
  {
   "cell_type": "markdown",
   "source": [
    "Le RMSEP pour le lasso est :"
   ],
   "metadata": {}
  },
  {
   "cell_type": "code",
   "execution_count": 312,
   "source": [
    "-cross_val_score(lasso_best, X, y, cv=n, scoring=\"neg_root_mean_squared_error\").mean()"
   ],
   "outputs": [
    {
     "output_type": "execute_result",
     "data": {
      "text/plain": [
       "3848.1520132325336"
      ]
     },
     "metadata": {},
     "execution_count": 312
    }
   ],
   "metadata": {}
  },
  {
   "cell_type": "code",
   "execution_count": 323,
   "source": [
    "lasso_best.coef_"
   ],
   "outputs": [
    {
     "output_type": "execute_result",
     "data": {
      "text/plain": [
       "array([ -1.22499179, 137.0840401 ,   0.        ,   0.        ,\n",
       "        22.69673652,   0.        ])"
      ]
     },
     "metadata": {},
     "execution_count": 323
    }
   ],
   "metadata": {}
  },
  {
   "cell_type": "code",
   "execution_count": 333,
   "source": [
    "X.columns[lasso_best.coef_ != 0]"
   ],
   "outputs": [
    {
     "output_type": "execute_result",
     "data": {
      "text/plain": [
       "Index(['CYL', 'PUIS', 'POIDS'], dtype='object')"
      ]
     },
     "metadata": {},
     "execution_count": 333
    }
   ],
   "metadata": {}
  },
  {
   "cell_type": "code",
   "execution_count": 349,
   "source": [
    "lasso_best.intercept_"
   ],
   "outputs": [
    {
     "output_type": "execute_result",
     "data": {
      "text/plain": [
       "72.56051922932966"
      ]
     },
     "metadata": {},
     "execution_count": 349
    }
   ],
   "metadata": {}
  }
 ]
}